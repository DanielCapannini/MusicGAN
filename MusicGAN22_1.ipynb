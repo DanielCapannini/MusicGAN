{
  "cells": [
    {
      "metadata": {
        "id": "4dee78dd72077f79"
      },
      "cell_type": "markdown",
      "source": [
        "# MIDI music generation with GAN\n",
        "\n",
        "Notebook presented for the A.A. 2023/2024 Deep Learning project.\n",
        "\n",
        "Daniel Capannini - daniel.capannini@studio.unibo.it\n",
        "\n",
        "In this notebook, GANs with different sized structures will be compared and the results obtained will be compared.\n",
        "\n",
        "---\n",
        "\n",
        "Below is the download of the dataset and installation of the libraries used."
      ],
      "id": "4dee78dd72077f79"
    },
    {
      "cell_type": "code",
      "source": [
        "!pip install miditok\n",
        "!pip install pretty_midi\n",
        "!pip install -q gdown\n",
        "!pip install mido"
      ],
      "metadata": {
        "id": "AqOIVfaDzibR"
      },
      "id": "AqOIVfaDzibR",
      "execution_count": null,
      "outputs": []
    },
    {
      "cell_type": "code",
      "source": [
        "import os\n",
        "import shutil\n",
        "from pathlib import Path\n",
        "import numpy as np\n",
        "from IPython.display import Audio, display\n",
        "from miditok import REMI, TokenizerConfig\n",
        "from pathlib import Path\n",
        "from miditok.data_augmentation import augment_dataset\n",
        "from miditok.utils import split_files_for_training\n",
        "from random import shuffle\n",
        "import json\n",
        "from tqdm import tqdm\n",
        "import torch\n",
        "import torch.nn as nn\n",
        "from torch.utils.data import DataLoader, Dataset\n",
        "import pretty_midi\n",
        "import matplotlib.pyplot as plt\n",
        "import glob\n",
        "import mido\n",
        "from collections import Counter\n",
        "from scipy.special import rel_entr"
      ],
      "metadata": {
        "id": "vHlq93Nkv4KI"
      },
      "id": "vHlq93Nkv4KI",
      "execution_count": null,
      "outputs": []
    },
    {
      "cell_type": "markdown",
      "source": [
        "## dataset\n",
        "\n",
        "the dataset used is [MAESTRO dataset](https://magenta.withgoogle.com/datasets/maestro), which contains a collection of MIDIs from different piano performances.\n",
        "\n",
        "New folder is created with all the MIDI files of the dataset."
      ],
      "metadata": {
        "id": "x3CSoKUiTO4N"
      },
      "id": "x3CSoKUiTO4N"
    },
    {
      "cell_type": "code",
      "execution_count": null,
      "id": "initial_id",
      "metadata": {
        "collapsed": true,
        "id": "initial_id"
      },
      "outputs": [],
      "source": [
        "!wget https://storage.googleapis.com/magentadata/datasets/maestro/v3.0.0/maestro-v3.0.0-midi.zip\n",
        "!unzip 'maestro-v3.0.0-midi.zip'\n",
        "!rm 'maestro-v3.0.0-midi.zip'\n",
        "dataset_path = \"maestro-v3.0.0\""
      ]
    },
    {
      "cell_type": "code",
      "source": [
        "destination_folder = \"dataset_midi\"\n",
        "os.makedirs(destination_folder, exist_ok=True)\n",
        "\n",
        "midi_paths = list(Path(dataset_path).resolve().glob(\"**/*.mid\")) + \\\n",
        "             list(Path(dataset_path).resolve().glob(\"**/*.midi\"))\n",
        "\n",
        "print(f\"Trovati {len(midi_paths)} file MIDI.\")\n",
        "\n",
        "for midi_path in midi_paths:\n",
        "    filename = os.path.basename(midi_path)\n",
        "    destination_path = os.path.join(destination_folder, filename)\n",
        "    shutil.copy2(midi_path, destination_path)\n",
        "\n",
        "print(\"Copia completata in 'dataset_midi'.\")\n",
        "\n",
        "midi_paths = [Path(os.path.join(destination_folder, os.path.basename(p))) for p in midi_paths]"
      ],
      "metadata": {
        "id": "9GwSOJl1v4iX",
        "outputId": "d898ec71-fce5-4fa2-c2c4-ab0b0df6a22c",
        "colab": {
          "base_uri": "https://localhost:8080/"
        }
      },
      "id": "9GwSOJl1v4iX",
      "execution_count": null,
      "outputs": [
        {
          "output_type": "stream",
          "name": "stdout",
          "text": [
            "Trovati 1276 file MIDI.\n",
            "Copia completata in 'dataset_midi'.\n"
          ]
        }
      ]
    },
    {
      "cell_type": "markdown",
      "source": [
        "## Data Analisis\n",
        "\n",
        "A MIDI (Musical Instrument Digital Interface) file is a digital file format that stores instructions for playing music rather than the actual audio itself. Instead of containing recorded sound, a MIDI file includes data such as which notes are played, their duration, pitch, intensity, and the instruments to be used. This makes MIDI files very lightweight and versatile, as they can be played back on different devices and instruments, often sounding different depending on the sound library or synthesizer used."
      ],
      "metadata": {
        "id": "lRcd22wiUpgW"
      },
      "id": "lRcd22wiUpgW"
    },
    {
      "cell_type": "code",
      "source": [
        "midi = pretty_midi.PrettyMIDI(\"/content/dataset_midi/MIDI-UNPROCESSED_01-03_R1_2014_MID--AUDIO_01_R1_2014_wav--1.midi\")\n",
        "\n",
        "print(\"Estimated time:\", midi.estimate_tempo())\n",
        "\n",
        "fs = 100\n",
        "piano_roll = midi.get_piano_roll(fs=fs)\n",
        "\n",
        "plt.figure(figsize=(12, 6))\n",
        "plt.imshow(piano_roll[::-1], aspect='auto', cmap='inferno',\n",
        "           extent=[0, piano_roll.shape[1]/fs, 0, 128])\n",
        "plt.xlabel(\"Time (s)\")\n",
        "plt.ylabel(\"Pitch (MIDI note number)\")\n",
        "plt.title(\"Piano Roll of the MIDI file\")\n",
        "plt.colorbar(label=\"Velocity\")\n",
        "plt.show()\n"
      ],
      "metadata": {
        "id": "0phf27TuVTOv",
        "outputId": "f6d66bd3-4575-4f39-a94f-1c54432be96c",
        "colab": {
          "base_uri": "https://localhost:8080/",
          "height": 581
        }
      },
      "id": "0phf27TuVTOv",
      "execution_count": null,
      "outputs": [
        {
          "output_type": "stream",
          "name": "stdout",
          "text": [
            "Tempo stimato: 199.94214636968422\n"
          ]
        },
        {
          "output_type": "display_data",
          "data": {
            "text/plain": [
              "<Figure size 1200x600 with 2 Axes>"
            ],
            "image/png": "[encoded data removed]"
          },
          "metadata": {}
        }
      ]
    },
    {
      "cell_type": "markdown",
      "source": [
        "## Tokenizzazione\n",
        "\n",
        "MIDI was not used directly for training, but was first tokenized using a tokenizer, which was trained below.\n",
        "\n",
        "A tokenizer is a tool that converts raw MIDI data into a sequence of tokens that the AI ​​model can understand.\n",
        "\n",
        "In the context of MIDI tokenization, each token represents a specific musical element or event, such as a note, velocity, or duration. These tokens serve as a \"vocabulary\" for the model, allowing it to learn and generate music."
      ],
      "metadata": {
        "id": "khqg4LwWxXks"
      },
      "id": "khqg4LwWxXks"
    },
    {
      "cell_type": "code",
      "source": [
        "BEAT_RES = {(0, 1): 12, (1, 2): 4, (2, 4): 2, (4, 8): 1}\n",
        "TOKENIZER_PARAMS = {\n",
        "    \"pitch_range\": (21, 109),\n",
        "    \"beat_res\": BEAT_RES,\n",
        "    \"num_velocities\": 3,\n",
        "    \"special_tokens\": [\"BOS\", \"EOS\"],\n",
        "    \"use_chords\": True,\n",
        "    \"use_rests\": True,\n",
        "    \"use_tempos\": True,\n",
        "    \"num_tempos\": 8,\n",
        "    \"tempo_range\": (50, 200),\n",
        "}"
      ],
      "metadata": {
        "id": "k5xNJ-Nwytpv"
      },
      "id": "k5xNJ-Nwytpv",
      "execution_count": null,
      "outputs": []
    },
    {
      "cell_type": "code",
      "source": [
        "midi_dir = Path(destination_folder)\n",
        "midis = list(midi_dir.glob(\"**/*.mid\")) + list(midi_dir.glob(\"**/*.midi\"))\n",
        "\n",
        "if not midis:\n",
        "    raise FileNotFoundError(\"Nessun file MIDI trovato in 'dataset_midi'.\")"
      ],
      "metadata": {
        "id": "a-uHmibbyxO1"
      },
      "id": "a-uHmibbyxO1",
      "execution_count": null,
      "outputs": []
    },
    {
      "cell_type": "markdown",
      "source": [
        "Train tokenizer"
      ],
      "metadata": {
        "id": "L0zmtYEhy1q3"
      },
      "id": "L0zmtYEhy1q3"
    },
    {
      "cell_type": "code",
      "source": [
        "config = TokenizerConfig(**TOKENIZER_PARAMS)\n",
        "\n",
        "tokenizer = REMI(config)\n",
        "\n",
        "vocab_size = 5000\n",
        "tokenizer.train(vocab_size=vocab_size, files_paths=midis)\n",
        "processed = [Path(f\"{s}\") for s in midis]\n",
        "print(len(processed))"
      ],
      "metadata": {
        "id": "1iluHLhjy4RT",
        "outputId": "866a659e-3852-49d4-a2a0-185725de7027",
        "colab": {
          "base_uri": "https://localhost:8080/"
        }
      },
      "id": "1iluHLhjy4RT",
      "execution_count": null,
      "outputs": [
        {
          "output_type": "stream",
          "name": "stdout",
          "text": [
            "1276\n"
          ]
        }
      ]
    },
    {
      "cell_type": "code",
      "source": [
        "tokenizer.save(\"tokenizerMIDI\")"
      ],
      "metadata": {
        "id": "XiHnHE95Q6wg"
      },
      "id": "XiHnHE95Q6wg",
      "execution_count": null,
      "outputs": []
    },
    {
      "cell_type": "markdown",
      "source": [
        "## download tokenizer\n",
        "\n",
        "execute the next 2 cells to skip tokenizer training"
      ],
      "metadata": {
        "id": "nN1O-6eOTz5j"
      },
      "id": "nN1O-6eOTz5j"
    },
    {
      "cell_type": "code",
      "source": [
        "!gdown --id 12der1lMHfMyMbGWImONehL_43AoECyz"
      ],
      "metadata": {
        "id": "OSsYeAP2Tm0C"
      },
      "id": "OSsYeAP2Tm0C",
      "execution_count": null,
      "outputs": []
    },
    {
      "cell_type": "code",
      "source": [
        "tokenizer = REMI(params=\"tokenizer (2).json\")"
      ],
      "metadata": {
        "id": "GSnNChioTnTp"
      },
      "id": "GSnNChioTnTp",
      "execution_count": null,
      "outputs": []
    },
    {
      "cell_type": "markdown",
      "source": [
        "## Dataset preparation\n",
        "\n",
        "organizes a MIDI dataset by collecting all MIDI files, splitting them into train/validation subsets, and then applying preprocessing steps. Specifically, it chunks the training and validation files into sequences suitable for modeling, applies data augmentation (pitch, velocity, duration variations), and finally reloads the processed files for each subset."
      ],
      "metadata": {
        "id": "PXUg4P5Wsv7P"
      },
      "id": "PXUg4P5Wsv7P"
    },
    {
      "cell_type": "code",
      "source": [
        "\n",
        "base_dir = Path(\"/content/dataset_midi\").resolve()\n",
        "\n",
        "midis = list(base_dir.glob(\"**/*.mid\")) + list(base_dir.glob(\"**/*.midi\"))\n",
        "midis = [midi.resolve() for midi in midis]\n",
        "\n",
        "total_num_files = len(midis)\n",
        "num_files_valid = round(total_num_files * 0.20)\n",
        "\n",
        "shuffle(midis)\n",
        "\n",
        "midi_paths_valid = midis[:num_files_valid]\n",
        "midi_paths_train = midis[num_files_valid:]\n",
        "\n",
        "# Chunk e augment\n",
        "for files_paths, subset_name in (\n",
        "    (midi_paths_train, \"train\"),\n",
        "    (midi_paths_valid, \"valid\")\n",
        "):\n",
        "    subset_chunks_dir = Path(f\"Maestro_{subset_name}\")\n",
        "\n",
        "    split_files_for_training(\n",
        "        files_paths=files_paths,\n",
        "        tokenizer=tokenizer,\n",
        "        save_dir=subset_chunks_dir,\n",
        "        max_seq_len=1024,\n",
        "        num_overlap_bars=2,\n",
        "    )\n",
        "\n",
        "    augment_dataset(\n",
        "        subset_chunks_dir,\n",
        "        pitch_offsets=[-12, 12],\n",
        "        velocity_offsets=[-3, 3],\n",
        "        duration_offsets=[-0.5, 0.5],\n",
        "    )\n",
        "\n",
        "midi_paths_train = list(Path(\"Maestro_train\").glob(\"**/*.mid\")) + list(Path(\"Maestro_train\").glob(\"**/*.midi\"))\n",
        "midi_paths_valid = list(Path(\"Maestro_valid\").glob(\"**/*.mid\")) + list(Path(\"Maestro_valid\").glob(\"**/*.midi\"))\n"
      ],
      "metadata": {
        "colab": {
          "base_uri": "https://localhost:8080/"
        },
        "id": "2hkiZsj7s1Wj",
        "outputId": "4f80bda3-1afd-408e-efbd-a6fda30eebfa"
      },
      "id": "2hkiZsj7s1Wj",
      "execution_count": null,
      "outputs": [
        {
          "output_type": "stream",
          "name": "stderr",
          "text": [
            "Splitting music files (Maestro_train): 100%|██████████| 894/894 [00:05<00:00, 161.22it/s]\n",
            "Performing data augmentation: 100%|██████████| 8549/8549 [00:21<00:00, 400.39it/s]\n",
            "Splitting music files (Maestro_valid): 100%|██████████| 191/191 [00:02<00:00, 91.50it/s]\n",
            "Performing data augmentation: 100%|██████████| 1852/1852 [00:04<00:00, 406.03it/s]\n"
          ]
        }
      ]
    },
    {
      "cell_type": "markdown",
      "source": [
        "All MIDI files from the training and validation set are tokenized so they can be used to train the GAN."
      ],
      "metadata": {
        "id": "PUUhVT1AzX5r"
      },
      "id": "PUUhVT1AzX5r"
    },
    {
      "cell_type": "code",
      "source": [
        "def midi_valid(midi) -> bool:\n",
        "    if any(ts.numerator != 4 for ts in midi.time_signature_changes):\n",
        "        return False  # time signature different from 4/*, 4 beats per bar\n",
        "    return True\n",
        "\n",
        "if os.path.exists(\"tokenized\"):\n",
        "  shutil.rmtree(\"tokenized\")\n",
        "\n",
        "for dir in (\"train\", \"valid\"):\n",
        "    tokenizer.tokenize_dataset(\n",
        "        Path(f\"Maestro_{dir}\").resolve(),\n",
        "        Path(f\"tokenized_{dir}\").resolve(),\n",
        "        midi_valid,\n",
        "    )"
      ],
      "metadata": {
        "id": "FsxdQ0WUzbHB",
        "outputId": "04d33131-ffa0-43ad-83f4-3d92f6166da4",
        "colab": {
          "base_uri": "https://localhost:8080/"
        }
      },
      "id": "FsxdQ0WUzbHB",
      "execution_count": null,
      "outputs": [
        {
          "output_type": "stream",
          "name": "stderr",
          "text": [
            "Tokenizing music files (content/tokenized_train): 100%|██████████| 51073/51073 [21:40<00:00, 39.28it/s]\n",
            "Tokenizing music files (content/tokenized_valid): 100%|██████████| 11162/11162 [04:41<00:00, 39.64it/s]\n"
          ]
        }
      ]
    },
    {
      "cell_type": "code",
      "source": [
        "!zip -r tokenized_train.zip tokenized_train\n",
        "!zip -r tokenized_valid.zip tokenized_valid"
      ],
      "metadata": {
        "id": "GiFM_wmSdkZh"
      },
      "id": "GiFM_wmSdkZh",
      "execution_count": null,
      "outputs": []
    },
    {
      "cell_type": "markdown",
      "source": [
        "## download the tokenized dataset"
      ],
      "metadata": {
        "id": "y8IKfAl3gd7z"
      },
      "id": "y8IKfAl3gd7z"
    },
    {
      "cell_type": "code",
      "source": [
        "!gdown --id 1Dxs6XjE7luoXGVOSajBm94q_7YWPUzxO\n",
        "!gdown --id 17IECX9WdgCtMSMaSgGBBoSWH6L97CLh_\n",
        "\n",
        "!unzip tokenized_train.zip\n",
        "!unzip tokenized_valid.zip"
      ],
      "metadata": {
        "id": "50ZRpSJ0gBPP"
      },
      "id": "50ZRpSJ0gBPP",
      "execution_count": null,
      "outputs": []
    },
    {
      "cell_type": "markdown",
      "source": [
        "## Read JSON\n",
        "\n",
        "Here we read the produced JSON files containing the tokenization's output."
      ],
      "metadata": {
        "id": "2C1_U05_cAo-"
      },
      "id": "2C1_U05_cAo-"
    },
    {
      "cell_type": "code",
      "source": [
        "def load_json(filepath: str) -> dict:\n",
        "    \"\"\"Load a JSON file and return its contents.\"\"\"\n",
        "    try:\n",
        "        with open(filepath, \"r\") as f:\n",
        "            return json.load(f)\n",
        "    except (FileNotFoundError, json.JSONDecodeError) as e:\n",
        "        print(f\"Skipping {filepath}: {e}\")\n",
        "        return None\n",
        "\n",
        "\n",
        "def load_multiple_jsons(file_paths):\n",
        "    \"\"\"Load multiple JSON files into a list of objects.\"\"\"\n",
        "    results = []\n",
        "    for fp in tqdm(file_paths, desc=\"Reading JSON files\"):\n",
        "        obj = load_json(fp)\n",
        "        if obj is not None:\n",
        "            results.append(obj)\n",
        "    return results\n",
        "\n",
        "\n",
        "# Collect JSON file paths\n",
        "train_jsons = Path(\"tokenized_train\").resolve().rglob(\"*.json\")\n",
        "valid_jsons = Path(\"tokenized_valid\").resolve().rglob(\"*.json\")\n",
        "\n",
        "# Load datasets\n",
        "train_data = load_multiple_jsons(train_jsons)\n",
        "valid_data = load_multiple_jsons(valid_jsons)\n",
        "\n",
        "# Summary\n",
        "if train_data and valid_data:\n",
        "    print(f\"\\nLoaded {len(train_data)} JSON files for training.\")\n",
        "    print(f\"Loaded {len(valid_data)} JSON files for validation.\")\n",
        "else:\n",
        "    print(\"Some JSON files could not be read.\")\n"
      ],
      "metadata": {
        "id": "ePyht0BuzxQa",
        "outputId": "c87cfef7-599f-46f1-d2af-f278e3df06e3",
        "colab": {
          "base_uri": "https://localhost:8080/"
        }
      },
      "id": "ePyht0BuzxQa",
      "execution_count": null,
      "outputs": [
        {
          "output_type": "stream",
          "name": "stderr",
          "text": [
            "100%|██████████| 51073/51073 [00:08<00:00, 5860.52it/s]\n",
            "100%|██████████| 11162/11162 [00:02<00:00, 4958.69it/s]"
          ]
        },
        {
          "output_type": "stream",
          "name": "stdout",
          "text": [
            "\n",
            "Successfully read 51073 training JSON files.\n",
            "Successfully read 11162 validation JSON files.\n"
          ]
        },
        {
          "output_type": "stream",
          "name": "stderr",
          "text": [
            "\n"
          ]
        }
      ]
    },
    {
      "cell_type": "markdown",
      "source": [
        "Rather than padding each MIDI file (converted into tokens) to a fixed length with special padding tokens, we instead concatenate the token IDs of all piano pieces into a single large Numpy array. This approach comes with trade-offs—most notably a loss of musical coherence when sequences are passed to the model and a weaker sense of each song as a complete unit—but it provides much greater flexibility in handling and processing the dat"
      ],
      "metadata": {
        "id": "epsBcF3IcY4L"
      },
      "id": "epsBcF3IcY4L"
    },
    {
      "cell_type": "code",
      "source": [
        "def extract_ids(data_objects):\n",
        "    \"\"\"Extract and convert token IDs from JSON objects.\"\"\"\n",
        "    arrays = []\n",
        "    for obj in data_objects:\n",
        "        if \"ids\" in obj and isinstance(obj[\"ids\"], list) and len(obj[\"ids\"]) > 0:\n",
        "            arrays.append(np.asarray(obj[\"ids\"][0], dtype=np.int32))\n",
        "    return np.concatenate(arrays, axis=0)\n",
        "\n",
        "\n",
        "all_ids_train = extract_ids(train_data)\n",
        "all_ids_valid = extract_ids(valid_data)"
      ],
      "metadata": {
        "id": "TpskPd966QJN"
      },
      "id": "TpskPd966QJN",
      "execution_count": null,
      "outputs": []
    },
    {
      "cell_type": "markdown",
      "source": [
        "## GAN model\n",
        "\n",
        "The system is based on the structure of a Generative Adversarial Network (GAN) and consists of two main components:\n",
        "\n",
        "Generator Network: a fully connected neural network that takes a random noise vector as input and produces a MIDI file as output (Generated MIDI). The generator's objective is to create data that closely mimics authentic data. This component embodies the creative aspect of the GAN architecture.\n",
        "\n",
        "Discriminator Network: another fully connected neural network that receives as input both authentic MIDI files (from the Maestro Dataset) and MIDI files produced by the generator. The discriminator's function is to classify these inputs as either authentic (True) or synthetic (False). This component embodies the evaluative aspect of the GAN architecture.\n",
        "\n",
        "Training process: The generator enhances its performance by attempting to fool the discriminator, creating data that the discriminator finds progressively more challenging to distinguish from authentic data. Simultaneously, the discriminator is optimized to become more precise at identifying the distinction between authentic and generated data. This adversarial process relies on a loss function calculated for both networks, with weight updates executed using the ADAM optimizer.\n",
        "\n",
        "To evaluate performance variation in relation to model complexity, three generators and three discriminators were trained with the same overall architecture but varying sizes:\n",
        "\n",
        "- Mini,\n",
        "- Medium,\n",
        "- Large.\n",
        "\n",
        "These models share the same fundamental architecture but differ in the number of neurons and layers, enabling a comparative analysis of their performance in relation to representational capacity."
      ],
      "metadata": {
        "id": "qIZJdr5g3sYT"
      },
      "id": "qIZJdr5g3sYT"
    },
    {
      "cell_type": "code",
      "source": [
        "class GeneratorMini(nn.Module):\n",
        "    def __init__(self, noise_dim: int, hidden_dim: int, output_length: int):\n",
        "        super().__init__()\n",
        "\n",
        "        self.model = nn.Sequential(\n",
        "            nn.Linear(noise_dim, hidden_dim * 4),\n",
        "            nn.ReLU(),\n",
        "            nn.Linear(hidden_dim * 4, hidden_dim * 2),\n",
        "            nn.ReLU(),\n",
        "            nn.Dropout(0.4),\n",
        "            nn.Linear(hidden_dim * 2, hidden_dim),\n",
        "            nn.ReLU(),\n",
        "            nn.Dropout(0.4),\n",
        "            nn.Linear(hidden_dim, output_length),\n",
        "            nn.Tanh()\n",
        "        )\n",
        "\n",
        "    def forward(self, noise_vector: torch.Tensor) -> torch.Tensor:\n",
        "        return self.model(noise_vector)\n",
        "\n",
        "\n",
        "class DiscriminatorMini(nn.Module):\n",
        "    def __init__(self, input_length: int, hidden_dim: int):\n",
        "        super().__init__()\n",
        "\n",
        "        self.model = nn.Sequential(\n",
        "            nn.Linear(input_length, hidden_dim * 2),\n",
        "            nn.LeakyReLU(0.2),\n",
        "            nn.Linear(hidden_dim * 2, hidden_dim * 4),\n",
        "            nn.LeakyReLU(0.2),\n",
        "            nn.Dropout(0.4),\n",
        "            nn.Linear(hidden_dim * 4, 1)\n",
        "        )\n",
        "\n",
        "    def forward(self, sequence: torch.Tensor) -> torch.Tensor:\n",
        "        return self.model(sequence)\n"
      ],
      "metadata": {
        "id": "QdpuEdReJzaP"
      },
      "id": "QdpuEdReJzaP",
      "execution_count": null,
      "outputs": []
    },
    {
      "cell_type": "code",
      "source": [
        "class GeneratorMedium(nn.Module):\n",
        "    def __init__(self, noise_dim: int, hidden_dim: int, output_length: int):\n",
        "        super().__init__()\n",
        "\n",
        "        self.model = nn.Sequential(\n",
        "            nn.Linear(noise_dim, hidden_dim * 8),\n",
        "            nn.ReLU(),\n",
        "            nn.Linear(hidden_dim * 8, hidden_dim * 4),\n",
        "            nn.ReLU(),\n",
        "            nn.Dropout(0.4),\n",
        "            nn.Linear(hidden_dim * 4, hidden_dim * 2),\n",
        "            nn.ReLU(),\n",
        "            nn.Dropout(0.4),\n",
        "            nn.Linear(hidden_dim * 2, hidden_dim),\n",
        "            nn.ReLU(),\n",
        "            nn.Dropout(0.4),\n",
        "            nn.Linear(hidden_dim, output_length),\n",
        "            nn.Tanh()\n",
        "        )\n",
        "\n",
        "    def forward(self, noise_vector: torch.Tensor) -> torch.Tensor:\n",
        "        return self.model(noise_vector)\n",
        "\n",
        "\n",
        "class DiscriminatorMedium(nn.Module):\n",
        "    def __init__(self, input_length: int, hidden_dim: int):\n",
        "        super().__init__()\n",
        "\n",
        "        self.model = nn.Sequential(\n",
        "            nn.Linear(input_length, hidden_dim * 2),\n",
        "            nn.LeakyReLU(0.2),\n",
        "            nn.Linear(hidden_dim * 2, hidden_dim * 4),\n",
        "            nn.LeakyReLU(0.2),\n",
        "            nn.Dropout(0.4),\n",
        "            nn.Linear(hidden_dim * 4, hidden_dim * 8),\n",
        "            nn.LeakyReLU(0.2),\n",
        "            nn.Dropout(0.4),\n",
        "            nn.Linear(hidden_dim * 8, 1)\n",
        "        )\n",
        "\n",
        "    def forward(self, sequence: torch.Tensor) -> torch.Tensor:\n",
        "        return self.model(sequence)\n"
      ],
      "metadata": {
        "id": "gsmfpiPCJ800"
      },
      "id": "gsmfpiPCJ800",
      "execution_count": null,
      "outputs": []
    },
    {
      "cell_type": "code",
      "source": [
        "class GeneratorLarge(nn.Module):\n",
        "    def __init__(self, noise_dim: int, hidden_dim: int, output_length: int):\n",
        "        super().__init__()\n",
        "\n",
        "        self.model = nn.Sequential(\n",
        "            nn.Linear(noise_dim, hidden_dim * 16),\n",
        "            nn.ReLU(),\n",
        "            nn.Linear(hidden_dim * 16, hidden_dim * 8),\n",
        "            nn.ReLU(),\n",
        "            nn.Dropout(0.4),\n",
        "            nn.Linear(hidden_dim * 8, hidden_dim * 4),\n",
        "            nn.ReLU(),\n",
        "            nn.Dropout(0.4),\n",
        "            nn.Linear(hidden_dim * 4, hidden_dim * 2),\n",
        "            nn.ReLU(),\n",
        "            nn.Dropout(0.4),\n",
        "            nn.Linear(hidden_dim * 2, hidden_dim),\n",
        "            nn.ReLU(),\n",
        "            nn.Dropout(0.4),\n",
        "            nn.Linear(hidden_dim, output_length),\n",
        "            nn.Tanh()\n",
        "        )\n",
        "\n",
        "    def forward(self, noise_vector: torch.Tensor) -> torch.Tensor:\n",
        "        return self.model(noise_vector)\n",
        "\n",
        "\n",
        "class DiscriminatorLarge(nn.Module):\n",
        "    def __init__(self, input_length: int, hidden_dim: int):\n",
        "        super().__init__()\n",
        "\n",
        "        self.model = nn.Sequential(\n",
        "            nn.Linear(input_length, hidden_dim * 2),\n",
        "            nn.LeakyReLU(0.2),\n",
        "            nn.Linear(hidden_dim * 2, hidden_dim * 4),\n",
        "            nn.LeakyReLU(0.2),\n",
        "            nn.Dropout(0.4),\n",
        "            nn.Linear(hidden_dim * 4, hidden_dim * 8),\n",
        "            nn.LeakyReLU(0.2),\n",
        "            nn.Dropout(0.4),\n",
        "            nn.Linear(hidden_dim * 8, hidden_dim * 16),\n",
        "            nn.LeakyReLU(0.2),\n",
        "            nn.Dropout(0.4),\n",
        "            nn.Linear(hidden_dim * 16, 1)\n",
        "        )\n",
        "\n",
        "    def forward(self, sequence: torch.Tensor) -> torch.Tensor:\n",
        "        return self.model(sequence)\n"
      ],
      "metadata": {
        "id": "D-fiFyuEeJ4u"
      },
      "id": "D-fiFyuEeJ4u",
      "execution_count": null,
      "outputs": []
    },
    {
      "cell_type": "markdown",
      "source": [
        "Hyper-parameters kept unchanged for training each model"
      ],
      "metadata": {
        "id": "yIRYLv6LbbaA"
      },
      "id": "yIRYLv6LbbaA"
    },
    {
      "cell_type": "code",
      "source": [
        "vocab_size = len(tokenizer)\n",
        "seq_length = 512\n",
        "noise_dim = 512\n",
        "hidden_dim = 1536\n",
        "batch_size = 128\n",
        "\n",
        "generator_config = {\n",
        "    \"noise_dim\"  : noise_dim,\n",
        "    \"hidden_dim\" : hidden_dim,\n",
        "    \"output_length\" : seq_length\n",
        "}\n",
        "\n",
        "\n",
        "discriminator_config = {\n",
        "    \"input_length\" : seq_length,\n",
        "    \"hidden_dim\" : hidden_dim\n",
        "}"
      ],
      "metadata": {
        "id": "x4yiz-pS6kbC"
      },
      "id": "x4yiz-pS6kbC",
      "execution_count": null,
      "outputs": []
    },
    {
      "cell_type": "markdown",
      "source": [
        "## GAN class\n",
        "\n",
        "This GAN class implements the logic required to train a Generative Adversarial Network (GAN) composed of a generator and a discriminator. Both models are passed as arguments to the constructor, along with the input noise size, the length of the musical sequence, and the tokenizer used to manage the MIDI data. The class independently manages the optimizers, weight initialization, and loss function calculation, allowing the two models to be trained in a coordinated manner.\n",
        "\n",
        "During training, the discriminator learns to distinguish between real MIDI files (from the dataset) and those generated by the generator, while the generator attempts to produce increasingly convincing sequences capable of fooling the discriminator. The class also manages alternating training strategies to balance the update steps of the two models and includes checks to avoid numerical instabilities such as NaN or Inf values. It also provides methods to save the weights of the trained models, generate new sequences as numeric arrays, and convert them into real MIDI files, ready to be listened to and analyzed."
      ],
      "metadata": {
        "id": "6_c9Oqe0EgMX"
      },
      "id": "6_c9Oqe0EgMX"
    },
    {
      "cell_type": "code",
      "source": [
        "class GAN:\n",
        "    def __init__(\n",
        "        self,\n",
        "        generator: nn.Module,\n",
        "        discriminator: nn.Module,\n",
        "        noise_dim: int,\n",
        "        sequence_length: int,\n",
        "        tokenizer,\n",
        "        loss_fn: nn.Module = nn.BCEWithLogitsLoss(),\n",
        "    ):\n",
        "        \"\"\"\n",
        "        GAN class to train a generator and discriminator.\n",
        "        \"\"\"\n",
        "        self.generator = generator\n",
        "        self.discriminator = discriminator\n",
        "        self.noise_dim = noise_dim\n",
        "        self.sequence_length = sequence_length\n",
        "        self.loss_fn = loss_fn\n",
        "        self.tokenizer = tokenizer\n",
        "        self.vocab_size = len(tokenizer)\n",
        "\n",
        "        self.generator_optimizer = torch.optim.Adam(\n",
        "            self.generator.parameters(), lr=0.00005, betas=(0.5, 0.999)\n",
        "        )\n",
        "        self.discriminator_optimizer = torch.optim.Adam(\n",
        "            self.discriminator.parameters(), lr=0.00005, betas=(0.5, 0.999)\n",
        "        )\n",
        "\n",
        "        self.generator.apply(self._init_weights)\n",
        "        self.discriminator.apply(self._init_weights)\n",
        "\n",
        "    def train(\n",
        "        self,\n",
        "        dataloader,\n",
        "        epochs: int,\n",
        "        device: torch.device,\n",
        "        loss_delta: float = 0.7,\n",
        "        steps_each_print: int = 5,\n",
        "        advantage_steps: int = 2,\n",
        "        alternate_training: bool = False,\n",
        "        generator_steps: int = 1,\n",
        "        discriminator_steps: int = 1,\n",
        "    ):\n",
        "        \"\"\"\n",
        "        Train the GAN on a dataloader.\n",
        "        \"\"\"\n",
        "        print(f\"Starting training for {epochs} epochs\")\n",
        "        self.generator.to(device).train()\n",
        "        self.discriminator.to(device).train()\n",
        "\n",
        "        all_d_losses = []\n",
        "        all_g_losses = []\n",
        "\n",
        "        for epoch in range(epochs):\n",
        "            pbar = tqdm(total=len(dataloader), desc=f\"Epoch {epoch+1}/{epochs}\")\n",
        "            for step, real_batch in enumerate(dataloader):\n",
        "                batch_size = real_batch.size(0)\n",
        "                real_batch = real_batch.to(device)\n",
        "\n",
        "                d_loss, g_loss = self._train_batch(\n",
        "                    batch_size, real_batch, device, generator_steps, discriminator_steps\n",
        "                )\n",
        "                all_d_losses.append(d_loss)\n",
        "                all_g_losses.append(g_loss)\n",
        "\n",
        "                if alternate_training:\n",
        "                    if g_loss - d_loss > loss_delta:\n",
        "                        generator_steps, discriminator_steps = advantage_steps, 1\n",
        "                    elif d_loss - g_loss > loss_delta:\n",
        "                        discriminator_steps, generator_steps = advantage_steps, 1\n",
        "                    else:\n",
        "                        generator_steps, discriminator_steps = 1, 1\n",
        "\n",
        "                if (step + 1) % steps_each_print == 0:\n",
        "                    desc = f\"D Loss: {d_loss:.4f}, G Loss: {g_loss:.4f}\"\n",
        "                    if generator_steps != 1 or discriminator_steps != 1:\n",
        "                        desc += f\" | D Steps: {discriminator_steps}, G Steps: {generator_steps}\"\n",
        "                    pbar.set_description(desc)\n",
        "                pbar.update(1)\n",
        "\n",
        "            pbar.close()\n",
        "            print(f\"Epoch {epoch+1}/{epochs} | D Loss: {d_loss:.4f} | G Loss: {g_loss:.4f}\")\n",
        "\n",
        "        return all_d_losses, all_g_losses\n",
        "\n",
        "    def _generator_train_step(self, batch_size: int, device: torch.device) -> float:\n",
        "        \"\"\"Perform one training step for the generator.\"\"\"\n",
        "        self.generator.zero_grad()\n",
        "\n",
        "        noise = self._sample_noise(batch_size, device)\n",
        "        fake_data = self.generator(noise)\n",
        "        fake_predictions = self.discriminator(fake_data)\n",
        "\n",
        "        loss_g = -torch.mean(fake_predictions)\n",
        "\n",
        "        if not (torch.isnan(loss_g) or torch.isinf(loss_g)):\n",
        "            loss_g.backward()\n",
        "            torch.nn.utils.clip_grad_norm_(self.generator.parameters(), max_norm=1.0)\n",
        "            self.generator_optimizer.step()\n",
        "        else:\n",
        "            print(\"NaN or Inf detected in generator loss.\")\n",
        "\n",
        "        return loss_g.item()\n",
        "\n",
        "    def _discriminator_train_step(\n",
        "        self, batch_size: int, real_data: torch.Tensor, device: torch.device\n",
        "    ) -> float:\n",
        "        \"\"\"Perform one training step for the discriminator.\"\"\"\n",
        "        self.discriminator.zero_grad()\n",
        "\n",
        "        noise = self._sample_noise(batch_size, device)\n",
        "        fake_data = self.generator(noise)\n",
        "\n",
        "        real_predictions = self.discriminator(real_data)\n",
        "        fake_predictions = self.discriminator(fake_data)\n",
        "\n",
        "        real_labels = torch.ones_like(real_predictions)\n",
        "        fake_labels = torch.zeros_like(fake_predictions)\n",
        "\n",
        "        loss_real = self.loss_fn(real_predictions, real_labels)\n",
        "        loss_fake = self.loss_fn(fake_predictions, fake_labels)\n",
        "\n",
        "        loss_d = loss_real + loss_fake\n",
        "\n",
        "        if not (torch.isnan(loss_d) or torch.isinf(loss_d)):\n",
        "            loss_d.backward()\n",
        "            self.discriminator_optimizer.step()\n",
        "        else:\n",
        "            print(\"NaN or Inf detected in discriminator loss.\")\n",
        "\n",
        "        return loss_d.item()\n",
        "\n",
        "    def _init_weights(self, layer):\n",
        "        \"\"\"Initialize weights for linear and conv1d layers.\"\"\"\n",
        "        if isinstance(layer, (nn.Linear, nn.Conv1d)):\n",
        "            nn.init.xavier_uniform_(layer.weight)\n",
        "            if layer.bias is not None:\n",
        "                nn.init.zeros_(layer.bias)\n",
        "\n",
        "    def _sample_noise(self, batch_size: int, device: torch.device) -> torch.Tensor:\n",
        "        \"\"\"Generate random noise as input for the generator.\"\"\"\n",
        "        return torch.randn(batch_size, self.noise_dim, device=device)\n",
        "\n",
        "    def _train_batch(\n",
        "        self, batch_size: int, real_data: torch.Tensor, device: torch.device,\n",
        "        generator_steps: int, discriminator_steps: int\n",
        "    ):\n",
        "        \"\"\"Run one batch of training alternating generator and discriminator.\"\"\"\n",
        "        discriminator_losses = [\n",
        "            self._discriminator_train_step(batch_size, real_data, device)\n",
        "            for _ in range(discriminator_steps)\n",
        "        ]\n",
        "        generator_losses = [\n",
        "            self._generator_train_step(batch_size, device)\n",
        "            for _ in range(generator_steps)\n",
        "        ]\n",
        "        return np.mean(discriminator_losses), np.mean(generator_losses)\n",
        "\n",
        "    def save_generator(self, filepath: str):\n",
        "        \"\"\"Save generator weights to disk.\"\"\"\n",
        "        torch.save(self.generator.state_dict(), filepath)\n",
        "\n",
        "    def save_discriminator(self, filepath: str):\n",
        "        \"\"\"Save discriminator weights to disk.\"\"\"\n",
        "        torch.save(self.discriminator.state_dict(), filepath)\n",
        "\n",
        "    def predict(self, n_samples: int, device: torch.device):\n",
        "        \"\"\"Generate output from the generator as NumPy arrays.\"\"\"\n",
        "        noise = self._sample_noise(n_samples, device)\n",
        "        return self.generator(noise).cpu().detach().numpy()\n",
        "\n",
        "    def generate_midi(self, n_samples: int, output_prefix: str, device: torch.device):\n",
        "        \"\"\"Generate and save MIDI files from the generator output.\"\"\"\n",
        "        predictions = self.predict(n_samples, device)\n",
        "        midpoint = self.vocab_size // 2\n",
        "        predictions = [x * midpoint + midpoint for x in predictions]\n",
        "\n",
        "        for i, pred in enumerate(predictions):\n",
        "            pred_tokens = pred.astype(np.int32)\n",
        "            pred_tokens[pred_tokens == self.vocab_size] = 0\n",
        "            try:\n",
        "                decoded = self.tokenizer.decode([pred_tokens])\n",
        "                decoded.dump_midi(f\"{output_prefix}_{i}.mid\")\n",
        "            except Exception as e:\n",
        "                print(f\"Error in MIDI generation: {e}\")\n"
      ],
      "metadata": {
        "id": "xvld5t80-WWv"
      },
      "id": "xvld5t80-WWv",
      "execution_count": null,
      "outputs": []
    },
    {
      "cell_type": "markdown",
      "source": [
        "The TokenDataset class and the normalize_data function prepare the input data for GAN training. Specifically, TokenDataset defines a custom dataset containing token sequences (derived from the MIDI file) and makes them compatible with PyTorch, returning 32-bit floating-point numeric tensors, ready for use in data loaders. The normalize_data function, on the other hand, normalizes the token values ​​to a range between -1 and 1, so they better fit the generator's widely used activation function. This normalization step is crucial because it ensures numerical stability and speeds up convergence during training, reducing the risk of gradients that are too large or too small."
      ],
      "metadata": {
        "id": "C9tNCL75itM1"
      },
      "id": "C9tNCL75itM1"
    },
    {
      "cell_type": "code",
      "source": [
        "class TokenDataset(Dataset):\n",
        "    \"\"\"Dataset of normalized token sequences for GAN training.\"\"\"\n",
        "    def __init__(self, sequences):\n",
        "        self.sequences = sequences\n",
        "\n",
        "    def __len__(self):\n",
        "        return len(self.sequences)\n",
        "\n",
        "    def __getitem__(self, idx):\n",
        "        return torch.tensor(self.sequences[idx], dtype=torch.float32)\n",
        "\n",
        "\n",
        "def normalize_data(token_array, vocab_size: int):\n",
        "    \"\"\"\n",
        "    Normalize input data to a interval = (-1, 1).\n",
        "    \"\"\"\n",
        "    min_val, max_val = (-1, 1)\n",
        "    normalized = (token_array - vocab_size / 2) / (vocab_size / 2)\n",
        "    scaled = normalized * (max_val - min_val) / 2 + (max_val + min_val) / 2\n",
        "    return scaled\n"
      ],
      "metadata": {
        "id": "dXdahVJAU2Gd"
      },
      "id": "dXdahVJAU2Gd",
      "execution_count": null,
      "outputs": []
    },
    {
      "cell_type": "markdown",
      "source": [
        "## Trainig GAN Mini\n",
        "\n",
        "## Setup for training\n",
        "\n",
        "It then initializes the GAN generator and discriminator, configures the computing device (CPU or GPU), and prepares the data for training. Specifically, the MIDI tokens are normalized to the range\n",
        "−1, 1, split into sequences of the desired length, and organized into a PyTorch dataset managed by DataLoader, which handles batching and shuffling. Finally, a quick test is performed on the GPU and the dataset information is printed to confirm that the system is ready for training.\n",
        "\n",
        "This operation is also performed for training the other models."
      ],
      "metadata": {
        "id": "ApzrAYf-moGo"
      },
      "id": "ApzrAYf-moGo"
    },
    {
      "cell_type": "code",
      "source": [
        "generator = GeneratorMini(**generator_config)\n",
        "discriminator = DiscriminatorMini(**discriminator_config)\n",
        "\n",
        "gan_params = {\n",
        "    \"generator\"                : generator,\n",
        "    \"discriminator\"            : discriminator,\n",
        "    \"noise_dim\"                : noise_dim,\n",
        "    \"sequence_length\"          : seq_length,\n",
        "    \"tokenizer\"                : tokenizer,\n",
        "}\n",
        "\n",
        "\n",
        "# ===============================\n",
        "# PARAMETERS\n",
        "# ===============================\n",
        "device = torch.device(\"cuda\" if torch.cuda.is_available() else \"cpu\")\n",
        "torch.cuda.set_device(0) if torch.cuda.is_available() else None\n",
        "\n",
        "sequence_length = seq_length  # taken from general configuration\n",
        "batch_size = batch_size       # keep existing value\n",
        "\n",
        "# ===============================\n",
        "# DATA PREPARATION\n",
        "# ===============================\n",
        "vocab_size = len(tokenizer)\n",
        "normalized_tokens = normalize_data(all_ids_train, vocab_size)\n",
        "\n",
        "print(f\"Normalization completed | Max: {normalized_tokens.max():.4f}, Min: {normalized_tokens.min():.4f}\")\n",
        "\n",
        "# Create sequences of the required length\n",
        "sequences = [\n",
        "    normalized_tokens[i : i + sequence_length]\n",
        "    for i in range(0, len(normalized_tokens) - sequence_length, sequence_length)\n",
        "]\n",
        "\n",
        "# Dataset and DataLoader\n",
        "dataset = TokenDataset(sequences)\n",
        "dataloader = DataLoader(\n",
        "    dataset,\n",
        "    batch_size=batch_size,\n",
        "    shuffle=True,\n",
        "    drop_last=True,\n",
        "    num_workers=4\n",
        ")\n",
        "\n",
        "# Quick GPU test\n",
        "_ = torch.ones(1, device=device)\n",
        "print(f\"Dataset ready. Batch size: {batch_size}, Number of batches: {len(dataloader)}\")\n"
      ],
      "metadata": {
        "id": "Iagq9bP3EiGq",
        "colab": {
          "base_uri": "https://localhost:8080/"
        },
        "outputId": "b94a1e10-8f77-4897-e75e-f0f1ee7eb040"
      },
      "id": "Iagq9bP3EiGq",
      "execution_count": null,
      "outputs": [
        {
          "output_type": "stream",
          "name": "stdout",
          "text": [
            "Normalizzazione completata | Max: 0.9996, Min: -0.9988\n",
            "Dataset pronto. Batch size: 128, Numero batch: 786\n"
          ]
        }
      ]
    },
    {
      "cell_type": "code",
      "source": [
        "gan_mini = GAN(**gan_params)\n",
        "\n",
        "training_arguments = {\n",
        "    \"dataloader\"            : dataloader,\n",
        "    \"epochs\"                : 45,\n",
        "    \"device\"                : device,\n",
        "    \"steps_each_print\"      : 10,\n",
        "    \"generator_steps\"       : 1,\n",
        "    \"discriminator_steps\"   : 1,\n",
        "}\n",
        "\n",
        "losses_discriminator, losses_generator = gan_mini.train(**training_arguments)"
      ],
      "metadata": {
        "id": "wF3cfjF3IA2G",
        "colab": {
          "base_uri": "https://localhost:8080/"
        },
        "outputId": "c149d2eb-8cc3-4f21-ad5f-9d0ff232abc5"
      },
      "id": "wF3cfjF3IA2G",
      "execution_count": null,
      "outputs": [
        {
          "output_type": "stream",
          "name": "stdout",
          "text": [
            "🚀 Avvio training per 45 epoche\n"
          ]
        },
        {
          "output_type": "stream",
          "name": "stderr",
          "text": [
            "D Loss: 1.3282, G Loss: 1.5346: 100%|██████████| 786/786 [00:11<00:00, 67.72it/s]\n"
          ]
        },
        {
          "output_type": "stream",
          "name": "stdout",
          "text": [
            "Epoch 1/45 | D Loss: 1.2117 | G Loss: 1.6454\n"
          ]
        },
        {
          "output_type": "stream",
          "name": "stderr",
          "text": [
            "D Loss: 0.9829, G Loss: 1.5116: 100%|██████████| 786/786 [00:10<00:00, 76.26it/s]\n"
          ]
        },
        {
          "output_type": "stream",
          "name": "stdout",
          "text": [
            "Epoch 2/45 | D Loss: 0.8642 | G Loss: 1.3850\n"
          ]
        },
        {
          "output_type": "stream",
          "name": "stderr",
          "text": [
            "D Loss: 0.7366, G Loss: 1.0546: 100%|██████████| 786/786 [00:10<00:00, 76.07it/s]\n"
          ]
        },
        {
          "output_type": "stream",
          "name": "stdout",
          "text": [
            "Epoch 3/45 | D Loss: 0.8440 | G Loss: 2.5744\n"
          ]
        },
        {
          "output_type": "stream",
          "name": "stderr",
          "text": [
            "D Loss: 0.6178, G Loss: 2.5708: 100%|██████████| 786/786 [00:10<00:00, 76.21it/s]\n"
          ]
        },
        {
          "output_type": "stream",
          "name": "stdout",
          "text": [
            "Epoch 4/45 | D Loss: 0.6212 | G Loss: 3.0898\n"
          ]
        },
        {
          "output_type": "stream",
          "name": "stderr",
          "text": [
            "D Loss: 1.4620, G Loss: -0.0365: 100%|██████████| 786/786 [00:10<00:00, 76.49it/s]\n"
          ]
        },
        {
          "output_type": "stream",
          "name": "stdout",
          "text": [
            "Epoch 5/45 | D Loss: 1.4867 | G Loss: -0.1058\n"
          ]
        },
        {
          "output_type": "stream",
          "name": "stderr",
          "text": [
            "D Loss: 1.2918, G Loss: 0.2593: 100%|██████████| 786/786 [00:10<00:00, 75.92it/s]\n"
          ]
        },
        {
          "output_type": "stream",
          "name": "stdout",
          "text": [
            "Epoch 6/45 | D Loss: 1.3967 | G Loss: 0.1948\n"
          ]
        },
        {
          "output_type": "stream",
          "name": "stderr",
          "text": [
            "D Loss: 1.2534, G Loss: 0.8390: 100%|██████████| 786/786 [00:10<00:00, 76.32it/s]\n"
          ]
        },
        {
          "output_type": "stream",
          "name": "stdout",
          "text": [
            "Epoch 7/45 | D Loss: 1.3573 | G Loss: 0.7685\n"
          ]
        },
        {
          "output_type": "stream",
          "name": "stderr",
          "text": [
            "D Loss: 1.0074, G Loss: 1.3823: 100%|██████████| 786/786 [00:10<00:00, 75.99it/s]\n"
          ]
        },
        {
          "output_type": "stream",
          "name": "stdout",
          "text": [
            "Epoch 8/45 | D Loss: 1.1291 | G Loss: 1.7584\n"
          ]
        },
        {
          "output_type": "stream",
          "name": "stderr",
          "text": [
            "D Loss: 1.0472, G Loss: 1.1145: 100%|██████████| 786/786 [00:10<00:00, 76.51it/s]\n"
          ]
        },
        {
          "output_type": "stream",
          "name": "stdout",
          "text": [
            "Epoch 9/45 | D Loss: 1.2875 | G Loss: 1.1769\n"
          ]
        },
        {
          "output_type": "stream",
          "name": "stderr",
          "text": [
            "D Loss: 1.1400, G Loss: 0.9804: 100%|██████████| 786/786 [00:10<00:00, 77.02it/s]\n"
          ]
        },
        {
          "output_type": "stream",
          "name": "stdout",
          "text": [
            "Epoch 10/45 | D Loss: 1.2597 | G Loss: 1.7564\n"
          ]
        },
        {
          "output_type": "stream",
          "name": "stderr",
          "text": [
            "D Loss: 0.8002, G Loss: 1.8458: 100%|██████████| 786/786 [00:10<00:00, 76.94it/s]\n"
          ]
        },
        {
          "output_type": "stream",
          "name": "stdout",
          "text": [
            "Epoch 11/45 | D Loss: 0.7721 | G Loss: 1.7811\n"
          ]
        },
        {
          "output_type": "stream",
          "name": "stderr",
          "text": [
            "D Loss: 0.9441, G Loss: 1.2499: 100%|██████████| 786/786 [00:10<00:00, 76.36it/s]\n"
          ]
        },
        {
          "output_type": "stream",
          "name": "stdout",
          "text": [
            "Epoch 12/45 | D Loss: 1.0003 | G Loss: 1.5714\n"
          ]
        },
        {
          "output_type": "stream",
          "name": "stderr",
          "text": [
            "D Loss: 1.0144, G Loss: 2.1600: 100%|██████████| 786/786 [00:10<00:00, 75.95it/s]\n"
          ]
        },
        {
          "output_type": "stream",
          "name": "stdout",
          "text": [
            "Epoch 13/45 | D Loss: 0.9551 | G Loss: 2.0458\n"
          ]
        },
        {
          "output_type": "stream",
          "name": "stderr",
          "text": [
            "D Loss: 0.7521, G Loss: 1.6029: 100%|██████████| 786/786 [00:10<00:00, 76.71it/s]\n"
          ]
        },
        {
          "output_type": "stream",
          "name": "stdout",
          "text": [
            "Epoch 14/45 | D Loss: 0.9272 | G Loss: 3.1154\n"
          ]
        },
        {
          "output_type": "stream",
          "name": "stderr",
          "text": [
            "D Loss: 0.7872, G Loss: 1.6793: 100%|██████████| 786/786 [00:10<00:00, 76.68it/s]\n"
          ]
        },
        {
          "output_type": "stream",
          "name": "stdout",
          "text": [
            "Epoch 15/45 | D Loss: 0.7483 | G Loss: 1.7366\n"
          ]
        },
        {
          "output_type": "stream",
          "name": "stderr",
          "text": [
            "D Loss: 0.6951, G Loss: 1.6856: 100%|██████████| 786/786 [00:10<00:00, 76.50it/s]\n"
          ]
        },
        {
          "output_type": "stream",
          "name": "stdout",
          "text": [
            "Epoch 16/45 | D Loss: 0.7634 | G Loss: 2.5930\n"
          ]
        },
        {
          "output_type": "stream",
          "name": "stderr",
          "text": [
            "D Loss: 0.8878, G Loss: 1.8419: 100%|██████████| 786/786 [00:10<00:00, 76.86it/s]\n"
          ]
        },
        {
          "output_type": "stream",
          "name": "stdout",
          "text": [
            "Epoch 17/45 | D Loss: 1.1132 | G Loss: 0.5467\n"
          ]
        },
        {
          "output_type": "stream",
          "name": "stderr",
          "text": [
            "D Loss: 0.7954, G Loss: 1.1736: 100%|██████████| 786/786 [00:10<00:00, 76.74it/s]\n"
          ]
        },
        {
          "output_type": "stream",
          "name": "stdout",
          "text": [
            "Epoch 18/45 | D Loss: 0.5635 | G Loss: 2.6575\n"
          ]
        },
        {
          "output_type": "stream",
          "name": "stderr",
          "text": [
            "D Loss: 0.8388, G Loss: 1.8614: 100%|██████████| 786/786 [00:10<00:00, 76.39it/s]\n"
          ]
        },
        {
          "output_type": "stream",
          "name": "stdout",
          "text": [
            "Epoch 19/45 | D Loss: 0.7927 | G Loss: 1.5479\n"
          ]
        },
        {
          "output_type": "stream",
          "name": "stderr",
          "text": [
            "D Loss: 0.8463, G Loss: 2.7125: 100%|██████████| 786/786 [00:10<00:00, 76.09it/s]\n"
          ]
        },
        {
          "output_type": "stream",
          "name": "stdout",
          "text": [
            "Epoch 20/45 | D Loss: 0.9179 | G Loss: 2.7942\n"
          ]
        },
        {
          "output_type": "stream",
          "name": "stderr",
          "text": [
            "D Loss: 1.1082, G Loss: 2.5456: 100%|██████████| 786/786 [00:10<00:00, 76.25it/s]\n"
          ]
        },
        {
          "output_type": "stream",
          "name": "stdout",
          "text": [
            "Epoch 21/45 | D Loss: 0.9368 | G Loss: 2.5130\n"
          ]
        },
        {
          "output_type": "stream",
          "name": "stderr",
          "text": [
            "D Loss: 0.8326, G Loss: 2.3034: 100%|██████████| 786/786 [00:10<00:00, 76.50it/s]\n"
          ]
        },
        {
          "output_type": "stream",
          "name": "stdout",
          "text": [
            "Epoch 22/45 | D Loss: 0.7938 | G Loss: 0.9115\n"
          ]
        },
        {
          "output_type": "stream",
          "name": "stderr",
          "text": [
            "D Loss: 1.2882, G Loss: 1.6574: 100%|██████████| 786/786 [00:10<00:00, 76.50it/s]\n"
          ]
        },
        {
          "output_type": "stream",
          "name": "stdout",
          "text": [
            "Epoch 23/45 | D Loss: 0.7885 | G Loss: 1.3039\n"
          ]
        },
        {
          "output_type": "stream",
          "name": "stderr",
          "text": [
            "D Loss: 0.7686, G Loss: 2.2072: 100%|██████████| 786/786 [00:10<00:00, 76.51it/s]\n"
          ]
        },
        {
          "output_type": "stream",
          "name": "stdout",
          "text": [
            "Epoch 24/45 | D Loss: 0.8668 | G Loss: 1.9352\n"
          ]
        },
        {
          "output_type": "stream",
          "name": "stderr",
          "text": [
            "D Loss: 0.7069, G Loss: 3.2049: 100%|██████████| 786/786 [00:10<00:00, 76.60it/s]\n"
          ]
        },
        {
          "output_type": "stream",
          "name": "stdout",
          "text": [
            "Epoch 25/45 | D Loss: 0.9060 | G Loss: 2.7422\n"
          ]
        },
        {
          "output_type": "stream",
          "name": "stderr",
          "text": [
            "D Loss: 0.9424, G Loss: 2.3672: 100%|██████████| 786/786 [00:10<00:00, 76.47it/s]\n"
          ]
        },
        {
          "output_type": "stream",
          "name": "stdout",
          "text": [
            "Epoch 26/45 | D Loss: 0.8365 | G Loss: 1.3290\n"
          ]
        },
        {
          "output_type": "stream",
          "name": "stderr",
          "text": [
            "D Loss: 1.0753, G Loss: 0.8022: 100%|██████████| 786/786 [00:10<00:00, 76.50it/s]\n"
          ]
        },
        {
          "output_type": "stream",
          "name": "stdout",
          "text": [
            "Epoch 27/45 | D Loss: 0.6492 | G Loss: 2.2308\n"
          ]
        },
        {
          "output_type": "stream",
          "name": "stderr",
          "text": [
            "D Loss: 0.9020, G Loss: 2.5571: 100%|██████████| 786/786 [00:10<00:00, 76.54it/s]\n"
          ]
        },
        {
          "output_type": "stream",
          "name": "stdout",
          "text": [
            "Epoch 28/45 | D Loss: 0.9909 | G Loss: 3.3895\n"
          ]
        },
        {
          "output_type": "stream",
          "name": "stderr",
          "text": [
            "D Loss: 0.6934, G Loss: 2.5203: 100%|██████████| 786/786 [00:10<00:00, 76.76it/s]\n"
          ]
        },
        {
          "output_type": "stream",
          "name": "stdout",
          "text": [
            "Epoch 29/45 | D Loss: 0.8454 | G Loss: 3.3120\n"
          ]
        },
        {
          "output_type": "stream",
          "name": "stderr",
          "text": [
            "D Loss: 1.0742, G Loss: 0.8599: 100%|██████████| 786/786 [00:10<00:00, 76.38it/s]\n"
          ]
        },
        {
          "output_type": "stream",
          "name": "stdout",
          "text": [
            "Epoch 30/45 | D Loss: 0.7850 | G Loss: 1.2231\n"
          ]
        },
        {
          "output_type": "stream",
          "name": "stderr",
          "text": [
            "D Loss: 1.2994, G Loss: 3.4696: 100%|██████████| 786/786 [00:10<00:00, 75.23it/s]\n"
          ]
        },
        {
          "output_type": "stream",
          "name": "stdout",
          "text": [
            "Epoch 31/45 | D Loss: 0.8992 | G Loss: 0.8762\n"
          ]
        },
        {
          "output_type": "stream",
          "name": "stderr",
          "text": [
            "D Loss: 0.6321, G Loss: 3.0791: 100%|██████████| 786/786 [00:10<00:00, 76.35it/s]\n"
          ]
        },
        {
          "output_type": "stream",
          "name": "stdout",
          "text": [
            "Epoch 32/45 | D Loss: 0.7799 | G Loss: 2.8675\n"
          ]
        },
        {
          "output_type": "stream",
          "name": "stderr",
          "text": [
            "D Loss: 0.7656, G Loss: 3.0960: 100%|██████████| 786/786 [00:10<00:00, 76.21it/s]\n"
          ]
        },
        {
          "output_type": "stream",
          "name": "stdout",
          "text": [
            "Epoch 33/45 | D Loss: 0.6951 | G Loss: 2.3292\n"
          ]
        },
        {
          "output_type": "stream",
          "name": "stderr",
          "text": [
            "D Loss: 0.8908, G Loss: 3.6444: 100%|██████████| 786/786 [00:10<00:00, 77.03it/s]\n"
          ]
        },
        {
          "output_type": "stream",
          "name": "stdout",
          "text": [
            "Epoch 34/45 | D Loss: 0.7693 | G Loss: 2.4552\n"
          ]
        },
        {
          "output_type": "stream",
          "name": "stderr",
          "text": [
            "D Loss: 0.5415, G Loss: 1.9746: 100%|██████████| 786/786 [00:10<00:00, 76.09it/s]\n"
          ]
        },
        {
          "output_type": "stream",
          "name": "stdout",
          "text": [
            "Epoch 35/45 | D Loss: 0.7530 | G Loss: 1.7082\n"
          ]
        },
        {
          "output_type": "stream",
          "name": "stderr",
          "text": [
            "D Loss: 0.5933, G Loss: 2.5979: 100%|██████████| 786/786 [00:10<00:00, 76.40it/s]\n"
          ]
        },
        {
          "output_type": "stream",
          "name": "stdout",
          "text": [
            "Epoch 36/45 | D Loss: 0.7975 | G Loss: 2.8718\n"
          ]
        },
        {
          "output_type": "stream",
          "name": "stderr",
          "text": [
            "D Loss: 0.8327, G Loss: 1.8121: 100%|██████████| 786/786 [00:10<00:00, 76.55it/s]\n"
          ]
        },
        {
          "output_type": "stream",
          "name": "stdout",
          "text": [
            "Epoch 37/45 | D Loss: 0.9164 | G Loss: 1.3613\n"
          ]
        },
        {
          "output_type": "stream",
          "name": "stderr",
          "text": [
            "D Loss: 0.7926, G Loss: 1.4737: 100%|██████████| 786/786 [00:10<00:00, 76.41it/s]\n"
          ]
        },
        {
          "output_type": "stream",
          "name": "stdout",
          "text": [
            "Epoch 38/45 | D Loss: 0.9932 | G Loss: 1.6267\n"
          ]
        },
        {
          "output_type": "stream",
          "name": "stderr",
          "text": [
            "D Loss: 0.7554, G Loss: 2.9236: 100%|██████████| 786/786 [00:10<00:00, 76.89it/s]\n"
          ]
        },
        {
          "output_type": "stream",
          "name": "stdout",
          "text": [
            "Epoch 39/45 | D Loss: 0.6448 | G Loss: 2.9368\n"
          ]
        },
        {
          "output_type": "stream",
          "name": "stderr",
          "text": [
            "D Loss: 1.2758, G Loss: 3.4282: 100%|██████████| 786/786 [00:10<00:00, 76.45it/s]\n"
          ]
        },
        {
          "output_type": "stream",
          "name": "stdout",
          "text": [
            "Epoch 40/45 | D Loss: 0.8429 | G Loss: 1.5374\n"
          ]
        },
        {
          "output_type": "stream",
          "name": "stderr",
          "text": [
            "D Loss: 0.9496, G Loss: 1.4233: 100%|██████████| 786/786 [00:10<00:00, 76.24it/s]\n"
          ]
        },
        {
          "output_type": "stream",
          "name": "stdout",
          "text": [
            "Epoch 41/45 | D Loss: 0.9612 | G Loss: 1.2093\n"
          ]
        },
        {
          "output_type": "stream",
          "name": "stderr",
          "text": [
            "D Loss: 0.9446, G Loss: 0.8205: 100%|██████████| 786/786 [00:10<00:00, 76.27it/s]\n"
          ]
        },
        {
          "output_type": "stream",
          "name": "stdout",
          "text": [
            "Epoch 42/45 | D Loss: 1.0735 | G Loss: 2.4059\n"
          ]
        },
        {
          "output_type": "stream",
          "name": "stderr",
          "text": [
            "D Loss: 0.8082, G Loss: 1.7312: 100%|██████████| 786/786 [00:10<00:00, 76.32it/s]\n"
          ]
        },
        {
          "output_type": "stream",
          "name": "stdout",
          "text": [
            "Epoch 43/45 | D Loss: 1.2840 | G Loss: 0.6112\n"
          ]
        },
        {
          "output_type": "stream",
          "name": "stderr",
          "text": [
            "D Loss: 1.0708, G Loss: 1.8975: 100%|██████████| 786/786 [00:10<00:00, 76.59it/s]\n"
          ]
        },
        {
          "output_type": "stream",
          "name": "stdout",
          "text": [
            "Epoch 44/45 | D Loss: 1.5921 | G Loss: -0.1717\n"
          ]
        },
        {
          "output_type": "stream",
          "name": "stderr",
          "text": [
            "D Loss: 0.9259, G Loss: 2.6202: 100%|██████████| 786/786 [00:10<00:00, 76.48it/s]"
          ]
        },
        {
          "output_type": "stream",
          "name": "stdout",
          "text": [
            "Epoch 45/45 | D Loss: 0.8876 | G Loss: 2.1604\n"
          ]
        },
        {
          "output_type": "stream",
          "name": "stderr",
          "text": [
            "\n"
          ]
        }
      ]
    },
    {
      "cell_type": "code",
      "source": [
        "\n",
        "iterations = list(range(1, len(losses_discriminator) + 1))\n",
        "\n",
        "plt.figure(figsize=(8, 5))\n",
        "plt.plot(iterations, losses_generator, label=\"Generatore\", color=\"blue\", linewidth=2)\n",
        "plt.plot(iterations, losses_discriminator, label=\"Discriminatore\", color=\"red\", linewidth=2)\n",
        "\n",
        "plt.xlabel(\"Iterazioni\")\n",
        "plt.ylabel(\"Loss\")\n",
        "plt.title(\"Andamento della Loss GAN Mini\")\n",
        "plt.legend()\n",
        "plt.grid(True)\n",
        "plt.tight_layout()\n",
        "plt.show()"
      ],
      "metadata": {
        "id": "s3zCHAK2uw7X",
        "outputId": "ef7e7776-73eb-4d16-aad7-fee2e1549840",
        "colab": {
          "base_uri": "https://localhost:8080/",
          "height": 507
        }
      },
      "id": "s3zCHAK2uw7X",
      "execution_count": null,
      "outputs": [
        {
          "output_type": "display_data",
          "data": {
            "text/plain": [
              "<Figure size 800x500 with 1 Axes>"
            ],
            "image/png": "[encoded data removed]"
          },
          "metadata": {}
        }
      ]
    },
    {
      "cell_type": "code",
      "source": [
        "torch.save(generator.state_dict(), \"generator_weights_mini.pth\")\n",
        "torch.save(discriminator.state_dict(), \"discriminator_weights_mini.pth\")\n",
        "generator_mini = generator\n",
        "discriminator_mini = discriminator"
      ],
      "metadata": {
        "id": "965fJVJ-L4kn"
      },
      "id": "965fJVJ-L4kn",
      "execution_count": null,
      "outputs": []
    },
    {
      "cell_type": "markdown",
      "source": [
        "## Trainig GAN Medium"
      ],
      "metadata": {
        "id": "qFdScGC2L-DO"
      },
      "id": "qFdScGC2L-DO"
    },
    {
      "cell_type": "code",
      "source": [
        "generator = GeneratorMedium(**generator_config)\n",
        "discriminator = DiscriminatorMedium(**discriminator_config)\n",
        "\n",
        "gan_params = {\n",
        "    \"generator\"                : generator,\n",
        "    \"discriminator\"            : discriminator,\n",
        "    \"noise_dim\"                : noise_dim,\n",
        "    \"sequence_length\"          : seq_length,\n",
        "    \"tokenizer\"                : tokenizer,\n",
        "}\n",
        "\n",
        "\n",
        "# ===============================\n",
        "# PARAMETRI\n",
        "# ===============================\n",
        "device = torch.device(\"cuda\" if torch.cuda.is_available() else \"cpu\")\n",
        "torch.cuda.set_device(0) if torch.cuda.is_available() else None\n",
        "\n",
        "sequence_length = seq_length  # preso dalla configurazione generale\n",
        "batch_size = batch_size       # manteniamo il valore esistente\n",
        "\n",
        "# ===============================\n",
        "# PREPARAZIONE DATI\n",
        "# ===============================\n",
        "vocab_size = len(tokenizer)\n",
        "normalized_tokens = normalize_data(all_ids_train, vocab_size)\n",
        "\n",
        "print(f\"Normalizzazione completata | Max: {normalized_tokens.max():.4f}, Min: {normalized_tokens.min():.4f}\")\n",
        "\n",
        "# Creiamo sequenze della lunghezza richiesta\n",
        "sequences = [\n",
        "    normalized_tokens[i : i + sequence_length]\n",
        "    for i in range(0, len(normalized_tokens) - sequence_length, sequence_length)\n",
        "]\n",
        "\n",
        "# Dataset e DataLoader\n",
        "dataset = TokenDataset(sequences)\n",
        "dataloader = DataLoader(\n",
        "    dataset,\n",
        "    batch_size=batch_size,\n",
        "    shuffle=True,\n",
        "    drop_last=True,\n",
        "    num_workers=4\n",
        ")\n",
        "\n",
        "# Test rapido GPU\n",
        "_ = torch.ones(1, device=device)\n",
        "print(f\"Dataset pronto. Batch size: {batch_size}, Numero batch: {len(dataloader)}\")"
      ],
      "metadata": {
        "id": "5oRsYxfYLKSi",
        "outputId": "9f33dd5c-a6bc-49ae-eb59-8e46aaa7df9b",
        "colab": {
          "base_uri": "https://localhost:8080/"
        }
      },
      "id": "5oRsYxfYLKSi",
      "execution_count": null,
      "outputs": [
        {
          "output_type": "stream",
          "name": "stdout",
          "text": [
            "Normalizzazione completata | Max: 0.9996, Min: -0.9988\n",
            "Dataset pronto. Batch size: 128, Numero batch: 786\n"
          ]
        }
      ]
    },
    {
      "cell_type": "code",
      "source": [
        "gan_medium = GAN(**gan_params)\n",
        "\n",
        "training_arguments = {\n",
        "    \"dataloader\"            : dataloader,\n",
        "    \"epochs\"                : 45,\n",
        "    \"device\"                : device,\n",
        "    \"steps_each_print\"      : 10,\n",
        "    \"generator_steps\"       : 1,\n",
        "    \"discriminator_steps\"   : 1,\n",
        "}\n",
        "\n",
        "losses_discriminator, losses_generator = gan_medium.train(**training_arguments)"
      ],
      "metadata": {
        "id": "HS5_fBX9LQMa",
        "outputId": "dab31f64-fa91-4ed1-c26f-31a82a95424c",
        "colab": {
          "base_uri": "https://localhost:8080/"
        }
      },
      "id": "HS5_fBX9LQMa",
      "execution_count": null,
      "outputs": [
        {
          "output_type": "stream",
          "name": "stdout",
          "text": [
            "🚀 Avvio training per 45 epoche\n"
          ]
        },
        {
          "output_type": "stream",
          "name": "stderr",
          "text": [
            "D Loss: 1.2035, G Loss: 0.9590: 100%|██████████| 786/786 [00:34<00:00, 22.93it/s]\n"
          ]
        },
        {
          "output_type": "stream",
          "name": "stdout",
          "text": [
            "Epoch 1/45 | D Loss: 1.2146 | G Loss: 1.9147\n"
          ]
        },
        {
          "output_type": "stream",
          "name": "stderr",
          "text": [
            "D Loss: 0.5766, G Loss: 6.3620: 100%|██████████| 786/786 [00:34<00:00, 22.98it/s]\n"
          ]
        },
        {
          "output_type": "stream",
          "name": "stdout",
          "text": [
            "Epoch 2/45 | D Loss: 0.4592 | G Loss: 2.2456\n"
          ]
        },
        {
          "output_type": "stream",
          "name": "stderr",
          "text": [
            "D Loss: 0.1092, G Loss: 10.0459: 100%|██████████| 786/786 [00:34<00:00, 22.93it/s]\n"
          ]
        },
        {
          "output_type": "stream",
          "name": "stdout",
          "text": [
            "Epoch 3/45 | D Loss: 1.5219 | G Loss: 10.3114\n"
          ]
        },
        {
          "output_type": "stream",
          "name": "stderr",
          "text": [
            "D Loss: 0.0666, G Loss: 4.8014: 100%|██████████| 786/786 [00:34<00:00, 22.97it/s]\n"
          ]
        },
        {
          "output_type": "stream",
          "name": "stdout",
          "text": [
            "Epoch 4/45 | D Loss: 0.0357 | G Loss: 6.3553\n"
          ]
        },
        {
          "output_type": "stream",
          "name": "stderr",
          "text": [
            "D Loss: 1.4618, G Loss: -0.0805: 100%|██████████| 786/786 [00:34<00:00, 23.03it/s]\n"
          ]
        },
        {
          "output_type": "stream",
          "name": "stdout",
          "text": [
            "Epoch 5/45 | D Loss: 1.4649 | G Loss: -0.1298\n"
          ]
        },
        {
          "output_type": "stream",
          "name": "stderr",
          "text": [
            "D Loss: 1.4561, G Loss: 0.0250: 100%|██████████| 786/786 [00:34<00:00, 22.94it/s]\n"
          ]
        },
        {
          "output_type": "stream",
          "name": "stdout",
          "text": [
            "Epoch 6/45 | D Loss: 1.4008 | G Loss: -0.0273\n"
          ]
        },
        {
          "output_type": "stream",
          "name": "stderr",
          "text": [
            "D Loss: 0.4956, G Loss: 3.2437: 100%|██████████| 786/786 [00:34<00:00, 23.03it/s]\n"
          ]
        },
        {
          "output_type": "stream",
          "name": "stdout",
          "text": [
            "Epoch 7/45 | D Loss: 0.1209 | G Loss: 5.4666\n"
          ]
        },
        {
          "output_type": "stream",
          "name": "stderr",
          "text": [
            "D Loss: 0.1239, G Loss: 5.6489: 100%|██████████| 786/786 [00:34<00:00, 23.01it/s]\n"
          ]
        },
        {
          "output_type": "stream",
          "name": "stdout",
          "text": [
            "Epoch 8/45 | D Loss: 0.0798 | G Loss: 6.1432\n"
          ]
        },
        {
          "output_type": "stream",
          "name": "stderr",
          "text": [
            "D Loss: 0.0100, G Loss: 8.7207: 100%|██████████| 786/786 [00:34<00:00, 22.97it/s]\n"
          ]
        },
        {
          "output_type": "stream",
          "name": "stdout",
          "text": [
            "Epoch 9/45 | D Loss: 0.0330 | G Loss: 11.2077\n"
          ]
        },
        {
          "output_type": "stream",
          "name": "stderr",
          "text": [
            "D Loss: 1.3578, G Loss: -0.0506: 100%|██████████| 786/786 [00:34<00:00, 22.94it/s]\n"
          ]
        },
        {
          "output_type": "stream",
          "name": "stdout",
          "text": [
            "Epoch 10/45 | D Loss: 1.6095 | G Loss: -0.1594\n"
          ]
        },
        {
          "output_type": "stream",
          "name": "stderr",
          "text": [
            "D Loss: 1.1375, G Loss: 0.4775: 100%|██████████| 786/786 [00:34<00:00, 22.95it/s]\n"
          ]
        },
        {
          "output_type": "stream",
          "name": "stdout",
          "text": [
            "Epoch 11/45 | D Loss: 1.1950 | G Loss: 0.2154\n"
          ]
        },
        {
          "output_type": "stream",
          "name": "stderr",
          "text": [
            "D Loss: 0.1277, G Loss: 5.5947: 100%|██████████| 786/786 [00:34<00:00, 22.81it/s]\n"
          ]
        },
        {
          "output_type": "stream",
          "name": "stdout",
          "text": [
            "Epoch 12/45 | D Loss: 0.4215 | G Loss: 3.7365\n"
          ]
        },
        {
          "output_type": "stream",
          "name": "stderr",
          "text": [
            "D Loss: 0.2972, G Loss: 1.1923: 100%|██████████| 786/786 [00:34<00:00, 22.82it/s]\n"
          ]
        },
        {
          "output_type": "stream",
          "name": "stdout",
          "text": [
            "Epoch 13/45 | D Loss: 0.9429 | G Loss: 5.8566\n"
          ]
        },
        {
          "output_type": "stream",
          "name": "stderr",
          "text": [
            "D Loss: 0.9870, G Loss: 4.1940: 100%|██████████| 786/786 [00:34<00:00, 22.87it/s]\n"
          ]
        },
        {
          "output_type": "stream",
          "name": "stdout",
          "text": [
            "Epoch 14/45 | D Loss: 0.5903 | G Loss: 3.9972\n"
          ]
        },
        {
          "output_type": "stream",
          "name": "stderr",
          "text": [
            "D Loss: 0.4293, G Loss: 7.5486: 100%|██████████| 786/786 [00:34<00:00, 22.85it/s]\n"
          ]
        },
        {
          "output_type": "stream",
          "name": "stdout",
          "text": [
            "Epoch 15/45 | D Loss: 0.2830 | G Loss: 4.6128\n"
          ]
        },
        {
          "output_type": "stream",
          "name": "stderr",
          "text": [
            "D Loss: 0.4069, G Loss: 6.7630: 100%|██████████| 786/786 [00:34<00:00, 22.85it/s]\n"
          ]
        },
        {
          "output_type": "stream",
          "name": "stdout",
          "text": [
            "Epoch 16/45 | D Loss: 0.4779 | G Loss: 4.6378\n"
          ]
        },
        {
          "output_type": "stream",
          "name": "stderr",
          "text": [
            "D Loss: 0.4790, G Loss: 4.5129: 100%|██████████| 786/786 [00:34<00:00, 22.83it/s]\n"
          ]
        },
        {
          "output_type": "stream",
          "name": "stdout",
          "text": [
            "Epoch 17/45 | D Loss: 0.6804 | G Loss: 4.4053\n"
          ]
        },
        {
          "output_type": "stream",
          "name": "stderr",
          "text": [
            "D Loss: 0.5842, G Loss: 3.4281: 100%|██████████| 786/786 [00:34<00:00, 22.89it/s]\n"
          ]
        },
        {
          "output_type": "stream",
          "name": "stdout",
          "text": [
            "Epoch 18/45 | D Loss: 0.4240 | G Loss: 4.8344\n"
          ]
        },
        {
          "output_type": "stream",
          "name": "stderr",
          "text": [
            "D Loss: 1.0402, G Loss: 3.8883: 100%|██████████| 786/786 [00:34<00:00, 22.85it/s]\n"
          ]
        },
        {
          "output_type": "stream",
          "name": "stdout",
          "text": [
            "Epoch 19/45 | D Loss: 0.6553 | G Loss: 3.6330\n"
          ]
        },
        {
          "output_type": "stream",
          "name": "stderr",
          "text": [
            "D Loss: 0.8298, G Loss: 2.0458: 100%|██████████| 786/786 [00:34<00:00, 22.86it/s]\n"
          ]
        },
        {
          "output_type": "stream",
          "name": "stdout",
          "text": [
            "Epoch 20/45 | D Loss: 0.6103 | G Loss: 2.8505\n"
          ]
        },
        {
          "output_type": "stream",
          "name": "stderr",
          "text": [
            "D Loss: 0.6682, G Loss: 3.9173: 100%|██████████| 786/786 [00:34<00:00, 23.01it/s]\n"
          ]
        },
        {
          "output_type": "stream",
          "name": "stdout",
          "text": [
            "Epoch 21/45 | D Loss: 0.8099 | G Loss: 2.6350\n"
          ]
        },
        {
          "output_type": "stream",
          "name": "stderr",
          "text": [
            "D Loss: 0.7476, G Loss: 2.1053: 100%|██████████| 786/786 [00:34<00:00, 23.01it/s]\n"
          ]
        },
        {
          "output_type": "stream",
          "name": "stdout",
          "text": [
            "Epoch 22/45 | D Loss: 0.9940 | G Loss: 3.6103\n"
          ]
        },
        {
          "output_type": "stream",
          "name": "stderr",
          "text": [
            "D Loss: 0.7553, G Loss: 2.9914: 100%|██████████| 786/786 [00:34<00:00, 23.00it/s]\n"
          ]
        },
        {
          "output_type": "stream",
          "name": "stdout",
          "text": [
            "Epoch 23/45 | D Loss: 0.7168 | G Loss: 4.8805\n"
          ]
        },
        {
          "output_type": "stream",
          "name": "stderr",
          "text": [
            "D Loss: 0.9005, G Loss: 1.6799: 100%|██████████| 786/786 [00:34<00:00, 22.95it/s]\n"
          ]
        },
        {
          "output_type": "stream",
          "name": "stdout",
          "text": [
            "Epoch 24/45 | D Loss: 0.8839 | G Loss: 2.5319\n"
          ]
        },
        {
          "output_type": "stream",
          "name": "stderr",
          "text": [
            "D Loss: 0.8717, G Loss: 2.8209: 100%|██████████| 786/786 [00:34<00:00, 22.92it/s]\n"
          ]
        },
        {
          "output_type": "stream",
          "name": "stdout",
          "text": [
            "Epoch 25/45 | D Loss: 0.8265 | G Loss: 2.9725\n"
          ]
        },
        {
          "output_type": "stream",
          "name": "stderr",
          "text": [
            "D Loss: 0.8745, G Loss: 1.3445: 100%|██████████| 786/786 [00:34<00:00, 22.92it/s]\n"
          ]
        },
        {
          "output_type": "stream",
          "name": "stdout",
          "text": [
            "Epoch 26/45 | D Loss: 0.9904 | G Loss: 1.8699\n"
          ]
        },
        {
          "output_type": "stream",
          "name": "stderr",
          "text": [
            "D Loss: 0.8640, G Loss: 3.0151: 100%|██████████| 786/786 [00:34<00:00, 22.92it/s]\n"
          ]
        },
        {
          "output_type": "stream",
          "name": "stdout",
          "text": [
            "Epoch 27/45 | D Loss: 1.1750 | G Loss: 2.9490\n"
          ]
        },
        {
          "output_type": "stream",
          "name": "stderr",
          "text": [
            "D Loss: 1.1516, G Loss: 1.8408: 100%|██████████| 786/786 [00:34<00:00, 22.96it/s]\n"
          ]
        },
        {
          "output_type": "stream",
          "name": "stdout",
          "text": [
            "Epoch 28/45 | D Loss: 0.9813 | G Loss: 1.6521\n"
          ]
        },
        {
          "output_type": "stream",
          "name": "stderr",
          "text": [
            "D Loss: 1.2038, G Loss: 3.3694: 100%|██████████| 786/786 [00:34<00:00, 23.00it/s]\n"
          ]
        },
        {
          "output_type": "stream",
          "name": "stdout",
          "text": [
            "Epoch 29/45 | D Loss: 1.0917 | G Loss: 1.6626\n"
          ]
        },
        {
          "output_type": "stream",
          "name": "stderr",
          "text": [
            "D Loss: 1.2161, G Loss: 1.3577: 100%|██████████| 786/786 [00:34<00:00, 22.90it/s]\n"
          ]
        },
        {
          "output_type": "stream",
          "name": "stdout",
          "text": [
            "Epoch 30/45 | D Loss: 1.3529 | G Loss: 0.8330\n"
          ]
        },
        {
          "output_type": "stream",
          "name": "stderr",
          "text": [
            "D Loss: 1.1423, G Loss: 0.8916: 100%|██████████| 786/786 [00:34<00:00, 22.79it/s]\n"
          ]
        },
        {
          "output_type": "stream",
          "name": "stdout",
          "text": [
            "Epoch 31/45 | D Loss: 1.0685 | G Loss: 1.3449\n"
          ]
        },
        {
          "output_type": "stream",
          "name": "stderr",
          "text": [
            "D Loss: 1.3141, G Loss: 0.8012: 100%|██████████| 786/786 [00:34<00:00, 22.91it/s]\n"
          ]
        },
        {
          "output_type": "stream",
          "name": "stdout",
          "text": [
            "Epoch 32/45 | D Loss: 1.0970 | G Loss: 1.5527\n"
          ]
        },
        {
          "output_type": "stream",
          "name": "stderr",
          "text": [
            "D Loss: 1.8743, G Loss: 2.6158: 100%|██████████| 786/786 [00:34<00:00, 22.89it/s]\n"
          ]
        },
        {
          "output_type": "stream",
          "name": "stdout",
          "text": [
            "Epoch 33/45 | D Loss: 1.3801 | G Loss: 0.8121\n"
          ]
        },
        {
          "output_type": "stream",
          "name": "stderr",
          "text": [
            "D Loss: 1.3492, G Loss: 0.5672: 100%|██████████| 786/786 [00:34<00:00, 22.87it/s]\n"
          ]
        },
        {
          "output_type": "stream",
          "name": "stdout",
          "text": [
            "Epoch 34/45 | D Loss: 1.2429 | G Loss: 0.7685\n"
          ]
        },
        {
          "output_type": "stream",
          "name": "stderr",
          "text": [
            "D Loss: 1.1676, G Loss: 0.7953: 100%|██████████| 786/786 [00:34<00:00, 22.88it/s]\n"
          ]
        },
        {
          "output_type": "stream",
          "name": "stdout",
          "text": [
            "Epoch 35/45 | D Loss: 0.9100 | G Loss: 1.4185\n"
          ]
        },
        {
          "output_type": "stream",
          "name": "stderr",
          "text": [
            "D Loss: 1.0601, G Loss: 0.5675: 100%|██████████| 786/786 [00:34<00:00, 22.91it/s]\n"
          ]
        },
        {
          "output_type": "stream",
          "name": "stdout",
          "text": [
            "Epoch 36/45 | D Loss: 1.1476 | G Loss: 0.5561\n"
          ]
        },
        {
          "output_type": "stream",
          "name": "stderr",
          "text": [
            "D Loss: 1.0810, G Loss: 1.7918: 100%|██████████| 786/786 [00:34<00:00, 22.89it/s]\n"
          ]
        },
        {
          "output_type": "stream",
          "name": "stdout",
          "text": [
            "Epoch 37/45 | D Loss: 1.3859 | G Loss: 3.0856\n"
          ]
        },
        {
          "output_type": "stream",
          "name": "stderr",
          "text": [
            "D Loss: 1.3625, G Loss: 1.0363: 100%|██████████| 786/786 [00:34<00:00, 22.94it/s]\n"
          ]
        },
        {
          "output_type": "stream",
          "name": "stdout",
          "text": [
            "Epoch 38/45 | D Loss: 1.1439 | G Loss: 1.2202\n"
          ]
        },
        {
          "output_type": "stream",
          "name": "stderr",
          "text": [
            "D Loss: 1.2242, G Loss: 0.6989: 100%|██████████| 786/786 [00:34<00:00, 22.92it/s]\n"
          ]
        },
        {
          "output_type": "stream",
          "name": "stdout",
          "text": [
            "Epoch 39/45 | D Loss: 1.1424 | G Loss: 0.9419\n"
          ]
        },
        {
          "output_type": "stream",
          "name": "stderr",
          "text": [
            "D Loss: 1.3157, G Loss: 0.6495: 100%|██████████| 786/786 [00:34<00:00, 22.96it/s]\n"
          ]
        },
        {
          "output_type": "stream",
          "name": "stdout",
          "text": [
            "Epoch 40/45 | D Loss: 1.2449 | G Loss: 0.7595\n"
          ]
        },
        {
          "output_type": "stream",
          "name": "stderr",
          "text": [
            "D Loss: 1.2317, G Loss: -0.1971: 100%|██████████| 786/786 [00:34<00:00, 22.88it/s]\n"
          ]
        },
        {
          "output_type": "stream",
          "name": "stdout",
          "text": [
            "Epoch 41/45 | D Loss: 1.1876 | G Loss: 0.8848\n"
          ]
        },
        {
          "output_type": "stream",
          "name": "stderr",
          "text": [
            "D Loss: 1.2923, G Loss: 0.4758: 100%|██████████| 786/786 [00:34<00:00, 22.97it/s]\n"
          ]
        },
        {
          "output_type": "stream",
          "name": "stdout",
          "text": [
            "Epoch 42/45 | D Loss: 1.1134 | G Loss: 0.8613\n"
          ]
        },
        {
          "output_type": "stream",
          "name": "stderr",
          "text": [
            "D Loss: 1.4044, G Loss: 0.3714: 100%|██████████| 786/786 [00:34<00:00, 22.96it/s]\n"
          ]
        },
        {
          "output_type": "stream",
          "name": "stdout",
          "text": [
            "Epoch 43/45 | D Loss: 1.2942 | G Loss: 0.4475\n"
          ]
        },
        {
          "output_type": "stream",
          "name": "stderr",
          "text": [
            "D Loss: 1.2122, G Loss: 0.6281: 100%|██████████| 786/786 [00:34<00:00, 22.92it/s]\n"
          ]
        },
        {
          "output_type": "stream",
          "name": "stdout",
          "text": [
            "Epoch 44/45 | D Loss: 1.3446 | G Loss: 0.5987\n"
          ]
        },
        {
          "output_type": "stream",
          "name": "stderr",
          "text": [
            "D Loss: 1.3057, G Loss: 0.5521: 100%|██████████| 786/786 [00:34<00:00, 22.99it/s]"
          ]
        },
        {
          "output_type": "stream",
          "name": "stdout",
          "text": [
            "Epoch 45/45 | D Loss: 1.1636 | G Loss: 0.5369\n"
          ]
        },
        {
          "output_type": "stream",
          "name": "stderr",
          "text": [
            "\n"
          ]
        }
      ]
    },
    {
      "cell_type": "code",
      "source": [
        "\n",
        "iterations = list(range(1, len(losses_discriminator) + 1))\n",
        "\n",
        "plt.figure(figsize=(8, 5))\n",
        "plt.plot(iterations, losses_generator, label=\"Generatore\", color=\"blue\", linewidth=2)\n",
        "plt.plot(iterations, losses_discriminator, label=\"Discriminatore\", color=\"red\", linewidth=2)\n",
        "\n",
        "plt.xlabel(\"Iterazioni\")\n",
        "plt.ylabel(\"Loss\")\n",
        "plt.title(\"Andamento della Loss GAN Medium\")\n",
        "plt.legend()\n",
        "plt.grid(True)\n",
        "plt.tight_layout()\n",
        "plt.show()"
      ],
      "metadata": {
        "id": "TAtANdICcwG-",
        "outputId": "77d9ac1d-5d2b-4433-a982-c4516cfcaff2",
        "colab": {
          "base_uri": "https://localhost:8080/",
          "height": 507
        }
      },
      "id": "TAtANdICcwG-",
      "execution_count": null,
      "outputs": [
        {
          "output_type": "display_data",
          "data": {
            "text/plain": [
              "<Figure size 800x500 with 1 Axes>"
            ],
            "image/png": "[encoded data removed]"
          },
          "metadata": {}
        }
      ]
    },
    {
      "cell_type": "code",
      "source": [
        "torch.save(generator.state_dict(), \"generator_weights_medium.pth\")\n",
        "torch.save(discriminator.state_dict(), \"discriminator_weights_medium.pth\")\n",
        "generator_medium = generator\n",
        "discriminator_medium = discriminator"
      ],
      "metadata": {
        "id": "BngXUfR_MEoc"
      },
      "id": "BngXUfR_MEoc",
      "execution_count": null,
      "outputs": []
    },
    {
      "cell_type": "markdown",
      "source": [
        "## Trainig GAN Large"
      ],
      "metadata": {
        "id": "K_jvB6nyMLEH"
      },
      "id": "K_jvB6nyMLEH"
    },
    {
      "cell_type": "code",
      "source": [
        "generator = GeneratorLarge(**generator_config)\n",
        "discriminator = DiscriminatorLarge(**discriminator_config)\n",
        "\n",
        "gan_params = {\n",
        "    \"generator\"                : generator,\n",
        "    \"discriminator\"            : discriminator,\n",
        "    \"noise_dim\"                : noise_dim,\n",
        "    \"sequence_length\"          : seq_length,\n",
        "    \"tokenizer\"                : tokenizer,\n",
        "}\n",
        "\n",
        "\n",
        "# ===============================\n",
        "# PARAMETRI\n",
        "# ===============================\n",
        "device = torch.device(\"cuda\" if torch.cuda.is_available() else \"cpu\")\n",
        "torch.cuda.set_device(0) if torch.cuda.is_available() else None\n",
        "\n",
        "sequence_length = seq_length  # preso dalla configurazione generale\n",
        "batch_size = batch_size       # manteniamo il valore esistente\n",
        "\n",
        "# ===============================\n",
        "# PREPARAZIONE DATI\n",
        "# ===============================\n",
        "vocab_size = len(tokenizer)\n",
        "normalized_tokens = normalize_data(all_ids_train, vocab_size)\n",
        "\n",
        "print(f\"Normalizzazione completata | Max: {normalized_tokens.max():.4f}, Min: {normalized_tokens.min():.4f}\")\n",
        "\n",
        "# Creiamo sequenze della lunghezza richiesta\n",
        "sequences = [\n",
        "    normalized_tokens[i : i + sequence_length]\n",
        "    for i in range(0, len(normalized_tokens) - sequence_length, sequence_length)\n",
        "]\n",
        "\n",
        "# Dataset e DataLoader\n",
        "dataset = TokenDataset(sequences)\n",
        "dataloader = DataLoader(\n",
        "    dataset,\n",
        "    batch_size=batch_size,\n",
        "    shuffle=True,\n",
        "    drop_last=True,\n",
        "    num_workers=4\n",
        ")\n",
        "\n",
        "# Test rapido GPU\n",
        "_ = torch.ones(1, device=device)\n",
        "print(f\"Dataset pronto. Batch size: {batch_size}, Numero batch: {len(dataloader)}\")"
      ],
      "metadata": {
        "id": "9lNN423ALMGP",
        "outputId": "6a06bb20-7801-4e63-bdf0-95ed1ea08206",
        "colab": {
          "base_uri": "https://localhost:8080/"
        }
      },
      "id": "9lNN423ALMGP",
      "execution_count": null,
      "outputs": [
        {
          "output_type": "stream",
          "name": "stdout",
          "text": [
            "Normalizzazione completata | Max: 0.9996, Min: -0.9988\n",
            "Dataset pronto. Batch size: 128, Numero batch: 786\n"
          ]
        }
      ]
    },
    {
      "cell_type": "code",
      "source": [
        "gan_large = GAN(**gan_params)\n",
        "\n",
        "training_arguments = {\n",
        "    \"dataloader\"            : dataloader,\n",
        "    \"epochs\"                : 45,\n",
        "    \"device\"                : device,\n",
        "    \"steps_each_print\"      : 10,\n",
        "    \"generator_steps\"       : 1,\n",
        "    \"discriminator_steps\"   : 1,\n",
        "}\n",
        "\n",
        "losses_discriminator, losses_generator = gan_large.train(**training_arguments)"
      ],
      "metadata": {
        "id": "ShyXVWalLRlf",
        "outputId": "1581ca97-124a-4923-af62-9bcef0404a9d",
        "colab": {
          "base_uri": "https://localhost:8080/"
        }
      },
      "id": "ShyXVWalLRlf",
      "execution_count": null,
      "outputs": [
        {
          "output_type": "stream",
          "name": "stdout",
          "text": [
            "🚀 Avvio training per 45 epoche\n"
          ]
        },
        {
          "output_type": "stream",
          "name": "stderr",
          "text": [
            "D Loss: 1.9957, G Loss: -0.0852: 100%|██████████| 786/786 [02:04<00:00,  6.29it/s]\n"
          ]
        },
        {
          "output_type": "stream",
          "name": "stdout",
          "text": [
            "Epoch 1/45 | D Loss: 1.1195 | G Loss: 0.4055\n"
          ]
        },
        {
          "output_type": "stream",
          "name": "stderr",
          "text": [
            "D Loss: 0.1150, G Loss: 4.2387: 100%|██████████| 786/786 [02:04<00:00,  6.29it/s]\n"
          ]
        },
        {
          "output_type": "stream",
          "name": "stdout",
          "text": [
            "Epoch 2/45 | D Loss: 0.1002 | G Loss: 6.0682\n"
          ]
        },
        {
          "output_type": "stream",
          "name": "stderr",
          "text": [
            "D Loss: 0.0169, G Loss: 10.2058: 100%|██████████| 786/786 [02:04<00:00,  6.29it/s]\n"
          ]
        },
        {
          "output_type": "stream",
          "name": "stdout",
          "text": [
            "Epoch 3/45 | D Loss: 0.0475 | G Loss: 10.0639\n"
          ]
        },
        {
          "output_type": "stream",
          "name": "stderr",
          "text": [
            "D Loss: 0.1495, G Loss: 5.8103: 100%|██████████| 786/786 [02:04<00:00,  6.29it/s]\n"
          ]
        },
        {
          "output_type": "stream",
          "name": "stdout",
          "text": [
            "Epoch 4/45 | D Loss: 0.0593 | G Loss: 4.1184\n"
          ]
        },
        {
          "output_type": "stream",
          "name": "stderr",
          "text": [
            "D Loss: 1.4024, G Loss: 0.0457: 100%|██████████| 786/786 [02:05<00:00,  6.27it/s]\n"
          ]
        },
        {
          "output_type": "stream",
          "name": "stdout",
          "text": [
            "Epoch 5/45 | D Loss: 1.4760 | G Loss: -0.1166\n"
          ]
        },
        {
          "output_type": "stream",
          "name": "stderr",
          "text": [
            "D Loss: 1.4112, G Loss: -0.0795: 100%|██████████| 786/786 [02:05<00:00,  6.26it/s]\n"
          ]
        },
        {
          "output_type": "stream",
          "name": "stdout",
          "text": [
            "Epoch 6/45 | D Loss: 1.4223 | G Loss: -0.0988\n"
          ]
        },
        {
          "output_type": "stream",
          "name": "stderr",
          "text": [
            "D Loss: 1.4175, G Loss: 0.0425: 100%|██████████| 786/786 [02:05<00:00,  6.26it/s]\n"
          ]
        },
        {
          "output_type": "stream",
          "name": "stdout",
          "text": [
            "Epoch 7/45 | D Loss: 1.3605 | G Loss: 0.3271\n"
          ]
        },
        {
          "output_type": "stream",
          "name": "stderr",
          "text": [
            "D Loss: 1.3967, G Loss: 0.2757: 100%|██████████| 786/786 [02:05<00:00,  6.26it/s]\n"
          ]
        },
        {
          "output_type": "stream",
          "name": "stdout",
          "text": [
            "Epoch 8/45 | D Loss: 1.2872 | G Loss: 0.4230\n"
          ]
        },
        {
          "output_type": "stream",
          "name": "stderr",
          "text": [
            "D Loss: 0.8027, G Loss: 5.5401: 100%|██████████| 786/786 [02:05<00:00,  6.29it/s]\n"
          ]
        },
        {
          "output_type": "stream",
          "name": "stdout",
          "text": [
            "Epoch 9/45 | D Loss: 1.2968 | G Loss: 0.7298\n"
          ]
        },
        {
          "output_type": "stream",
          "name": "stderr",
          "text": [
            "D Loss: 1.4125, G Loss: 0.0272: 100%|██████████| 786/786 [02:04<00:00,  6.30it/s]\n"
          ]
        },
        {
          "output_type": "stream",
          "name": "stdout",
          "text": [
            "Epoch 10/45 | D Loss: 1.3866 | G Loss: 0.1215\n"
          ]
        },
        {
          "output_type": "stream",
          "name": "stderr",
          "text": [
            "D Loss: 1.3788, G Loss: 0.1111: 100%|██████████| 786/786 [02:05<00:00,  6.29it/s]\n"
          ]
        },
        {
          "output_type": "stream",
          "name": "stdout",
          "text": [
            "Epoch 11/45 | D Loss: 1.3907 | G Loss: 0.1392\n"
          ]
        },
        {
          "output_type": "stream",
          "name": "stderr",
          "text": [
            "D Loss: 0.0739, G Loss: 5.0122: 100%|██████████| 786/786 [02:05<00:00,  6.28it/s]\n"
          ]
        },
        {
          "output_type": "stream",
          "name": "stdout",
          "text": [
            "Epoch 12/45 | D Loss: 0.0680 | G Loss: 5.1737\n"
          ]
        },
        {
          "output_type": "stream",
          "name": "stderr",
          "text": [
            "D Loss: 0.4236, G Loss: 5.5924: 100%|██████████| 786/786 [02:04<00:00,  6.29it/s]\n"
          ]
        },
        {
          "output_type": "stream",
          "name": "stdout",
          "text": [
            "Epoch 13/45 | D Loss: 0.1315 | G Loss: 4.4269\n"
          ]
        },
        {
          "output_type": "stream",
          "name": "stderr",
          "text": [
            "D Loss: 0.6166, G Loss: 9.4852: 100%|██████████| 786/786 [02:04<00:00,  6.29it/s]\n"
          ]
        },
        {
          "output_type": "stream",
          "name": "stdout",
          "text": [
            "Epoch 14/45 | D Loss: 0.5510 | G Loss: 6.1761\n"
          ]
        },
        {
          "output_type": "stream",
          "name": "stderr",
          "text": [
            "D Loss: 0.6916, G Loss: 7.1055: 100%|██████████| 786/786 [02:04<00:00,  6.29it/s]\n"
          ]
        },
        {
          "output_type": "stream",
          "name": "stdout",
          "text": [
            "Epoch 15/45 | D Loss: 0.6327 | G Loss: 2.9876\n"
          ]
        },
        {
          "output_type": "stream",
          "name": "stderr",
          "text": [
            "D Loss: 1.0725, G Loss: 7.6796: 100%|██████████| 786/786 [02:04<00:00,  6.29it/s]\n"
          ]
        },
        {
          "output_type": "stream",
          "name": "stdout",
          "text": [
            "Epoch 16/45 | D Loss: 0.5712 | G Loss: 4.7084\n"
          ]
        },
        {
          "output_type": "stream",
          "name": "stderr",
          "text": [
            "D Loss: 0.6433, G Loss: 4.9170: 100%|██████████| 786/786 [02:04<00:00,  6.29it/s]\n"
          ]
        },
        {
          "output_type": "stream",
          "name": "stdout",
          "text": [
            "Epoch 17/45 | D Loss: 0.6717 | G Loss: 4.8489\n"
          ]
        },
        {
          "output_type": "stream",
          "name": "stderr",
          "text": [
            "D Loss: 0.8063, G Loss: 4.1024: 100%|██████████| 786/786 [02:04<00:00,  6.29it/s]\n"
          ]
        },
        {
          "output_type": "stream",
          "name": "stdout",
          "text": [
            "Epoch 18/45 | D Loss: 0.6949 | G Loss: 4.1180\n"
          ]
        },
        {
          "output_type": "stream",
          "name": "stderr",
          "text": [
            "D Loss: 0.9090, G Loss: 2.3135: 100%|██████████| 786/786 [02:04<00:00,  6.30it/s]\n"
          ]
        },
        {
          "output_type": "stream",
          "name": "stdout",
          "text": [
            "Epoch 19/45 | D Loss: 0.8872 | G Loss: 3.3123\n"
          ]
        },
        {
          "output_type": "stream",
          "name": "stderr",
          "text": [
            "D Loss: 0.9942, G Loss: 0.5691: 100%|██████████| 786/786 [02:04<00:00,  6.30it/s]\n"
          ]
        },
        {
          "output_type": "stream",
          "name": "stdout",
          "text": [
            "Epoch 20/45 | D Loss: 0.9511 | G Loss: 3.3896\n"
          ]
        },
        {
          "output_type": "stream",
          "name": "stderr",
          "text": [
            "D Loss: 1.2504, G Loss: 0.8329: 100%|██████████| 786/786 [02:04<00:00,  6.30it/s]\n"
          ]
        },
        {
          "output_type": "stream",
          "name": "stdout",
          "text": [
            "Epoch 21/45 | D Loss: 0.9332 | G Loss: 3.5106\n"
          ]
        },
        {
          "output_type": "stream",
          "name": "stderr",
          "text": [
            "D Loss: 1.1819, G Loss: 1.7164: 100%|██████████| 786/786 [02:04<00:00,  6.30it/s]\n"
          ]
        },
        {
          "output_type": "stream",
          "name": "stdout",
          "text": [
            "Epoch 22/45 | D Loss: 1.2547 | G Loss: 1.2473\n"
          ]
        },
        {
          "output_type": "stream",
          "name": "stderr",
          "text": [
            "D Loss: 0.8097, G Loss: 2.1610: 100%|██████████| 786/786 [02:04<00:00,  6.29it/s]\n"
          ]
        },
        {
          "output_type": "stream",
          "name": "stdout",
          "text": [
            "Epoch 23/45 | D Loss: 0.8592 | G Loss: 1.6487\n"
          ]
        },
        {
          "output_type": "stream",
          "name": "stderr",
          "text": [
            "D Loss: 1.0430, G Loss: 1.7194: 100%|██████████| 786/786 [02:04<00:00,  6.30it/s]\n"
          ]
        },
        {
          "output_type": "stream",
          "name": "stdout",
          "text": [
            "Epoch 24/45 | D Loss: 0.9818 | G Loss: 1.3190\n"
          ]
        },
        {
          "output_type": "stream",
          "name": "stderr",
          "text": [
            "D Loss: 0.8856, G Loss: 2.8406: 100%|██████████| 786/786 [02:04<00:00,  6.30it/s]\n"
          ]
        },
        {
          "output_type": "stream",
          "name": "stdout",
          "text": [
            "Epoch 25/45 | D Loss: 0.8757 | G Loss: 2.2462\n"
          ]
        },
        {
          "output_type": "stream",
          "name": "stderr",
          "text": [
            "D Loss: 1.0338, G Loss: 0.5117: 100%|██████████| 786/786 [02:04<00:00,  6.30it/s]\n"
          ]
        },
        {
          "output_type": "stream",
          "name": "stdout",
          "text": [
            "Epoch 26/45 | D Loss: 0.8704 | G Loss: 2.0517\n"
          ]
        },
        {
          "output_type": "stream",
          "name": "stderr",
          "text": [
            "D Loss: 0.8643, G Loss: 2.1496: 100%|██████████| 786/786 [02:04<00:00,  6.30it/s]\n"
          ]
        },
        {
          "output_type": "stream",
          "name": "stdout",
          "text": [
            "Epoch 27/45 | D Loss: 0.9857 | G Loss: 2.5728\n"
          ]
        },
        {
          "output_type": "stream",
          "name": "stderr",
          "text": [
            "D Loss: 0.8656, G Loss: 1.6705: 100%|██████████| 786/786 [02:04<00:00,  6.30it/s]\n"
          ]
        },
        {
          "output_type": "stream",
          "name": "stdout",
          "text": [
            "Epoch 28/45 | D Loss: 1.1541 | G Loss: 0.8785\n"
          ]
        },
        {
          "output_type": "stream",
          "name": "stderr",
          "text": [
            "D Loss: 1.0232, G Loss: 1.5417: 100%|██████████| 786/786 [02:04<00:00,  6.30it/s]\n"
          ]
        },
        {
          "output_type": "stream",
          "name": "stdout",
          "text": [
            "Epoch 29/45 | D Loss: 1.0106 | G Loss: 1.0693\n"
          ]
        },
        {
          "output_type": "stream",
          "name": "stderr",
          "text": [
            "D Loss: 1.1316, G Loss: 0.7989: 100%|██████████| 786/786 [02:04<00:00,  6.29it/s]\n"
          ]
        },
        {
          "output_type": "stream",
          "name": "stdout",
          "text": [
            "Epoch 30/45 | D Loss: 1.0007 | G Loss: 1.4105\n"
          ]
        },
        {
          "output_type": "stream",
          "name": "stderr",
          "text": [
            "D Loss: 1.1075, G Loss: 0.7814: 100%|██████████| 786/786 [02:04<00:00,  6.30it/s]\n"
          ]
        },
        {
          "output_type": "stream",
          "name": "stdout",
          "text": [
            "Epoch 31/45 | D Loss: 0.9473 | G Loss: 1.3517\n"
          ]
        },
        {
          "output_type": "stream",
          "name": "stderr",
          "text": [
            "D Loss: 1.2121, G Loss: 1.7093: 100%|██████████| 786/786 [02:05<00:00,  6.29it/s]\n"
          ]
        },
        {
          "output_type": "stream",
          "name": "stdout",
          "text": [
            "Epoch 32/45 | D Loss: 1.2752 | G Loss: 1.0780\n"
          ]
        },
        {
          "output_type": "stream",
          "name": "stderr",
          "text": [
            "D Loss: 1.1416, G Loss: 0.9812: 100%|██████████| 786/786 [02:04<00:00,  6.29it/s]\n"
          ]
        },
        {
          "output_type": "stream",
          "name": "stdout",
          "text": [
            "Epoch 33/45 | D Loss: 1.1755 | G Loss: 0.2465\n"
          ]
        },
        {
          "output_type": "stream",
          "name": "stderr",
          "text": [
            "D Loss: 1.3082, G Loss: 0.5555: 100%|██████████| 786/786 [02:04<00:00,  6.29it/s]\n"
          ]
        },
        {
          "output_type": "stream",
          "name": "stdout",
          "text": [
            "Epoch 34/45 | D Loss: 1.3760 | G Loss: 0.4315\n"
          ]
        },
        {
          "output_type": "stream",
          "name": "stderr",
          "text": [
            "D Loss: 1.3274, G Loss: 0.2262: 100%|██████████| 786/786 [02:04<00:00,  6.30it/s]\n"
          ]
        },
        {
          "output_type": "stream",
          "name": "stdout",
          "text": [
            "Epoch 35/45 | D Loss: 1.2397 | G Loss: 0.6939\n"
          ]
        },
        {
          "output_type": "stream",
          "name": "stderr",
          "text": [
            "D Loss: 1.1977, G Loss: 0.7857: 100%|██████████| 786/786 [02:04<00:00,  6.30it/s]\n"
          ]
        },
        {
          "output_type": "stream",
          "name": "stdout",
          "text": [
            "Epoch 36/45 | D Loss: 1.3071 | G Loss: 0.3936\n"
          ]
        },
        {
          "output_type": "stream",
          "name": "stderr",
          "text": [
            "D Loss: 1.1588, G Loss: 1.2000: 100%|██████████| 786/786 [02:04<00:00,  6.30it/s]\n"
          ]
        },
        {
          "output_type": "stream",
          "name": "stdout",
          "text": [
            "Epoch 37/45 | D Loss: 1.4355 | G Loss: 1.7444\n"
          ]
        },
        {
          "output_type": "stream",
          "name": "stderr",
          "text": [
            "D Loss: 1.4511, G Loss: 0.2546: 100%|██████████| 786/786 [02:04<00:00,  6.30it/s]\n"
          ]
        },
        {
          "output_type": "stream",
          "name": "stdout",
          "text": [
            "Epoch 38/45 | D Loss: 1.2776 | G Loss: 0.5962\n"
          ]
        },
        {
          "output_type": "stream",
          "name": "stderr",
          "text": [
            "D Loss: 1.1821, G Loss: 0.2961: 100%|██████████| 786/786 [02:04<00:00,  6.29it/s]\n"
          ]
        },
        {
          "output_type": "stream",
          "name": "stdout",
          "text": [
            "Epoch 39/45 | D Loss: 1.2023 | G Loss: 0.4751\n"
          ]
        },
        {
          "output_type": "stream",
          "name": "stderr",
          "text": [
            "D Loss: 1.2070, G Loss: 0.5831: 100%|██████████| 786/786 [02:04<00:00,  6.30it/s]\n"
          ]
        },
        {
          "output_type": "stream",
          "name": "stdout",
          "text": [
            "Epoch 40/45 | D Loss: 1.5012 | G Loss: -0.5120\n"
          ]
        },
        {
          "output_type": "stream",
          "name": "stderr",
          "text": [
            "D Loss: 1.3937, G Loss: 0.1918: 100%|██████████| 786/786 [02:04<00:00,  6.30it/s]\n"
          ]
        },
        {
          "output_type": "stream",
          "name": "stdout",
          "text": [
            "Epoch 41/45 | D Loss: 1.3448 | G Loss: 0.3230\n"
          ]
        },
        {
          "output_type": "stream",
          "name": "stderr",
          "text": [
            "D Loss: 1.2516, G Loss: 0.4672: 100%|██████████| 786/786 [02:04<00:00,  6.30it/s]\n"
          ]
        },
        {
          "output_type": "stream",
          "name": "stdout",
          "text": [
            "Epoch 42/45 | D Loss: 1.1023 | G Loss: 0.9817\n"
          ]
        },
        {
          "output_type": "stream",
          "name": "stderr",
          "text": [
            "D Loss: 1.3516, G Loss: 0.2080: 100%|██████████| 786/786 [02:04<00:00,  6.30it/s]\n"
          ]
        },
        {
          "output_type": "stream",
          "name": "stdout",
          "text": [
            "Epoch 43/45 | D Loss: 1.4177 | G Loss: 0.1650\n"
          ]
        },
        {
          "output_type": "stream",
          "name": "stderr",
          "text": [
            "D Loss: 1.3731, G Loss: 0.4499: 100%|██████████| 786/786 [02:04<00:00,  6.30it/s]\n"
          ]
        },
        {
          "output_type": "stream",
          "name": "stdout",
          "text": [
            "Epoch 44/45 | D Loss: 1.4711 | G Loss: 0.0354\n"
          ]
        },
        {
          "output_type": "stream",
          "name": "stderr",
          "text": [
            "D Loss: 1.3963, G Loss: 0.1633: 100%|██████████| 786/786 [02:04<00:00,  6.30it/s]"
          ]
        },
        {
          "output_type": "stream",
          "name": "stdout",
          "text": [
            "Epoch 45/45 | D Loss: 1.3550 | G Loss: 0.1989\n"
          ]
        },
        {
          "output_type": "stream",
          "name": "stderr",
          "text": [
            "\n"
          ]
        }
      ]
    },
    {
      "cell_type": "code",
      "source": [
        "\n",
        "iterations = list(range(1, len(losses_discriminator) + 1))\n",
        "\n",
        "plt.figure(figsize=(8, 5))\n",
        "plt.plot(iterations, losses_generator, label=\"Generatore\", color=\"blue\", linewidth=2)\n",
        "plt.plot(iterations, losses_discriminator, label=\"Discriminatore\", color=\"red\", linewidth=2)\n",
        "\n",
        "plt.xlabel(\"Iterazioni\")\n",
        "plt.ylabel(\"Loss\")\n",
        "plt.title(\"Andamento della Loss GAN Large\")\n",
        "plt.legend()\n",
        "plt.grid(True)\n",
        "plt.tight_layout()\n",
        "plt.show()"
      ],
      "metadata": {
        "id": "50MSVoffUkoA",
        "outputId": "a4e80879-4285-48ad-b3c3-ddc5ed75841b",
        "colab": {
          "base_uri": "https://localhost:8080/",
          "height": 507
        }
      },
      "id": "50MSVoffUkoA",
      "execution_count": null,
      "outputs": [
        {
          "output_type": "display_data",
          "data": {
            "text/plain": [
              "<Figure size 800x500 with 1 Axes>"
            ],
            "image/png": "[encoded data removed]"
          },
          "metadata": {}
        }
      ]
    },
    {
      "cell_type": "code",
      "source": [
        "torch.save(generator.state_dict(), \"generator_weights_large.pth\")\n",
        "torch.save(discriminator.state_dict(), \"discriminator_weights_large.pth\")\n",
        "generator_large = generator\n",
        "discriminator_large = discriminator"
      ],
      "metadata": {
        "id": "U50Hry18rFWq"
      },
      "id": "U50Hry18rFWq",
      "execution_count": null,
      "outputs": []
    },
    {
      "cell_type": "markdown",
      "source": [
        "per caricare"
      ],
      "metadata": {
        "id": "F46-GSkgrOYn"
      },
      "id": "F46-GSkgrOYn"
    },
    {
      "cell_type": "code",
      "source": [
        "generator = Generator(**generator_config)\n",
        "generator.load_state_dict(torch.load(\"generator_weights.pth\"))\n",
        "generator.eval()\n",
        "\n",
        "discriminator = Discriminator(**discriminator_config)\n",
        "discriminator.load_state_dict(torch.load(\"discriminator_weights.pth\"))\n",
        "discriminator.eval()\n"
      ],
      "metadata": {
        "id": "2WJddEd8rNjg"
      },
      "id": "2WJddEd8rNjg",
      "execution_count": null,
      "outputs": []
    },
    {
      "cell_type": "markdown",
      "source": [
        "## Generate Music\n",
        "\n",
        "Below are generated folders and 150 midi files for all 3 trained models."
      ],
      "metadata": {
        "id": "m-iYDvzCP0B1"
      },
      "id": "m-iYDvzCP0B1"
    },
    {
      "cell_type": "code",
      "source": [
        "noise_dim = 512  # Noise vector size\n",
        "\n",
        "def generate_noise(batch_size: int, device: torch.device) -> torch.Tensor:\n",
        "    return torch.randn(batch_size, noise_dim, device=device)\n",
        "\n",
        "def predict_sequences(generator: torch.nn.Module, n_samples: int, device: torch.device):\n",
        "    noise_batch = generate_noise(n_samples, device)\n",
        "    return generator(noise_batch).cpu().detach().numpy()\n",
        "\n",
        "def generate_midi_files(generator: torch.nn.Module, n_samples: int, output_prefix: str, device: torch.device):\n",
        "    # Generate normalized sequences\n",
        "    normalized_outputs = predict_sequences(generator, n_samples, device)\n",
        "\n",
        "    # Boundary calculation to map normalized values ​​to original tokens\n",
        "    boundary = len(tokenizer) // 2\n",
        "    token_sequences = [output * boundary + boundary for output in normalized_outputs]\n",
        "\n",
        "    for i, sequence in enumerate(token_sequences):\n",
        "        tokens = sequence.astype(np.int32)\n",
        "\n",
        "        # Replace any out-of-vocabulary values\n",
        "        tokens[tokens == len(tokenizer)] = 0\n",
        "\n",
        "        try:\n",
        "            decoded_midi = tokenizer.decode([tokens])\n",
        "            file_path = f\"{output_prefix}_{i}.mid\"\n",
        "            decoded_midi.dump_midi(file_path)\n",
        "            print(f\"MIDI generate: {file_path}\")\n",
        "        except Exception as e:\n",
        "            print(f\"Error generating MIDI for sample {i}: {e}\")\n"
      ],
      "metadata": {
        "id": "K3uRn2PBVbAH"
      },
      "id": "K3uRn2PBVbAH",
      "execution_count": null,
      "outputs": []
    },
    {
      "cell_type": "code",
      "source": [
        "\n",
        "num_midi_files = 150\n",
        "\n",
        "output_folder = \"generated_mini\"\n",
        "output_prefix = f\"{output_folder}/generated_midi\"\n",
        "\n",
        "os.makedirs(output_folder, exist_ok=True)\n",
        "\n",
        "sample_normalized_outputs = predict_sequences(generator_mini, 2, device)\n",
        "token_boundary = len(tokenizer) // 2\n",
        "sample_token_sequences = [seq * token_boundary + token_boundary for seq in sample_normalized_outputs]\n",
        "\n",
        "generate_midi_files(\n",
        "    generator=generator_mini,\n",
        "    n_samples=num_midi_files,\n",
        "    output_prefix=output_prefix,\n",
        "    device=device,\n",
        ")\n"
      ],
      "metadata": {
        "id": "PbJ_VlEfVgWj"
      },
      "id": "PbJ_VlEfVgWj",
      "execution_count": null,
      "outputs": []
    },
    {
      "cell_type": "code",
      "source": [
        "num_midi_files = 150\n",
        "\n",
        "output_folder = \"generated_medium\"\n",
        "output_prefix = f\"{output_folder}/generated_midi\"\n",
        "\n",
        "os.makedirs(output_folder, exist_ok=True)\n",
        "\n",
        "sample_normalized_outputs = predict_sequences(generator_medium, 2, device)\n",
        "token_boundary = len(tokenizer) // 2\n",
        "sample_token_sequences = [seq * token_boundary + token_boundary for seq in sample_normalized_outputs]\n",
        "\n",
        "generate_midi_files(\n",
        "    generator=generator_medium,\n",
        "    n_samples=num_midi_files,\n",
        "    output_prefix=output_prefix,\n",
        "    device=device,\n",
        ")"
      ],
      "metadata": {
        "id": "usYASEHPVCdv"
      },
      "id": "usYASEHPVCdv",
      "execution_count": null,
      "outputs": []
    },
    {
      "cell_type": "code",
      "source": [
        "num_midi_files = 150\n",
        "\n",
        "output_folder = \"generated_large\"\n",
        "output_prefix = f\"{output_folder}/generated_midi\"\n",
        "\n",
        "os.makedirs(output_folder, exist_ok=True)\n",
        "\n",
        "sample_normalized_outputs = predict_sequences(generator_large, 2, device)\n",
        "token_boundary = len(tokenizer) // 2\n",
        "sample_token_sequences = [seq * token_boundary + token_boundary for seq in sample_normalized_outputs]\n",
        "\n",
        "generate_midi_files(\n",
        "    generator=generator_large,\n",
        "    n_samples=num_midi_files,\n",
        "    output_prefix=output_prefix,\n",
        "    device=device,\n",
        ")"
      ],
      "metadata": {
        "id": "TtBOSCLSVIQH"
      },
      "id": "TtBOSCLSVIQH",
      "execution_count": null,
      "outputs": []
    },
    {
      "cell_type": "code",
      "source": [
        "!zip -r genereted_mini.zip generated_mini\n",
        "!zip -r genereted_medium.zip generated_medium\n",
        "!zip -r genereted_large.zip generated_large"
      ],
      "metadata": {
        "id": "fVnnwvtMrfc7"
      },
      "id": "fVnnwvtMrfc7",
      "execution_count": null,
      "outputs": []
    },
    {
      "cell_type": "markdown",
      "source": [
        "VALUTARE prestazioni"
      ],
      "metadata": {
        "id": "W9k13OCur68G"
      },
      "id": "W9k13OCur68G"
    },
    {
      "cell_type": "code",
      "source": [
        "!gdown --id 1t9BCZUrk_Io0ayouCly-KPLmjSGy5bBP"
      ],
      "metadata": {
        "id": "7miRRCTFc5Qr"
      },
      "id": "7miRRCTFc5Qr",
      "execution_count": null,
      "outputs": []
    },
    {
      "cell_type": "code",
      "source": [
        "!unzip genereted_mini.zip\n",
        "!unzip genereted_medium.zip\n",
        "!unzip genereted_large.zip"
      ],
      "metadata": {
        "id": "twbhlfGkdm4l"
      },
      "id": "twbhlfGkdm4l",
      "execution_count": null,
      "outputs": []
    },
    {
      "cell_type": "code",
      "source": [
        "def pitch_count(notes):\n",
        "    \"\"\"\n",
        "    notes: list of int (pitch values)\n",
        "    \"\"\"\n",
        "    return len(notes)\n",
        "\n",
        "\n",
        "def note_density(notes, total_duration_sec):\n",
        "    \"\"\"\n",
        "    notes: list of notes\n",
        "    total_duration_sec: duration of piece in seconds\n",
        "    \"\"\"\n",
        "    return len(notes) / total_duration_sec if total_duration_sec > 0 else 0\n",
        "\n",
        "def rote_memorization_frequency(notes, pattern_length=3):\n",
        "    \"\"\"\n",
        "    Return average number of repetitions for note patterns of length `pattern_length`\n",
        "    \"\"\"\n",
        "    patterns = [tuple(notes[i:i+pattern_length]) for i in range(len(notes)-pattern_length+1)]\n",
        "    counts = Counter(patterns)\n",
        "    repeated = [count for pattern, count in counts.items() if count > 1]\n",
        "    return np.mean(repeated) if repeated else 0\n",
        "\n",
        "def pitch_intervals(notes):\n",
        "    \"\"\"\n",
        "    Returns average absolute pitch interval between consecutive notes\n",
        "    \"\"\"\n",
        "    if len(notes) < 2:\n",
        "        return 0\n",
        "    intervals = [abs(notes[i] - notes[i-1]) for i in range(1, len(notes))]\n",
        "    return np.mean(intervals)\n",
        "\n",
        "def pitch_class_histogram(notes):\n",
        "    \"\"\"\n",
        "    Returns normalized histogram over 12 pitch classes\n",
        "    \"\"\"\n",
        "    hist = np.zeros(12)\n",
        "    for pitch in notes:\n",
        "        hist[pitch % 12] += 1\n",
        "    total = np.sum(hist)\n",
        "    return hist / total if total > 0 else hist\n",
        "\n",
        "\n",
        "def extract_notes_from_midi(file_path):\n",
        "    mid = mido.MidiFile(file_path)\n",
        "    notes = []\n",
        "    total_time = 0.0\n",
        "\n",
        "    for track in mid.tracks:\n",
        "        time_accum = 0\n",
        "        for msg in track:\n",
        "            time_accum += msg.time\n",
        "            if msg.type == 'note_on' and msg.velocity > 0:\n",
        "                notes.append(msg.note)  # pitch MIDI\n",
        "        total_time = max(total_time, time_accum * mid.ticks_per_beat)\n",
        "    duration_sec = mid.length\n",
        "    return notes, duration_sec\n",
        "\n",
        "\n",
        "# --- WRAPPER FUNSION ---\n",
        "def pitch_count_from_midi(file_path):\n",
        "    notes, _ = extract_notes_from_midi(file_path)\n",
        "    return pitch_count(notes)\n",
        "\n",
        "def note_density_from_midi(file_path):\n",
        "    notes, duration_sec = extract_notes_from_midi(file_path)\n",
        "    return note_density(notes, duration_sec)\n",
        "\n",
        "def rote_memorization_frequency_from_midi(file_path, pattern_length=3):\n",
        "    notes, _ = extract_notes_from_midi(file_path)\n",
        "    return rote_memorization_frequency(notes, pattern_length)\n",
        "\n",
        "def pitch_intervals_from_midi(file_path):\n",
        "    notes, _ = extract_notes_from_midi(file_path)\n",
        "    return pitch_intervals(notes)\n",
        "\n",
        "def pitch_class_histogram_from_midi(file_path):\n",
        "    notes, _ = extract_notes_from_midi(file_path)\n",
        "    return pitch_class_histogram(notes)\n"
      ],
      "metadata": {
        "id": "eMDf1KpbT5YM"
      },
      "id": "eMDf1KpbT5YM",
      "execution_count": null,
      "outputs": []
    },
    {
      "cell_type": "code",
      "source": [
        "\n",
        "def run_function_on_folder(folder_path, func):\n",
        "    \"\"\"\n",
        "      Runs a function (MIDI wrapper) on all MIDI files in a folder.\n",
        "\n",
        "      Parameters:\n",
        "      folder_path (str): path to the MIDI folder\n",
        "      func (callable): wrapper function that accepts a file_path\n",
        "\n",
        "      Returns:\n",
        "      np.ndarray: results for each MIDI file\n",
        "    \"\"\"\n",
        "    results = []\n",
        "    midi_files = [f for f in os.listdir(folder_path) if f.lower().endswith((\".mid\", \".midi\"))]\n",
        "\n",
        "    for fname in midi_files:\n",
        "        file_path = os.path.join(folder_path, fname)\n",
        "        try:\n",
        "            result = func(file_path)\n",
        "            results.append(result)\n",
        "        except Exception as e:\n",
        "            print(f\"Errore con {fname}: {e}\")\n",
        "            results.append(None)\n",
        "\n",
        "    return np.array(results, dtype=object)\n"
      ],
      "metadata": {
        "id": "IrzKgXlAWKEY"
      },
      "id": "IrzKgXlAWKEY",
      "execution_count": null,
      "outputs": []
    },
    {
      "cell_type": "code",
      "source": [
        "def kld(p, q):\n",
        "    \"\"\"\n",
        "    Kullback-Leibler Divergence between distributions p and q\n",
        "    p, q: numpy arrays representing probability distributions\n",
        "    \"\"\"\n",
        "    p = np.asarray(p, dtype=np.float64) + 1e-12\n",
        "    q = np.asarray(q, dtype=np.float64) + 1e-12\n",
        "    p /= p.sum()\n",
        "    q /= q.sum()\n",
        "    return np.sum(rel_entr(p, q))\n",
        "\n",
        "def make_distribution(values, bins=50, range=None):\n",
        "    hist, _ = np.histogram(values, bins=bins, range=range, density=False)\n",
        "    hist = hist.astype(float)\n",
        "    return hist / hist.sum() if hist.sum() > 0 else hist\n",
        "\n",
        "def real_run_function_on_folder(real_folder):\n",
        "    results = {}\n",
        "    real_pc = run_function_on_folder(real_folder, pitch_count_from_midi)\n",
        "    real_nd = run_function_on_folder(real_folder, note_density_from_midi)\n",
        "    real_rm = run_function_on_folder(real_folder, rote_memorization_frequency_from_midi)\n",
        "    real_pi = run_function_on_folder(real_folder, pitch_intervals_from_midi)\n",
        "    real_hist = np.mean(run_function_on_folder(real_folder, pitch_class_histogram_from_midi), axis=0)\n",
        "\n",
        "    results[\"pitch_count\"] = real_pc\n",
        "    results[\"note_density\"] = real_nd\n",
        "    results[\"rote_memorization_frequency\"] = real_rm\n",
        "    results[\"pitch_intervals\"] = real_pi\n",
        "    results[\"pitch_class_histogram\"] = real_hist\n",
        "\n",
        "    return results\n",
        "\n",
        "def compare_folders_with_kld(real_result, generated_folder):\n",
        "    results = {}\n",
        "\n",
        "    gen_pc  = run_function_on_folder(generated_folder, pitch_count_from_midi)\n",
        "    results[\"pitch_count\"] = kld(make_distribution(real_result[\"pitch_count\"]), make_distribution(gen_pc))\n",
        "\n",
        "    gen_nd  = run_function_on_folder(generated_folder, note_density_from_midi)\n",
        "    results[\"note_density\"] = kld(make_distribution(real_result[\"note_density\"]), make_distribution(gen_nd))\n",
        "\n",
        "    gen_rm  = run_function_on_folder(generated_folder, rote_memorization_frequency_from_midi)\n",
        "    results[\"rote_memorization_frequency\"] = kld(make_distribution(real_result[\"rote_memorization_frequency\"]), make_distribution(gen_rm))\n",
        "\n",
        "    gen_pi  = run_function_on_folder(generated_folder, pitch_intervals_from_midi)\n",
        "    results[\"pitch_intervals\"] = kld(make_distribution(real_result[\"pitch_intervals\"]), make_distribution(gen_pi))\n",
        "\n",
        "    gen_hist  = np.mean(run_function_on_folder(generated_folder, pitch_class_histogram_from_midi), axis=0)\n",
        "    results[\"pitch_class_histogram\"] = kld(real_result[\"pitch_class_histogram\"], gen_hist)\n",
        "\n",
        "    return results\n"
      ],
      "metadata": {
        "id": "oArdUPEkwql5"
      },
      "id": "oArdUPEkwql5",
      "execution_count": null,
      "outputs": []
    },
    {
      "cell_type": "code",
      "source": [
        "generated_mini_folder = \"/content/generated_mini\"\n",
        "generated_medium_folder = \"/content/generated_medium\"\n",
        "generated_large_folder = \"/content/generated_large\"\n",
        "real_folder = \"/content/dataset_midi\"\n",
        "\n",
        "real_result = real_run_function_on_folder(real_folder)\n",
        "\n",
        "results_mini = compare_folders_with_kld(real_result, generated_mini_folder)\n",
        "results_medium = compare_folders_with_kld(real_result, generated_medium_folder)\n",
        "results_large = compare_folders_with_kld(real_result, generated_large_folder)\n",
        "\n",
        "print(\"Result mini:\")\n",
        "for key, value in results_mini.items():\n",
        "    print(f\"{key}: KLD = {value:.4f}\")\n",
        "\n",
        "print(\"Result medium:\")\n",
        "for key, value in results_medium.items():\n",
        "    print(f\"{key}: KLD = {value:.4f}\")\n",
        "\n",
        "print(\"Result large:\")\n",
        "for key, value in results_large.items():\n",
        "    print(f\"{key}: KLD = {value:.4f}\")"
      ],
      "metadata": {
        "id": "fPAqknZhxJ_S",
        "colab": {
          "base_uri": "https://localhost:8080/"
        },
        "outputId": "0a97f333-518e-40c5-e0ac-cbe87efb7dd5"
      },
      "id": "fPAqknZhxJ_S",
      "execution_count": null,
      "outputs": [
        {
          "output_type": "stream",
          "name": "stdout",
          "text": [
            "Result mini:\n",
            "pitch_count: KLD = 9.7215\n",
            "note_density: KLD = 2.0253\n",
            "rote_memorization_frequency: KLD = 24.6687\n",
            "pitch_intervals: KLD = 6.8957\n",
            "pitch_class_histogram: KLD = 0.0002\n",
            "Result medium:\n",
            "pitch_count: KLD = 8.0558\n",
            "note_density: KLD = 3.0364\n",
            "rote_memorization_frequency: KLD = 24.6687\n",
            "pitch_intervals: KLD = 3.8790\n",
            "pitch_class_histogram: KLD = 0.0010\n",
            "Result large:\n",
            "pitch_count: KLD = 5.8909\n",
            "note_density: KLD = 4.9309\n",
            "rote_memorization_frequency: KLD = 24.6687\n",
            "pitch_intervals: KLD = 1.9860\n",
            "pitch_class_histogram: KLD = 0.0006\n"
          ]
        }
      ]
    },
    {
      "cell_type": "code",
      "source": [
        "metrics = list(results_mini.keys())\n",
        "values_mini = list(results_mini.values())\n",
        "values_medium = list(results_medium.values())\n",
        "values_large = list(results_large.values())\n",
        "\n",
        "plt.figure(figsize=(10,6))\n",
        "plt.plot(metrics, values_mini, marker=\"o\", label=\"Mini\")\n",
        "plt.plot(metrics, values_medium, marker=\"o\", label=\"Medium\")\n",
        "plt.plot(metrics, values_large, marker=\"o\", label=\"Large\")\n",
        "\n",
        "plt.ylabel(\"KLD\")\n",
        "plt.title(\"Confronto KLD tra Mini, Medium e Large\")\n",
        "plt.legend()\n",
        "plt.grid(True)\n",
        "plt.tight_layout()\n",
        "plt.show()"
      ],
      "metadata": {
        "id": "S60LohMRx0zj",
        "outputId": "500d8b79-d0ae-49f1-fdac-bc2518d2181c",
        "colab": {
          "base_uri": "https://localhost:8080/",
          "height": 607
        }
      },
      "id": "S60LohMRx0zj",
      "execution_count": null,
      "outputs": [
        {
          "output_type": "display_data",
          "data": {
            "text/plain": [
              "<Figure size 1000x600 with 1 Axes>"
            ],
            "image/png": "[encoded data removed]"
          },
          "metadata": {}
        }
      ]
    }
  ],
  "metadata": {
    "kernelspec": {
      "display_name": "Python 3",
      "name": "python3"
    },
    "language_info": {
      "codemirror_mode": {
        "name": "ipython",
        "version": 2
      },
      "file_extension": ".py",
      "mimetype": "text/x-python",
      "name": "python",
      "nbconvert_exporter": "python",
      "pygments_lexer": "ipython2",
      "version": "2.7.6"
    },
    "colab": {
      "provenance": [],
      "machine_shape": "hm",
      "gpuType": "A100"
    },
    "accelerator": "GPU"
  },
  "nbformat": 4,
  "nbformat_minor": 5
}