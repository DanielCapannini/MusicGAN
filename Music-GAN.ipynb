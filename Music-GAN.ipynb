{
  "cells": [
    {
      "metadata": {
        "id": "4dee78dd72077f79"
      },
      "cell_type": "markdown",
      "source": [
        "# MIDI music generation with GAN\n",
        "\n",
        "Notebook presented for the A.A. 2023/2024 Deep Learning project.\n",
        "\n",
        "Daniel Capannini - daniel.capannini@studio.unibo.it\n",
        "\n",
        "In this notebook, GANs with different sized structures will be compared and the results obtained will be compared.\n",
        "\n",
        "---\n",
        "\n",
        "Below is the download of the dataset and installation of the libraries used."
      ],
      "id": "4dee78dd72077f79"
    },
    {
      "cell_type": "code",
      "source": [
        "!pip install miditok\n",
        "!pip install pretty_midi\n",
        "!pip install -q gdown"
      ],
      "metadata": {
        "id": "AqOIVfaDzibR",
        "outputId": "27db2db6-0e51-467f-bf13-86bf0923079d",
        "colab": {
          "base_uri": "https://localhost:8080/"
        }
      },
      "id": "AqOIVfaDzibR",
      "execution_count": 1,
      "outputs": [
        {
          "output_type": "stream",
          "name": "stdout",
          "text": [
            "Collecting miditok\n",
            "  Downloading miditok-3.0.6.post1-py3-none-any.whl.metadata (10 kB)\n",
            "Requirement already satisfied: huggingface-hub>=0.16.4 in /usr/local/lib/python3.12/dist-packages (from miditok) (0.35.0)\n",
            "Requirement already satisfied: numpy>=1.19 in /usr/local/lib/python3.12/dist-packages (from miditok) (2.0.2)\n",
            "Collecting symusic>=0.5.0 (from miditok)\n",
            "  Downloading symusic-0.5.8-cp312-cp312-manylinux_2_27_x86_64.manylinux_2_28_x86_64.whl.metadata (9.0 kB)\n",
            "Requirement already satisfied: tokenizers>=0.13.0 in /usr/local/lib/python3.12/dist-packages (from miditok) (0.22.0)\n",
            "Requirement already satisfied: tqdm in /usr/local/lib/python3.12/dist-packages (from miditok) (4.67.1)\n",
            "Requirement already satisfied: filelock in /usr/local/lib/python3.12/dist-packages (from huggingface-hub>=0.16.4->miditok) (3.19.1)\n",
            "Requirement already satisfied: fsspec>=2023.5.0 in /usr/local/lib/python3.12/dist-packages (from huggingface-hub>=0.16.4->miditok) (2025.3.0)\n",
            "Requirement already satisfied: packaging>=20.9 in /usr/local/lib/python3.12/dist-packages (from huggingface-hub>=0.16.4->miditok) (25.0)\n",
            "Requirement already satisfied: pyyaml>=5.1 in /usr/local/lib/python3.12/dist-packages (from huggingface-hub>=0.16.4->miditok) (6.0.2)\n",
            "Requirement already satisfied: requests in /usr/local/lib/python3.12/dist-packages (from huggingface-hub>=0.16.4->miditok) (2.32.4)\n",
            "Requirement already satisfied: typing-extensions>=3.7.4.3 in /usr/local/lib/python3.12/dist-packages (from huggingface-hub>=0.16.4->miditok) (4.15.0)\n",
            "Requirement already satisfied: hf-xet<2.0.0,>=1.1.3 in /usr/local/lib/python3.12/dist-packages (from huggingface-hub>=0.16.4->miditok) (1.1.10)\n",
            "Collecting pySmartDL (from symusic>=0.5.0->miditok)\n",
            "  Downloading pySmartDL-1.3.4-py3-none-any.whl.metadata (2.8 kB)\n",
            "Requirement already satisfied: platformdirs in /usr/local/lib/python3.12/dist-packages (from symusic>=0.5.0->miditok) (4.4.0)\n",
            "Requirement already satisfied: charset_normalizer<4,>=2 in /usr/local/lib/python3.12/dist-packages (from requests->huggingface-hub>=0.16.4->miditok) (3.4.3)\n",
            "Requirement already satisfied: idna<4,>=2.5 in /usr/local/lib/python3.12/dist-packages (from requests->huggingface-hub>=0.16.4->miditok) (3.10)\n",
            "Requirement already satisfied: urllib3<3,>=1.21.1 in /usr/local/lib/python3.12/dist-packages (from requests->huggingface-hub>=0.16.4->miditok) (2.5.0)\n",
            "Requirement already satisfied: certifi>=2017.4.17 in /usr/local/lib/python3.12/dist-packages (from requests->huggingface-hub>=0.16.4->miditok) (2025.8.3)\n",
            "Downloading miditok-3.0.6.post1-py3-none-any.whl (159 kB)\n",
            "\u001b[2K   \u001b[90m━━━━━━━━━━━━━━━━━━━━━━━━━━━━━━━━━━━━━━━━\u001b[0m \u001b[32m159.0/159.0 kB\u001b[0m \u001b[31m2.3 MB/s\u001b[0m eta \u001b[36m0:00:00\u001b[0m\n",
            "\u001b[?25hDownloading symusic-0.5.8-cp312-cp312-manylinux_2_27_x86_64.manylinux_2_28_x86_64.whl (2.5 MB)\n",
            "\u001b[2K   \u001b[90m━━━━━━━━━━━━━━━━━━━━━━━━━━━━━━━━━━━━━━━━\u001b[0m \u001b[32m2.5/2.5 MB\u001b[0m \u001b[31m8.0 MB/s\u001b[0m eta \u001b[36m0:00:00\u001b[0m\n",
            "\u001b[?25hDownloading pySmartDL-1.3.4-py3-none-any.whl (20 kB)\n",
            "Installing collected packages: pySmartDL, symusic, miditok\n",
            "Successfully installed miditok-3.0.6.post1 pySmartDL-1.3.4 symusic-0.5.8\n",
            "Collecting pretty_midi\n",
            "  Downloading pretty_midi-0.2.10.tar.gz (5.6 MB)\n",
            "\u001b[2K     \u001b[90m━━━━━━━━━━━━━━━━━━━━━━━━━━━━━━━━━━━━━━━━\u001b[0m \u001b[32m5.6/5.6 MB\u001b[0m \u001b[31m27.5 MB/s\u001b[0m eta \u001b[36m0:00:00\u001b[0m\n",
            "\u001b[?25h  Preparing metadata (setup.py) ... \u001b[?25l\u001b[?25hdone\n",
            "Requirement already satisfied: numpy>=1.7.0 in /usr/local/lib/python3.12/dist-packages (from pretty_midi) (2.0.2)\n",
            "Collecting mido>=1.1.16 (from pretty_midi)\n",
            "  Downloading mido-1.3.3-py3-none-any.whl.metadata (6.4 kB)\n",
            "Requirement already satisfied: six in /usr/local/lib/python3.12/dist-packages (from pretty_midi) (1.17.0)\n",
            "Requirement already satisfied: packaging in /usr/local/lib/python3.12/dist-packages (from mido>=1.1.16->pretty_midi) (25.0)\n",
            "Downloading mido-1.3.3-py3-none-any.whl (54 kB)\n",
            "\u001b[2K   \u001b[90m━━━━━━━━━━━━━━━━━━━━━━━━━━━━━━━━━━━━━━━━\u001b[0m \u001b[32m54.6/54.6 kB\u001b[0m \u001b[31m3.6 MB/s\u001b[0m eta \u001b[36m0:00:00\u001b[0m\n",
            "\u001b[?25hBuilding wheels for collected packages: pretty_midi\n",
            "  Building wheel for pretty_midi (setup.py) ... \u001b[?25l\u001b[?25hdone\n",
            "  Created wheel for pretty_midi: filename=pretty_midi-0.2.10-py3-none-any.whl size=5592286 sha256=2d281428f42aca16cd749c8f6a2015f36ed3232fc12ecfdbd2f829c24ccccb83\n",
            "  Stored in directory: /root/.cache/pip/wheels/a4/f9/9e/08350c27e386558df0ae234e28a8facd145ba45506ddd1b989\n",
            "Successfully built pretty_midi\n",
            "Installing collected packages: mido, pretty_midi\n",
            "Successfully installed mido-1.3.3 pretty_midi-0.2.10\n"
          ]
        }
      ]
    },
    {
      "cell_type": "code",
      "source": [
        "import os\n",
        "import shutil\n",
        "from pathlib import Path\n",
        "import numpy as np\n",
        "from IPython.display import Audio, display\n",
        "from miditok import REMI, TokenizerConfig\n",
        "from pathlib import Path\n",
        "from miditok.data_augmentation import augment_dataset\n",
        "from miditok.utils import split_files_for_training\n",
        "from random import shuffle\n",
        "import json\n",
        "from tqdm import tqdm\n",
        "import torch\n",
        "import torch.nn as nn\n",
        "from torch.utils.data import DataLoader, Dataset\n",
        "import pretty_midi\n",
        "import matplotlib.pyplot as plt\n",
        "import glob\n",
        "from collections import Counter\n",
        "from scipy.special import rel_entr\n",
        "import cupy as cp\n",
        "\n",
        "np.random.seed(42)"
      ],
      "metadata": {
        "id": "vHlq93Nkv4KI"
      },
      "id": "vHlq93Nkv4KI",
      "execution_count": 2,
      "outputs": []
    },
    {
      "cell_type": "markdown",
      "source": [
        "## dataset\n",
        "\n",
        "the dataset used is [MAESTRO dataset](https://magenta.withgoogle.com/datasets/maestro), which contains a collection of MIDIs from different piano performances.\n",
        "\n",
        "New folder is created with all the MIDI files of the dataset."
      ],
      "metadata": {
        "id": "x3CSoKUiTO4N"
      },
      "id": "x3CSoKUiTO4N"
    },
    {
      "cell_type": "code",
      "execution_count": null,
      "id": "initial_id",
      "metadata": {
        "collapsed": true,
        "id": "initial_id"
      },
      "outputs": [],
      "source": [
        "!wget https://storage.googleapis.com/magentadata/datasets/maestro/v3.0.0/maestro-v3.0.0-midi.zip\n",
        "!unzip 'maestro-v3.0.0-midi.zip'\n",
        "!rm 'maestro-v3.0.0-midi.zip'\n",
        "dataset_path = \"maestro-v3.0.0\""
      ]
    },
    {
      "cell_type": "code",
      "source": [
        "destination_folder = \"dataset_midi\"\n",
        "os.makedirs(destination_folder, exist_ok=True)\n",
        "\n",
        "midi_paths = list(Path(dataset_path).resolve().glob(\"**/*.mid\")) + \\\n",
        "             list(Path(dataset_path).resolve().glob(\"**/*.midi\"))\n",
        "\n",
        "print(f\"Trovati {len(midi_paths)} file MIDI.\")\n",
        "\n",
        "for midi_path in midi_paths:\n",
        "    filename = os.path.basename(midi_path)\n",
        "    destination_path = os.path.join(destination_folder, filename)\n",
        "    shutil.copy2(midi_path, destination_path)\n",
        "\n",
        "print(\"Copia completata in 'dataset_midi'.\")\n",
        "\n",
        "midi_paths = [Path(os.path.join(destination_folder, os.path.basename(p))) for p in midi_paths]"
      ],
      "metadata": {
        "id": "9GwSOJl1v4iX",
        "outputId": "f9677a4d-167b-4222-f0a7-0cbd33e9c5f0",
        "colab": {
          "base_uri": "https://localhost:8080/"
        }
      },
      "id": "9GwSOJl1v4iX",
      "execution_count": null,
      "outputs": [
        {
          "output_type": "stream",
          "name": "stdout",
          "text": [
            "Trovati 1276 file MIDI.\n",
            "Copia completata in 'dataset_midi'.\n"
          ]
        }
      ]
    },
    {
      "cell_type": "markdown",
      "source": [
        "## Data Analisis\n",
        "\n",
        "A MIDI (Musical Instrument Digital Interface) file is a digital file format that stores instructions for playing music rather than the actual audio itself. Instead of containing recorded sound, a MIDI file includes data such as which notes are played, their duration, pitch, intensity, and the instruments to be used. This makes MIDI files very lightweight and versatile, as they can be played back on different devices and instruments, often sounding different depending on the sound library or synthesizer used."
      ],
      "metadata": {
        "id": "lRcd22wiUpgW"
      },
      "id": "lRcd22wiUpgW"
    },
    {
      "cell_type": "code",
      "source": [
        "midi = pretty_midi.PrettyMIDI(\"/content/dataset_midi/MIDI-UNPROCESSED_01-03_R1_2014_MID--AUDIO_01_R1_2014_wav--1.midi\")\n",
        "\n",
        "print(\"Estimated time:\", midi.estimate_tempo())\n",
        "\n",
        "fs = 100\n",
        "piano_roll = midi.get_piano_roll(fs=fs)\n",
        "\n",
        "plt.figure(figsize=(12, 6))\n",
        "plt.imshow(piano_roll[::-1], aspect='auto', cmap='inferno',\n",
        "           extent=[0, piano_roll.shape[1]/fs, 0, 128])\n",
        "plt.xlabel(\"Time (s)\")\n",
        "plt.ylabel(\"Pitch (MIDI note number)\")\n",
        "plt.title(\"Piano Roll of the MIDI file\")\n",
        "plt.colorbar(label=\"Velocity\")\n",
        "plt.show()\n"
      ],
      "metadata": {
        "id": "0phf27TuVTOv",
        "outputId": "e0cd2e18-1d2a-4311-8ee6-586e26c78773",
        "colab": {
          "base_uri": "https://localhost:8080/",
          "height": 581
        }
      },
      "id": "0phf27TuVTOv",
      "execution_count": null,
      "outputs": [
        {
          "output_type": "stream",
          "name": "stdout",
          "text": [
            "Estimated time: 199.94214636968422\n"
          ]
        },
        {
          "output_type": "display_data",
          "data": {
            "text/plain": [
              "<Figure size 1200x600 with 2 Axes>"
            ],
            "image/png": "[encoded data removed]"
          },
          "metadata": {}
        }
      ]
    },
    {
      "cell_type": "markdown",
      "source": [
        "## Tokenizzazione\n",
        "\n",
        "MIDI was not used directly for training, but was first tokenized using a tokenizer, which was trained below.\n",
        "\n",
        "A tokenizer is a tool that converts raw MIDI data into a sequence of tokens that the AI ​​model can understand.\n",
        "\n",
        "In the context of MIDI tokenization, each token represents a specific musical element or event, such as a note, velocity, or duration. These tokens serve as a \"vocabulary\" for the model, allowing it to learn and generate music."
      ],
      "metadata": {
        "id": "khqg4LwWxXks"
      },
      "id": "khqg4LwWxXks"
    },
    {
      "cell_type": "code",
      "source": [
        "BEAT_RES = {(0, 1): 12, (1, 2): 4, (2, 4): 2, (4, 8): 1}\n",
        "TOKENIZER_PARAMS = {\n",
        "    \"pitch_range\": (21, 109),\n",
        "    \"beat_res\": BEAT_RES,\n",
        "    \"num_velocities\": 3,\n",
        "    \"special_tokens\": [\"BOS\", \"EOS\"],\n",
        "    \"use_chords\": True,\n",
        "    \"use_rests\": True,\n",
        "    \"use_tempos\": True,\n",
        "    \"num_tempos\": 8,\n",
        "    \"tempo_range\": (50, 200),\n",
        "}"
      ],
      "metadata": {
        "id": "k5xNJ-Nwytpv"
      },
      "id": "k5xNJ-Nwytpv",
      "execution_count": null,
      "outputs": []
    },
    {
      "cell_type": "markdown",
      "source": [
        "The pitch_range limits tokens to the realistic span of a piano, avoiding unnecessary notes. The beat_res dictionary defines different time resolutions across measures, ensuring fine rhythmic detail where it matters and coarser granularity elsewhere, which keeps the sequence length manageable. Velocity values are reduced to just three discrete levels, simplifying dynamics while preserving expressive contrast. Special tokens like BOS and EOS mark the start and end of sequences. Enabling chords, rests, and tempos provides richer musical structure, while the tempo values are quantized into eight categories within a practical BPM range. Altogether, these parameters create a compact yet musically meaningful vocabulary, making it easier for a model to learn and generate coherent music."
      ],
      "metadata": {
        "id": "t2lwzozp5bKa"
      },
      "id": "t2lwzozp5bKa"
    },
    {
      "cell_type": "code",
      "source": [
        "midi_dir = Path(destination_folder)\n",
        "midis = list(midi_dir.glob(\"**/*.mid\")) + list(midi_dir.glob(\"**/*.midi\"))\n",
        "\n",
        "if not midis:\n",
        "    raise FileNotFoundError(\"Nessun file MIDI trovato in 'dataset_midi'.\")"
      ],
      "metadata": {
        "id": "a-uHmibbyxO1"
      },
      "id": "a-uHmibbyxO1",
      "execution_count": null,
      "outputs": []
    },
    {
      "cell_type": "markdown",
      "source": [
        "##Train tokenizer"
      ],
      "metadata": {
        "id": "L0zmtYEhy1q3"
      },
      "id": "L0zmtYEhy1q3"
    },
    {
      "cell_type": "code",
      "source": [
        "config = TokenizerConfig(**TOKENIZER_PARAMS)\n",
        "\n",
        "tokenizer = REMI(config)\n",
        "\n",
        "vocab_size = 5000\n",
        "tokenizer.train(vocab_size=vocab_size, files_paths=midis)\n",
        "processed = [Path(f\"{s}\") for s in midis]\n",
        "print(len(processed))"
      ],
      "metadata": {
        "id": "1iluHLhjy4RT"
      },
      "id": "1iluHLhjy4RT",
      "execution_count": null,
      "outputs": []
    },
    {
      "cell_type": "code",
      "source": [
        "tokenizer.save(\"tokenizerMIDI\")"
      ],
      "metadata": {
        "id": "XiHnHE95Q6wg"
      },
      "id": "XiHnHE95Q6wg",
      "execution_count": null,
      "outputs": []
    },
    {
      "cell_type": "markdown",
      "source": [
        "## download tokenizer\n",
        "\n",
        "execute the next 2 cells to skip tokenizer training"
      ],
      "metadata": {
        "id": "nN1O-6eOTz5j"
      },
      "id": "nN1O-6eOTz5j"
    },
    {
      "cell_type": "code",
      "source": [
        "!gdown --id 12der1lMHfMyMbGWImONehL_43AoECyzB"
      ],
      "metadata": {
        "id": "OSsYeAP2Tm0C",
        "outputId": "1bded2e4-b1a1-46ec-97af-765bb38bd145",
        "colab": {
          "base_uri": "https://localhost:8080/"
        }
      },
      "id": "OSsYeAP2Tm0C",
      "execution_count": null,
      "outputs": [
        {
          "output_type": "stream",
          "name": "stdout",
          "text": [
            "/usr/local/lib/python3.12/dist-packages/gdown/__main__.py:140: FutureWarning: Option `--id` was deprecated in version 4.3.1 and will be removed in 5.0. You don't need to pass it anymore to use a file ID.\n",
            "  warnings.warn(\n",
            "Downloading...\n",
            "From: https://drive.google.com/uc?id=12der1lMHfMyMbGWImONehL_43AoECyzB\n",
            "To: /content/tokenizer (2).json\n",
            "100% 271k/271k [00:00<00:00, 125MB/s]\n"
          ]
        }
      ]
    },
    {
      "cell_type": "code",
      "source": [
        "tokenizer = REMI(params=\"tokenizer (2).json\")"
      ],
      "metadata": {
        "id": "GSnNChioTnTp"
      },
      "id": "GSnNChioTnTp",
      "execution_count": null,
      "outputs": []
    },
    {
      "cell_type": "markdown",
      "source": [
        "## Dataset preparation\n",
        "\n",
        "organizes a MIDI dataset by collecting all MIDI files, splitting them into train/validation subsets, and then applying preprocessing steps. Specifically, it chunks the training and validation files into sequences suitable for modeling, applies data augmentation (pitch, velocity, duration variations), and finally reloads the processed files for each subset."
      ],
      "metadata": {
        "id": "PXUg4P5Wsv7P"
      },
      "id": "PXUg4P5Wsv7P"
    },
    {
      "cell_type": "code",
      "source": [
        "\n",
        "base_dir = Path(\"/content/dataset_midi\").resolve()\n",
        "\n",
        "midis = list(base_dir.glob(\"**/*.mid\")) + list(base_dir.glob(\"**/*.midi\"))\n",
        "midis = [midi.resolve() for midi in midis]\n",
        "\n",
        "total_num_files = len(midis)\n",
        "num_files_test = round(total_num_files * 0.20)\n",
        "\n",
        "np.random.shuffle(midis)\n",
        "\n",
        "midi_paths_test = midis[:num_files_test]\n",
        "midi_paths_train = midis[num_files_test:]\n",
        "\n",
        "train_dir = Path(\"dataset_train\")\n",
        "test_dir = Path(\"dataset_test\")\n",
        "train_dir.mkdir(parents=True, exist_ok=True)\n",
        "test_dir.mkdir(parents=True, exist_ok=True)\n",
        "\n",
        "for src_path in midi_paths_train:\n",
        "    shutil.copy(src_path, train_dir / src_path.name)\n",
        "\n",
        "for src_path in midi_paths_test:\n",
        "    shutil.copy(src_path, test_dir / src_path.name)\n",
        "\n",
        "for files_paths, subset_name in (\n",
        "    (midi_paths_train, \"train\"),\n",
        "    (midi_paths_test, \"test\")\n",
        "):\n",
        "    subset_chunks_dir = Path(f\"Maestro_{subset_name}\")\n",
        "\n",
        "    split_files_for_training(\n",
        "        files_paths=files_paths,\n",
        "        tokenizer=tokenizer,\n",
        "        save_dir=subset_chunks_dir,\n",
        "        max_seq_len=1024,\n",
        "        num_overlap_bars=2,\n",
        "    )\n",
        "\n",
        "    augment_dataset(\n",
        "        subset_chunks_dir,\n",
        "        pitch_offsets=[-12, 12],\n",
        "        velocity_offsets=[-3, 3],\n",
        "        duration_offsets=[-0.5, 0.5],\n",
        "    )\n",
        "\n",
        "midi_paths_train = list(Path(\"Maestro_train\").glob(\"**/*.mid\")) + list(Path(\"Maestro_train\").glob(\"**/*.midi\"))\n",
        "midi_paths_test = list(Path(\"Maestro_test\").glob(\"**/*.mid\")) + list(Path(\"Maestro_test\").glob(\"**/*.midi\"))\n"
      ],
      "metadata": {
        "colab": {
          "base_uri": "https://localhost:8080/"
        },
        "id": "2hkiZsj7s1Wj",
        "outputId": "810137b4-691a-4c60-8db2-50e91c21d806"
      },
      "id": "2hkiZsj7s1Wj",
      "execution_count": null,
      "outputs": [
        {
          "output_type": "stream",
          "name": "stderr",
          "text": [
            "Splitting music files (Maestro_train): 100%|██████████| 1021/1021 [00:05<00:00, 200.12it/s]\n",
            "Performing data augmentation: 100%|██████████| 9709/9709 [00:17<00:00, 541.69it/s]\n",
            "Splitting music files (Maestro_test): 100%|██████████| 255/255 [00:01<00:00, 193.17it/s]\n",
            "Performing data augmentation: 100%|██████████| 2532/2532 [00:04<00:00, 558.05it/s]\n"
          ]
        }
      ]
    },
    {
      "cell_type": "code",
      "source": [
        "!zip -r dataset_train.zip dataset_train\n",
        "!zip -r dataset_test.zip dataset_test"
      ],
      "metadata": {
        "id": "lTQfSvwcYvqL"
      },
      "id": "lTQfSvwcYvqL",
      "execution_count": null,
      "outputs": []
    },
    {
      "cell_type": "markdown",
      "source": [
        "All MIDI files from the training and testing set are tokenized so they can be used to train the GAN."
      ],
      "metadata": {
        "id": "PUUhVT1AzX5r"
      },
      "id": "PUUhVT1AzX5r"
    },
    {
      "cell_type": "code",
      "source": [
        "def midi_valid(midi) -> bool:\n",
        "    if any(ts.numerator != 4 for ts in midi.time_signature_changes):\n",
        "        return False  # time signature different from 4/*, 4 beats per bar\n",
        "    return True\n",
        "\n",
        "if os.path.exists(\"tokenized\"):\n",
        "  shutil.rmtree(\"tokenized\")\n",
        "\n",
        "for dir in (\"train\", \"test\"):\n",
        "    tokenizer.tokenize_dataset(\n",
        "        Path(f\"Maestro_{dir}\").resolve(),\n",
        "        Path(f\"tokenized_{dir}\").resolve(),\n",
        "        midi_valid,\n",
        "    )"
      ],
      "metadata": {
        "id": "FsxdQ0WUzbHB",
        "outputId": "d0428075-0ec9-4bb8-d26c-63f47e1f2a9f",
        "colab": {
          "base_uri": "https://localhost:8080/"
        }
      },
      "id": "FsxdQ0WUzbHB",
      "execution_count": null,
      "outputs": [
        {
          "output_type": "stream",
          "name": "stderr",
          "text": [
            "Tokenizing music files (content/tokenized_train): 100%|██████████| 58089/58089 [18:22<00:00, 52.71it/s]\n",
            "Tokenizing music files (content/tokenized_test): 100%|██████████| 15217/15217 [04:45<00:00, 53.36it/s]\n"
          ]
        }
      ]
    },
    {
      "cell_type": "code",
      "source": [
        "!zip -r tokenized_train.zip tokenized_train\n",
        "!zip -r tokenized_test.zip tokenized_test"
      ],
      "metadata": {
        "id": "GiFM_wmSdkZh"
      },
      "id": "GiFM_wmSdkZh",
      "execution_count": null,
      "outputs": []
    },
    {
      "cell_type": "markdown",
      "source": [
        "## download the tokenized dataset"
      ],
      "metadata": {
        "id": "y8IKfAl3gd7z"
      },
      "id": "y8IKfAl3gd7z"
    },
    {
      "cell_type": "code",
      "source": [
        "!gdown --id 1sYpjsu1Oheij9w4C0ssWgYNNebeLv-Zd\n",
        "!gdown --id 1yENUMEQ-IIgBL1Kp-lhfTiab8A0XOjS8\n",
        "\n",
        "!unzip tokenized_test.zip\n",
        "!unzip tokenized_train.zip"
      ],
      "metadata": {
        "id": "50ZRpSJ0gBPP"
      },
      "id": "50ZRpSJ0gBPP",
      "execution_count": null,
      "outputs": []
    },
    {
      "cell_type": "markdown",
      "source": [
        "## Read JSON\n",
        "\n",
        "Here we read the produced JSON files containing the tokenization's output."
      ],
      "metadata": {
        "id": "2C1_U05_cAo-"
      },
      "id": "2C1_U05_cAo-"
    },
    {
      "cell_type": "code",
      "source": [
        "def load_json(filepath: str) -> dict:\n",
        "    \"\"\"Load a JSON file and return its contents.\"\"\"\n",
        "    try:\n",
        "        with open(filepath, \"r\") as f:\n",
        "            return json.load(f)\n",
        "    except (FileNotFoundError, json.JSONDecodeError) as e:\n",
        "        print(f\"Skipping {filepath}: {e}\")\n",
        "        return None\n",
        "\n",
        "\n",
        "def load_multiple_jsons(file_paths):\n",
        "    \"\"\"Load multiple JSON files into a list of objects.\"\"\"\n",
        "    results = []\n",
        "    for fp in tqdm(file_paths, desc=\"Reading JSON files\"):\n",
        "        obj = load_json(fp)\n",
        "        if obj is not None:\n",
        "            results.append(obj)\n",
        "    return results\n",
        "\n",
        "train_jsons = Path(\"tokenized_train\").resolve().rglob(\"*.json\")\n",
        "test_jsons = Path(\"tokenized_test\").resolve().rglob(\"*.json\")\n",
        "\n",
        "train_data = load_multiple_jsons(train_jsons)\n",
        "test_data = load_multiple_jsons(test_jsons)\n",
        "\n",
        "if train_data and test_data:\n",
        "    print(f\"\\nLoaded {len(train_data)} JSON files for training.\")\n",
        "else:\n",
        "    print(\"Some JSON files could not be read.\")\n"
      ],
      "metadata": {
        "id": "ePyht0BuzxQa",
        "outputId": "ac6b57c6-df51-4d2f-e221-34e44edd24b9",
        "colab": {
          "base_uri": "https://localhost:8080/"
        }
      },
      "id": "ePyht0BuzxQa",
      "execution_count": null,
      "outputs": [
        {
          "output_type": "stream",
          "name": "stderr",
          "text": [
            "Reading JSON files: 58089it [00:10, 5441.91it/s]\n",
            "Reading JSON files: 15217it [00:03, 4725.02it/s]"
          ]
        },
        {
          "output_type": "stream",
          "name": "stdout",
          "text": [
            "\n",
            "Loaded 58089 JSON files for training.\n"
          ]
        },
        {
          "output_type": "stream",
          "name": "stderr",
          "text": [
            "\n"
          ]
        }
      ]
    },
    {
      "cell_type": "markdown",
      "source": [
        "Rather than padding each MIDI file (converted into tokens) to a fixed length with special padding tokens, we instead concatenate the token IDs of all piano pieces into a single large Numpy array. This approach comes with trade-offs—most notably a loss of musical coherence when sequences are passed to the model and a weaker sense of each song as a complete unit—but it provides much greater flexibility in handling and processing the dat"
      ],
      "metadata": {
        "id": "epsBcF3IcY4L"
      },
      "id": "epsBcF3IcY4L"
    },
    {
      "cell_type": "code",
      "source": [
        "def extract_ids(data_objects):\n",
        "    \"\"\"Extract and convert token IDs from JSON objects.\"\"\"\n",
        "    arrays = []\n",
        "    for obj in data_objects:\n",
        "        if \"ids\" in obj and isinstance(obj[\"ids\"], list) and len(obj[\"ids\"]) > 0:\n",
        "            arrays.append(np.asarray(obj[\"ids\"][0], dtype=np.int32))\n",
        "    return np.concatenate(arrays, axis=0)\n",
        "\n",
        "all_ids_train = extract_ids(train_data)\n",
        "all_ids_test = extract_ids(test_data)"
      ],
      "metadata": {
        "id": "TpskPd966QJN"
      },
      "id": "TpskPd966QJN",
      "execution_count": null,
      "outputs": []
    },
    {
      "cell_type": "markdown",
      "source": [
        "## GAN model\n",
        "\n",
        "The system is based on the structure of a Generative Adversarial Network (GAN) and consists of two main components:\n",
        "\n",
        "Generator Network: a fully connected neural network that takes a random noise vector as input and produces a MIDI file as output (Generated MIDI). The generator's objective is to create data that closely mimics authentic data. This component embodies the creative aspect of the GAN architecture.\n",
        "\n",
        "Discriminator Network: another fully connected neural network that receives as input both authentic MIDI files (from the Maestro Dataset) and MIDI files produced by the generator. The discriminator's function is to classify these inputs as either authentic (True) or synthetic (False). This component embodies the evaluative aspect of the GAN architecture.\n",
        "\n",
        "Training process: The generator enhances its performance by attempting to fool the discriminator, creating data that the discriminator finds progressively more challenging to distinguish from authentic data. Simultaneously, the discriminator is optimized to become more precise at identifying the distinction between authentic and generated data. This adversarial process relies on a loss function calculated for both networks, with weight updates executed using the ADAM optimizer.\n",
        "\n",
        "To evaluate performance variation in relation to model complexity, three generators and three discriminators were trained with the same overall architecture but varying sizes:\n",
        "\n",
        "- Mini,\n",
        "- Medium,\n",
        "- Large.\n",
        "\n",
        "These models share the same fundamental architecture but differ in the number of neurons and layers, enabling a comparative analysis of their performance in relation to representational capacity."
      ],
      "metadata": {
        "id": "qIZJdr5g3sYT"
      },
      "id": "qIZJdr5g3sYT"
    },
    {
      "cell_type": "code",
      "source": [
        "class GeneratorMini(nn.Module):\n",
        "    def __init__(self, noise_dim: int, hidden_dim: int, output_length: int):\n",
        "        super().__init__()\n",
        "\n",
        "        self.model = nn.Sequential(\n",
        "            nn.Linear(noise_dim, hidden_dim * 4),\n",
        "            nn.ReLU(),\n",
        "            nn.Linear(hidden_dim * 4, hidden_dim * 2),\n",
        "            nn.ReLU(),\n",
        "            nn.Dropout(0.4),\n",
        "            nn.Linear(hidden_dim * 2, hidden_dim),\n",
        "            nn.ReLU(),\n",
        "            nn.Dropout(0.4),\n",
        "            nn.Linear(hidden_dim, output_length),\n",
        "            nn.Tanh()\n",
        "        )\n",
        "\n",
        "    def forward(self, noise_vector: torch.Tensor) -> torch.Tensor:\n",
        "        return self.model(noise_vector)\n",
        "\n",
        "\n",
        "class DiscriminatorMini(nn.Module):\n",
        "    def __init__(self, input_length: int, hidden_dim: int):\n",
        "        super().__init__()\n",
        "\n",
        "        self.model = nn.Sequential(\n",
        "            nn.Linear(input_length, hidden_dim * 2),\n",
        "            nn.LeakyReLU(0.2),\n",
        "            nn.Linear(hidden_dim * 2, hidden_dim * 4),\n",
        "            nn.LeakyReLU(0.2),\n",
        "            nn.Dropout(0.4),\n",
        "            nn.Linear(hidden_dim * 4, 1)\n",
        "        )\n",
        "\n",
        "    def forward(self, sequence: torch.Tensor) -> torch.Tensor:\n",
        "        return self.model(sequence)\n"
      ],
      "metadata": {
        "id": "QdpuEdReJzaP"
      },
      "id": "QdpuEdReJzaP",
      "execution_count": null,
      "outputs": []
    },
    {
      "cell_type": "code",
      "source": [
        "class GeneratorMedium(nn.Module):\n",
        "    def __init__(self, noise_dim: int, hidden_dim: int, output_length: int):\n",
        "        super().__init__()\n",
        "\n",
        "        self.model = nn.Sequential(\n",
        "            nn.Linear(noise_dim, hidden_dim * 8),\n",
        "            nn.ReLU(),\n",
        "            nn.Linear(hidden_dim * 8, hidden_dim * 4),\n",
        "            nn.ReLU(),\n",
        "            nn.Dropout(0.4),\n",
        "            nn.Linear(hidden_dim * 4, hidden_dim * 2),\n",
        "            nn.ReLU(),\n",
        "            nn.Dropout(0.4),\n",
        "            nn.Linear(hidden_dim * 2, hidden_dim),\n",
        "            nn.ReLU(),\n",
        "            nn.Dropout(0.4),\n",
        "            nn.Linear(hidden_dim, output_length),\n",
        "            nn.Tanh()\n",
        "        )\n",
        "\n",
        "    def forward(self, noise_vector: torch.Tensor) -> torch.Tensor:\n",
        "        return self.model(noise_vector)\n",
        "\n",
        "\n",
        "class DiscriminatorMedium(nn.Module):\n",
        "    def __init__(self, input_length: int, hidden_dim: int):\n",
        "        super().__init__()\n",
        "\n",
        "        self.model = nn.Sequential(\n",
        "            nn.Linear(input_length, hidden_dim * 2),\n",
        "            nn.LeakyReLU(0.2),\n",
        "            nn.Linear(hidden_dim * 2, hidden_dim * 4),\n",
        "            nn.LeakyReLU(0.2),\n",
        "            nn.Dropout(0.4),\n",
        "            nn.Linear(hidden_dim * 4, hidden_dim * 8),\n",
        "            nn.LeakyReLU(0.2),\n",
        "            nn.Dropout(0.4),\n",
        "            nn.Linear(hidden_dim * 8, 1)\n",
        "        )\n",
        "\n",
        "    def forward(self, sequence: torch.Tensor) -> torch.Tensor:\n",
        "        return self.model(sequence)\n"
      ],
      "metadata": {
        "id": "gsmfpiPCJ800"
      },
      "id": "gsmfpiPCJ800",
      "execution_count": null,
      "outputs": []
    },
    {
      "cell_type": "code",
      "source": [
        "class GeneratorLarge(nn.Module):\n",
        "    def __init__(self, noise_dim: int, hidden_dim: int, output_length: int):\n",
        "        super().__init__()\n",
        "\n",
        "        self.model = nn.Sequential(\n",
        "            nn.Linear(noise_dim, hidden_dim * 16),\n",
        "            nn.ReLU(),\n",
        "            nn.Linear(hidden_dim * 16, hidden_dim * 8),\n",
        "            nn.ReLU(),\n",
        "            nn.Dropout(0.4),\n",
        "            nn.Linear(hidden_dim * 8, hidden_dim * 4),\n",
        "            nn.ReLU(),\n",
        "            nn.Dropout(0.4),\n",
        "            nn.Linear(hidden_dim * 4, hidden_dim * 2),\n",
        "            nn.ReLU(),\n",
        "            nn.Dropout(0.4),\n",
        "            nn.Linear(hidden_dim * 2, hidden_dim),\n",
        "            nn.ReLU(),\n",
        "            nn.Dropout(0.4),\n",
        "            nn.Linear(hidden_dim, output_length),\n",
        "            nn.Tanh()\n",
        "        )\n",
        "\n",
        "    def forward(self, noise_vector: torch.Tensor) -> torch.Tensor:\n",
        "        return self.model(noise_vector)\n",
        "\n",
        "\n",
        "class DiscriminatorLarge(nn.Module):\n",
        "    def __init__(self, input_length: int, hidden_dim: int):\n",
        "        super().__init__()\n",
        "\n",
        "        self.model = nn.Sequential(\n",
        "            nn.Linear(input_length, hidden_dim * 2),\n",
        "            nn.LeakyReLU(0.2),\n",
        "            nn.Linear(hidden_dim * 2, hidden_dim * 4),\n",
        "            nn.LeakyReLU(0.2),\n",
        "            nn.Dropout(0.4),\n",
        "            nn.Linear(hidden_dim * 4, hidden_dim * 8),\n",
        "            nn.LeakyReLU(0.2),\n",
        "            nn.Dropout(0.4),\n",
        "            nn.Linear(hidden_dim * 8, hidden_dim * 16),\n",
        "            nn.LeakyReLU(0.2),\n",
        "            nn.Dropout(0.4),\n",
        "            nn.Linear(hidden_dim * 16, 1)\n",
        "        )\n",
        "\n",
        "    def forward(self, sequence: torch.Tensor) -> torch.Tensor:\n",
        "        return self.model(sequence)\n"
      ],
      "metadata": {
        "id": "D-fiFyuEeJ4u"
      },
      "id": "D-fiFyuEeJ4u",
      "execution_count": null,
      "outputs": []
    },
    {
      "cell_type": "markdown",
      "source": [
        "## GAN class\n",
        "\n",
        "This MidiGAN class implements the logic required to train a Generative Adversarial Network (GAN) composed of a generator and a discriminator. Both models are passed as arguments to the constructor, along with the input noise size, the length of the musical sequence, and the tokenizer used to manage the MIDI data. The class independently manages the optimizers, weight initialization, and loss function calculation, allowing the two models to be trained in a coordinated manner.\n",
        "\n",
        "During training, the discriminator learns to distinguish between real MIDI files (from the dataset) and those generated by the generator, while the generator attempts to produce increasingly convincing sequences capable of fooling the discriminator. The class also manages alternating training strategies to balance the update steps of the two models and includes checks to avoid numerical instabilities such as NaN or Inf values.\n",
        "\n",
        "It also provides methods to save the weights of the trained models, generate new sequences as numeric arrays, and convert them into real MIDI files, ready to be listened to and analyzed."
      ],
      "metadata": {
        "id": "6_c9Oqe0EgMX"
      },
      "id": "6_c9Oqe0EgMX"
    },
    {
      "cell_type": "code",
      "source": [
        "\n",
        "class MidiGAN:\n",
        "    def __init__(\n",
        "        self,\n",
        "        generator: nn.Module,\n",
        "        discriminator: nn.Module,\n",
        "        noise_dim: int,\n",
        "        sequence_length: int,\n",
        "        tokenizer,\n",
        "        loss_fn: nn.Module = nn.BCEWithLogitsLoss(),\n",
        "    ):\n",
        "        self.generator = generator\n",
        "        self.discriminator = discriminator\n",
        "        self.noise_dim = noise_dim\n",
        "        self.sequence_length = sequence_length\n",
        "        self.loss_fn = loss_fn\n",
        "        self.tokenizer = tokenizer\n",
        "        self.vocab_size = len(tokenizer)\n",
        "\n",
        "        self.generator_optimizer = torch.optim.Adam(\n",
        "            self.generator.parameters(), lr=0.00005, betas=(0.5, 0.999)\n",
        "        )\n",
        "        self.discriminator_optimizer = torch.optim.Adam(\n",
        "            self.discriminator.parameters(), lr=0.00005, betas=(0.5, 0.999)\n",
        "        )\n",
        "\n",
        "        self.generator.apply(self._init_weights)\n",
        "        self.discriminator.apply(self._init_weights)\n",
        "\n",
        "    def save(self, filepath: str):\n",
        "        torch.save(\n",
        "            {\n",
        "                \"generator\": self.generator.state_dict(),\n",
        "                \"discriminator\": self.discriminator.state_dict(),\n",
        "            },\n",
        "            filepath,\n",
        "        )\n",
        "        print(f\"Generator + Discriminator weights saved to {filepath}\")\n",
        "\n",
        "    @staticmethod\n",
        "    def load(\n",
        "        generator_class,\n",
        "        discriminator_class,\n",
        "        filepath: str,\n",
        "        noise_dim: int,\n",
        "        sequence_length: int,\n",
        "        tokenizer,\n",
        "        map_location: str = \"cpu\",\n",
        "        gen_kwargs={},\n",
        "        disc_kwargs={},\n",
        "    ):\n",
        "        checkpoint = torch.load(filepath, map_location=map_location)\n",
        "        generator = generator_class(**gen_kwargs)\n",
        "        discriminator = discriminator_class(**disc_kwargs)\n",
        "        generator.load_state_dict(checkpoint[\"generator\"])\n",
        "        discriminator.load_state_dict(checkpoint[\"discriminator\"])\n",
        "        print(f\"Generator + Discriminator weights loaded from {filepath}\")\n",
        "\n",
        "        return MidiGAN(\n",
        "            generator=generator,\n",
        "            discriminator=discriminator,\n",
        "            noise_dim=noise_dim,\n",
        "            sequence_length=sequence_length,\n",
        "            tokenizer=tokenizer,\n",
        "        )\n",
        "\n",
        "    def train(\n",
        "        self,\n",
        "        dataloader,\n",
        "        epochs: int,\n",
        "        device: torch.device,\n",
        "        loss_delta: float = 0.7,\n",
        "        steps_each_print: int = 5,\n",
        "        advantage_steps: int = 2,\n",
        "        alternate_training: bool = False,\n",
        "        generator_steps: int = 1,\n",
        "        discriminator_steps: int = 1,\n",
        "    ):\n",
        "        print(f\"Starting training for {epochs} epochs\")\n",
        "        self.generator.to(device).train()\n",
        "        self.discriminator.to(device).train()\n",
        "\n",
        "        all_d_losses, all_g_losses = [], []\n",
        "\n",
        "        for epoch in range(epochs):\n",
        "            epoch_d_losses, epoch_g_losses = [], []\n",
        "            pbar = tqdm(total=len(dataloader), desc=f\"Epoch {epoch+1}/{epochs}\")\n",
        "            for step, real_batch in enumerate(dataloader):\n",
        "                batch_size = real_batch.size(0)\n",
        "                real_batch = real_batch.to(device)\n",
        "\n",
        "                d_loss, g_loss = self._train_batch(\n",
        "                    batch_size, real_batch, device, generator_steps, discriminator_steps\n",
        "                )\n",
        "                all_d_losses.append(d_loss)\n",
        "                all_g_losses.append(g_loss)\n",
        "                epoch_d_losses.append(d_loss)\n",
        "                epoch_g_losses.append(g_loss)\n",
        "\n",
        "                if alternate_training:\n",
        "                    if g_loss - d_loss > loss_delta:\n",
        "                        generator_steps, discriminator_steps = advantage_steps, 1\n",
        "                    elif d_loss - g_loss > loss_delta:\n",
        "                        discriminator_steps, generator_steps = advantage_steps, 1\n",
        "                    else:\n",
        "                        generator_steps, discriminator_steps = 1, 1\n",
        "\n",
        "                if (step + 1) % steps_each_print == 0:\n",
        "                    desc = f\"D Loss: {d_loss:.4f}, G Loss: {g_loss:.4f}\"\n",
        "                    if generator_steps != 1 or discriminator_steps != 1:\n",
        "                        desc += f\" | D Steps: {discriminator_steps}, G Steps: {generator_steps}\"\n",
        "                    pbar.set_description(desc)\n",
        "                pbar.update(1)\n",
        "\n",
        "            pbar.close()\n",
        "            mean_d_loss = np.mean(epoch_d_losses)\n",
        "            mean_g_loss = np.mean(epoch_g_losses)\n",
        "            print(f\"Epoch {epoch+1}/{epochs} | Mean D Loss: {mean_d_loss:.4f} | Mean G Loss: {mean_g_loss:.4f}\")\n",
        "\n",
        "        return all_d_losses, all_g_losses\n",
        "\n",
        "    def _generator_train_step(self, batch_size: int, device: torch.device) -> float:\n",
        "        self.generator.zero_grad()\n",
        "        noise = self._sample_noise(batch_size, device)\n",
        "        fake_data = self.generator(noise)\n",
        "        fake_predictions = self.discriminator(fake_data)\n",
        "\n",
        "        loss_g = -torch.mean(fake_predictions)\n",
        "        if not (torch.isnan(loss_g) or torch.isinf(loss_g)):\n",
        "            loss_g.backward()\n",
        "            torch.nn.utils.clip_grad_norm_(self.generator.parameters(), max_norm=1.0)\n",
        "            self.generator_optimizer.step()\n",
        "        else:\n",
        "            print(\"NaN or Inf detected in generator loss.\")\n",
        "        return loss_g.item()\n",
        "\n",
        "    def _discriminator_train_step(\n",
        "        self, batch_size: int, real_data: torch.Tensor, device: torch.device\n",
        "    ) -> float:\n",
        "        self.discriminator.zero_grad()\n",
        "        noise = self._sample_noise(batch_size, device)\n",
        "        fake_data = self.generator(noise)\n",
        "\n",
        "        real_predictions = self.discriminator(real_data)\n",
        "        fake_predictions = self.discriminator(fake_data)\n",
        "\n",
        "        real_labels = torch.ones_like(real_predictions)\n",
        "        fake_labels = torch.zeros_like(fake_predictions)\n",
        "\n",
        "        loss_real = self.loss_fn(real_predictions, real_labels)\n",
        "        loss_fake = self.loss_fn(fake_predictions, fake_labels)\n",
        "\n",
        "        loss_d = loss_real + loss_fake\n",
        "        if not (torch.isnan(loss_d) or torch.isinf(loss_d)):\n",
        "            loss_d.backward()\n",
        "            self.discriminator_optimizer.step()\n",
        "        else:\n",
        "            print(\"NaN or Inf detected in discriminator loss.\")\n",
        "        return loss_d.item()\n",
        "\n",
        "    def _train_batch(\n",
        "        self, batch_size: int, real_data: torch.Tensor, device: torch.device,\n",
        "        generator_steps: int, discriminator_steps: int\n",
        "    ):\n",
        "        d_losses = [\n",
        "            self._discriminator_train_step(batch_size, real_data, device)\n",
        "            for _ in range(discriminator_steps)\n",
        "        ]\n",
        "        g_losses = [\n",
        "            self._generator_train_step(batch_size, device)\n",
        "            for _ in range(generator_steps)\n",
        "        ]\n",
        "        return np.mean(d_losses), np.mean(g_losses)\n",
        "\n",
        "    def _init_weights(self, layer):\n",
        "        if isinstance(layer, (nn.Linear, nn.Conv1d)):\n",
        "            nn.init.xavier_uniform_(layer.weight)\n",
        "            if layer.bias is not None:\n",
        "                nn.init.zeros_(layer.bias)\n",
        "\n",
        "    def _sample_noise(self, batch_size: int, device: torch.device) -> torch.Tensor:\n",
        "        return torch.randn(batch_size, self.noise_dim, device=device)\n",
        "\n",
        "    def predict(self, n_samples: int, device: torch.device):\n",
        "        noise = self._sample_noise(n_samples, device)\n",
        "        return self.generator(noise).cpu().detach().numpy()\n",
        "\n",
        "    def generate_midi(self, n_samples: int, output_prefix: str, device: torch.device):\n",
        "        predictions = self.predict(n_samples, device)\n",
        "        midpoint = self.vocab_size // 2\n",
        "        predictions = [x * midpoint + midpoint for x in predictions]\n",
        "\n",
        "        for i, pred in enumerate(predictions):\n",
        "            tokens = pred.astype(np.int32)\n",
        "            tokens[tokens == self.vocab_size] = 0\n",
        "            try:\n",
        "                midi_obj = self.tokenizer.decode([tokens])\n",
        "                midi_obj.dump_midi(f\"{output_prefix}_{i}.mid\")\n",
        "                print(f\"MIDI generated: {output_prefix}_{i}.mid\")\n",
        "            except Exception as e:\n",
        "                print(f\"Error generating MIDI for sample {i}: {e}\")\n"
      ],
      "metadata": {
        "id": "xvld5t80-WWv"
      },
      "id": "xvld5t80-WWv",
      "execution_count": null,
      "outputs": []
    },
    {
      "cell_type": "markdown",
      "source": [
        "The TokenDataset class and the normalize_data function prepare the input data for GAN training. Specifically, TokenDataset defines a custom dataset containing token sequences (derived from the MIDI file) and makes them compatible with PyTorch, returning 32-bit floating-point numeric tensors, ready for use in data loaders. The normalize_data function, on the other hand, normalizes the token values ​​to a range between -1 and 1, so they better fit the generator's widely used activation function. This normalization step is crucial because it ensures numerical stability and speeds up convergence during training, reducing the risk of gradients that are too large or too small."
      ],
      "metadata": {
        "id": "C9tNCL75itM1"
      },
      "id": "C9tNCL75itM1"
    },
    {
      "cell_type": "code",
      "source": [
        "class TokenDataset(Dataset):\n",
        "    \"\"\"Dataset of normalized token sequences for GAN training.\"\"\"\n",
        "    def __init__(self, sequences):\n",
        "        self.sequences = sequences\n",
        "\n",
        "    def __len__(self):\n",
        "        return len(self.sequences)\n",
        "\n",
        "    def __getitem__(self, idx):\n",
        "        return torch.tensor(self.sequences[idx], dtype=torch.float32)\n",
        "\n",
        "\n",
        "def normalize_data(token_array, vocab_size: int):\n",
        "    \"\"\"\n",
        "    Normalize input data to a interval = (-1, 1).\n",
        "    \"\"\"\n",
        "    min_val, max_val = (-1, 1)\n",
        "    normalized = (token_array - vocab_size / 2) / (vocab_size / 2)\n",
        "    scaled = normalized * (max_val - min_val) / 2 + (max_val + min_val) / 2\n",
        "    return scaled\n"
      ],
      "metadata": {
        "id": "dXdahVJAU2Gd"
      },
      "id": "dXdahVJAU2Gd",
      "execution_count": null,
      "outputs": []
    },
    {
      "cell_type": "markdown",
      "source": [
        "Hyper-parameters kept unchanged for training each model:\n",
        "\n",
        "- seq_length: This is the maximum length of the input or generated sequence. It allows the model to work on context windows of 512 steps, capturing temporal patterns or complex structures without exploding in memory.\n",
        "- noise_dim: This is the size of the random vector that feeds the generator (latent input). It serves to introduce variability and creativity into the generated sequences, so that no two samples are the same.\n",
        "- hidden_dim: This indicates the size of the network's hidden layers (generator and discriminator). A large value like 1536 increases the model's ability to represent complex structures and learn non-trivial relationships in the data.\n",
        "- batch_size: batch size before weights update, values ​​like were also tested 64 and 256."
      ],
      "metadata": {
        "id": "NKp8alUYCAr3"
      },
      "id": "NKp8alUYCAr3"
    },
    {
      "cell_type": "code",
      "source": [
        "vocab_size = len(tokenizer)\n",
        "seq_length = 512\n",
        "noise_dim = 512\n",
        "hidden_dim = 1536\n",
        "batch_size = 128\n",
        "\n",
        "generator_config = {\n",
        "    \"noise_dim\"  : noise_dim,\n",
        "    \"hidden_dim\" : hidden_dim,\n",
        "    \"output_length\" : seq_length\n",
        "}\n",
        "\n",
        "\n",
        "discriminator_config = {\n",
        "    \"input_length\" : seq_length,\n",
        "    \"hidden_dim\" : hidden_dim\n",
        "}"
      ],
      "metadata": {
        "id": "Btb4Wf3W_xqL"
      },
      "id": "Btb4Wf3W_xqL",
      "execution_count": null,
      "outputs": []
    },
    {
      "cell_type": "markdown",
      "source": [
        "## Trainig GAN Mini\n",
        "\n",
        "## Setup for training\n",
        "\n",
        "It then initializes the GAN generator and discriminator, configures the computing device (CPU or GPU), and prepares the data for training. Specifically, the MIDI tokens are normalized to the range\n",
        "−1, 1, split into sequences of the desired length, and organized into a PyTorch dataset managed by DataLoader, which handles batching and shuffling. Finally, a quick test is performed on the GPU and the dataset information is printed to confirm that the system is ready for training.\n",
        "\n",
        "This operation is also performed for training the other models."
      ],
      "metadata": {
        "id": "ApzrAYf-moGo"
      },
      "id": "ApzrAYf-moGo"
    },
    {
      "cell_type": "code",
      "source": [
        "\n",
        "generator = GeneratorMini(**generator_config)\n",
        "discriminator = DiscriminatorMini(**discriminator_config)\n",
        "\n",
        "gan_params = {\n",
        "    \"generator\"                : generator,\n",
        "    \"discriminator\"            : discriminator,\n",
        "    \"noise_dim\"                : noise_dim,\n",
        "    \"sequence_length\"          : seq_length,\n",
        "    \"tokenizer\"                : tokenizer,\n",
        "}\n",
        "\n",
        "device = torch.device(\"cuda\" if torch.cuda.is_available() else \"cpu\")\n",
        "torch.cuda.set_device(0) if torch.cuda.is_available() else None\n",
        "\n",
        "sequence_length = seq_length\n",
        "batch_size = batch_size\n",
        "\n",
        "vocab_size = len(tokenizer)\n",
        "normalized_tokens = normalize_data(all_ids_train, vocab_size)\n",
        "\n",
        "print(f\"Normalization completed | Max: {normalized_tokens.max():.4f}, Min: {normalized_tokens.min():.4f}\")\n",
        "\n",
        "sequences = [\n",
        "    normalized_tokens[i : i + sequence_length]\n",
        "    for i in range(0, len(normalized_tokens) - sequence_length, sequence_length)\n",
        "]\n",
        "\n",
        "dataset = TokenDataset(sequences)\n",
        "dataloader = DataLoader(\n",
        "    dataset,\n",
        "    batch_size=batch_size,\n",
        "    shuffle=True,\n",
        "    drop_last=True,\n",
        "    num_workers=4\n",
        ")\n",
        "\n",
        "_ = torch.ones(1, device=device)\n",
        "print(f\"Dataset ready. Batch size: {batch_size}, Number of batches: {len(dataloader)}\")\n"
      ],
      "metadata": {
        "id": "Iagq9bP3EiGq",
        "colab": {
          "base_uri": "https://localhost:8080/"
        },
        "outputId": "8be6bdbc-d6d8-4ed6-f03c-0482f2328303"
      },
      "id": "Iagq9bP3EiGq",
      "execution_count": null,
      "outputs": [
        {
          "output_type": "stream",
          "name": "stdout",
          "text": [
            "Normalization completed | Max: 0.9996, Min: -0.9988\n",
            "Dataset ready. Batch size: 128, Number of batches: 900\n"
          ]
        }
      ]
    },
    {
      "cell_type": "code",
      "source": [
        "gan_mini = MidiGAN(**gan_params)\n",
        "\n",
        "training_arguments = {\n",
        "    \"dataloader\"            : dataloader,\n",
        "    \"epochs\"                : 45,\n",
        "    \"device\"                : device,\n",
        "    \"steps_each_print\"      : 10,\n",
        "    \"generator_steps\"       : 1,\n",
        "    \"discriminator_steps\"   : 1,\n",
        "}\n",
        "\n",
        "losses_discriminator, losses_generator = gan_mini.train(**training_arguments)"
      ],
      "metadata": {
        "id": "wF3cfjF3IA2G",
        "colab": {
          "base_uri": "https://localhost:8080/"
        },
        "outputId": "fbe56ae4-359a-4f65-f72c-03a3a23ea0c7"
      },
      "id": "wF3cfjF3IA2G",
      "execution_count": null,
      "outputs": [
        {
          "output_type": "stream",
          "name": "stdout",
          "text": [
            "Starting training for 45 epochs\n"
          ]
        },
        {
          "output_type": "stream",
          "name": "stderr",
          "text": [
            "D Loss: 1.4637, G Loss: 0.9399: 100%|██████████| 900/900 [00:12<00:00, 74.41it/s]\n"
          ]
        },
        {
          "output_type": "stream",
          "name": "stdout",
          "text": [
            "Epoch 1/45 | Mean D Loss: 1.4285 | Mean G Loss: 1.2830\n"
          ]
        },
        {
          "output_type": "stream",
          "name": "stderr",
          "text": [
            "D Loss: 1.0086, G Loss: 1.8069: 100%|██████████| 900/900 [00:11<00:00, 80.40it/s]\n"
          ]
        },
        {
          "output_type": "stream",
          "name": "stdout",
          "text": [
            "Epoch 2/45 | Mean D Loss: 1.2196 | Mean G Loss: 1.3129\n"
          ]
        },
        {
          "output_type": "stream",
          "name": "stderr",
          "text": [
            "D Loss: 0.8971, G Loss: 3.9664: 100%|██████████| 900/900 [00:11<00:00, 80.80it/s]\n"
          ]
        },
        {
          "output_type": "stream",
          "name": "stdout",
          "text": [
            "Epoch 3/45 | Mean D Loss: 0.9510 | Mean G Loss: 1.7144\n"
          ]
        },
        {
          "output_type": "stream",
          "name": "stderr",
          "text": [
            "D Loss: 1.4847, G Loss: -0.1784: 100%|██████████| 900/900 [00:11<00:00, 81.32it/s]\n"
          ]
        },
        {
          "output_type": "stream",
          "name": "stdout",
          "text": [
            "Epoch 4/45 | Mean D Loss: 1.2333 | Mean G Loss: 1.3334\n"
          ]
        },
        {
          "output_type": "stream",
          "name": "stderr",
          "text": [
            "D Loss: 1.4451, G Loss: 0.1308: 100%|██████████| 900/900 [00:11<00:00, 80.78it/s]\n"
          ]
        },
        {
          "output_type": "stream",
          "name": "stdout",
          "text": [
            "Epoch 5/45 | Mean D Loss: 1.4670 | Mean G Loss: 0.0059\n"
          ]
        },
        {
          "output_type": "stream",
          "name": "stderr",
          "text": [
            "D Loss: 1.4154, G Loss: 0.9320: 100%|██████████| 900/900 [00:11<00:00, 80.96it/s]\n"
          ]
        },
        {
          "output_type": "stream",
          "name": "stdout",
          "text": [
            "Epoch 6/45 | Mean D Loss: 1.3911 | Mean G Loss: 0.3565\n"
          ]
        },
        {
          "output_type": "stream",
          "name": "stderr",
          "text": [
            "D Loss: 1.1470, G Loss: 1.4872: 100%|██████████| 900/900 [00:11<00:00, 80.66it/s]\n"
          ]
        },
        {
          "output_type": "stream",
          "name": "stdout",
          "text": [
            "Epoch 7/45 | Mean D Loss: 1.2478 | Mean G Loss: 1.1718\n"
          ]
        },
        {
          "output_type": "stream",
          "name": "stderr",
          "text": [
            "D Loss: 1.4265, G Loss: 0.2263: 100%|██████████| 900/900 [00:11<00:00, 80.80it/s]\n"
          ]
        },
        {
          "output_type": "stream",
          "name": "stdout",
          "text": [
            "Epoch 8/45 | Mean D Loss: 1.2148 | Mean G Loss: 1.3095\n"
          ]
        },
        {
          "output_type": "stream",
          "name": "stderr",
          "text": [
            "D Loss: 1.3744, G Loss: 2.1110: 100%|██████████| 900/900 [00:11<00:00, 81.07it/s]\n"
          ]
        },
        {
          "output_type": "stream",
          "name": "stdout",
          "text": [
            "Epoch 9/45 | Mean D Loss: 1.1854 | Mean G Loss: 1.4614\n"
          ]
        },
        {
          "output_type": "stream",
          "name": "stderr",
          "text": [
            "D Loss: 0.8905, G Loss: 1.3908: 100%|██████████| 900/900 [00:11<00:00, 81.16it/s]\n"
          ]
        },
        {
          "output_type": "stream",
          "name": "stdout",
          "text": [
            "Epoch 10/45 | Mean D Loss: 1.0432 | Mean G Loss: 1.6023\n"
          ]
        },
        {
          "output_type": "stream",
          "name": "stderr",
          "text": [
            "D Loss: 0.7376, G Loss: 1.6065: 100%|██████████| 900/900 [00:11<00:00, 81.49it/s]\n"
          ]
        },
        {
          "output_type": "stream",
          "name": "stdout",
          "text": [
            "Epoch 11/45 | Mean D Loss: 0.8243 | Mean G Loss: 1.9931\n"
          ]
        },
        {
          "output_type": "stream",
          "name": "stderr",
          "text": [
            "D Loss: 0.8898, G Loss: 0.7211: 100%|██████████| 900/900 [00:11<00:00, 81.03it/s]\n"
          ]
        },
        {
          "output_type": "stream",
          "name": "stdout",
          "text": [
            "Epoch 12/45 | Mean D Loss: 0.8960 | Mean G Loss: 1.5408\n"
          ]
        },
        {
          "output_type": "stream",
          "name": "stderr",
          "text": [
            "D Loss: 0.6589, G Loss: 1.2509: 100%|██████████| 900/900 [00:11<00:00, 81.23it/s]\n"
          ]
        },
        {
          "output_type": "stream",
          "name": "stdout",
          "text": [
            "Epoch 13/45 | Mean D Loss: 0.7732 | Mean G Loss: 1.9230\n"
          ]
        },
        {
          "output_type": "stream",
          "name": "stderr",
          "text": [
            "D Loss: 0.8151, G Loss: 2.0249: 100%|██████████| 900/900 [00:11<00:00, 81.10it/s]\n"
          ]
        },
        {
          "output_type": "stream",
          "name": "stdout",
          "text": [
            "Epoch 14/45 | Mean D Loss: 0.8295 | Mean G Loss: 2.0054\n"
          ]
        },
        {
          "output_type": "stream",
          "name": "stderr",
          "text": [
            "D Loss: 0.8711, G Loss: 2.1496: 100%|██████████| 900/900 [00:11<00:00, 81.10it/s]\n"
          ]
        },
        {
          "output_type": "stream",
          "name": "stdout",
          "text": [
            "Epoch 15/45 | Mean D Loss: 0.8392 | Mean G Loss: 2.1218\n"
          ]
        },
        {
          "output_type": "stream",
          "name": "stderr",
          "text": [
            "D Loss: 0.8134, G Loss: 1.9082: 100%|██████████| 900/900 [00:11<00:00, 81.29it/s]\n"
          ]
        },
        {
          "output_type": "stream",
          "name": "stdout",
          "text": [
            "Epoch 16/45 | Mean D Loss: 0.8863 | Mean G Loss: 2.0423\n"
          ]
        },
        {
          "output_type": "stream",
          "name": "stderr",
          "text": [
            "D Loss: 0.8792, G Loss: 2.0220: 100%|██████████| 900/900 [00:11<00:00, 81.06it/s]\n"
          ]
        },
        {
          "output_type": "stream",
          "name": "stdout",
          "text": [
            "Epoch 17/45 | Mean D Loss: 0.8877 | Mean G Loss: 2.0565\n"
          ]
        },
        {
          "output_type": "stream",
          "name": "stderr",
          "text": [
            "D Loss: 0.7717, G Loss: 2.6790: 100%|██████████| 900/900 [00:11<00:00, 81.05it/s]\n"
          ]
        },
        {
          "output_type": "stream",
          "name": "stdout",
          "text": [
            "Epoch 18/45 | Mean D Loss: 0.8671 | Mean G Loss: 2.0816\n"
          ]
        },
        {
          "output_type": "stream",
          "name": "stderr",
          "text": [
            "D Loss: 1.0972, G Loss: 2.6385: 100%|██████████| 900/900 [00:11<00:00, 80.83it/s]\n"
          ]
        },
        {
          "output_type": "stream",
          "name": "stdout",
          "text": [
            "Epoch 19/45 | Mean D Loss: 0.8359 | Mean G Loss: 2.1574\n"
          ]
        },
        {
          "output_type": "stream",
          "name": "stderr",
          "text": [
            "D Loss: 0.6739, G Loss: 1.9738: 100%|██████████| 900/900 [00:11<00:00, 81.44it/s]\n"
          ]
        },
        {
          "output_type": "stream",
          "name": "stdout",
          "text": [
            "Epoch 20/45 | Mean D Loss: 0.8452 | Mean G Loss: 2.1846\n"
          ]
        },
        {
          "output_type": "stream",
          "name": "stderr",
          "text": [
            "D Loss: 0.5708, G Loss: 2.1190: 100%|██████████| 900/900 [00:11<00:00, 80.83it/s]\n"
          ]
        },
        {
          "output_type": "stream",
          "name": "stdout",
          "text": [
            "Epoch 21/45 | Mean D Loss: 0.8147 | Mean G Loss: 2.2417\n"
          ]
        },
        {
          "output_type": "stream",
          "name": "stderr",
          "text": [
            "D Loss: 1.0632, G Loss: 2.5323: 100%|██████████| 900/900 [00:11<00:00, 81.09it/s]\n"
          ]
        },
        {
          "output_type": "stream",
          "name": "stdout",
          "text": [
            "Epoch 22/45 | Mean D Loss: 0.8209 | Mean G Loss: 2.2212\n"
          ]
        },
        {
          "output_type": "stream",
          "name": "stderr",
          "text": [
            "D Loss: 0.6695, G Loss: 3.3438: 100%|██████████| 900/900 [00:11<00:00, 81.33it/s]\n"
          ]
        },
        {
          "output_type": "stream",
          "name": "stdout",
          "text": [
            "Epoch 23/45 | Mean D Loss: 0.8154 | Mean G Loss: 2.2249\n"
          ]
        },
        {
          "output_type": "stream",
          "name": "stderr",
          "text": [
            "D Loss: 0.6755, G Loss: 2.1478: 100%|██████████| 900/900 [00:11<00:00, 80.85it/s]\n"
          ]
        },
        {
          "output_type": "stream",
          "name": "stdout",
          "text": [
            "Epoch 24/45 | Mean D Loss: 0.8245 | Mean G Loss: 2.2371\n"
          ]
        },
        {
          "output_type": "stream",
          "name": "stderr",
          "text": [
            "D Loss: 0.7263, G Loss: 2.1006: 100%|██████████| 900/900 [00:11<00:00, 80.94it/s]\n"
          ]
        },
        {
          "output_type": "stream",
          "name": "stdout",
          "text": [
            "Epoch 25/45 | Mean D Loss: 0.8417 | Mean G Loss: 2.1659\n"
          ]
        },
        {
          "output_type": "stream",
          "name": "stderr",
          "text": [
            "D Loss: 0.7909, G Loss: 1.7788: 100%|██████████| 900/900 [00:11<00:00, 80.83it/s]\n"
          ]
        },
        {
          "output_type": "stream",
          "name": "stdout",
          "text": [
            "Epoch 26/45 | Mean D Loss: 0.8628 | Mean G Loss: 2.1499\n"
          ]
        },
        {
          "output_type": "stream",
          "name": "stderr",
          "text": [
            "D Loss: 0.7699, G Loss: 2.3812: 100%|██████████| 900/900 [00:11<00:00, 80.89it/s]\n"
          ]
        },
        {
          "output_type": "stream",
          "name": "stdout",
          "text": [
            "Epoch 27/45 | Mean D Loss: 0.8447 | Mean G Loss: 2.1471\n"
          ]
        },
        {
          "output_type": "stream",
          "name": "stderr",
          "text": [
            "D Loss: 0.8380, G Loss: 3.0699: 100%|██████████| 900/900 [00:11<00:00, 81.14it/s]\n"
          ]
        },
        {
          "output_type": "stream",
          "name": "stdout",
          "text": [
            "Epoch 28/45 | Mean D Loss: 0.8621 | Mean G Loss: 2.1304\n"
          ]
        },
        {
          "output_type": "stream",
          "name": "stderr",
          "text": [
            "D Loss: 0.8351, G Loss: 2.0128: 100%|██████████| 900/900 [00:11<00:00, 80.90it/s]\n"
          ]
        },
        {
          "output_type": "stream",
          "name": "stdout",
          "text": [
            "Epoch 29/45 | Mean D Loss: 0.8899 | Mean G Loss: 2.0939\n"
          ]
        },
        {
          "output_type": "stream",
          "name": "stderr",
          "text": [
            "D Loss: 0.7559, G Loss: 2.2161: 100%|██████████| 900/900 [00:11<00:00, 81.05it/s]\n"
          ]
        },
        {
          "output_type": "stream",
          "name": "stdout",
          "text": [
            "Epoch 30/45 | Mean D Loss: 0.8876 | Mean G Loss: 2.0406\n"
          ]
        },
        {
          "output_type": "stream",
          "name": "stderr",
          "text": [
            "D Loss: 0.8345, G Loss: 1.6950: 100%|██████████| 900/900 [00:11<00:00, 80.94it/s]\n"
          ]
        },
        {
          "output_type": "stream",
          "name": "stdout",
          "text": [
            "Epoch 31/45 | Mean D Loss: 0.9057 | Mean G Loss: 2.0168\n"
          ]
        },
        {
          "output_type": "stream",
          "name": "stderr",
          "text": [
            "D Loss: 0.8524, G Loss: 1.4580: 100%|██████████| 900/900 [00:11<00:00, 80.84it/s]\n"
          ]
        },
        {
          "output_type": "stream",
          "name": "stdout",
          "text": [
            "Epoch 32/45 | Mean D Loss: 0.9149 | Mean G Loss: 1.9395\n"
          ]
        },
        {
          "output_type": "stream",
          "name": "stderr",
          "text": [
            "D Loss: 0.8735, G Loss: 2.2981: 100%|██████████| 900/900 [00:11<00:00, 80.89it/s]\n"
          ]
        },
        {
          "output_type": "stream",
          "name": "stdout",
          "text": [
            "Epoch 33/45 | Mean D Loss: 0.9349 | Mean G Loss: 1.9199\n"
          ]
        },
        {
          "output_type": "stream",
          "name": "stderr",
          "text": [
            "D Loss: 0.9033, G Loss: 1.4418: 100%|██████████| 900/900 [00:11<00:00, 81.39it/s]\n"
          ]
        },
        {
          "output_type": "stream",
          "name": "stdout",
          "text": [
            "Epoch 34/45 | Mean D Loss: 0.9620 | Mean G Loss: 1.7891\n"
          ]
        },
        {
          "output_type": "stream",
          "name": "stderr",
          "text": [
            "D Loss: 0.9990, G Loss: 1.3542: 100%|██████████| 900/900 [00:11<00:00, 81.33it/s]\n"
          ]
        },
        {
          "output_type": "stream",
          "name": "stdout",
          "text": [
            "Epoch 35/45 | Mean D Loss: 0.9801 | Mean G Loss: 1.7376\n"
          ]
        },
        {
          "output_type": "stream",
          "name": "stderr",
          "text": [
            "D Loss: 0.8783, G Loss: 1.5241: 100%|██████████| 900/900 [00:11<00:00, 80.20it/s]\n"
          ]
        },
        {
          "output_type": "stream",
          "name": "stdout",
          "text": [
            "Epoch 36/45 | Mean D Loss: 1.0181 | Mean G Loss: 1.6473\n"
          ]
        },
        {
          "output_type": "stream",
          "name": "stderr",
          "text": [
            "D Loss: 0.8574, G Loss: 1.9403: 100%|██████████| 900/900 [00:11<00:00, 81.24it/s]\n"
          ]
        },
        {
          "output_type": "stream",
          "name": "stdout",
          "text": [
            "Epoch 37/45 | Mean D Loss: 1.0333 | Mean G Loss: 1.5823\n"
          ]
        },
        {
          "output_type": "stream",
          "name": "stderr",
          "text": [
            "D Loss: 0.8757, G Loss: 1.7872: 100%|██████████| 900/900 [00:11<00:00, 80.94it/s]\n"
          ]
        },
        {
          "output_type": "stream",
          "name": "stdout",
          "text": [
            "Epoch 38/45 | Mean D Loss: 1.0684 | Mean G Loss: 1.4794\n"
          ]
        },
        {
          "output_type": "stream",
          "name": "stderr",
          "text": [
            "D Loss: 1.0475, G Loss: 2.3619: 100%|██████████| 900/900 [00:11<00:00, 81.20it/s]\n"
          ]
        },
        {
          "output_type": "stream",
          "name": "stdout",
          "text": [
            "Epoch 39/45 | Mean D Loss: 1.0915 | Mean G Loss: 1.4117\n"
          ]
        },
        {
          "output_type": "stream",
          "name": "stderr",
          "text": [
            "D Loss: 1.4598, G Loss: 2.4745: 100%|██████████| 900/900 [00:11<00:00, 81.27it/s]\n"
          ]
        },
        {
          "output_type": "stream",
          "name": "stdout",
          "text": [
            "Epoch 40/45 | Mean D Loss: 1.1015 | Mean G Loss: 1.3210\n"
          ]
        },
        {
          "output_type": "stream",
          "name": "stderr",
          "text": [
            "D Loss: 1.2856, G Loss: 0.6404: 100%|██████████| 900/900 [00:11<00:00, 81.12it/s]\n"
          ]
        },
        {
          "output_type": "stream",
          "name": "stdout",
          "text": [
            "Epoch 41/45 | Mean D Loss: 1.1350 | Mean G Loss: 1.2189\n"
          ]
        },
        {
          "output_type": "stream",
          "name": "stderr",
          "text": [
            "D Loss: 1.0717, G Loss: 1.5534: 100%|██████████| 900/900 [00:11<00:00, 80.77it/s]\n"
          ]
        },
        {
          "output_type": "stream",
          "name": "stdout",
          "text": [
            "Epoch 42/45 | Mean D Loss: 1.1423 | Mean G Loss: 1.1453\n"
          ]
        },
        {
          "output_type": "stream",
          "name": "stderr",
          "text": [
            "D Loss: 1.2223, G Loss: 1.5083: 100%|██████████| 900/900 [00:11<00:00, 81.09it/s]\n"
          ]
        },
        {
          "output_type": "stream",
          "name": "stdout",
          "text": [
            "Epoch 43/45 | Mean D Loss: 1.1513 | Mean G Loss: 1.1627\n"
          ]
        },
        {
          "output_type": "stream",
          "name": "stderr",
          "text": [
            "D Loss: 1.1553, G Loss: 1.3952: 100%|██████████| 900/900 [00:11<00:00, 81.18it/s]\n"
          ]
        },
        {
          "output_type": "stream",
          "name": "stdout",
          "text": [
            "Epoch 44/45 | Mean D Loss: 1.1579 | Mean G Loss: 1.0818\n"
          ]
        },
        {
          "output_type": "stream",
          "name": "stderr",
          "text": [
            "D Loss: 1.3251, G Loss: 1.2177: 100%|██████████| 900/900 [00:11<00:00, 81.31it/s]"
          ]
        },
        {
          "output_type": "stream",
          "name": "stdout",
          "text": [
            "Epoch 45/45 | Mean D Loss: 1.1731 | Mean G Loss: 1.0342\n"
          ]
        },
        {
          "output_type": "stream",
          "name": "stderr",
          "text": [
            "\n"
          ]
        }
      ]
    },
    {
      "cell_type": "code",
      "source": [
        "\n",
        "iterations = list(range(1, len(losses_discriminator) + 1))\n",
        "\n",
        "plt.figure(figsize=(8, 5))\n",
        "plt.plot(iterations, losses_generator, label=\"Generator\", color=\"blue\", linewidth=2)\n",
        "plt.plot(iterations, losses_discriminator, label=\"Discriminator\", color=\"red\", linewidth=2)\n",
        "\n",
        "plt.xlabel(\"Iterations\")\n",
        "plt.ylabel(\"Loss\")\n",
        "plt.title(\"Mini GAN Loss Trend\")\n",
        "plt.legend()\n",
        "plt.grid(True)\n",
        "plt.tight_layout()\n",
        "plt.show()"
      ],
      "metadata": {
        "id": "s3zCHAK2uw7X",
        "outputId": "37dec309-2a20-42f1-8d71-4c4549e03473",
        "colab": {
          "base_uri": "https://localhost:8080/",
          "height": 507
        }
      },
      "id": "s3zCHAK2uw7X",
      "execution_count": null,
      "outputs": [
        {
          "output_type": "display_data",
          "data": {
            "text/plain": [
              "<Figure size 800x500 with 1 Axes>"
            ],
            "image/png": "[encoded data removed]"
          },
          "metadata": {}
        }
      ]
    },
    {
      "cell_type": "code",
      "source": [
        "gan_mini.save(\"mini_gan.pth\")"
      ],
      "metadata": {
        "id": "Hzc-9RkazYBO",
        "colab": {
          "base_uri": "https://localhost:8080/"
        },
        "outputId": "06e824dc-ed7f-463a-aad8-fd171bc8a422"
      },
      "id": "Hzc-9RkazYBO",
      "execution_count": null,
      "outputs": [
        {
          "output_type": "stream",
          "name": "stdout",
          "text": [
            "Generator + Discriminator weights saved to mini_gan.pth\n"
          ]
        }
      ]
    },
    {
      "cell_type": "markdown",
      "source": [
        "load GAN mini"
      ],
      "metadata": {
        "id": "BV0jQg7GzekB"
      },
      "id": "BV0jQg7GzekB"
    },
    {
      "cell_type": "code",
      "source": [
        "!gdown --id 1DtXWQwXM_k7hyQC_3wqT5Hv1UwAy8Ha7\n",
        "\n",
        "gan_mini = MidiGAN.load(\n",
        "    generator_class=GeneratorMini,\n",
        "    discriminator_class=DiscriminatorMini,\n",
        "    filepath=\"mini_gan.pth\",\n",
        "    noise_dim=512,\n",
        "    sequence_length=512,\n",
        "    tokenizer=tokenizer,\n",
        "    gen_kwargs=generator_config,\n",
        "    disc_kwargs=discriminator_config,\n",
        ")\n"
      ],
      "metadata": {
        "id": "Q2AouvZAzhtj"
      },
      "id": "Q2AouvZAzhtj",
      "execution_count": null,
      "outputs": []
    },
    {
      "cell_type": "markdown",
      "source": [
        "## Trainig GAN Medium"
      ],
      "metadata": {
        "id": "qFdScGC2L-DO"
      },
      "id": "qFdScGC2L-DO"
    },
    {
      "cell_type": "code",
      "source": [
        "\n",
        "generator = GeneratorMedium(**generator_config)\n",
        "discriminator = DiscriminatorMedium(**discriminator_config)\n",
        "\n",
        "gan_params = {\n",
        "    \"generator\"                : generator,\n",
        "    \"discriminator\"            : discriminator,\n",
        "    \"noise_dim\"                : noise_dim,\n",
        "    \"sequence_length\"          : seq_length,\n",
        "    \"tokenizer\"                : tokenizer,\n",
        "}\n",
        "\n",
        "device = torch.device(\"cuda\" if torch.cuda.is_available() else \"cpu\")\n",
        "torch.cuda.set_device(0) if torch.cuda.is_available() else None\n",
        "\n",
        "sequence_length = seq_length\n",
        "batch_size = batch_size\n",
        "vocab_size = len(tokenizer)\n",
        "normalized_tokens = normalize_data(all_ids_train, vocab_size)\n",
        "\n",
        "print(f\"Normalizzazione completata | Max: {normalized_tokens.max():.4f}, Min: {normalized_tokens.min():.4f}\")\n",
        "\n",
        "sequences = [\n",
        "    normalized_tokens[i : i + sequence_length]\n",
        "    for i in range(0, len(normalized_tokens) - sequence_length, sequence_length)\n",
        "]\n",
        "\n",
        "dataset = TokenDataset(sequences)\n",
        "dataloader = DataLoader(\n",
        "    dataset,\n",
        "    batch_size=batch_size,\n",
        "    shuffle=True,\n",
        "    drop_last=True,\n",
        "    num_workers=4\n",
        ")\n",
        "\n",
        "_ = torch.ones(1, device=device)\n",
        "print(f\"Dataset pronto. Batch size: {batch_size}, Numero batch: {len(dataloader)}\")"
      ],
      "metadata": {
        "id": "5oRsYxfYLKSi",
        "outputId": "64aacd51-6fc0-4bb3-d3de-c96bb1c8b5cc",
        "colab": {
          "base_uri": "https://localhost:8080/"
        }
      },
      "id": "5oRsYxfYLKSi",
      "execution_count": null,
      "outputs": [
        {
          "output_type": "stream",
          "name": "stdout",
          "text": [
            "Normalizzazione completata | Max: 0.9996, Min: -0.9988\n",
            "Dataset pronto. Batch size: 128, Numero batch: 900\n"
          ]
        }
      ]
    },
    {
      "cell_type": "code",
      "source": [
        "gan_medium = MidiGAN(**gan_params)\n",
        "\n",
        "training_arguments = {\n",
        "    \"dataloader\"            : dataloader,\n",
        "    \"epochs\"                : 45,\n",
        "    \"device\"                : device,\n",
        "    \"steps_each_print\"      : 10,\n",
        "    \"generator_steps\"       : 1,\n",
        "    \"discriminator_steps\"   : 1,\n",
        "}\n",
        "\n",
        "losses_discriminator, losses_generator = gan_medium.train(**training_arguments)"
      ],
      "metadata": {
        "id": "HS5_fBX9LQMa",
        "colab": {
          "base_uri": "https://localhost:8080/"
        },
        "outputId": "42ed4f72-dcde-4d13-b84d-19ec5019337f"
      },
      "id": "HS5_fBX9LQMa",
      "execution_count": null,
      "outputs": [
        {
          "output_type": "stream",
          "name": "stdout",
          "text": [
            "Starting training for 45 epochs\n"
          ]
        },
        {
          "output_type": "stream",
          "name": "stderr",
          "text": [
            "D Loss: 1.2473, G Loss: 0.6347: 100%|██████████| 900/900 [00:36<00:00, 24.73it/s]\n"
          ]
        },
        {
          "output_type": "stream",
          "name": "stdout",
          "text": [
            "Epoch 1/45 | Mean D Loss: 1.3171 | Mean G Loss: 1.1562\n"
          ]
        },
        {
          "output_type": "stream",
          "name": "stderr",
          "text": [
            "D Loss: 0.1822, G Loss: 3.8990: 100%|██████████| 900/900 [00:36<00:00, 24.73it/s]\n"
          ]
        },
        {
          "output_type": "stream",
          "name": "stdout",
          "text": [
            "Epoch 2/45 | Mean D Loss: 0.7546 | Mean G Loss: 2.1624\n"
          ]
        },
        {
          "output_type": "stream",
          "name": "stderr",
          "text": [
            "D Loss: 0.0311, G Loss: 6.4600: 100%|██████████| 900/900 [00:36<00:00, 24.73it/s]\n"
          ]
        },
        {
          "output_type": "stream",
          "name": "stdout",
          "text": [
            "Epoch 3/45 | Mean D Loss: 0.1613 | Mean G Loss: 5.3096\n"
          ]
        },
        {
          "output_type": "stream",
          "name": "stderr",
          "text": [
            "D Loss: 0.2550, G Loss: 6.3325: 100%|██████████| 900/900 [00:36<00:00, 24.73it/s]\n"
          ]
        },
        {
          "output_type": "stream",
          "name": "stdout",
          "text": [
            "Epoch 4/45 | Mean D Loss: 0.2843 | Mean G Loss: 6.1124\n"
          ]
        },
        {
          "output_type": "stream",
          "name": "stderr",
          "text": [
            "D Loss: 1.4941, G Loss: -0.0667: 100%|██████████| 900/900 [00:36<00:00, 24.64it/s]\n"
          ]
        },
        {
          "output_type": "stream",
          "name": "stdout",
          "text": [
            "Epoch 5/45 | Mean D Loss: 1.5926 | Mean G Loss: -0.0645\n"
          ]
        },
        {
          "output_type": "stream",
          "name": "stderr",
          "text": [
            "D Loss: 0.3627, G Loss: 3.4646: 100%|██████████| 900/900 [00:36<00:00, 24.47it/s]\n"
          ]
        },
        {
          "output_type": "stream",
          "name": "stdout",
          "text": [
            "Epoch 6/45 | Mean D Loss: 1.3476 | Mean G Loss: 0.6202\n"
          ]
        },
        {
          "output_type": "stream",
          "name": "stderr",
          "text": [
            "D Loss: 0.0233, G Loss: 6.9986: 100%|██████████| 900/900 [00:36<00:00, 24.57it/s]\n"
          ]
        },
        {
          "output_type": "stream",
          "name": "stdout",
          "text": [
            "Epoch 7/45 | Mean D Loss: 0.3237 | Mean G Loss: 4.9123\n"
          ]
        },
        {
          "output_type": "stream",
          "name": "stderr",
          "text": [
            "D Loss: 1.5352, G Loss: -0.0242: 100%|██████████| 900/900 [00:36<00:00, 24.73it/s]\n"
          ]
        },
        {
          "output_type": "stream",
          "name": "stdout",
          "text": [
            "Epoch 8/45 | Mean D Loss: 0.8980 | Mean G Loss: 3.0816\n"
          ]
        },
        {
          "output_type": "stream",
          "name": "stderr",
          "text": [
            "D Loss: 0.2202, G Loss: 2.5304: 100%|██████████| 900/900 [00:36<00:00, 24.49it/s]\n"
          ]
        },
        {
          "output_type": "stream",
          "name": "stdout",
          "text": [
            "Epoch 9/45 | Mean D Loss: 1.2585 | Mean G Loss: 0.8882\n"
          ]
        },
        {
          "output_type": "stream",
          "name": "stderr",
          "text": [
            "D Loss: 2.7181, G Loss: 2.8056: 100%|██████████| 900/900 [00:36<00:00, 24.45it/s]\n"
          ]
        },
        {
          "output_type": "stream",
          "name": "stdout",
          "text": [
            "Epoch 10/45 | Mean D Loss: 0.6609 | Mean G Loss: 2.8053\n"
          ]
        },
        {
          "output_type": "stream",
          "name": "stderr",
          "text": [
            "D Loss: 0.0832, G Loss: 6.8124: 100%|██████████| 900/900 [00:37<00:00, 24.21it/s]\n"
          ]
        },
        {
          "output_type": "stream",
          "name": "stdout",
          "text": [
            "Epoch 11/45 | Mean D Loss: 0.4070 | Mean G Loss: 4.9684\n"
          ]
        },
        {
          "output_type": "stream",
          "name": "stderr",
          "text": [
            "D Loss: 0.6300, G Loss: 6.6281: 100%|██████████| 900/900 [00:36<00:00, 24.35it/s]\n"
          ]
        },
        {
          "output_type": "stream",
          "name": "stdout",
          "text": [
            "Epoch 12/45 | Mean D Loss: 0.4000 | Mean G Loss: 5.8243\n"
          ]
        },
        {
          "output_type": "stream",
          "name": "stderr",
          "text": [
            "D Loss: 0.3809, G Loss: 8.4266: 100%|██████████| 900/900 [00:36<00:00, 24.72it/s]\n"
          ]
        },
        {
          "output_type": "stream",
          "name": "stdout",
          "text": [
            "Epoch 13/45 | Mean D Loss: 0.4570 | Mean G Loss: 5.3483\n"
          ]
        },
        {
          "output_type": "stream",
          "name": "stderr",
          "text": [
            "D Loss: 0.3459, G Loss: 6.0756: 100%|██████████| 900/900 [00:36<00:00, 24.73it/s]\n"
          ]
        },
        {
          "output_type": "stream",
          "name": "stdout",
          "text": [
            "Epoch 14/45 | Mean D Loss: 0.4292 | Mean G Loss: 5.4724\n"
          ]
        },
        {
          "output_type": "stream",
          "name": "stderr",
          "text": [
            "D Loss: 0.5889, G Loss: 4.7565: 100%|██████████| 900/900 [00:36<00:00, 24.74it/s]\n"
          ]
        },
        {
          "output_type": "stream",
          "name": "stdout",
          "text": [
            "Epoch 15/45 | Mean D Loss: 0.5203 | Mean G Loss: 5.3326\n"
          ]
        },
        {
          "output_type": "stream",
          "name": "stderr",
          "text": [
            "D Loss: 0.9267, G Loss: 2.0002: 100%|██████████| 900/900 [00:36<00:00, 24.74it/s]\n"
          ]
        },
        {
          "output_type": "stream",
          "name": "stdout",
          "text": [
            "Epoch 16/45 | Mean D Loss: 0.6167 | Mean G Loss: 4.8619\n"
          ]
        },
        {
          "output_type": "stream",
          "name": "stderr",
          "text": [
            "D Loss: 0.7748, G Loss: 6.4830: 100%|██████████| 900/900 [00:36<00:00, 24.73it/s]\n"
          ]
        },
        {
          "output_type": "stream",
          "name": "stdout",
          "text": [
            "Epoch 17/45 | Mean D Loss: 0.7140 | Mean G Loss: 4.1706\n"
          ]
        },
        {
          "output_type": "stream",
          "name": "stderr",
          "text": [
            "D Loss: 1.1394, G Loss: 3.7871: 100%|██████████| 900/900 [00:36<00:00, 24.74it/s]\n"
          ]
        },
        {
          "output_type": "stream",
          "name": "stdout",
          "text": [
            "Epoch 18/45 | Mean D Loss: 0.8022 | Mean G Loss: 3.6994\n"
          ]
        },
        {
          "output_type": "stream",
          "name": "stderr",
          "text": [
            "D Loss: 0.8199, G Loss: 3.0302: 100%|██████████| 900/900 [00:36<00:00, 24.73it/s]\n"
          ]
        },
        {
          "output_type": "stream",
          "name": "stdout",
          "text": [
            "Epoch 19/45 | Mean D Loss: 0.8602 | Mean G Loss: 3.1505\n"
          ]
        },
        {
          "output_type": "stream",
          "name": "stderr",
          "text": [
            "D Loss: 0.8789, G Loss: 3.4841: 100%|██████████| 900/900 [00:36<00:00, 24.65it/s]\n"
          ]
        },
        {
          "output_type": "stream",
          "name": "stdout",
          "text": [
            "Epoch 20/45 | Mean D Loss: 0.9073 | Mean G Loss: 2.8351\n"
          ]
        },
        {
          "output_type": "stream",
          "name": "stderr",
          "text": [
            "D Loss: 0.7745, G Loss: 2.2588: 100%|██████████| 900/900 [00:36<00:00, 24.58it/s]\n"
          ]
        },
        {
          "output_type": "stream",
          "name": "stdout",
          "text": [
            "Epoch 21/45 | Mean D Loss: 0.9062 | Mean G Loss: 2.7165\n"
          ]
        },
        {
          "output_type": "stream",
          "name": "stderr",
          "text": [
            "D Loss: 0.9069, G Loss: 3.2640: 100%|██████████| 900/900 [00:36<00:00, 24.63it/s]\n"
          ]
        },
        {
          "output_type": "stream",
          "name": "stdout",
          "text": [
            "Epoch 22/45 | Mean D Loss: 0.9507 | Mean G Loss: 2.5579\n"
          ]
        },
        {
          "output_type": "stream",
          "name": "stderr",
          "text": [
            "D Loss: 1.1948, G Loss: 2.3361: 100%|██████████| 900/900 [00:36<00:00, 24.72it/s]\n"
          ]
        },
        {
          "output_type": "stream",
          "name": "stdout",
          "text": [
            "Epoch 23/45 | Mean D Loss: 0.9612 | Mean G Loss: 2.4158\n"
          ]
        },
        {
          "output_type": "stream",
          "name": "stderr",
          "text": [
            "D Loss: 1.0822, G Loss: 1.6731: 100%|██████████| 900/900 [00:36<00:00, 24.72it/s]\n"
          ]
        },
        {
          "output_type": "stream",
          "name": "stdout",
          "text": [
            "Epoch 24/45 | Mean D Loss: 1.0025 | Mean G Loss: 2.1405\n"
          ]
        },
        {
          "output_type": "stream",
          "name": "stderr",
          "text": [
            "D Loss: 1.1016, G Loss: 3.5063: 100%|██████████| 900/900 [00:36<00:00, 24.71it/s]\n"
          ]
        },
        {
          "output_type": "stream",
          "name": "stdout",
          "text": [
            "Epoch 25/45 | Mean D Loss: 1.0034 | Mean G Loss: 2.0655\n"
          ]
        },
        {
          "output_type": "stream",
          "name": "stderr",
          "text": [
            "D Loss: 0.8361, G Loss: 2.9908: 100%|██████████| 900/900 [00:36<00:00, 24.48it/s]\n"
          ]
        },
        {
          "output_type": "stream",
          "name": "stdout",
          "text": [
            "Epoch 26/45 | Mean D Loss: 1.0585 | Mean G Loss: 1.8802\n"
          ]
        },
        {
          "output_type": "stream",
          "name": "stderr",
          "text": [
            "D Loss: 1.0182, G Loss: 1.7205: 100%|██████████| 900/900 [00:36<00:00, 24.44it/s]\n"
          ]
        },
        {
          "output_type": "stream",
          "name": "stdout",
          "text": [
            "Epoch 27/45 | Mean D Loss: 1.0618 | Mean G Loss: 1.7327\n"
          ]
        },
        {
          "output_type": "stream",
          "name": "stderr",
          "text": [
            "D Loss: 1.0493, G Loss: 1.8058: 100%|██████████| 900/900 [00:36<00:00, 24.49it/s]\n"
          ]
        },
        {
          "output_type": "stream",
          "name": "stdout",
          "text": [
            "Epoch 28/45 | Mean D Loss: 1.0636 | Mean G Loss: 1.6570\n"
          ]
        },
        {
          "output_type": "stream",
          "name": "stderr",
          "text": [
            "D Loss: 0.9114, G Loss: 2.0106: 100%|██████████| 900/900 [00:36<00:00, 24.70it/s]\n"
          ]
        },
        {
          "output_type": "stream",
          "name": "stdout",
          "text": [
            "Epoch 29/45 | Mean D Loss: 1.0813 | Mean G Loss: 1.6024\n"
          ]
        },
        {
          "output_type": "stream",
          "name": "stderr",
          "text": [
            "D Loss: 1.1937, G Loss: 0.9707: 100%|██████████| 900/900 [00:37<00:00, 24.27it/s]\n"
          ]
        },
        {
          "output_type": "stream",
          "name": "stdout",
          "text": [
            "Epoch 30/45 | Mean D Loss: 1.1293 | Mean G Loss: 1.4102\n"
          ]
        },
        {
          "output_type": "stream",
          "name": "stderr",
          "text": [
            "D Loss: 1.2539, G Loss: 0.7021: 100%|██████████| 900/900 [00:36<00:00, 24.37it/s]\n"
          ]
        },
        {
          "output_type": "stream",
          "name": "stdout",
          "text": [
            "Epoch 31/45 | Mean D Loss: 1.1394 | Mean G Loss: 1.3277\n"
          ]
        },
        {
          "output_type": "stream",
          "name": "stderr",
          "text": [
            "D Loss: 1.0981, G Loss: 1.2770: 100%|██████████| 900/900 [00:36<00:00, 24.44it/s]\n"
          ]
        },
        {
          "output_type": "stream",
          "name": "stdout",
          "text": [
            "Epoch 32/45 | Mean D Loss: 1.1541 | Mean G Loss: 1.2239\n"
          ]
        },
        {
          "output_type": "stream",
          "name": "stderr",
          "text": [
            "D Loss: 1.1548, G Loss: 0.7523: 100%|██████████| 900/900 [00:36<00:00, 24.44it/s]\n"
          ]
        },
        {
          "output_type": "stream",
          "name": "stdout",
          "text": [
            "Epoch 33/45 | Mean D Loss: 1.1535 | Mean G Loss: 1.1891\n"
          ]
        },
        {
          "output_type": "stream",
          "name": "stderr",
          "text": [
            "D Loss: 1.1613, G Loss: 0.8471: 100%|██████████| 900/900 [00:36<00:00, 24.46it/s]\n"
          ]
        },
        {
          "output_type": "stream",
          "name": "stdout",
          "text": [
            "Epoch 34/45 | Mean D Loss: 1.1785 | Mean G Loss: 1.1573\n"
          ]
        },
        {
          "output_type": "stream",
          "name": "stderr",
          "text": [
            "D Loss: 1.3694, G Loss: 2.0301: 100%|██████████| 900/900 [00:36<00:00, 24.73it/s]\n"
          ]
        },
        {
          "output_type": "stream",
          "name": "stdout",
          "text": [
            "Epoch 35/45 | Mean D Loss: 1.2058 | Mean G Loss: 0.9768\n"
          ]
        },
        {
          "output_type": "stream",
          "name": "stderr",
          "text": [
            "D Loss: 1.2354, G Loss: 0.9044: 100%|██████████| 900/900 [00:36<00:00, 24.74it/s]\n"
          ]
        },
        {
          "output_type": "stream",
          "name": "stdout",
          "text": [
            "Epoch 36/45 | Mean D Loss: 1.2142 | Mean G Loss: 0.9251\n"
          ]
        },
        {
          "output_type": "stream",
          "name": "stderr",
          "text": [
            "D Loss: 1.2819, G Loss: 0.5383: 100%|██████████| 900/900 [00:36<00:00, 24.74it/s]\n"
          ]
        },
        {
          "output_type": "stream",
          "name": "stdout",
          "text": [
            "Epoch 37/45 | Mean D Loss: 1.2408 | Mean G Loss: 0.8408\n"
          ]
        },
        {
          "output_type": "stream",
          "name": "stderr",
          "text": [
            "D Loss: 1.3061, G Loss: 0.8834: 100%|██████████| 900/900 [00:36<00:00, 24.73it/s]\n"
          ]
        },
        {
          "output_type": "stream",
          "name": "stdout",
          "text": [
            "Epoch 38/45 | Mean D Loss: 1.2615 | Mean G Loss: 0.7326\n"
          ]
        },
        {
          "output_type": "stream",
          "name": "stderr",
          "text": [
            "D Loss: 1.3064, G Loss: 0.3624: 100%|██████████| 900/900 [00:36<00:00, 24.75it/s]\n"
          ]
        },
        {
          "output_type": "stream",
          "name": "stdout",
          "text": [
            "Epoch 39/45 | Mean D Loss: 1.2575 | Mean G Loss: 0.7277\n"
          ]
        },
        {
          "output_type": "stream",
          "name": "stderr",
          "text": [
            "D Loss: 1.2710, G Loss: 0.5780: 100%|██████████| 900/900 [00:36<00:00, 24.73it/s]\n"
          ]
        },
        {
          "output_type": "stream",
          "name": "stdout",
          "text": [
            "Epoch 40/45 | Mean D Loss: 1.2833 | Mean G Loss: 0.6249\n"
          ]
        },
        {
          "output_type": "stream",
          "name": "stderr",
          "text": [
            "D Loss: 1.3261, G Loss: 0.4244: 100%|██████████| 900/900 [00:36<00:00, 24.74it/s]\n"
          ]
        },
        {
          "output_type": "stream",
          "name": "stdout",
          "text": [
            "Epoch 41/45 | Mean D Loss: 1.2729 | Mean G Loss: 0.6535\n"
          ]
        },
        {
          "output_type": "stream",
          "name": "stderr",
          "text": [
            "D Loss: 1.1062, G Loss: 0.4813: 100%|██████████| 900/900 [00:36<00:00, 24.73it/s]\n"
          ]
        },
        {
          "output_type": "stream",
          "name": "stdout",
          "text": [
            "Epoch 42/45 | Mean D Loss: 1.2908 | Mean G Loss: 0.5703\n"
          ]
        },
        {
          "output_type": "stream",
          "name": "stderr",
          "text": [
            "D Loss: 1.2961, G Loss: 0.8782: 100%|██████████| 900/900 [00:36<00:00, 24.73it/s]\n"
          ]
        },
        {
          "output_type": "stream",
          "name": "stdout",
          "text": [
            "Epoch 43/45 | Mean D Loss: 1.2926 | Mean G Loss: 0.5510\n"
          ]
        },
        {
          "output_type": "stream",
          "name": "stderr",
          "text": [
            "D Loss: 1.2531, G Loss: 0.4179: 100%|██████████| 900/900 [00:36<00:00, 24.70it/s]\n"
          ]
        },
        {
          "output_type": "stream",
          "name": "stdout",
          "text": [
            "Epoch 44/45 | Mean D Loss: 1.3059 | Mean G Loss: 0.5213\n"
          ]
        },
        {
          "output_type": "stream",
          "name": "stderr",
          "text": [
            "D Loss: 1.5175, G Loss: 0.0387: 100%|██████████| 900/900 [00:36<00:00, 24.77it/s]"
          ]
        },
        {
          "output_type": "stream",
          "name": "stdout",
          "text": [
            "Epoch 45/45 | Mean D Loss: 1.3031 | Mean G Loss: 0.4991\n"
          ]
        },
        {
          "output_type": "stream",
          "name": "stderr",
          "text": [
            "\n"
          ]
        }
      ]
    },
    {
      "cell_type": "code",
      "source": [
        "\n",
        "iterations = list(range(1, len(losses_discriminator) + 1))\n",
        "\n",
        "plt.figure(figsize=(8, 5))\n",
        "plt.plot(iterations, losses_generator, label=\"Generator\", color=\"blue\", linewidth=2)\n",
        "plt.plot(iterations, losses_discriminator, label=\"Discriminator\", color=\"red\", linewidth=2)\n",
        "\n",
        "plt.xlabel(\"Iterations\")\n",
        "plt.ylabel(\"Loss\")\n",
        "plt.title(\"Medium GAN Loss Trend\")\n",
        "plt.legend()\n",
        "plt.grid(True)\n",
        "plt.tight_layout()\n",
        "plt.show()"
      ],
      "metadata": {
        "id": "TAtANdICcwG-",
        "outputId": "7c5b0c65-6fe0-4424-f76c-5ea534bc8d05",
        "colab": {
          "base_uri": "https://localhost:8080/",
          "height": 507
        }
      },
      "id": "TAtANdICcwG-",
      "execution_count": null,
      "outputs": [
        {
          "output_type": "display_data",
          "data": {
            "text/plain": [
              "<Figure size 800x500 with 1 Axes>"
            ],
            "image/png": "[encoded data removed]"
          },
          "metadata": {}
        }
      ]
    },
    {
      "cell_type": "code",
      "source": [
        "gan_medium.save(\"gan_medium.pth\")"
      ],
      "metadata": {
        "colab": {
          "base_uri": "https://localhost:8080/"
        },
        "id": "Xe9E1A1yr8I0",
        "outputId": "c9fb5474-5b84-4a8b-93c9-73f2c367c2f1"
      },
      "id": "Xe9E1A1yr8I0",
      "execution_count": null,
      "outputs": [
        {
          "output_type": "stream",
          "name": "stdout",
          "text": [
            "Generator + Discriminator weights saved to gan_medium.pth\n"
          ]
        }
      ]
    },
    {
      "cell_type": "markdown",
      "source": [
        "load GAN medium"
      ],
      "metadata": {
        "id": "GYXJfvNEr-dA"
      },
      "id": "GYXJfvNEr-dA"
    },
    {
      "cell_type": "code",
      "source": [
        "!gdown --id 1_iTzfIvq9uKgUXOnfd_TRjDiKva3vtZo\n",
        "\n",
        "gan_medium = MidiGAN.load(\n",
        "    generator_class=GeneratorMedium,\n",
        "    discriminator_class=DiscriminatorMedium,\n",
        "    filepath=\"gan_medium.pth\",\n",
        "    noise_dim=512,\n",
        "    sequence_length=512,\n",
        "    tokenizer=tokenizer,\n",
        "    gen_kwargs=generator_config,\n",
        "    disc_kwargs=discriminator_config,\n",
        ")"
      ],
      "metadata": {
        "id": "nBjuuI64sBqM"
      },
      "id": "nBjuuI64sBqM",
      "execution_count": null,
      "outputs": []
    },
    {
      "cell_type": "markdown",
      "source": [
        "## Trainig GAN Large"
      ],
      "metadata": {
        "id": "K_jvB6nyMLEH"
      },
      "id": "K_jvB6nyMLEH"
    },
    {
      "cell_type": "code",
      "source": [
        "\n",
        "generator = GeneratorLarge(**generator_config)\n",
        "discriminator = DiscriminatorLarge(**discriminator_config)\n",
        "\n",
        "gan_params = {\n",
        "    \"generator\"                : generator,\n",
        "    \"discriminator\"            : discriminator,\n",
        "    \"noise_dim\"                : noise_dim,\n",
        "    \"sequence_length\"          : seq_length,\n",
        "    \"tokenizer\"                : tokenizer,\n",
        "}\n",
        "\n",
        "\n",
        "device = torch.device(\"cuda\" if torch.cuda.is_available() else \"cpu\")\n",
        "torch.cuda.set_device(0) if torch.cuda.is_available() else None\n",
        "\n",
        "sequence_length = seq_length\n",
        "batch_size = batch_size\n",
        "vocab_size = len(tokenizer)\n",
        "normalized_tokens = normalize_data(all_ids_train, vocab_size)\n",
        "\n",
        "print(f\"Normalizzazione completata | Max: {normalized_tokens.max():.4f}, Min: {normalized_tokens.min():.4f}\")\n",
        "\n",
        "sequences = [\n",
        "    normalized_tokens[i : i + sequence_length]\n",
        "    for i in range(0, len(normalized_tokens) - sequence_length, sequence_length)\n",
        "]\n",
        "\n",
        "dataset = TokenDataset(sequences)\n",
        "dataloader = DataLoader(\n",
        "    dataset,\n",
        "    batch_size=batch_size,\n",
        "    shuffle=True,\n",
        "    drop_last=True,\n",
        "    num_workers=4\n",
        ")\n",
        "\n",
        "_ = torch.ones(1, device=device)\n",
        "print(f\"Dataset pronto. Batch size: {batch_size}, Numero batch: {len(dataloader)}\")"
      ],
      "metadata": {
        "id": "9lNN423ALMGP",
        "outputId": "aee772b5-80a4-4b04-9ba5-4c067bb71c53",
        "colab": {
          "base_uri": "https://localhost:8080/"
        }
      },
      "id": "9lNN423ALMGP",
      "execution_count": null,
      "outputs": [
        {
          "output_type": "stream",
          "name": "stdout",
          "text": [
            "Normalizzazione completata | Max: 0.9996, Min: -0.9988\n",
            "Dataset pronto. Batch size: 128, Numero batch: 900\n"
          ]
        }
      ]
    },
    {
      "cell_type": "code",
      "source": [
        "gan_large = MidiGAN(**gan_params)\n",
        "\n",
        "training_arguments = {\n",
        "    \"dataloader\"            : dataloader,\n",
        "    \"epochs\"                : 45,\n",
        "    \"device\"                : device,\n",
        "    \"steps_each_print\"      : 10,\n",
        "    \"generator_steps\"       : 1,\n",
        "    \"discriminator_steps\"   : 1,\n",
        "}\n",
        "\n",
        "losses_discriminator, losses_generator = gan_large.train(**training_arguments)"
      ],
      "metadata": {
        "id": "ShyXVWalLRlf",
        "colab": {
          "base_uri": "https://localhost:8080/"
        },
        "outputId": "f9564f07-d172-421a-f713-5d4a7bc34fe3"
      },
      "id": "ShyXVWalLRlf",
      "execution_count": null,
      "outputs": [
        {
          "output_type": "stream",
          "name": "stdout",
          "text": [
            "Starting training for 45 epochs\n"
          ]
        },
        {
          "output_type": "stream",
          "name": "stderr",
          "text": [
            "D Loss: 1.1245, G Loss: 0.4908: 100%|██████████| 900/900 [02:11<00:00,  6.82it/s]\n"
          ]
        },
        {
          "output_type": "stream",
          "name": "stdout",
          "text": [
            "Epoch 1/45 | Mean D Loss: 1.3321 | Mean G Loss: 0.8171\n"
          ]
        },
        {
          "output_type": "stream",
          "name": "stderr",
          "text": [
            "D Loss: 0.1045, G Loss: 6.4219: 100%|██████████| 900/900 [02:12<00:00,  6.81it/s]\n"
          ]
        },
        {
          "output_type": "stream",
          "name": "stdout",
          "text": [
            "Epoch 2/45 | Mean D Loss: 0.4848 | Mean G Loss: 3.6822\n"
          ]
        },
        {
          "output_type": "stream",
          "name": "stderr",
          "text": [
            "D Loss: 0.0149, G Loss: 7.9732: 100%|██████████| 900/900 [02:12<00:00,  6.82it/s]\n"
          ]
        },
        {
          "output_type": "stream",
          "name": "stdout",
          "text": [
            "Epoch 3/45 | Mean D Loss: 0.1689 | Mean G Loss: 6.1367\n"
          ]
        },
        {
          "output_type": "stream",
          "name": "stderr",
          "text": [
            "D Loss: 1.5515, G Loss: -0.1646: 100%|██████████| 900/900 [02:12<00:00,  6.82it/s]\n"
          ]
        },
        {
          "output_type": "stream",
          "name": "stdout",
          "text": [
            "Epoch 4/45 | Mean D Loss: 0.5202 | Mean G Loss: 5.0734\n"
          ]
        },
        {
          "output_type": "stream",
          "name": "stderr",
          "text": [
            "D Loss: 1.4089, G Loss: 0.0748: 100%|██████████| 900/900 [02:12<00:00,  6.81it/s]\n"
          ]
        },
        {
          "output_type": "stream",
          "name": "stdout",
          "text": [
            "Epoch 5/45 | Mean D Loss: 1.4233 | Mean G Loss: 0.0042\n"
          ]
        },
        {
          "output_type": "stream",
          "name": "stderr",
          "text": [
            "D Loss: 1.3692, G Loss: 0.1425: 100%|██████████| 900/900 [02:12<00:00,  6.80it/s]\n"
          ]
        },
        {
          "output_type": "stream",
          "name": "stdout",
          "text": [
            "Epoch 6/45 | Mean D Loss: 1.4037 | Mean G Loss: 0.0771\n"
          ]
        },
        {
          "output_type": "stream",
          "name": "stderr",
          "text": [
            "D Loss: 0.2654, G Loss: 2.9888: 100%|██████████| 900/900 [02:12<00:00,  6.79it/s]\n"
          ]
        },
        {
          "output_type": "stream",
          "name": "stdout",
          "text": [
            "Epoch 7/45 | Mean D Loss: 0.9546 | Mean G Loss: 2.1864\n"
          ]
        },
        {
          "output_type": "stream",
          "name": "stderr",
          "text": [
            "D Loss: 1.4122, G Loss: 0.0046: 100%|██████████| 900/900 [02:12<00:00,  6.80it/s]\n"
          ]
        },
        {
          "output_type": "stream",
          "name": "stdout",
          "text": [
            "Epoch 8/45 | Mean D Loss: 1.3563 | Mean G Loss: 0.3116\n"
          ]
        },
        {
          "output_type": "stream",
          "name": "stderr",
          "text": [
            "D Loss: 1.4027, G Loss: -0.0265: 100%|██████████| 900/900 [02:12<00:00,  6.80it/s]\n"
          ]
        },
        {
          "output_type": "stream",
          "name": "stdout",
          "text": [
            "Epoch 9/45 | Mean D Loss: 1.5043 | Mean G Loss: 0.0582\n"
          ]
        },
        {
          "output_type": "stream",
          "name": "stderr",
          "text": [
            "D Loss: 1.3802, G Loss: 0.1930: 100%|██████████| 900/900 [02:12<00:00,  6.80it/s]\n"
          ]
        },
        {
          "output_type": "stream",
          "name": "stdout",
          "text": [
            "Epoch 10/45 | Mean D Loss: 1.3954 | Mean G Loss: 0.0149\n"
          ]
        },
        {
          "output_type": "stream",
          "name": "stderr",
          "text": [
            "D Loss: 0.3131, G Loss: 0.4828: 100%|██████████| 900/900 [02:12<00:00,  6.79it/s]\n"
          ]
        },
        {
          "output_type": "stream",
          "name": "stdout",
          "text": [
            "Epoch 11/45 | Mean D Loss: 1.3070 | Mean G Loss: 0.5997\n"
          ]
        },
        {
          "output_type": "stream",
          "name": "stderr",
          "text": [
            "D Loss: 0.2410, G Loss: 4.1379: 100%|██████████| 900/900 [02:12<00:00,  6.79it/s]\n"
          ]
        },
        {
          "output_type": "stream",
          "name": "stdout",
          "text": [
            "Epoch 12/45 | Mean D Loss: 0.7059 | Mean G Loss: 3.3155\n"
          ]
        },
        {
          "output_type": "stream",
          "name": "stderr",
          "text": [
            "D Loss: 0.3246, G Loss: 3.5470: 100%|██████████| 900/900 [02:12<00:00,  6.80it/s]\n"
          ]
        },
        {
          "output_type": "stream",
          "name": "stdout",
          "text": [
            "Epoch 13/45 | Mean D Loss: 0.6607 | Mean G Loss: 4.3519\n"
          ]
        },
        {
          "output_type": "stream",
          "name": "stderr",
          "text": [
            "D Loss: 0.8190, G Loss: 2.2124: 100%|██████████| 900/900 [02:12<00:00,  6.80it/s]\n"
          ]
        },
        {
          "output_type": "stream",
          "name": "stdout",
          "text": [
            "Epoch 14/45 | Mean D Loss: 0.7830 | Mean G Loss: 3.8229\n"
          ]
        },
        {
          "output_type": "stream",
          "name": "stderr",
          "text": [
            "D Loss: 0.8165, G Loss: 2.2794: 100%|██████████| 900/900 [02:12<00:00,  6.80it/s]\n"
          ]
        },
        {
          "output_type": "stream",
          "name": "stdout",
          "text": [
            "Epoch 15/45 | Mean D Loss: 0.9083 | Mean G Loss: 2.9677\n"
          ]
        },
        {
          "output_type": "stream",
          "name": "stderr",
          "text": [
            "D Loss: 0.9812, G Loss: 3.6160: 100%|██████████| 900/900 [02:12<00:00,  6.80it/s]\n"
          ]
        },
        {
          "output_type": "stream",
          "name": "stdout",
          "text": [
            "Epoch 16/45 | Mean D Loss: 0.9019 | Mean G Loss: 2.7318\n"
          ]
        },
        {
          "output_type": "stream",
          "name": "stderr",
          "text": [
            "D Loss: 0.8069, G Loss: 1.7922: 100%|██████████| 900/900 [02:12<00:00,  6.79it/s]\n"
          ]
        },
        {
          "output_type": "stream",
          "name": "stdout",
          "text": [
            "Epoch 17/45 | Mean D Loss: 0.9022 | Mean G Loss: 2.6112\n"
          ]
        },
        {
          "output_type": "stream",
          "name": "stderr",
          "text": [
            "D Loss: 0.7314, G Loss: 2.5803: 100%|██████████| 900/900 [02:12<00:00,  6.77it/s]\n"
          ]
        },
        {
          "output_type": "stream",
          "name": "stdout",
          "text": [
            "Epoch 18/45 | Mean D Loss: 0.9319 | Mean G Loss: 2.4845\n"
          ]
        },
        {
          "output_type": "stream",
          "name": "stderr",
          "text": [
            "D Loss: 0.8861, G Loss: 3.3758: 100%|██████████| 900/900 [02:12<00:00,  6.77it/s]\n"
          ]
        },
        {
          "output_type": "stream",
          "name": "stdout",
          "text": [
            "Epoch 19/45 | Mean D Loss: 0.9932 | Mean G Loss: 2.2514\n"
          ]
        },
        {
          "output_type": "stream",
          "name": "stderr",
          "text": [
            "D Loss: 1.2836, G Loss: 1.0446: 100%|██████████| 900/900 [02:12<00:00,  6.80it/s]\n"
          ]
        },
        {
          "output_type": "stream",
          "name": "stdout",
          "text": [
            "Epoch 20/45 | Mean D Loss: 1.0445 | Mean G Loss: 2.0434\n"
          ]
        },
        {
          "output_type": "stream",
          "name": "stderr",
          "text": [
            "D Loss: 1.2493, G Loss: 1.6867: 100%|██████████| 900/900 [02:12<00:00,  6.80it/s]\n"
          ]
        },
        {
          "output_type": "stream",
          "name": "stdout",
          "text": [
            "Epoch 21/45 | Mean D Loss: 1.0600 | Mean G Loss: 1.9137\n"
          ]
        },
        {
          "output_type": "stream",
          "name": "stderr",
          "text": [
            "D Loss: 0.9535, G Loss: 1.8016: 100%|██████████| 900/900 [02:12<00:00,  6.80it/s]\n"
          ]
        },
        {
          "output_type": "stream",
          "name": "stdout",
          "text": [
            "Epoch 22/45 | Mean D Loss: 1.0295 | Mean G Loss: 1.8552\n"
          ]
        },
        {
          "output_type": "stream",
          "name": "stderr",
          "text": [
            "D Loss: 1.0646, G Loss: 1.3085: 100%|██████████| 900/900 [02:12<00:00,  6.80it/s]\n"
          ]
        },
        {
          "output_type": "stream",
          "name": "stdout",
          "text": [
            "Epoch 23/45 | Mean D Loss: 1.0552 | Mean G Loss: 1.7007\n"
          ]
        },
        {
          "output_type": "stream",
          "name": "stderr",
          "text": [
            "D Loss: 1.1735, G Loss: 0.7071: 100%|██████████| 900/900 [02:12<00:00,  6.78it/s]\n"
          ]
        },
        {
          "output_type": "stream",
          "name": "stdout",
          "text": [
            "Epoch 24/45 | Mean D Loss: 1.1234 | Mean G Loss: 1.4364\n"
          ]
        },
        {
          "output_type": "stream",
          "name": "stderr",
          "text": [
            "D Loss: 2.2312, G Loss: 2.6378: 100%|██████████| 900/900 [02:12<00:00,  6.80it/s]\n"
          ]
        },
        {
          "output_type": "stream",
          "name": "stdout",
          "text": [
            "Epoch 25/45 | Mean D Loss: 1.1434 | Mean G Loss: 1.2812\n"
          ]
        },
        {
          "output_type": "stream",
          "name": "stderr",
          "text": [
            "D Loss: 1.1684, G Loss: 1.5381: 100%|██████████| 900/900 [02:12<00:00,  6.80it/s]\n"
          ]
        },
        {
          "output_type": "stream",
          "name": "stdout",
          "text": [
            "Epoch 26/45 | Mean D Loss: 1.1884 | Mean G Loss: 1.0545\n"
          ]
        },
        {
          "output_type": "stream",
          "name": "stderr",
          "text": [
            "D Loss: 1.1837, G Loss: 0.7962: 100%|██████████| 900/900 [02:12<00:00,  6.80it/s]\n"
          ]
        },
        {
          "output_type": "stream",
          "name": "stdout",
          "text": [
            "Epoch 27/45 | Mean D Loss: 1.1855 | Mean G Loss: 1.0268\n"
          ]
        },
        {
          "output_type": "stream",
          "name": "stderr",
          "text": [
            "D Loss: 1.2073, G Loss: 3.6761: 100%|██████████| 900/900 [02:12<00:00,  6.80it/s]\n"
          ]
        },
        {
          "output_type": "stream",
          "name": "stdout",
          "text": [
            "Epoch 28/45 | Mean D Loss: 1.1989 | Mean G Loss: 0.9614\n"
          ]
        },
        {
          "output_type": "stream",
          "name": "stderr",
          "text": [
            "D Loss: 1.3256, G Loss: 0.6248: 100%|██████████| 900/900 [02:12<00:00,  6.80it/s]\n"
          ]
        },
        {
          "output_type": "stream",
          "name": "stdout",
          "text": [
            "Epoch 29/45 | Mean D Loss: 1.2174 | Mean G Loss: 0.8784\n"
          ]
        },
        {
          "output_type": "stream",
          "name": "stderr",
          "text": [
            "D Loss: 1.2901, G Loss: 0.4415: 100%|██████████| 900/900 [02:12<00:00,  6.80it/s]\n"
          ]
        },
        {
          "output_type": "stream",
          "name": "stdout",
          "text": [
            "Epoch 30/45 | Mean D Loss: 1.2554 | Mean G Loss: 0.7276\n"
          ]
        },
        {
          "output_type": "stream",
          "name": "stderr",
          "text": [
            "D Loss: 1.0670, G Loss: 0.7457: 100%|██████████| 900/900 [02:12<00:00,  6.80it/s]\n"
          ]
        },
        {
          "output_type": "stream",
          "name": "stdout",
          "text": [
            "Epoch 31/45 | Mean D Loss: 1.2558 | Mean G Loss: 0.6874\n"
          ]
        },
        {
          "output_type": "stream",
          "name": "stderr",
          "text": [
            "D Loss: 1.2430, G Loss: 0.4760: 100%|██████████| 900/900 [02:12<00:00,  6.80it/s]\n"
          ]
        },
        {
          "output_type": "stream",
          "name": "stdout",
          "text": [
            "Epoch 32/45 | Mean D Loss: 1.2629 | Mean G Loss: 0.6446\n"
          ]
        },
        {
          "output_type": "stream",
          "name": "stderr",
          "text": [
            "D Loss: 1.3666, G Loss: 0.2192: 100%|██████████| 900/900 [02:12<00:00,  6.80it/s]\n"
          ]
        },
        {
          "output_type": "stream",
          "name": "stdout",
          "text": [
            "Epoch 33/45 | Mean D Loss: 1.2858 | Mean G Loss: 0.5597\n"
          ]
        },
        {
          "output_type": "stream",
          "name": "stderr",
          "text": [
            "D Loss: 1.3251, G Loss: 0.3150: 100%|██████████| 900/900 [02:12<00:00,  6.80it/s]\n"
          ]
        },
        {
          "output_type": "stream",
          "name": "stdout",
          "text": [
            "Epoch 34/45 | Mean D Loss: 1.3063 | Mean G Loss: 0.4743\n"
          ]
        },
        {
          "output_type": "stream",
          "name": "stderr",
          "text": [
            "D Loss: 1.3438, G Loss: 0.2009: 100%|██████████| 900/900 [02:12<00:00,  6.80it/s]\n"
          ]
        },
        {
          "output_type": "stream",
          "name": "stdout",
          "text": [
            "Epoch 35/45 | Mean D Loss: 1.3097 | Mean G Loss: 0.4586\n"
          ]
        },
        {
          "output_type": "stream",
          "name": "stderr",
          "text": [
            "D Loss: 1.2961, G Loss: 0.2771: 100%|██████████| 900/900 [02:12<00:00,  6.80it/s]\n"
          ]
        },
        {
          "output_type": "stream",
          "name": "stdout",
          "text": [
            "Epoch 36/45 | Mean D Loss: 1.3229 | Mean G Loss: 0.4008\n"
          ]
        },
        {
          "output_type": "stream",
          "name": "stderr",
          "text": [
            "D Loss: 1.3811, G Loss: 0.2628: 100%|██████████| 900/900 [02:12<00:00,  6.80it/s]\n"
          ]
        },
        {
          "output_type": "stream",
          "name": "stdout",
          "text": [
            "Epoch 37/45 | Mean D Loss: 1.3208 | Mean G Loss: 0.3935\n"
          ]
        },
        {
          "output_type": "stream",
          "name": "stderr",
          "text": [
            "D Loss: 1.2546, G Loss: 0.2681: 100%|██████████| 900/900 [02:12<00:00,  6.80it/s]\n"
          ]
        },
        {
          "output_type": "stream",
          "name": "stdout",
          "text": [
            "Epoch 38/45 | Mean D Loss: 1.3268 | Mean G Loss: 0.3549\n"
          ]
        },
        {
          "output_type": "stream",
          "name": "stderr",
          "text": [
            "D Loss: 1.3802, G Loss: 0.2548: 100%|██████████| 900/900 [02:12<00:00,  6.80it/s]\n"
          ]
        },
        {
          "output_type": "stream",
          "name": "stdout",
          "text": [
            "Epoch 39/45 | Mean D Loss: 1.3305 | Mean G Loss: 0.3432\n"
          ]
        },
        {
          "output_type": "stream",
          "name": "stderr",
          "text": [
            "D Loss: 1.2561, G Loss: 0.4101: 100%|██████████| 900/900 [02:12<00:00,  6.80it/s]\n"
          ]
        },
        {
          "output_type": "stream",
          "name": "stdout",
          "text": [
            "Epoch 40/45 | Mean D Loss: 1.3285 | Mean G Loss: 0.3343\n"
          ]
        },
        {
          "output_type": "stream",
          "name": "stderr",
          "text": [
            "D Loss: 1.2934, G Loss: 0.3413: 100%|██████████| 900/900 [02:12<00:00,  6.80it/s]\n"
          ]
        },
        {
          "output_type": "stream",
          "name": "stdout",
          "text": [
            "Epoch 41/45 | Mean D Loss: 1.3436 | Mean G Loss: 0.2905\n"
          ]
        },
        {
          "output_type": "stream",
          "name": "stderr",
          "text": [
            "D Loss: 1.2917, G Loss: 0.4630: 100%|██████████| 900/900 [02:12<00:00,  6.80it/s]\n"
          ]
        },
        {
          "output_type": "stream",
          "name": "stdout",
          "text": [
            "Epoch 42/45 | Mean D Loss: 1.3548 | Mean G Loss: 0.2452\n"
          ]
        },
        {
          "output_type": "stream",
          "name": "stderr",
          "text": [
            "D Loss: 1.5180, G Loss: -0.4483: 100%|██████████| 900/900 [02:12<00:00,  6.78it/s]\n"
          ]
        },
        {
          "output_type": "stream",
          "name": "stdout",
          "text": [
            "Epoch 43/45 | Mean D Loss: 1.3512 | Mean G Loss: 0.2371\n"
          ]
        },
        {
          "output_type": "stream",
          "name": "stderr",
          "text": [
            "D Loss: 1.3374, G Loss: 0.1593: 100%|██████████| 900/900 [02:12<00:00,  6.80it/s]\n"
          ]
        },
        {
          "output_type": "stream",
          "name": "stdout",
          "text": [
            "Epoch 44/45 | Mean D Loss: 1.3557 | Mean G Loss: 0.2235\n"
          ]
        },
        {
          "output_type": "stream",
          "name": "stderr",
          "text": [
            "D Loss: 1.4147, G Loss: -0.0121: 100%|██████████| 900/900 [02:12<00:00,  6.80it/s]"
          ]
        },
        {
          "output_type": "stream",
          "name": "stdout",
          "text": [
            "Epoch 45/45 | Mean D Loss: 1.3581 | Mean G Loss: 0.2077\n"
          ]
        },
        {
          "output_type": "stream",
          "name": "stderr",
          "text": [
            "\n"
          ]
        }
      ]
    },
    {
      "cell_type": "code",
      "source": [
        "\n",
        "iterations = list(range(1, len(losses_discriminator) + 1))\n",
        "\n",
        "plt.figure(figsize=(8, 5))\n",
        "plt.plot(iterations, losses_generator, label=\"Generator\", color=\"blue\", linewidth=2)\n",
        "plt.plot(iterations, losses_discriminator, label=\"Discriminator\", color=\"red\", linewidth=2)\n",
        "\n",
        "plt.xlabel(\"Iterations\")\n",
        "plt.ylabel(\"Loss\")\n",
        "plt.title(\"Large GAN Loss Trend\")\n",
        "plt.legend()\n",
        "plt.grid(True)\n",
        "plt.tight_layout()\n",
        "plt.show()"
      ],
      "metadata": {
        "id": "50MSVoffUkoA",
        "outputId": "7035cfce-8f5e-4d95-d209-4e0c8a453301",
        "colab": {
          "base_uri": "https://localhost:8080/",
          "height": 507
        }
      },
      "id": "50MSVoffUkoA",
      "execution_count": null,
      "outputs": [
        {
          "output_type": "display_data",
          "data": {
            "text/plain": [
              "<Figure size 800x500 with 1 Axes>"
            ],
            "image/png": "[encoded data removed]"
          },
          "metadata": {}
        }
      ]
    },
    {
      "cell_type": "code",
      "source": [
        "gan_large.save(\"gan_large.pth\")"
      ],
      "metadata": {
        "id": "BQMEsina2N-x",
        "colab": {
          "base_uri": "https://localhost:8080/"
        },
        "outputId": "c56877af-f4c7-42b1-bd3d-b7ce35902793"
      },
      "id": "BQMEsina2N-x",
      "execution_count": null,
      "outputs": [
        {
          "output_type": "stream",
          "name": "stdout",
          "text": [
            "Generator + Discriminator weights saved to gan_large.pth\n"
          ]
        }
      ]
    },
    {
      "cell_type": "markdown",
      "source": [
        "load GAN large"
      ],
      "metadata": {
        "id": "bmk2zhacsYlH"
      },
      "id": "bmk2zhacsYlH"
    },
    {
      "cell_type": "code",
      "source": [
        "!gdown 1W7JZpFX65NGmcNvp_yB8bcKM06s91C0v\n",
        "\n",
        "gan_large = MidiGAN.load(\n",
        "    generator_class=GeneratorLarge,\n",
        "    discriminator_class=DiscriminatorLarge,\n",
        "    filepath=\"gan_large.pth\",\n",
        "    noise_dim=512,\n",
        "    sequence_length=512,\n",
        "    tokenizer=tokenizer,\n",
        "    gen_kwargs=generator_config,\n",
        "    disc_kwargs=discriminator_config,\n",
        ")"
      ],
      "metadata": {
        "id": "eOw9sI7OsSTi"
      },
      "id": "eOw9sI7OsSTi",
      "execution_count": null,
      "outputs": []
    },
    {
      "cell_type": "markdown",
      "source": [
        "## Generate Music\n",
        "\n",
        "Below are generated folders and 150 midi files for all 3 trained models."
      ],
      "metadata": {
        "id": "m-iYDvzCP0B1"
      },
      "id": "m-iYDvzCP0B1"
    },
    {
      "cell_type": "code",
      "source": [
        "num_midi_files = 150\n",
        "\n",
        "output_folder = \"generated_mini\"\n",
        "output_prefix = f\"{output_folder}/generated_midi\"\n",
        "\n",
        "os.makedirs(output_folder, exist_ok=True)\n",
        "\n",
        "gan_mini.generate_midi(n_samples=num_midi_files, output_prefix=output_prefix, device=device)\n",
        "\n",
        "!zip -r genereted_mini.zip generated_mini"
      ],
      "metadata": {
        "id": "PbJ_VlEfVgWj"
      },
      "id": "PbJ_VlEfVgWj",
      "execution_count": null,
      "outputs": []
    },
    {
      "cell_type": "code",
      "source": [
        "num_midi_files = 150\n",
        "\n",
        "output_folder = \"generated_medium\"\n",
        "output_prefix = f\"{output_folder}/generated_midi\"\n",
        "\n",
        "os.makedirs(output_folder, exist_ok=True)\n",
        "\n",
        "gan_medium.generate_midi(n_samples=num_midi_files, output_prefix=output_prefix, device=device)\n",
        "\n",
        "!zip -r genereted_medium.zip generated_medium"
      ],
      "metadata": {
        "id": "usYASEHPVCdv"
      },
      "id": "usYASEHPVCdv",
      "execution_count": null,
      "outputs": []
    },
    {
      "cell_type": "code",
      "source": [
        "num_midi_files = 150\n",
        "\n",
        "output_folder = \"generated_large\"\n",
        "output_prefix = f\"{output_folder}/generated_midi\"\n",
        "\n",
        "os.makedirs(output_folder, exist_ok=True)\n",
        "\n",
        "gan_large.generate_midi(n_samples=num_midi_files, output_prefix=output_prefix, device=device)\n",
        "\n",
        "!zip -r genereted_large.zip generated_large"
      ],
      "metadata": {
        "id": "TtBOSCLSVIQH"
      },
      "id": "TtBOSCLSVIQH",
      "execution_count": null,
      "outputs": []
    },
    {
      "cell_type": "markdown",
      "source": [
        "it is possible to download the generated midi of the following"
      ],
      "metadata": {
        "id": "RLAKV4C-FC-n"
      },
      "id": "RLAKV4C-FC-n"
    },
    {
      "cell_type": "code",
      "source": [
        "!gdown --id 1WkvlkDzM3Imq4uTPb8HKlZJShtn1PALQ\n",
        "!gdown --id 1pxin2tf0wmc-mIWlSC3mZOnaXKTcK6C3\n",
        "!gdown --id 1hIDcYxzWmotoMZP5C8e_WFb4vGUH9cIi\n",
        "\n",
        "!unzip genereted_mini.zip\n",
        "!unzip genereted_medium.zip\n",
        "!unzip genereted_large.zip"
      ],
      "metadata": {
        "id": "7miRRCTFc5Qr",
        "outputId": "09e96c0e-d5dc-4f12-d35c-a5b338a772cc",
        "colab": {
          "base_uri": "https://localhost:8080/"
        }
      },
      "id": "7miRRCTFc5Qr",
      "execution_count": 8,
      "outputs": [
        {
          "output_type": "stream",
          "name": "stdout",
          "text": [
            "/usr/local/lib/python3.12/dist-packages/gdown/__main__.py:140: FutureWarning: Option `--id` was deprecated in version 4.3.1 and will be removed in 5.0. You don't need to pass it anymore to use a file ID.\n",
            "  warnings.warn(\n",
            "Downloading...\n",
            "From: https://drive.google.com/uc?id=1WkvlkDzM3Imq4uTPb8HKlZJShtn1PALQ\n",
            "To: /content/genereted_medium.zip\n",
            "100% 216k/216k [00:00<00:00, 111MB/s]\n",
            "/usr/local/lib/python3.12/dist-packages/gdown/__main__.py:140: FutureWarning: Option `--id` was deprecated in version 4.3.1 and will be removed in 5.0. You don't need to pass it anymore to use a file ID.\n",
            "  warnings.warn(\n",
            "Downloading...\n",
            "From: https://drive.google.com/uc?id=1pxin2tf0wmc-mIWlSC3mZOnaXKTcK6C3\n",
            "To: /content/genereted_mini.zip\n",
            "100% 218k/218k [00:00<00:00, 97.8MB/s]\n",
            "/usr/local/lib/python3.12/dist-packages/gdown/__main__.py:140: FutureWarning: Option `--id` was deprecated in version 4.3.1 and will be removed in 5.0. You don't need to pass it anymore to use a file ID.\n",
            "  warnings.warn(\n",
            "Downloading...\n",
            "From: https://drive.google.com/uc?id=1hIDcYxzWmotoMZP5C8e_WFb4vGUH9cIi\n",
            "To: /content/genereted_large.zip\n",
            "100% 205k/205k [00:00<00:00, 97.2MB/s]\n",
            "Archive:  genereted_mini.zip\n",
            "   creating: generated_mini/\n",
            "  inflating: generated_mini/generated_midi_128.mid  \n",
            "  inflating: generated_mini/generated_midi_66.mid  \n",
            "  inflating: generated_mini/generated_midi_91.mid  \n",
            "  inflating: generated_mini/generated_midi_130.mid  \n",
            "  inflating: generated_mini/generated_midi_68.mid  \n",
            "  inflating: generated_mini/generated_midi_112.mid  \n",
            "  inflating: generated_mini/generated_midi_75.mid  \n",
            "  inflating: generated_mini/generated_midi_121.mid  \n",
            "  inflating: generated_mini/generated_midi_26.mid  \n",
            "  inflating: generated_mini/generated_midi_2.mid  \n",
            "  inflating: generated_mini/generated_midi_19.mid  \n",
            "  inflating: generated_mini/generated_midi_32.mid  \n",
            "  inflating: generated_mini/generated_midi_37.mid  \n",
            "  inflating: generated_mini/generated_midi_71.mid  \n",
            "  inflating: generated_mini/generated_midi_31.mid  \n",
            "  inflating: generated_mini/generated_midi_83.mid  \n",
            "  inflating: generated_mini/generated_midi_67.mid  \n",
            "  inflating: generated_mini/generated_midi_79.mid  \n",
            "  inflating: generated_mini/generated_midi_38.mid  \n",
            "  inflating: generated_mini/generated_midi_147.mid  \n",
            "  inflating: generated_mini/generated_midi_106.mid  \n",
            "  inflating: generated_mini/generated_midi_9.mid  \n",
            "  inflating: generated_mini/generated_midi_35.mid  \n",
            "  inflating: generated_mini/generated_midi_16.mid  \n",
            "  inflating: generated_mini/generated_midi_136.mid  \n",
            "  inflating: generated_mini/generated_midi_62.mid  \n",
            "  inflating: generated_mini/generated_midi_103.mid  \n",
            "  inflating: generated_mini/generated_midi_80.mid  \n",
            "  inflating: generated_mini/generated_midi_73.mid  \n",
            "  inflating: generated_mini/generated_midi_11.mid  \n",
            "  inflating: generated_mini/generated_midi_108.mid  \n",
            "  inflating: generated_mini/generated_midi_3.mid  \n",
            "  inflating: generated_mini/generated_midi_36.mid  \n",
            "  inflating: generated_mini/generated_midi_49.mid  \n",
            "  inflating: generated_mini/generated_midi_34.mid  \n",
            "  inflating: generated_mini/generated_midi_77.mid  \n",
            "  inflating: generated_mini/generated_midi_45.mid  \n",
            "  inflating: generated_mini/generated_midi_111.mid  \n",
            "  inflating: generated_mini/generated_midi_120.mid  \n",
            "  inflating: generated_mini/generated_midi_47.mid  \n",
            "  inflating: generated_mini/generated_midi_132.mid  \n",
            "  inflating: generated_mini/generated_midi_92.mid  \n",
            "  inflating: generated_mini/generated_midi_4.mid  \n",
            "  inflating: generated_mini/generated_midi_1.mid  \n",
            "  inflating: generated_mini/generated_midi_78.mid  \n",
            "  inflating: generated_mini/generated_midi_53.mid  \n",
            "  inflating: generated_mini/generated_midi_140.mid  \n",
            "  inflating: generated_mini/generated_midi_24.mid  \n",
            "  inflating: generated_mini/generated_midi_114.mid  \n",
            "  inflating: generated_mini/generated_midi_23.mid  \n",
            "  inflating: generated_mini/generated_midi_102.mid  \n",
            "  inflating: generated_mini/generated_midi_109.mid  \n",
            "  inflating: generated_mini/generated_midi_122.mid  \n",
            "  inflating: generated_mini/generated_midi_48.mid  \n",
            "  inflating: generated_mini/generated_midi_95.mid  \n",
            "  inflating: generated_mini/generated_midi_27.mid  \n",
            "  inflating: generated_mini/generated_midi_30.mid  \n",
            "  inflating: generated_mini/generated_midi_69.mid  \n",
            "  inflating: generated_mini/generated_midi_13.mid  \n",
            "  inflating: generated_mini/generated_midi_0.mid  \n",
            "  inflating: generated_mini/generated_midi_110.mid  \n",
            "  inflating: generated_mini/generated_midi_51.mid  \n",
            "  inflating: generated_mini/generated_midi_18.mid  \n",
            "  inflating: generated_mini/generated_midi_94.mid  \n",
            "  inflating: generated_mini/generated_midi_124.mid  \n",
            "  inflating: generated_mini/generated_midi_7.mid  \n",
            "  inflating: generated_mini/generated_midi_61.mid  \n",
            "  inflating: generated_mini/generated_midi_33.mid  \n",
            "  inflating: generated_mini/generated_midi_149.mid  \n",
            "  inflating: generated_mini/generated_midi_25.mid  \n",
            "  inflating: generated_mini/generated_midi_15.mid  \n",
            "  inflating: generated_mini/generated_midi_141.mid  \n",
            "  inflating: generated_mini/generated_midi_14.mid  \n",
            "  inflating: generated_mini/generated_midi_127.mid  \n",
            "  inflating: generated_mini/generated_midi_41.mid  \n",
            "  inflating: generated_mini/generated_midi_63.mid  \n",
            "  inflating: generated_mini/generated_midi_10.mid  \n",
            "  inflating: generated_mini/generated_midi_56.mid  \n",
            "  inflating: generated_mini/generated_midi_55.mid  \n",
            "  inflating: generated_mini/generated_midi_129.mid  \n",
            "  inflating: generated_mini/generated_midi_54.mid  \n",
            "  inflating: generated_mini/generated_midi_6.mid  \n",
            "  inflating: generated_mini/generated_midi_81.mid  \n",
            "  inflating: generated_mini/generated_midi_119.mid  \n",
            "  inflating: generated_mini/generated_midi_107.mid  \n",
            "  inflating: generated_mini/generated_midi_138.mid  \n",
            "  inflating: generated_mini/generated_midi_65.mid  \n",
            "  inflating: generated_mini/generated_midi_118.mid  \n",
            "  inflating: generated_mini/generated_midi_144.mid  \n",
            "  inflating: generated_mini/generated_midi_50.mid  \n",
            "  inflating: generated_mini/generated_midi_117.mid  \n",
            "  inflating: generated_mini/generated_midi_126.mid  \n",
            "  inflating: generated_mini/generated_midi_93.mid  \n",
            "  inflating: generated_mini/generated_midi_86.mid  \n",
            "  inflating: generated_mini/generated_midi_131.mid  \n",
            "  inflating: generated_mini/generated_midi_70.mid  \n",
            "  inflating: generated_mini/generated_midi_88.mid  \n",
            "  inflating: generated_mini/generated_midi_85.mid  \n",
            "  inflating: generated_mini/generated_midi_97.mid  \n",
            "  inflating: generated_mini/generated_midi_125.mid  \n",
            "  inflating: generated_mini/generated_midi_87.mid  \n",
            "  inflating: generated_mini/generated_midi_134.mid  \n",
            "  inflating: generated_mini/generated_midi_52.mid  \n",
            "  inflating: generated_mini/generated_midi_84.mid  \n",
            "  inflating: generated_mini/generated_midi_116.mid  \n",
            "  inflating: generated_mini/generated_midi_89.mid  \n",
            "  inflating: generated_mini/generated_midi_57.mid  \n",
            "  inflating: generated_mini/generated_midi_148.mid  \n",
            "  inflating: generated_mini/generated_midi_59.mid  \n",
            "  inflating: generated_mini/generated_midi_82.mid  \n",
            "  inflating: generated_mini/generated_midi_64.mid  \n",
            "  inflating: generated_mini/generated_midi_146.mid  \n",
            "  inflating: generated_mini/generated_midi_99.mid  \n",
            "  inflating: generated_mini/generated_midi_60.mid  \n",
            "  inflating: generated_mini/generated_midi_39.mid  \n",
            "  inflating: generated_mini/generated_midi_43.mid  \n",
            "  inflating: generated_mini/generated_midi_90.mid  \n",
            "  inflating: generated_mini/generated_midi_139.mid  \n",
            "  inflating: generated_mini/generated_midi_12.mid  \n",
            "  inflating: generated_mini/generated_midi_8.mid  \n",
            "  inflating: generated_mini/generated_midi_105.mid  \n",
            "  inflating: generated_mini/generated_midi_74.mid  \n",
            "  inflating: generated_mini/generated_midi_28.mid  \n",
            "  inflating: generated_mini/generated_midi_143.mid  \n",
            "  inflating: generated_mini/generated_midi_20.mid  \n",
            "  inflating: generated_mini/generated_midi_145.mid  \n",
            "  inflating: generated_mini/generated_midi_58.mid  \n",
            "  inflating: generated_mini/generated_midi_135.mid  \n",
            "  inflating: generated_mini/generated_midi_5.mid  \n",
            "  inflating: generated_mini/generated_midi_40.mid  \n",
            "  inflating: generated_mini/generated_midi_96.mid  \n",
            "  inflating: generated_mini/generated_midi_46.mid  \n",
            "  inflating: generated_mini/generated_midi_101.mid  \n",
            "  inflating: generated_mini/generated_midi_137.mid  \n",
            "  inflating: generated_mini/generated_midi_22.mid  \n",
            "  inflating: generated_mini/generated_midi_44.mid  \n",
            "  inflating: generated_mini/generated_midi_113.mid  \n",
            "  inflating: generated_mini/generated_midi_123.mid  \n",
            "  inflating: generated_mini/generated_midi_98.mid  \n",
            "  inflating: generated_mini/generated_midi_42.mid  \n",
            "  inflating: generated_mini/generated_midi_72.mid  \n",
            "  inflating: generated_mini/generated_midi_21.mid  \n",
            "  inflating: generated_mini/generated_midi_115.mid  \n",
            "  inflating: generated_mini/generated_midi_100.mid  \n",
            "  inflating: generated_mini/generated_midi_76.mid  \n",
            "  inflating: generated_mini/generated_midi_133.mid  \n",
            "  inflating: generated_mini/generated_midi_104.mid  \n",
            "  inflating: generated_mini/generated_midi_17.mid  \n",
            "  inflating: generated_mini/generated_midi_142.mid  \n",
            "  inflating: generated_mini/generated_midi_29.mid  \n",
            "Archive:  genereted_medium.zip\n",
            "   creating: generated_medium/\n",
            "  inflating: generated_medium/generated_midi_128.mid  \n",
            "  inflating: generated_medium/generated_midi_66.mid  \n",
            "  inflating: generated_medium/generated_midi_91.mid  \n",
            "  inflating: generated_medium/generated_midi_130.mid  \n",
            "  inflating: generated_medium/generated_midi_68.mid  \n",
            "  inflating: generated_medium/generated_midi_112.mid  \n",
            "  inflating: generated_medium/generated_midi_75.mid  \n",
            "  inflating: generated_medium/generated_midi_121.mid  \n",
            "  inflating: generated_medium/generated_midi_26.mid  \n",
            "  inflating: generated_medium/generated_midi_2.mid  \n",
            "  inflating: generated_medium/generated_midi_19.mid  \n",
            "  inflating: generated_medium/generated_midi_32.mid  \n",
            "  inflating: generated_medium/generated_midi_37.mid  \n",
            "  inflating: generated_medium/generated_midi_71.mid  \n",
            "  inflating: generated_medium/generated_midi_31.mid  \n",
            "  inflating: generated_medium/generated_midi_83.mid  \n",
            "  inflating: generated_medium/generated_midi_67.mid  \n",
            "  inflating: generated_medium/generated_midi_79.mid  \n",
            "  inflating: generated_medium/generated_midi_38.mid  \n",
            "  inflating: generated_medium/generated_midi_147.mid  \n",
            "  inflating: generated_medium/generated_midi_106.mid  \n",
            "  inflating: generated_medium/generated_midi_9.mid  \n",
            "  inflating: generated_medium/generated_midi_35.mid  \n",
            "  inflating: generated_medium/generated_midi_16.mid  \n",
            "  inflating: generated_medium/generated_midi_136.mid  \n",
            "  inflating: generated_medium/generated_midi_62.mid  \n",
            "  inflating: generated_medium/generated_midi_103.mid  \n",
            "  inflating: generated_medium/generated_midi_80.mid  \n",
            "  inflating: generated_medium/generated_midi_73.mid  \n",
            "  inflating: generated_medium/generated_midi_11.mid  \n",
            "  inflating: generated_medium/generated_midi_108.mid  \n",
            "  inflating: generated_medium/generated_midi_3.mid  \n",
            "  inflating: generated_medium/generated_midi_36.mid  \n",
            "  inflating: generated_medium/generated_midi_49.mid  \n",
            "  inflating: generated_medium/generated_midi_34.mid  \n",
            "  inflating: generated_medium/generated_midi_77.mid  \n",
            "  inflating: generated_medium/generated_midi_45.mid  \n",
            "  inflating: generated_medium/generated_midi_111.mid  \n",
            "  inflating: generated_medium/generated_midi_120.mid  \n",
            "  inflating: generated_medium/generated_midi_47.mid  \n",
            "  inflating: generated_medium/generated_midi_132.mid  \n",
            "  inflating: generated_medium/generated_midi_92.mid  \n",
            "  inflating: generated_medium/generated_midi_4.mid  \n",
            "  inflating: generated_medium/generated_midi_1.mid  \n",
            "  inflating: generated_medium/generated_midi_78.mid  \n",
            "  inflating: generated_medium/generated_midi_53.mid  \n",
            "  inflating: generated_medium/generated_midi_140.mid  \n",
            "  inflating: generated_medium/generated_midi_24.mid  \n",
            "  inflating: generated_medium/generated_midi_114.mid  \n",
            "  inflating: generated_medium/generated_midi_23.mid  \n",
            "  inflating: generated_medium/generated_midi_102.mid  \n",
            "  inflating: generated_medium/generated_midi_109.mid  \n",
            "  inflating: generated_medium/generated_midi_122.mid  \n",
            "  inflating: generated_medium/generated_midi_48.mid  \n",
            "  inflating: generated_medium/generated_midi_95.mid  \n",
            "  inflating: generated_medium/generated_midi_27.mid  \n",
            "  inflating: generated_medium/generated_midi_30.mid  \n",
            "  inflating: generated_medium/generated_midi_69.mid  \n",
            "  inflating: generated_medium/generated_midi_13.mid  \n",
            "  inflating: generated_medium/generated_midi_0.mid  \n",
            "  inflating: generated_medium/generated_midi_110.mid  \n",
            "  inflating: generated_medium/generated_midi_51.mid  \n",
            "  inflating: generated_medium/generated_midi_18.mid  \n",
            "  inflating: generated_medium/generated_midi_94.mid  \n",
            "  inflating: generated_medium/generated_midi_124.mid  \n",
            "  inflating: generated_medium/generated_midi_7.mid  \n",
            "  inflating: generated_medium/generated_midi_61.mid  \n",
            "  inflating: generated_medium/generated_midi_33.mid  \n",
            "  inflating: generated_medium/generated_midi_149.mid  \n",
            "  inflating: generated_medium/generated_midi_25.mid  \n",
            "  inflating: generated_medium/generated_midi_15.mid  \n",
            "  inflating: generated_medium/generated_midi_141.mid  \n",
            "  inflating: generated_medium/generated_midi_14.mid  \n",
            "  inflating: generated_medium/generated_midi_127.mid  \n",
            "  inflating: generated_medium/generated_midi_41.mid  \n",
            "  inflating: generated_medium/generated_midi_63.mid  \n",
            "  inflating: generated_medium/generated_midi_10.mid  \n",
            "  inflating: generated_medium/generated_midi_56.mid  \n",
            "  inflating: generated_medium/generated_midi_55.mid  \n",
            "  inflating: generated_medium/generated_midi_129.mid  \n",
            "  inflating: generated_medium/generated_midi_54.mid  \n",
            "  inflating: generated_medium/generated_midi_6.mid  \n",
            "  inflating: generated_medium/generated_midi_81.mid  \n",
            "  inflating: generated_medium/generated_midi_119.mid  \n",
            "  inflating: generated_medium/generated_midi_107.mid  \n",
            "  inflating: generated_medium/generated_midi_138.mid  \n",
            "  inflating: generated_medium/generated_midi_65.mid  \n",
            "  inflating: generated_medium/generated_midi_118.mid  \n",
            "  inflating: generated_medium/generated_midi_144.mid  \n",
            "  inflating: generated_medium/generated_midi_50.mid  \n",
            "  inflating: generated_medium/generated_midi_117.mid  \n",
            "  inflating: generated_medium/generated_midi_126.mid  \n",
            "  inflating: generated_medium/generated_midi_93.mid  \n",
            "  inflating: generated_medium/generated_midi_86.mid  \n",
            "  inflating: generated_medium/generated_midi_131.mid  \n",
            "  inflating: generated_medium/generated_midi_70.mid  \n",
            "  inflating: generated_medium/generated_midi_88.mid  \n",
            "  inflating: generated_medium/generated_midi_85.mid  \n",
            "  inflating: generated_medium/generated_midi_97.mid  \n",
            "  inflating: generated_medium/generated_midi_125.mid  \n",
            "  inflating: generated_medium/generated_midi_87.mid  \n",
            "  inflating: generated_medium/generated_midi_134.mid  \n",
            "  inflating: generated_medium/generated_midi_52.mid  \n",
            "  inflating: generated_medium/generated_midi_84.mid  \n",
            "  inflating: generated_medium/generated_midi_116.mid  \n",
            "  inflating: generated_medium/generated_midi_89.mid  \n",
            "  inflating: generated_medium/generated_midi_57.mid  \n",
            "  inflating: generated_medium/generated_midi_148.mid  \n",
            "  inflating: generated_medium/generated_midi_59.mid  \n",
            "  inflating: generated_medium/generated_midi_82.mid  \n",
            "  inflating: generated_medium/generated_midi_64.mid  \n",
            "  inflating: generated_medium/generated_midi_146.mid  \n",
            "  inflating: generated_medium/generated_midi_99.mid  \n",
            "  inflating: generated_medium/generated_midi_60.mid  \n",
            "  inflating: generated_medium/generated_midi_39.mid  \n",
            "  inflating: generated_medium/generated_midi_43.mid  \n",
            "  inflating: generated_medium/generated_midi_90.mid  \n",
            "  inflating: generated_medium/generated_midi_139.mid  \n",
            "  inflating: generated_medium/generated_midi_12.mid  \n",
            "  inflating: generated_medium/generated_midi_8.mid  \n",
            "  inflating: generated_medium/generated_midi_105.mid  \n",
            "  inflating: generated_medium/generated_midi_74.mid  \n",
            "  inflating: generated_medium/generated_midi_28.mid  \n",
            "  inflating: generated_medium/generated_midi_143.mid  \n",
            "  inflating: generated_medium/generated_midi_20.mid  \n",
            "  inflating: generated_medium/generated_midi_145.mid  \n",
            "  inflating: generated_medium/generated_midi_58.mid  \n",
            "  inflating: generated_medium/generated_midi_135.mid  \n",
            "  inflating: generated_medium/generated_midi_5.mid  \n",
            "  inflating: generated_medium/generated_midi_40.mid  \n",
            "  inflating: generated_medium/generated_midi_96.mid  \n",
            "  inflating: generated_medium/generated_midi_46.mid  \n",
            "  inflating: generated_medium/generated_midi_101.mid  \n",
            "  inflating: generated_medium/generated_midi_137.mid  \n",
            "  inflating: generated_medium/generated_midi_22.mid  \n",
            "  inflating: generated_medium/generated_midi_44.mid  \n",
            "  inflating: generated_medium/generated_midi_113.mid  \n",
            "  inflating: generated_medium/generated_midi_123.mid  \n",
            "  inflating: generated_medium/generated_midi_98.mid  \n",
            "  inflating: generated_medium/generated_midi_42.mid  \n",
            "  inflating: generated_medium/generated_midi_72.mid  \n",
            "  inflating: generated_medium/generated_midi_21.mid  \n",
            "  inflating: generated_medium/generated_midi_115.mid  \n",
            "  inflating: generated_medium/generated_midi_100.mid  \n",
            "  inflating: generated_medium/generated_midi_76.mid  \n",
            "  inflating: generated_medium/generated_midi_133.mid  \n",
            "  inflating: generated_medium/generated_midi_104.mid  \n",
            "  inflating: generated_medium/generated_midi_17.mid  \n",
            "  inflating: generated_medium/generated_midi_142.mid  \n",
            "  inflating: generated_medium/generated_midi_29.mid  \n",
            "Archive:  genereted_large.zip\n",
            "   creating: generated_large/\n",
            "  inflating: generated_large/generated_midi_128.mid  \n",
            "  inflating: generated_large/generated_midi_66.mid  \n",
            "  inflating: generated_large/generated_midi_91.mid  \n",
            "  inflating: generated_large/generated_midi_130.mid  \n",
            "  inflating: generated_large/generated_midi_68.mid  \n",
            "  inflating: generated_large/generated_midi_112.mid  \n",
            "  inflating: generated_large/generated_midi_75.mid  \n",
            "  inflating: generated_large/generated_midi_121.mid  \n",
            "  inflating: generated_large/generated_midi_26.mid  \n",
            "  inflating: generated_large/generated_midi_2.mid  \n",
            "  inflating: generated_large/generated_midi_19.mid  \n",
            "  inflating: generated_large/generated_midi_32.mid  \n",
            "  inflating: generated_large/generated_midi_37.mid  \n",
            "  inflating: generated_large/generated_midi_71.mid  \n",
            "  inflating: generated_large/generated_midi_31.mid  \n",
            "  inflating: generated_large/generated_midi_83.mid  \n",
            "  inflating: generated_large/generated_midi_67.mid  \n",
            "  inflating: generated_large/generated_midi_79.mid  \n",
            "  inflating: generated_large/generated_midi_38.mid  \n",
            "  inflating: generated_large/generated_midi_147.mid  \n",
            "  inflating: generated_large/generated_midi_106.mid  \n",
            "  inflating: generated_large/generated_midi_9.mid  \n",
            "  inflating: generated_large/generated_midi_35.mid  \n",
            "  inflating: generated_large/generated_midi_16.mid  \n",
            "  inflating: generated_large/generated_midi_136.mid  \n",
            "  inflating: generated_large/generated_midi_62.mid  \n",
            "  inflating: generated_large/generated_midi_103.mid  \n",
            "  inflating: generated_large/generated_midi_80.mid  \n",
            "  inflating: generated_large/generated_midi_73.mid  \n",
            "  inflating: generated_large/generated_midi_11.mid  \n",
            "  inflating: generated_large/generated_midi_108.mid  \n",
            "  inflating: generated_large/generated_midi_3.mid  \n",
            "  inflating: generated_large/generated_midi_36.mid  \n",
            "  inflating: generated_large/generated_midi_49.mid  \n",
            "  inflating: generated_large/generated_midi_34.mid  \n",
            "  inflating: generated_large/generated_midi_77.mid  \n",
            "  inflating: generated_large/generated_midi_45.mid  \n",
            "  inflating: generated_large/generated_midi_111.mid  \n",
            "  inflating: generated_large/generated_midi_120.mid  \n",
            "  inflating: generated_large/generated_midi_47.mid  \n",
            "  inflating: generated_large/generated_midi_132.mid  \n",
            "  inflating: generated_large/generated_midi_92.mid  \n",
            "  inflating: generated_large/generated_midi_4.mid  \n",
            "  inflating: generated_large/generated_midi_1.mid  \n",
            "  inflating: generated_large/generated_midi_78.mid  \n",
            "  inflating: generated_large/generated_midi_53.mid  \n",
            "  inflating: generated_large/generated_midi_140.mid  \n",
            "  inflating: generated_large/generated_midi_24.mid  \n",
            "  inflating: generated_large/generated_midi_114.mid  \n",
            "  inflating: generated_large/generated_midi_23.mid  \n",
            "  inflating: generated_large/generated_midi_102.mid  \n",
            "  inflating: generated_large/generated_midi_109.mid  \n",
            "  inflating: generated_large/generated_midi_122.mid  \n",
            "  inflating: generated_large/generated_midi_48.mid  \n",
            "  inflating: generated_large/generated_midi_95.mid  \n",
            "  inflating: generated_large/generated_midi_27.mid  \n",
            "  inflating: generated_large/generated_midi_30.mid  \n",
            "  inflating: generated_large/generated_midi_69.mid  \n",
            "  inflating: generated_large/generated_midi_13.mid  \n",
            "  inflating: generated_large/generated_midi_0.mid  \n",
            "  inflating: generated_large/generated_midi_110.mid  \n",
            "  inflating: generated_large/generated_midi_51.mid  \n",
            "  inflating: generated_large/generated_midi_18.mid  \n",
            "  inflating: generated_large/generated_midi_94.mid  \n",
            "  inflating: generated_large/generated_midi_124.mid  \n",
            "  inflating: generated_large/generated_midi_7.mid  \n",
            "  inflating: generated_large/generated_midi_61.mid  \n",
            "  inflating: generated_large/generated_midi_33.mid  \n",
            "  inflating: generated_large/generated_midi_149.mid  \n",
            "  inflating: generated_large/generated_midi_25.mid  \n",
            "  inflating: generated_large/generated_midi_15.mid  \n",
            "  inflating: generated_large/generated_midi_141.mid  \n",
            "  inflating: generated_large/generated_midi_14.mid  \n",
            "  inflating: generated_large/generated_midi_127.mid  \n",
            "  inflating: generated_large/generated_midi_41.mid  \n",
            "  inflating: generated_large/generated_midi_63.mid  \n",
            "  inflating: generated_large/generated_midi_10.mid  \n",
            "  inflating: generated_large/generated_midi_56.mid  \n",
            "  inflating: generated_large/generated_midi_55.mid  \n",
            "  inflating: generated_large/generated_midi_129.mid  \n",
            "  inflating: generated_large/generated_midi_54.mid  \n",
            "  inflating: generated_large/generated_midi_6.mid  \n",
            "  inflating: generated_large/generated_midi_81.mid  \n",
            "  inflating: generated_large/generated_midi_119.mid  \n",
            "  inflating: generated_large/generated_midi_107.mid  \n",
            "  inflating: generated_large/generated_midi_138.mid  \n",
            "  inflating: generated_large/generated_midi_65.mid  \n",
            "  inflating: generated_large/generated_midi_118.mid  \n",
            "  inflating: generated_large/generated_midi_144.mid  \n",
            "  inflating: generated_large/generated_midi_50.mid  \n",
            "  inflating: generated_large/generated_midi_117.mid  \n",
            "  inflating: generated_large/generated_midi_126.mid  \n",
            "  inflating: generated_large/generated_midi_93.mid  \n",
            "  inflating: generated_large/generated_midi_86.mid  \n",
            "  inflating: generated_large/generated_midi_131.mid  \n",
            "  inflating: generated_large/generated_midi_70.mid  \n",
            "  inflating: generated_large/generated_midi_88.mid  \n",
            "  inflating: generated_large/generated_midi_85.mid  \n",
            "  inflating: generated_large/generated_midi_97.mid  \n",
            "  inflating: generated_large/generated_midi_125.mid  \n",
            "  inflating: generated_large/generated_midi_87.mid  \n",
            "  inflating: generated_large/generated_midi_134.mid  \n",
            "  inflating: generated_large/generated_midi_52.mid  \n",
            "  inflating: generated_large/generated_midi_84.mid  \n",
            "  inflating: generated_large/generated_midi_116.mid  \n",
            "  inflating: generated_large/generated_midi_89.mid  \n",
            "  inflating: generated_large/generated_midi_57.mid  \n",
            "  inflating: generated_large/generated_midi_148.mid  \n",
            "  inflating: generated_large/generated_midi_59.mid  \n",
            "  inflating: generated_large/generated_midi_82.mid  \n",
            "  inflating: generated_large/generated_midi_64.mid  \n",
            "  inflating: generated_large/generated_midi_146.mid  \n",
            "  inflating: generated_large/generated_midi_99.mid  \n",
            "  inflating: generated_large/generated_midi_60.mid  \n",
            "  inflating: generated_large/generated_midi_39.mid  \n",
            "  inflating: generated_large/generated_midi_43.mid  \n",
            "  inflating: generated_large/generated_midi_90.mid  \n",
            "  inflating: generated_large/generated_midi_139.mid  \n",
            "  inflating: generated_large/generated_midi_12.mid  \n",
            "  inflating: generated_large/generated_midi_8.mid  \n",
            "  inflating: generated_large/generated_midi_105.mid  \n",
            "  inflating: generated_large/generated_midi_74.mid  \n",
            "  inflating: generated_large/generated_midi_28.mid  \n",
            "  inflating: generated_large/generated_midi_143.mid  \n",
            "  inflating: generated_large/generated_midi_20.mid  \n",
            "  inflating: generated_large/generated_midi_145.mid  \n",
            "  inflating: generated_large/generated_midi_58.mid  \n",
            "  inflating: generated_large/generated_midi_135.mid  \n",
            "  inflating: generated_large/generated_midi_5.mid  \n",
            "  inflating: generated_large/generated_midi_40.mid  \n",
            "  inflating: generated_large/generated_midi_96.mid  \n",
            "  inflating: generated_large/generated_midi_46.mid  \n",
            "  inflating: generated_large/generated_midi_101.mid  \n",
            "  inflating: generated_large/generated_midi_137.mid  \n",
            "  inflating: generated_large/generated_midi_22.mid  \n",
            "  inflating: generated_large/generated_midi_44.mid  \n",
            "  inflating: generated_large/generated_midi_113.mid  \n",
            "  inflating: generated_large/generated_midi_123.mid  \n",
            "  inflating: generated_large/generated_midi_98.mid  \n",
            "  inflating: generated_large/generated_midi_42.mid  \n",
            "  inflating: generated_large/generated_midi_72.mid  \n",
            "  inflating: generated_large/generated_midi_21.mid  \n",
            "  inflating: generated_large/generated_midi_115.mid  \n",
            "  inflating: generated_large/generated_midi_100.mid  \n",
            "  inflating: generated_large/generated_midi_76.mid  \n",
            "  inflating: generated_large/generated_midi_133.mid  \n",
            "  inflating: generated_large/generated_midi_104.mid  \n",
            "  inflating: generated_large/generated_midi_17.mid  \n",
            "  inflating: generated_large/generated_midi_142.mid  \n",
            "  inflating: generated_large/generated_midi_29.mid  \n"
          ]
        }
      ]
    },
    {
      "cell_type": "code",
      "source": [
        "!gdown --id 1ARhhdPxBfazNVg1TMkrXU1K6ce3DcOc8\n",
        "!gdown --id 1VJSN9jD6HfX2nzfVhwYLfomtfOEaKXMe\n",
        "\n",
        "!unzip dataset_test.zip\n",
        "!unzip dataset_train.zip"
      ],
      "metadata": {
        "id": "lR8XrFxnjyQg",
        "outputId": "d3cb0261-d52a-42c5-bb15-240be426004d",
        "colab": {
          "base_uri": "https://localhost:8080/"
        }
      },
      "id": "lR8XrFxnjyQg",
      "execution_count": 9,
      "outputs": [
        {
          "output_type": "stream",
          "name": "stdout",
          "text": [
            "/usr/local/lib/python3.12/dist-packages/gdown/__main__.py:140: FutureWarning: Option `--id` was deprecated in version 4.3.1 and will be removed in 5.0. You don't need to pass it anymore to use a file ID.\n",
            "  warnings.warn(\n",
            "Downloading...\n",
            "From: https://drive.google.com/uc?id=1ARhhdPxBfazNVg1TMkrXU1K6ce3DcOc8\n",
            "To: /content/dataset_test.zip\n",
            "100% 12.3M/12.3M [00:00<00:00, 22.8MB/s]\n",
            "/usr/local/lib/python3.12/dist-packages/gdown/__main__.py:140: FutureWarning: Option `--id` was deprecated in version 4.3.1 and will be removed in 5.0. You don't need to pass it anymore to use a file ID.\n",
            "  warnings.warn(\n",
            "Downloading...\n",
            "From (original): https://drive.google.com/uc?id=1VJSN9jD6HfX2nzfVhwYLfomtfOEaKXMe\n",
            "From (redirected): https://drive.google.com/uc?id=1VJSN9jD6HfX2nzfVhwYLfomtfOEaKXMe&confirm=t&uuid=510cdf2e-8173-4799-b0d5-f8ba40aaa6c5\n",
            "To: /content/dataset_train.zip\n",
            "100% 46.0M/46.0M [00:00<00:00, 52.2MB/s]\n",
            "Archive:  dataset_test.zip\n",
            "   creating: dataset_test/\n",
            "  inflating: dataset_test/MIDI-Unprocessed_Recital1-3_MID--AUDIO_02_R1_2018_wav--4.midi  \n",
            "  inflating: dataset_test/MIDI-Unprocessed_XP_19_R2_2004_01_ORIG_MID--AUDIO_19_R2_2004_02_Track02_wav.midi  \n",
            "  inflating: dataset_test/MIDI-Unprocessed_03_R1_2009_01-02_ORIG_MID--AUDIO_03_R1_2009_03_R1_2009_02_WAV.midi  \n",
            "  inflating: dataset_test/MIDI-UNPROCESSED_14-15_R1_2014_MID--AUDIO_15_R1_2014_wav--4.midi  \n",
            "  inflating: dataset_test/MIDI-Unprocessed_07_R2_2006_01_ORIG_MID--AUDIO_07_R2_2006_04_Track04_wav.midi  \n",
            "  inflating: dataset_test/MIDI-Unprocessed_R1_D1-1-8_mid--AUDIO-from_mp3_06_R1_2015_wav--2.midi  \n",
            "  inflating: dataset_test/MIDI-Unprocessed_24_R1_2011_MID--AUDIO_R1-D9_09_Track09_wav.midi  \n",
            "  inflating: dataset_test/MIDI-Unprocessed_14_R1_2006_01-05_ORIG_MID--AUDIO_14_R1_2006_04_Track04_wav.midi  \n",
            "  inflating: dataset_test/MIDI-Unprocessed_03_R1_2008_01-04_ORIG_MID--AUDIO_03_R1_2008_wav--1.midi  \n",
            "  inflating: dataset_test/MIDI-Unprocessed_R1_D1-9-12_mid--AUDIO-from_mp3_11_R1_2015_wav--5.midi  \n",
            "  inflating: dataset_test/MIDI-UNPROCESSED_04-07-08-10-12-15-17_R2_2014_MID--AUDIO_12_R2_2014_wav.midi  \n",
            "  inflating: dataset_test/MIDI-Unprocessed_08_R1_2011_MID--AUDIO_R1-D3_08_Track08_wav.midi  \n",
            "  inflating: dataset_test/MIDI-Unprocessed_XP_01_R1_2004_01-02_ORIG_MID--AUDIO_01_R1_2004_02_Track02_wav.midi  \n",
            "  inflating: dataset_test/MIDI-Unprocessed_19_R1_2009_03-04_ORIG_MID--AUDIO_19_R1_2009_19_R1_2009_04_WAV.midi  \n",
            "  inflating: dataset_test/MIDI-Unprocessed_SMF_17_R1_2004_04_ORIG_MID--AUDIO_17_R1_2004_09_Track09_wav.midi  \n",
            "  inflating: dataset_test/MIDI-Unprocessed_080_PIANO080_MID--AUDIO-split_07-09-17_Piano-e_1-06_wav--2.midi  \n",
            "  inflating: dataset_test/MIDI-Unprocessed_03_R1_2011_MID--AUDIO_R1-D1_15_Track15_wav.midi  \n",
            "  inflating: dataset_test/MIDI-UNPROCESSED_01-03_R1_2014_MID--AUDIO_02_R1_2014_wav--4.midi  \n",
            "  inflating: dataset_test/MIDI-Unprocessed_R1_D2-13-20_mid--AUDIO-from_mp3_17_R1_2015_wav--2.midi  \n",
            "  inflating: dataset_test/MIDI-Unprocessed_11_R2_2008_01-05_ORIG_MID--AUDIO_11_R2_2008_wav--2.midi  \n",
            "  inflating: dataset_test/MIDI-UNPROCESSED_06-08_R1_2014_MID--AUDIO_06_R1_2014_wav--3.midi  \n",
            "  inflating: dataset_test/MIDI-Unprocessed_055_PIANO055_MID--AUDIO-split_07-07-17_Piano-e_1-04_wav--2.midi  \n",
            "  inflating: dataset_test/MIDI-Unprocessed_13_R1_2006_01-06_ORIG_MID--AUDIO_13_R1_2006_06_Track06_wav.midi  \n",
            "  inflating: dataset_test/MIDI-UNPROCESSED_21-22_R1_2014_MID--AUDIO_21_R1_2014_wav--4.midi  \n",
            "  inflating: dataset_test/MIDI-Unprocessed_Recital13-15_MID--AUDIO_13_R1_2018_wav--2.midi  \n",
            "  inflating: dataset_test/MIDI-Unprocessed_15_R1_2009_03-06_ORIG_MID--AUDIO_15_R1_2009_15_R1_2009_05_WAV.midi  \n",
            "  inflating: dataset_test/MIDI-UNPROCESSED_04-05_R1_2014_MID--AUDIO_04_R1_2014_wav--4.midi  \n",
            "  inflating: dataset_test/MIDI-Unprocessed_R1_D1-1-8_mid--AUDIO-from_mp3_01_R1_2015_wav--3.midi  \n",
            "  inflating: dataset_test/MIDI-Unprocessed_XP_18_R1_2004_01-02_ORIG_MID--AUDIO_18_R1_2004_03_Track03_wav.midi  \n",
            "  inflating: dataset_test/MIDI-Unprocessed_10_R1_2011_MID--AUDIO_R1-D4_04_Track04_wav.midi  \n",
            "  inflating: dataset_test/MIDI-Unprocessed_07_R1_2011_MID--AUDIO_R1-D3_03_Track03_wav.midi  \n",
            "  inflating: dataset_test/MIDI-Unprocessed_SMF_17_R1_2004_01-03_ORIG_MID--AUDIO_17_R1_2004_02_Track02_wav--2.midi  \n",
            "  inflating: dataset_test/MIDI-Unprocessed_19_R2_2009_01_ORIG_MID--AUDIO_19_R2_2009_19_R2_2009_02_WAV.midi  \n",
            "  inflating: dataset_test/MIDI-Unprocessed_R1_D2-13-20_mid--AUDIO-from_mp3_14_R1_2015_wav--2.midi  \n",
            "  inflating: dataset_test/MIDI-Unprocessed_22_R2_2006_01_ORIG_MID--AUDIO_22_R2_2006_03_Track03_wav.midi  \n",
            "  inflating: dataset_test/ORIG-MIDI_03_7_10_13_Group_MID--AUDIO_15_R3_2013_wav--2.midi  \n",
            "  inflating: dataset_test/ORIG-MIDI_02_7_7_13_Group__MID--AUDIO_19_R1_2013_wav--1.midi  \n",
            "  inflating: dataset_test/MIDI-Unprocessed_R1_D1-1-8_mid--AUDIO-from_mp3_05_R1_2015_wav--2.midi  \n",
            "  inflating: dataset_test/MIDI-Unprocessed_11_R1_2006_01-06_ORIG_MID--AUDIO_11_R1_2006_02_Track02_wav.midi  \n",
            "  inflating: dataset_test/MIDI-Unprocessed_09_R1_2011_MID--AUDIO_R1-D3_13_Track13_wav.midi  \n",
            "  inflating: dataset_test/MIDI-Unprocessed_XP_10_R1_2004_05_ORIG_MID--AUDIO_10_R1_2004_05_Track05_wav.midi  \n",
            "  inflating: dataset_test/MIDI-Unprocessed_05_R1_2008_01-04_ORIG_MID--AUDIO_05_R1_2008_wav--3.midi  \n",
            "  inflating: dataset_test/MIDI-Unprocessed_16_R1_2011_MID--AUDIO_R1-D6_12_Track12_wav.midi  \n",
            "  inflating: dataset_test/MIDI-Unprocessed_09_R1_2009_05-06_ORIG_MID--AUDIO_09_R1_2009_09_R1_2009_05_WAV.midi  \n",
            "  inflating: dataset_test/MIDI-Unprocessed_057_PIANO057_MID--AUDIO-split_07-07-17_Piano-e_1-07_wav--4.midi  \n",
            "  inflating: dataset_test/MIDI-Unprocessed_XP_21_R1_2004_02_ORIG_MID--AUDIO_21_R1_2004_02_Track02_wav.midi  \n",
            "  inflating: dataset_test/MIDI-Unprocessed_XP_14_R1_2004_01-03_ORIG_MID--AUDIO_14_R1_2004_01_Track01_wav.midi  \n",
            "  inflating: dataset_test/MIDI-Unprocessed_04_R1_2009_01-03_ORIG_MID--AUDIO_04_R1_2009_04_R1_2009_02_WAV.midi  \n",
            "  inflating: dataset_test/MIDI-Unprocessed_11_R1_2009_06-09_ORIG_MID--AUDIO_11_R1_2009_11_R1_2009_09_WAV.midi  \n",
            "  inflating: dataset_test/MIDI-Unprocessed_Schubert10-12_MID--AUDIO_18_R2_2018_wav.midi  \n",
            "  inflating: dataset_test/MIDI-Unprocessed_R2_D2-12-13-15_mid--AUDIO-from_mp3_12_R2_2015_wav--1.midi  \n",
            "  inflating: dataset_test/MIDI-Unprocessed_056_PIANO056_MID--AUDIO-split_07-07-17_Piano-e_1-05_wav--3.midi  \n",
            "  inflating: dataset_test/MIDI-Unprocessed_083_PIANO083_MID--AUDIO-split_07-09-17_Piano-e_2_-06_wav--2.midi  \n",
            "  inflating: dataset_test/MIDI-Unprocessed_13_R1_2006_01-06_ORIG_MID--AUDIO_13_R1_2006_02_Track02_wav.midi  \n",
            "  inflating: dataset_test/MIDI-UNPROCESSED_19-20_R1_2014_MID--AUDIO_20_R1_2014_wav--1.midi  \n",
            "  inflating: dataset_test/MIDI-Unprocessed_12_R1_2008_01-04_ORIG_MID--AUDIO_12_R1_2008_wav--1.midi  \n",
            "  inflating: dataset_test/MIDI-Unprocessed_03_R3_2011_MID--AUDIO_R3-D1_05_Track05_wav.midi  \n",
            "  inflating: dataset_test/MIDI-Unprocessed_R1_D1-9-12_mid--AUDIO-from_mp3_12_R1_2015_wav--5.midi  \n",
            "  inflating: dataset_test/ORIG-MIDI_02_7_6_13_Group__MID--AUDIO_05_R1_2013_wav--3.midi  \n",
            "  inflating: dataset_test/MIDI-Unprocessed_15_R1_2009_01-02_ORIG_MID--AUDIO_15_R1_2009_15_R1_2009_02_WAV.midi  \n",
            "  inflating: dataset_test/MIDI-Unprocessed_XP_01_R1_2004_01-02_ORIG_MID--AUDIO_01_R1_2004_03_Track03_wav.midi  \n",
            "  inflating: dataset_test/MIDI-Unprocessed_09_R1_2006_01-04_ORIG_MID--AUDIO_09_R1_2006_02_Track02_wav.midi  \n",
            "  inflating: dataset_test/MIDI-Unprocessed_09_R1_2008_01-05_ORIG_MID--AUDIO_09_R1_2008_wav--4.midi  \n",
            "  inflating: dataset_test/MIDI-Unprocessed_Schubert10-12_MID--AUDIO_17_R2_2018_wav.midi  \n",
            "  inflating: dataset_test/MIDI-Unprocessed_Recital9-11_MID--AUDIO_09_R1_2018_wav--1.midi  \n",
            "  inflating: dataset_test/MIDI-Unprocessed_23_R1_2011_MID--AUDIO_R1-D9_05_Track05_wav.midi  \n",
            "  inflating: dataset_test/ORIG-MIDI_03_7_10_13_Group_MID--AUDIO_18_R3_2013_wav--1.midi  \n",
            "  inflating: dataset_test/MIDI-Unprocessed_045_PIANO045_MID--AUDIO-split_07-06-17_Piano-e_2-01_wav--4.midi  \n",
            "  inflating: dataset_test/MIDI-Unprocessed_051_PIANO051_MID--AUDIO-split_07-06-17_Piano-e_3-02_wav--3.midi  \n",
            "  inflating: dataset_test/ORIG-MIDI_02_7_7_13_Group__MID--AUDIO_15_R1_2013_wav--2.midi  \n",
            "  inflating: dataset_test/MIDI-Unprocessed_23_R1_2006_01-05_ORIG_MID--AUDIO_23_R1_2006_04_Track04_wav.midi  \n",
            "  inflating: dataset_test/MIDI-Unprocessed_SMF_16_R1_2004_01-08_ORIG_MID--AUDIO_16_R1_2004_05_Track05_wav.midi  \n",
            "  inflating: dataset_test/MIDI-Unprocessed_25_R3_2011_MID--AUDIO_R3-D9_02_Track02_wav.midi  \n",
            "  inflating: dataset_test/MIDI-Unprocessed_03_R1_2009_03-08_ORIG_MID--AUDIO_03_R1_2009_03_R1_2009_07_WAV.midi  \n",
            "  inflating: dataset_test/MIDI-Unprocessed_07_R2_2008_01-05_ORIG_MID--AUDIO_07_R2_2008_wav--3.midi  \n",
            "  inflating: dataset_test/MIDI-Unprocessed_14_R1_2008_01-05_ORIG_MID--AUDIO_14_R1_2008_wav--1.midi  \n",
            "  inflating: dataset_test/MIDI-Unprocessed_XP_19_R1_2004_01-02_ORIG_MID--AUDIO_19_R1_2004_03_Track03_wav.midi  \n",
            "  inflating: dataset_test/MIDI-Unprocessed_05_R1_2008_01-04_ORIG_MID--AUDIO_05_R1_2008_wav--1.midi  \n",
            "  inflating: dataset_test/MIDI-Unprocessed_10_R2_2008_01-05_ORIG_MID--AUDIO_10_R2_2008_wav--1.midi  \n",
            "  inflating: dataset_test/MIDI-Unprocessed_21_R1_2006_01-04_ORIG_MID--AUDIO_21_R1_2006_02_Track02_wav.midi  \n",
            "  inflating: dataset_test/MIDI-Unprocessed_11_R1_2011_MID--AUDIO_R1-D4_09_Track09_wav.midi  \n",
            "  inflating: dataset_test/MIDI-Unprocessed_07_R1_2006_01-04_ORIG_MID--AUDIO_07_R1_2006_01_Track01_wav.midi  \n",
            "  inflating: dataset_test/MIDI-Unprocessed_Recital16_MID--AUDIO_16_R1_2018_wav--3.midi  \n",
            "  inflating: dataset_test/MIDI-Unprocessed_13_R1_2008_01-04_ORIG_MID--AUDIO_13_R1_2008_wav--2.midi  \n",
            "  inflating: dataset_test/MIDI-Unprocessed_R1_D2-13-20_mid--AUDIO-from_mp3_19_R1_2015_wav--1.midi  \n",
            "  inflating: dataset_test/ORIG-MIDI_02_7_8_13_Group__MID--AUDIO_08_R2_2013_wav--1.midi  \n",
            "  inflating: dataset_test/MIDI-Unprocessed_04_R1_2006_01-04_ORIG_MID--AUDIO_04_R1_2006_04_Track04_wav.midi  \n",
            "  inflating: dataset_test/ORIG-MIDI_01_7_8_13_Group__MID--AUDIO_04_R2_2013_wav--3.midi  \n",
            "  inflating: dataset_test/MIDI-Unprocessed_R1_D1-1-8_mid--AUDIO-from_mp3_06_R1_2015_wav--3.midi  \n",
            "  inflating: dataset_test/MIDI-UNPROCESSED_04-08-12_R3_2014_MID--AUDIO_12_R3_2014_wav--1.midi  \n",
            "  inflating: dataset_test/MIDI-Unprocessed_R2_D2-19-21-22_mid--AUDIO-from_mp3_21_R2_2015_wav--1.midi  \n",
            "  inflating: dataset_test/MIDI-Unprocessed_058_PIANO058_MID--AUDIO-split_07-07-17_Piano-e_2-02_wav--2.midi  \n",
            "  inflating: dataset_test/MIDI-Unprocessed_Recital1-3_MID--AUDIO_03_R1_2018_wav--1.midi  \n",
            "  inflating: dataset_test/MIDI-Unprocessed_R2_D1-2-3-6-7-8-11_mid--AUDIO-from_mp3_07_R2_2015_wav--1.midi  \n",
            "  inflating: dataset_test/ORIG-MIDI_02_7_6_13_Group__MID--AUDIO_08_R1_2013_wav--2.midi  \n",
            "  inflating: dataset_test/MIDI-Unprocessed_XP_10_R1_2004_01-02_ORIG_MID--AUDIO_10_R1_2004_02_Track02_wav.midi  \n",
            "  inflating: dataset_test/MIDI-Unprocessed_072_PIANO072_MID--AUDIO-split_07-08-17_Piano-e_1-06_wav--3.midi  \n",
            "  inflating: dataset_test/MIDI-Unprocessed_12_R3_2011_MID--AUDIO_R3-D4_09_Track09_wav.midi  \n",
            "  inflating: dataset_test/ORIG-MIDI_03_7_8_13_Group__MID--AUDIO_19_R2_2013_wav--1.midi  \n",
            "  inflating: dataset_test/MIDI-Unprocessed_03_R3_2011_MID--AUDIO_R3-D1_04_Track04_wav.midi  \n",
            "  inflating: dataset_test/MIDI-UNPROCESSED_04-05_R1_2014_MID--AUDIO_05_R1_2014_wav--6.midi  \n",
            "  inflating: dataset_test/MIDI-UNPROCESSED_09-10_R1_2014_MID--AUDIO_09_R1_2014_wav--4.midi  \n",
            "  inflating: dataset_test/MIDI-Unprocessed_17_R2_2009_01_ORIG_MID--AUDIO_17_R2_2009_17_R2_2009_02_WAV.midi  \n",
            "  inflating: dataset_test/MIDI-Unprocessed_075_PIANO075_MID--AUDIO-split_07-08-17_Piano-e_2-06_wav--2.midi  \n",
            "  inflating: dataset_test/MIDI-Unprocessed_SMF_16_R1_2004_01-08_ORIG_MID--AUDIO_16_R1_2004_04_Track04_wav.midi  \n",
            "  inflating: dataset_test/MIDI-Unprocessed_12_R3_2011_MID--AUDIO_R3-D4_07_Track07_wav.midi  \n",
            "  inflating: dataset_test/MIDI-UNPROCESSED_01-03_R1_2014_MID--AUDIO_03_R1_2014_wav--3.midi  \n",
            "  inflating: dataset_test/MIDI-Unprocessed_Chamber6_MID--AUDIO_20_R3_2018_wav--1.midi  \n",
            "  inflating: dataset_test/MIDI-Unprocessed_048_PIANO048_MID--AUDIO-split_07-06-17_Piano-e_2-05_wav--2.midi  \n",
            "  inflating: dataset_test/MIDI-Unprocessed_065_PIANO065_MID--AUDIO-split_07-07-17_Piano-e_3-01_wav--3.midi  \n",
            "  inflating: dataset_test/MIDI-Unprocessed_09_R1_2006_01-04_ORIG_MID--AUDIO_09_R1_2006_03_Track03_wav.midi  \n",
            "  inflating: dataset_test/MIDI-Unprocessed_15_R1_2009_03-06_ORIG_MID--AUDIO_15_R1_2009_15_R1_2009_03_WAV.midi  \n",
            "  inflating: dataset_test/MIDI-Unprocessed_10_R1_2009_01-02_ORIG_MID--AUDIO_10_R1_2009_10_R1_2009_02_WAV.midi  \n",
            "  inflating: dataset_test/MIDI-Unprocessed_R1_D1-1-8_mid--AUDIO-from_mp3_03_R1_2015_wav--4.midi  \n",
            "  inflating: dataset_test/MIDI-Unprocessed_Recital9-11_MID--AUDIO_10_R1_2018_wav--3.midi  \n",
            "  inflating: dataset_test/MIDI-Unprocessed_SMF_05_R1_2004_01_ORIG_MID--AUDIO_05_R1_2004_02_Track02_wav.midi  \n",
            "  inflating: dataset_test/ORIG-MIDI_01_7_6_13_Group__MID--AUDIO_01_R1_2013_wav--3.midi  \n",
            "  inflating: dataset_test/MIDI-Unprocessed_09_R1_2009_01-04_ORIG_MID--AUDIO_09_R1_2009_09_R1_2009_02_WAV.midi  \n",
            "  inflating: dataset_test/MIDI-Unprocessed_XP_16_R2_2004_01_ORIG_MID--AUDIO_16_R2_2004_03_Track03_wav.midi  \n",
            "  inflating: dataset_test/MIDI-Unprocessed_25_R2_2011_MID--AUDIO_R2-D6_08_Track08_wav.midi  \n",
            "  inflating: dataset_test/MIDI-Unprocessed_XP_09_R1_2004_01-02_ORIG_MID--AUDIO_09_R1_2004_01_Track01_wav.midi  \n",
            "  inflating: dataset_test/MIDI-Unprocessed_XP_19_R2_2004_01_ORIG_MID--AUDIO_19_R2_2004_03_Track03_wav.midi  \n",
            "  inflating: dataset_test/MIDI-Unprocessed_04_R3_2008_01-07_ORIG_MID--AUDIO_04_R3_2008_wav--3.midi  \n",
            "  inflating: dataset_test/MIDI-Unprocessed_15_R2_2008_01-04_ORIG_MID--AUDIO_15_R2_2008_wav--4.midi  \n",
            "  inflating: dataset_test/MIDI-Unprocessed_XP_15_R1_2004_03_ORIG_MID--AUDIO_15_R1_2004_03_Track03_wav.midi  \n",
            "  inflating: dataset_test/MIDI-Unprocessed_XP_14_R2_2004_01_ORIG_MID--AUDIO_14_R2_2004_03_Track03_wav.midi  \n",
            "  inflating: dataset_test/ORIG-MIDI_03_7_8_13_Group__MID--AUDIO_18_R2_2013_wav--1.midi  \n",
            "  inflating: dataset_test/ORIG-MIDI_02_7_7_13_Group__MID--AUDIO_15_R1_2013_wav--4.midi  \n",
            "  inflating: dataset_test/MIDI-Unprocessed_06_R1_2006_01-04_ORIG_MID--AUDIO_06_R1_2006_01_Track01_wav.midi  \n",
            "  inflating: dataset_test/MIDI-UNPROCESSED_21-22_R1_2014_MID--AUDIO_21_R1_2014_wav--3.midi  \n",
            "  inflating: dataset_test/MIDI-Unprocessed_SMF_17_R1_2004_01-03_ORIG_MID--AUDIO_17_R1_2004_03_Track03_wav.midi  \n",
            "  inflating: dataset_test/MIDI-UNPROCESSED_19-20-21_R2_2014_MID--AUDIO_20_R2_2014_wav.midi  \n",
            "  inflating: dataset_test/ORIG-MIDI_02_7_8_13_Group__MID--AUDIO_14_R2_2013_wav--1.midi  \n",
            "  inflating: dataset_test/MIDI-Unprocessed_21_R1_2011_MID--AUDIO_R1-D8_09_Track09_wav.midi  \n",
            "  inflating: dataset_test/MIDI-Unprocessed_059_PIANO059_MID--AUDIO-split_07-07-17_Piano-e_2-03_wav--2.midi  \n",
            "  inflating: dataset_test/MIDI-Unprocessed_R2_D2-19-21-22_mid--AUDIO-from_mp3_22_R2_2015_wav--4.midi  \n",
            "  inflating: dataset_test/MIDI-UNPROCESSED_19-20-21_R2_2014_MID--AUDIO_19_R2_2014_wav.midi  \n",
            "  inflating: dataset_test/MIDI-Unprocessed_06_R1_2008_01-04_ORIG_MID--AUDIO_06_R1_2008_wav--4.midi  \n",
            "  inflating: dataset_test/MIDI-UNPROCESSED_09-10_R1_2014_MID--AUDIO_09_R1_2014_wav--1.midi  \n",
            "  inflating: dataset_test/ORIG-MIDI_01_7_7_13_Group__MID--AUDIO_14_R1_2013_wav--4.midi  \n",
            "  inflating: dataset_test/MIDI-Unprocessed_SMF_13_01_2004_01-05_ORIG_MID--AUDIO_13_R1_2004_10_Track10_wav.midi  \n",
            "  inflating: dataset_test/MIDI-Unprocessed_XP_17_R2_2004_01_ORIG_MID--AUDIO_17_R2_2004_01_Track01_wav.midi  \n",
            "  inflating: dataset_test/MIDI-Unprocessed_R1_D1-1-8_mid--AUDIO-from_mp3_04_R1_2015_wav--1.midi  \n",
            "  inflating: dataset_test/MIDI-Unprocessed_05_R1_2006_01-05_ORIG_MID--AUDIO_05_R1_2006_03_Track03_wav.midi  \n",
            "  inflating: dataset_test/MIDI-Unprocessed_Recital17-19_MID--AUDIO_18_R1_2018_wav--2.midi  \n",
            "  inflating: dataset_test/MIDI-Unprocessed_070_PIANO070_MID--AUDIO-split_07-08-17_Piano-e_1-02_wav--1.midi  \n",
            "  inflating: dataset_test/MIDI-Unprocessed_11_R1_2009_01-05_ORIG_MID--AUDIO_11_R1_2009_11_R1_2009_02_WAV.midi  \n",
            "  inflating: dataset_test/MIDI-Unprocessed_061_PIANO061_MID--AUDIO-split_07-07-17_Piano-e_2-05_wav--2.midi  \n",
            "  inflating: dataset_test/MIDI-Unprocessed_09_R2_2009_01_ORIG_MID--AUDIO_09_R2_2009_09_R2_2009_02_WAV.midi  \n",
            "  inflating: dataset_test/MIDI-UNPROCESSED_04-07-08-10-12-15-17_R2_2014_MID--AUDIO_17_R2_2014_wav.midi  \n",
            "  inflating: dataset_test/MIDI-Unprocessed_24_R1_2011_MID--AUDIO_R1-D9_11_Track11_wav.midi  \n",
            "  inflating: dataset_test/MIDI-Unprocessed_042_PIANO042_MID--AUDIO-split_07-06-17_Piano-e_1-02_wav--1.midi  \n",
            "  inflating: dataset_test/MIDI-Unprocessed_11_R1_2008_01-04_ORIG_MID--AUDIO_11_R1_2008_wav--1.midi  \n",
            "  inflating: dataset_test/MIDI-Unprocessed_16_R1_2006_01-04_ORIG_MID--AUDIO_16_R1_2006_02_Track02_wav.midi  \n",
            "  inflating: dataset_test/MIDI-Unprocessed_03_R3_2011_MID--AUDIO_R3-D1_06_Track06_wav.midi  \n",
            "  inflating: dataset_test/MIDI-Unprocessed_05_R2_2006_01_ORIG_MID--AUDIO_05_R2_2006_02_Track02_wav.midi  \n",
            "  inflating: dataset_test/MIDI-Unprocessed_071_PIANO071_MID--AUDIO-split_07-08-17_Piano-e_1-04_wav--3.midi  \n",
            "  inflating: dataset_test/MIDI-Unprocessed_056_PIANO056_MID--AUDIO-split_07-07-17_Piano-e_1-05_wav--1.midi  \n",
            "  inflating: dataset_test/MIDI-Unprocessed_15_R1_2006_01-05_ORIG_MID--AUDIO_15_R1_2006_02_Track02_wav.midi  \n",
            "  inflating: dataset_test/ORIG-MIDI_02_7_7_13_Group__MID--AUDIO_19_R1_2013_wav--3.midi  \n",
            "  inflating: dataset_test/MIDI-Unprocessed_R1_D2-13-20_mid--AUDIO-from_mp3_14_R1_2015_wav--3.midi  \n",
            "  inflating: dataset_test/MIDI-Unprocessed_10_R2_2009_01_ORIG_MID--AUDIO_10_R2_2009_10_R2_2009_03_WAV.midi  \n",
            "  inflating: dataset_test/MIDI-Unprocessed_07_R2_2009_01_ORIG_MID--AUDIO_07_R2_2009_07_R2_2009_03_WAV.midi  \n",
            "  inflating: dataset_test/MIDI-Unprocessed_12_R2_2011_MID--AUDIO_R2-D4_04_Track04_wav.midi  \n",
            "  inflating: dataset_test/MIDI-Unprocessed_06_R1_2009_03-07_ORIG_MID--AUDIO_06_R1_2009_06_R1_2009_05_WAV.midi  \n",
            "  inflating: dataset_test/ORIG-MIDI_02_7_8_13_Group__MID--AUDIO_08_R2_2013_wav--3.midi  \n",
            "  inflating: dataset_test/MIDI-Unprocessed_16_R1_2008_01-04_ORIG_MID--AUDIO_16_R1_2008_wav--2.midi  \n",
            "  inflating: dataset_test/ORIG-MIDI_03_7_10_13_Group_MID--AUDIO_18_R3_2013_wav--2.midi  \n",
            "  inflating: dataset_test/ORIG-MIDI_01_7_7_13_Group__MID--AUDIO_13_R1_2013_wav--1.midi  \n",
            "  inflating: dataset_test/MIDI-Unprocessed_XP_15_R1_2004_04_ORIG_MID--AUDIO_15_R1_2004_04_Track04_wav.midi  \n",
            "  inflating: dataset_test/MIDI-Unprocessed_Recital13-15_MID--AUDIO_15_R1_2018_wav--3.midi  \n",
            "  inflating: dataset_test/MIDI-Unprocessed_Recital17-19_MID--AUDIO_17_R1_2018_wav--4.midi  \n",
            "  inflating: dataset_test/MIDI-Unprocessed_19_R1_2006_01-07_ORIG_MID--AUDIO_19_R1_2006_01_Track01_wav.midi  \n",
            "  inflating: dataset_test/MIDI-Unprocessed_R1_D2-13-20_mid--AUDIO-from_mp3_18_R1_2015_wav--1.midi  \n",
            "  inflating: dataset_test/MIDI-Unprocessed_11_R3_2008_01-04_ORIG_MID--AUDIO_11_R3_2008_wav--1.midi  \n",
            "  inflating: dataset_test/MIDI-Unprocessed_04_R1_2008_01-04_ORIG_MID--AUDIO_04_R1_2008_wav--4.midi  \n",
            "  inflating: dataset_test/MIDI-Unprocessed_072_PIANO072_MID--AUDIO-split_07-08-17_Piano-e_1-06_wav--4.midi  \n",
            "  inflating: dataset_test/MIDI-Unprocessed_051_PIANO051_MID--AUDIO-split_07-06-17_Piano-e_3-02_wav--4.midi  \n",
            "  inflating: dataset_test/MIDI-Unprocessed_XP_03_R1_2004_01-02_ORIG_MID--AUDIO_03_R1_2004_02_Track02_wav.midi  \n",
            "  inflating: dataset_test/MIDI-Unprocessed_03_R1_2011_MID--AUDIO_R1-D1_17_Track17_wav.midi  \n",
            "  inflating: dataset_test/MIDI-UNPROCESSED_04-05_R1_2014_MID--AUDIO_05_R1_2014_wav--7.midi  \n",
            "  inflating: dataset_test/MIDI-Unprocessed_XP_09_R1_2004_05_ORIG_MID--AUDIO_09_R1_2004_06_Track06_wav.midi  \n",
            "  inflating: dataset_test/MIDI-Unprocessed_15_R1_2011_MID--AUDIO_R1-D6_09_Track09_wav.midi  \n",
            "  inflating: dataset_test/MIDI-Unprocessed_09_R1_2009_01-04_ORIG_MID--AUDIO_09_R1_2009_09_R1_2009_04_WAV.midi  \n",
            "  inflating: dataset_test/MIDI-UNPROCESSED_21-22_R1_2014_MID--AUDIO_21_R1_2014_wav--7.midi  \n",
            "  inflating: dataset_test/ORIG-MIDI_01_7_7_13_Group__MID--AUDIO_11_R1_2013_wav--2.midi  \n",
            "  inflating: dataset_test/MIDI-UNPROCESSED_14-15_R1_2014_MID--AUDIO_14_R1_2014_wav--1.midi  \n",
            "  inflating: dataset_test/MIDI-Unprocessed_SMF_17_R1_2004_01-02_ORIG_MID--AUDIO_20_R2_2004_06_Track06_wav.midi  \n",
            "  inflating: dataset_test/MIDI-Unprocessed_10_R3_2008_01-05_ORIG_MID--AUDIO_10_R3_2008_wav--1.midi  \n",
            "  inflating: dataset_test/ORIG-MIDI_01_7_6_13_Group__MID--AUDIO_03_R1_2013_wav--1.midi  \n",
            "  inflating: dataset_test/MIDI-Unprocessed_R1_D1-1-8_mid--AUDIO-from_mp3_04_R1_2015_wav--2.midi  \n",
            "  inflating: dataset_test/MIDI-Unprocessed_17_R2_2009_01_ORIG_MID--AUDIO_17_R2_2009_17_R2_2009_01_WAV.midi  \n",
            "  inflating: dataset_test/MIDI-Unprocessed_10_R2_2008_01-05_ORIG_MID--AUDIO_10_R2_2008_wav--4.midi  \n",
            "  inflating: dataset_test/MIDI-Unprocessed_09_R2_2009_01_ORIG_MID--AUDIO_09_R2_2009_09_R2_2009_03_WAV.midi  \n",
            "  inflating: dataset_test/MIDI-Unprocessed_21_R2_2009_01_ORIG_MID--AUDIO_21_R2_2009_21_R2_2009_02_WAV.midi  \n",
            "  inflating: dataset_test/MIDI-Unprocessed_09_R3_2008_01-07_ORIG_MID--AUDIO_09_R3_2008_wav--1.midi  \n",
            "  inflating: dataset_test/MIDI-Unprocessed_06_R3_2011_MID--AUDIO_R3-D3_02_Track02_wav.midi  \n",
            "  inflating: dataset_test/MIDI-Unprocessed_R1_D1-9-12_mid--AUDIO-from_mp3_11_R1_2015_wav--1.midi  \n",
            "  inflating: dataset_test/MIDI-Unprocessed_XP_18_R1_2004_01-02_ORIG_MID--AUDIO_18_R1_2004_05_Track05_wav.midi  \n",
            "  inflating: dataset_test/MIDI-Unprocessed_Recital1-3_MID--AUDIO_01_R1_2018_wav--3.midi  \n",
            "  inflating: dataset_test/MIDI-Unprocessed_16_R1_2011_MID--AUDIO_R1-D6_15_Track15_wav.midi  \n",
            "  inflating: dataset_test/MIDI-Unprocessed_14_R1_2011_MID--AUDIO_R1-D6_02_Track02_wav.midi  \n",
            "  inflating: dataset_test/MIDI-Unprocessed_R1_D1-1-8_mid--AUDIO-from_mp3_02_R1_2015_wav--6.midi  \n",
            "  inflating: dataset_test/MIDI-Unprocessed_XP_14_R1_2004_04_ORIG_MID--AUDIO_14_R1_2004_06_Track06_wav.midi  \n",
            "  inflating: dataset_test/MIDI-Unprocessed_Recital13-15_MID--AUDIO_13_R1_2018_wav--3.midi  \n",
            "  inflating: dataset_test/MIDI-Unprocessed_07_R1_2009_04-05_ORIG_MID--AUDIO_07_R1_2009_07_R1_2009_04_WAV.midi  \n",
            "  inflating: dataset_test/MIDI-Unprocessed_062_PIANO062_MID--AUDIO-split_07-07-17_Piano-e_2-07_wav--2.midi  \n",
            "  inflating: dataset_test/MIDI-Unprocessed_17_R2_2009_01_ORIG_MID--AUDIO_17_R2_2009_17_R2_2009_03_WAV.midi  \n",
            "  inflating: dataset_test/MIDI-Unprocessed_12_R1_2008_01-04_ORIG_MID--AUDIO_12_R1_2008_wav--4.midi  \n",
            "  inflating: dataset_test/MIDI-Unprocessed_058_PIANO058_MID--AUDIO-split_07-07-17_Piano-e_2-02_wav--5.midi  \n",
            "  inflating: dataset_test/MIDI-Unprocessed_053_PIANO053_MID--AUDIO-split_07-06-17_Piano-e_3-04_wav--3.midi  \n",
            "  inflating: dataset_test/MIDI-Unprocessed_065_PIANO065_MID--AUDIO-split_07-07-17_Piano-e_3-01_wav--2.midi  \n",
            "  inflating: dataset_test/MIDI-Unprocessed_15_R1_2006_01-05_ORIG_MID--AUDIO_15_R1_2006_01_Track01_wav.midi  \n",
            "  inflating: dataset_test/MIDI-Unprocessed_R1_D2-21-22_mid--AUDIO-from_mp3_21_R1_2015_wav--4.midi  \n",
            "  inflating: dataset_test/MIDI-Unprocessed_10_R1_2009_01-02_ORIG_MID--AUDIO_10_R1_2009_10_R1_2009_01_WAV.midi  \n",
            "  inflating: dataset_test/MIDI-UNPROCESSED_16-18_R1_2014_MID--AUDIO_16_R1_2014_wav--3.midi  \n",
            "  inflating: dataset_test/MIDI-Unprocessed_07_R1_2006_01-04_ORIG_MID--AUDIO_07_R1_2006_04_Track04_wav.midi  \n",
            "  inflating: dataset_test/MIDI-UNPROCESSED_04-05_R1_2014_MID--AUDIO_04_R1_2014_wav--1.midi  \n",
            "  inflating: dataset_test/MIDI-Unprocessed_R2_D2-19-21-22_mid--AUDIO-from_mp3_21_R2_2015_wav--2.midi  \n",
            "  inflating: dataset_test/MIDI-Unprocessed_SMF_12_01_2004_01-05_ORIG_MID--AUDIO_12_R1_2004_09_Track09_wav.midi  \n",
            "  inflating: dataset_test/ORIG-MIDI_02_7_10_13_Group_MID--AUDIO_12_R3_2013_wav--2.midi  \n",
            "  inflating: dataset_test/MIDI-Unprocessed_SMF_16_R1_2004_01-08_ORIG_MID--AUDIO_16_R1_2004_08_Track08_wav.midi  \n",
            "  inflating: dataset_test/MIDI-Unprocessed_15_R2_2008_01-04_ORIG_MID--AUDIO_15_R2_2008_wav--3.midi  \n",
            "  inflating: dataset_test/MIDI-Unprocessed_09_R2_2006_01_ORIG_MID--AUDIO_09_R2_2006_01_Track01_wav.midi  \n",
            "  inflating: dataset_test/MIDI-Unprocessed_05_R1_2008_01-04_ORIG_MID--AUDIO_05_R1_2008_wav--4.midi  \n",
            "  inflating: dataset_test/MIDI-UNPROCESSED_19-20_R1_2014_MID--AUDIO_19_R1_2014_wav--2.midi  \n",
            "  inflating: dataset_test/MIDI-Unprocessed_Recital5-7_MID--AUDIO_05_R1_2018_wav--3.midi  \n",
            "  inflating: dataset_test/MIDI-Unprocessed_25_R3_2011_MID--AUDIO_R3-D9_03_Track03_wav.midi  \n",
            "  inflating: dataset_test/MIDI-Unprocessed_11_R1_2011_MID--AUDIO_R1-D4_07_Track07_wav.midi  \n",
            "  inflating: dataset_test/MIDI-Unprocessed_XP_04_R1_2004_06_ORIG_MID--AUDIO_04_R1_2004_08_Track08_wav.midi  \n",
            "  inflating: dataset_test/MIDI-Unprocessed_R1_D2-13-20_mid--AUDIO-from_mp3_18_R1_2015_wav--3.midi  \n",
            "  inflating: dataset_test/MIDI-Unprocessed_06_R1_2011_MID--AUDIO_R1-D2_15_Track15_wav.midi  \n",
            "  inflating: dataset_test/MIDI-Unprocessed_08_R1_2009_01-04_ORIG_MID--AUDIO_08_R1_2009_08_R1_2009_04_WAV.midi  \n",
            "  inflating: dataset_test/MIDI-Unprocessed_04_R2_2011_MID--AUDIO_R2-D2_02_Track02_wav.midi  \n",
            "  inflating: dataset_test/MIDI-Unprocessed_03_R1_2006_01-05_ORIG_MID--AUDIO_03_R1_2006_05_Track05_wav.midi  \n",
            "  inflating: dataset_test/MIDI-Unprocessed_11_R1_2009_06-09_ORIG_MID--AUDIO_11_R1_2009_11_R1_2009_08_WAV.midi  \n",
            "  inflating: dataset_test/MIDI-Unprocessed_19_R1_2011_MID--AUDIO_R1-D7_14_Track14_wav.midi  \n",
            "  inflating: dataset_test/MIDI-UNPROCESSED_21-22_R1_2014_MID--AUDIO_22_R1_2014_wav--4.midi  \n",
            "  inflating: dataset_test/MIDI-Unprocessed_R1_D1-1-8_mid--AUDIO-from_mp3_02_R1_2015_wav--2.midi  \n",
            "  inflating: dataset_test/MIDI-Unprocessed_Recital20_MID--AUDIO_20_R1_2018_wav--3.midi  \n",
            "  inflating: dataset_test/MIDI-Unprocessed_Chamber2_MID--AUDIO_09_R3_2018_wav--1.midi  \n",
            "  inflating: dataset_test/MIDI-Unprocessed_09_R2_2009_01_ORIG_MID--AUDIO_09_R2_2009_09_R2_2009_01_WAV.midi  \n",
            "  inflating: dataset_test/ORIG-MIDI_01_7_6_13_Group__MID--AUDIO_01_R1_2013_wav--1.midi  \n",
            "  inflating: dataset_test/MIDI-Unprocessed_08_R1_2009_05-06_ORIG_MID--AUDIO_08_R1_2009_08_R1_2009_06_WAV.midi  \n",
            "  inflating: dataset_test/MIDI-Unprocessed_R1_D1-1-8_mid--AUDIO-from_mp3_02_R1_2015_wav--4.midi  \n",
            "  inflating: dataset_test/MIDI-Unprocessed_Recital17-19_MID--AUDIO_17_R1_2018_wav--3.midi  \n",
            "  inflating: dataset_test/MIDI-UNPROCESSED_04-07-08-10-12-15-17_R2_2014_MID--AUDIO_10_R2_2014_wav.midi  \n",
            "  inflating: dataset_test/MIDI-Unprocessed_XP_21_R1_2004_03_ORIG_MID--AUDIO_21_R1_2004_04_Track04_wav.midi  \n",
            "  inflating: dataset_test/MIDI-Unprocessed_13_R1_2006_01-06_ORIG_MID--AUDIO_13_R1_2006_01_Track01_wav.midi  \n",
            "  inflating: dataset_test/ORIG-MIDI_02_7_7_13_Group__MID--AUDIO_15_R1_2013_wav--1.midi  \n",
            "  inflating: dataset_test/ORIG-MIDI_02_7_10_13_Group_MID--AUDIO_12_R3_2013_wav--1.midi  \n",
            "  inflating: dataset_test/MIDI-Unprocessed_SMF_17_R1_2004_03-06_ORIG_MID--AUDIO_20_R2_2004_12_Track12_wav--1.midi  \n",
            "  inflating: dataset_test/MIDI-Unprocessed_Recital1-3_MID--AUDIO_01_R1_2018_wav--1.midi  \n",
            "  inflating: dataset_test/MIDI-Unprocessed_02_R1_2006_01-04_ORIG_MID--AUDIO_02_R1_2006_02_Track02_wav.midi  \n",
            "  inflating: dataset_test/MIDI-Unprocessed_054_PIANO054_MID--AUDIO-split_07-07-17_Piano-e_1-02_wav--2.midi  \n",
            "Archive:  dataset_train.zip\n",
            "   creating: dataset_train/\n",
            "  inflating: dataset_train/ORIG-MIDI_02_7_7_13_Group__MID--AUDIO_18_R1_2013_wav--1.midi  \n",
            "  inflating: dataset_train/MIDI-Unprocessed_03_R1_2006_01-05_ORIG_MID--AUDIO_03_R1_2006_04_Track04_wav.midi  \n",
            "  inflating: dataset_train/ORIG-MIDI_02_7_7_13_Group__MID--AUDIO_15_R1_2013_wav--3.midi  \n",
            "  inflating: dataset_train/MIDI-Unprocessed_073_PIANO073_MID--AUDIO-split_07-08-17_Piano-e_2-02_wav--1.midi  \n",
            "  inflating: dataset_train/MIDI-Unprocessed_14_R1_2006_01-05_ORIG_MID--AUDIO_14_R1_2006_03_Track03_wav.midi  \n",
            "  inflating: dataset_train/MIDI-Unprocessed_067_PIANO067_MID--AUDIO-split_07-07-17_Piano-e_3-03_wav--2.midi  \n",
            "  inflating: dataset_train/MIDI-Unprocessed_12_R1_2006_01-08_ORIG_MID--AUDIO_12_R1_2006_02_Track02_wav.midi  \n",
            "  inflating: dataset_train/MIDI-Unprocessed_02_R1_2006_01-04_ORIG_MID--AUDIO_02_R1_2006_03_Track03_wav.midi  \n",
            "  inflating: dataset_train/MIDI-Unprocessed_R1_D2-13-20_mid--AUDIO-from_mp3_16_R1_2015_wav--2.midi  \n",
            "  inflating: dataset_train/MIDI-Unprocessed_066_PIANO066_MID--AUDIO-split_07-07-17_Piano-e_3-02_wav--2.midi  \n",
            "  inflating: dataset_train/MIDI-Unprocessed_XP_15_R2_2004_01_ORIG_MID--AUDIO_15_R2_2004_04_Track04_wav.midi  \n",
            "  inflating: dataset_train/MIDI-Unprocessed_Recital16_MID--AUDIO_16_R1_2018_wav--2.midi  \n",
            "  inflating: dataset_train/MIDI-Unprocessed_04_R1_2009_04-06_ORIG_MID--AUDIO_04_R1_2009_04_R1_2009_06_WAV.midi  \n",
            "  inflating: dataset_train/MIDI-Unprocessed_22_R3_2011_MID--AUDIO_R3-D7_07_Track07_wav.midi  \n",
            "  inflating: dataset_train/ORIG-MIDI_01_7_6_13_Group__MID--AUDIO_02_R1_2013_wav--4.midi  \n",
            "  inflating: dataset_train/MIDI-Unprocessed_02_R2_2011_MID--AUDIO_R2-D1_03_Track03_wav.midi  \n",
            "  inflating: dataset_train/ORIG-MIDI_02_7_8_13_Group__MID--AUDIO_14_R2_2013_wav--4.midi  \n",
            "  inflating: dataset_train/ORIG-MIDI_01_7_8_13_Group__MID--AUDIO_03_R2_2013_wav--1.midi  \n",
            "  inflating: dataset_train/MIDI-Unprocessed_23_R2_2006_01_ORIG_MID--AUDIO_23_R2_2006_04_Track04_wav.midi  \n",
            "  inflating: dataset_train/MIDI-Unprocessed_11_R1_2006_01-06_ORIG_MID--AUDIO_11_R1_2006_01_Track01_wav.midi  \n",
            "  inflating: dataset_train/MIDI-Unprocessed_06_R2_2011_MID--AUDIO_R2-D2_07_Track07_wav.midi  \n",
            "  inflating: dataset_train/MIDI-Unprocessed_R1_D1-9-12_mid--AUDIO-from_mp3_11_R1_2015_wav--2.midi  \n",
            "  inflating: dataset_train/MIDI-Unprocessed_20_R1_2006_01-04_ORIG_MID--AUDIO_20_R1_2006_01_Track01_wav.midi  \n",
            "  inflating: dataset_train/MIDI-Unprocessed_051_PIANO051_MID--AUDIO-split_07-06-17_Piano-e_3-02_wav--2.midi  \n",
            "  inflating: dataset_train/MIDI-Unprocessed_R1_D1-1-8_mid--AUDIO-from_mp3_01_R1_2015_wav--1.midi  \n",
            "  inflating: dataset_train/MIDI-Unprocessed_14_R1_2009_01-05_ORIG_MID--AUDIO_14_R1_2009_14_R1_2009_03_WAV.midi  \n",
            "  inflating: dataset_train/MIDI-Unprocessed_045_PIANO045_MID--AUDIO-split_07-06-17_Piano-e_2-01_wav--1.midi  \n",
            "  inflating: dataset_train/MIDI-Unprocessed_04_R1_2008_01-04_ORIG_MID--AUDIO_04_R1_2008_wav--2.midi  \n",
            "  inflating: dataset_train/MIDI-Unprocessed_R1_D1-1-8_mid--AUDIO-from_mp3_08_R1_2015_wav--1.midi  \n",
            "  inflating: dataset_train/MIDI-Unprocessed_06_R1_2009_03-07_ORIG_MID--AUDIO_06_R1_2009_06_R1_2009_03_WAV.midi  \n",
            "  inflating: dataset_train/MIDI-Unprocessed_04_R3_2008_01-07_ORIG_MID--AUDIO_04_R3_2008_wav--2.midi  \n",
            "  inflating: dataset_train/MIDI-Unprocessed_R1_D1-1-8_mid--AUDIO-from_mp3_06_R1_2015_wav--1.midi  \n",
            "  inflating: dataset_train/MIDI-Unprocessed_R1_D1-1-8_mid--AUDIO-from_mp3_07_R1_2015_wav--1.midi  \n",
            "  inflating: dataset_train/MIDI-Unprocessed_056_PIANO056_MID--AUDIO-split_07-07-17_Piano-e_1-05_wav--4.midi  \n",
            "  inflating: dataset_train/ORIG-MIDI_01_7_7_13_Group__MID--AUDIO_13_R1_2013_wav--3.midi  \n",
            "  inflating: dataset_train/MIDI-Unprocessed_043_PIANO043_MID--AUDIO-split_07-06-17_Piano-e_1-03_wav--4.midi  \n",
            "  inflating: dataset_train/MIDI-Unprocessed_12_R2_2009_01_ORIG_MID--AUDIO_12_R2_2009_12_R2_2009_04_WAV.midi  \n",
            "  inflating: dataset_train/MIDI-Unprocessed_17_R1_2011_MID--AUDIO_R1-D7_04_Track04_wav.midi  \n",
            "  inflating: dataset_train/MIDI-Unprocessed_03_R1_2008_01-04_ORIG_MID--AUDIO_03_R1_2008_wav--2.midi  \n",
            "  inflating: dataset_train/MIDI-Unprocessed_R2_D2-19-21-22_mid--AUDIO-from_mp3_22_R2_2015_wav--1.midi  \n",
            "  inflating: dataset_train/ORIG-MIDI_03_7_8_13_Group__MID--AUDIO_15_R2_2013_wav--2.midi  \n",
            "  inflating: dataset_train/MIDI-Unprocessed_SMF_02_R1_2004_01-05_ORIG_MID--AUDIO_02_R1_2004_06_Track06_wav.midi  \n",
            "  inflating: dataset_train/MIDI-Unprocessed_05_R1_2011_MID--AUDIO_R1-D2_12_Track12_wav.midi  \n",
            "  inflating: dataset_train/MIDI-Unprocessed_Recital5-7_MID--AUDIO_06_R1_2018_wav--2.midi  \n",
            "  inflating: dataset_train/MIDI-Unprocessed_Recital4_MID--AUDIO_04_R1_2018_wav--3.midi  \n",
            "  inflating: dataset_train/MIDI-Unprocessed_XP_15_R2_2004_01_ORIG_MID--AUDIO_15_R2_2004_02_Track02_wav.midi  \n",
            "  inflating: dataset_train/MIDI-Unprocessed_R2_D2-12-13-15_mid--AUDIO-from_mp3_12_R2_2015_wav--5.midi  \n",
            "  inflating: dataset_train/MIDI-Unprocessed_SMF_16_R1_2004_01-08_ORIG_MID--AUDIO_16_R1_2004_13_Track13_wav.midi  \n",
            "  inflating: dataset_train/MIDI-Unprocessed_R1_D2-13-20_mid--AUDIO-from_mp3_16_R1_2015_wav--4.midi  \n",
            "  inflating: dataset_train/MIDI-Unprocessed_XP_15_R1_2004_01-02_ORIG_MID--AUDIO_15_R1_2004_01_Track01_wav.midi  \n",
            "  inflating: dataset_train/MIDI-Unprocessed_R1_D1-1-8_mid--AUDIO-from_mp3_03_R1_2015_wav--1.midi  \n",
            "  inflating: dataset_train/MIDI-Unprocessed_SMF_13_01_2004_01-05_ORIG_MID--AUDIO_13_R1_2004_02_Track02_wav.midi  \n",
            "  inflating: dataset_train/MIDI-Unprocessed_15_R1_2006_01-05_ORIG_MID--AUDIO_15_R1_2006_04_Track04_wav.midi  \n",
            "  inflating: dataset_train/ORIG-MIDI_02_7_10_13_Group_MID--AUDIO_12_R3_2013_wav--3.midi  \n",
            "  inflating: dataset_train/MIDI-UNPROCESSED_11-13_R1_2014_MID--AUDIO_13_R1_2014_wav--3.midi  \n",
            "  inflating: dataset_train/MIDI-Unprocessed_056_PIANO056_MID--AUDIO-split_07-07-17_Piano-e_1-05_wav--2.midi  \n",
            "  inflating: dataset_train/MIDI-Unprocessed_R1_D2-13-20_mid--AUDIO-from_mp3_15_R1_2015_wav--2.midi  \n",
            "  inflating: dataset_train/ORIG-MIDI_01_7_6_13_Group__MID--AUDIO_03_R1_2013_wav--4.midi  \n",
            "  inflating: dataset_train/MIDI-Unprocessed_18_R1_2006_01-05_ORIG_MID--AUDIO_18_R1_2006_05_Track05_wav.midi  \n",
            "  inflating: dataset_train/ORIG-MIDI_02_7_7_13_Group__MID--AUDIO_17_R1_2013_wav--4.midi  \n",
            "  inflating: dataset_train/ORIG-MIDI_01_7_6_13_Group__MID--AUDIO_02_R1_2013_wav--5.midi  \n",
            "  inflating: dataset_train/MIDI-Unprocessed_01_R1_2008_01-04_ORIG_MID--AUDIO_01_R1_2008_wav--1.midi  \n",
            "  inflating: dataset_train/MIDI-Unprocessed_04_R3_2011_MID--AUDIO_R3-D2_03_Track03_wav.midi  \n",
            "  inflating: dataset_train/ORIG-MIDI_01_7_6_13_Group__MID--AUDIO_04_R1_2013_wav--4.midi  \n",
            "  inflating: dataset_train/MIDI-Unprocessed_07_R2_2008_01-05_ORIG_MID--AUDIO_07_R2_2008_wav--4.midi  \n",
            "  inflating: dataset_train/MIDI-Unprocessed_XP_14_R2_2004_01_ORIG_MID--AUDIO_14_R2_2004_01_Track01_wav.midi  \n",
            "  inflating: dataset_train/MIDI-Unprocessed_SMF_13_01_2004_01-05_ORIG_MID--AUDIO_13_R1_2004_05_Track05_wav.midi  \n",
            "  inflating: dataset_train/MIDI-Unprocessed_Recital13-15_MID--AUDIO_15_R1_2018_wav--4.midi  \n",
            "  inflating: dataset_train/MIDI-Unprocessed_09_R1_2008_01-05_ORIG_MID--AUDIO_09_R1_2008_wav--3.midi  \n",
            "  inflating: dataset_train/MIDI-Unprocessed_12_R2_2009_01_ORIG_MID--AUDIO_12_R2_2009_12_R2_2009_01_WAV.midi  \n",
            "  inflating: dataset_train/MIDI-Unprocessed_SMF_12_01_2004_01-05_ORIG_MID--AUDIO_12_R1_2004_10_Track10_wav.midi  \n",
            "  inflating: dataset_train/MIDI-Unprocessed_22_R2_2006_01_ORIG_MID--AUDIO_22_R2_2006_01_Track01_wav.midi  \n",
            "  inflating: dataset_train/MIDI-Unprocessed_Schubert10-12_MID--AUDIO_20_R2_2018_wav.midi  \n",
            "  inflating: dataset_train/MIDI-Unprocessed_12_R2_2008_01-04_ORIG_MID--AUDIO_12_R2_2008_wav--3.midi  \n",
            "  inflating: dataset_train/MIDI-Unprocessed_R2_D2-19-21-22_mid--AUDIO-from_mp3_19_R2_2015_wav--1.midi  \n",
            "  inflating: dataset_train/MIDI-Unprocessed_057_PIANO057_MID--AUDIO-split_07-07-17_Piano-e_1-07_wav--3.midi  \n",
            "  inflating: dataset_train/MIDI-Unprocessed_041_PIANO041_MID--AUDIO-split_07-06-17_Piano-e_1-01_wav--2.midi  \n",
            "  inflating: dataset_train/MIDI-Unprocessed_R1_D2-13-20_mid--AUDIO-from_mp3_17_R1_2015_wav--1.midi  \n",
            "  inflating: dataset_train/MIDI-Unprocessed_R1_D2-13-20_mid--AUDIO-from_mp3_18_R1_2015_wav--4.midi  \n",
            "  inflating: dataset_train/MIDI-Unprocessed_052_PIANO052_MID--AUDIO-split_07-06-17_Piano-e_3-03_wav--5.midi  \n",
            "  inflating: dataset_train/MIDI-Unprocessed_03_R1_2008_01-04_ORIG_MID--AUDIO_03_R1_2008_wav--3.midi  \n",
            "  inflating: dataset_train/MIDI-Unprocessed_08_R3_2008_01-05_ORIG_MID--AUDIO_08_R3_2008_wav--2.midi  \n",
            "  inflating: dataset_train/MIDI-Unprocessed_054_PIANO054_MID--AUDIO-split_07-07-17_Piano-e_1-02_wav--3.midi  \n",
            "  inflating: dataset_train/MIDI-Unprocessed_03_R1_2009_03-08_ORIG_MID--AUDIO_03_R1_2009_03_R1_2009_04_WAV.midi  \n",
            "  inflating: dataset_train/MIDI-Unprocessed_Schubert7-9_MID--AUDIO_15_R2_2018_wav.midi  \n",
            "  inflating: dataset_train/MIDI-Unprocessed_Chamber5_MID--AUDIO_18_R3_2018_wav--1.midi  \n",
            "  inflating: dataset_train/MIDI-Unprocessed_079_PIANO079_MID--AUDIO-split_07-09-17_Piano-e_1-04_wav--2.midi  \n",
            "  inflating: dataset_train/MIDI-Unprocessed_17_R2_2011_MID--AUDIO_R2-D5_04_Track04_wav.midi  \n",
            "  inflating: dataset_train/MIDI-Unprocessed_XP_04_R2_2004_01_ORIG_MID--AUDIO_04_R2_2004_01_Track01_wav.midi  \n",
            "  inflating: dataset_train/MIDI-Unprocessed_080_PIANO080_MID--AUDIO-split_07-09-17_Piano-e_1-06_wav--3.midi  \n",
            "  inflating: dataset_train/MIDI-Unprocessed_17_R3_2011_MID--AUDIO_R3-D6_05_Track05_wav.midi  \n",
            "  inflating: dataset_train/MIDI-Unprocessed_12_R2_2009_01_ORIG_MID--AUDIO_12_R2_2009_12_R2_2009_02_WAV.midi  \n",
            "  inflating: dataset_train/MIDI-Unprocessed_047_PIANO047_MID--AUDIO-split_07-06-17_Piano-e_2-04_wav--1.midi  \n",
            "  inflating: dataset_train/MIDI-Unprocessed_Chamber4_MID--AUDIO_11_R3_2018_wav--1.midi  \n",
            "  inflating: dataset_train/MIDI-Unprocessed_25_R3_2011_MID--AUDIO_R3-D9_05_Track05_wav.midi  \n",
            "  inflating: dataset_train/MIDI-Unprocessed_01_R2_2006_01_ORIG_MID--AUDIO_01_R2_2006_01_Track01_wav.midi  \n",
            "  inflating: dataset_train/ORIG-MIDI_01_7_8_13_Group__MID--AUDIO_02_R2_2013_wav--1.midi  \n",
            "  inflating: dataset_train/MIDI-Unprocessed_SMF_07_R1_2004_01_ORIG_MID--AUDIO_07_R1_2004_06_Track06_wav.midi  \n",
            "  inflating: dataset_train/MIDI-Unprocessed_07_R1_2008_01-04_ORIG_MID--AUDIO_07_R1_2008_wav--2.midi  \n",
            "  inflating: dataset_train/MIDI-Unprocessed_17_R3_2011_MID--AUDIO_R3-D6_02_Track02_wav.midi  \n",
            "  inflating: dataset_train/MIDI-Unprocessed_10_R1_2008_01-04_ORIG_MID--AUDIO_10_R1_2008_wav--3.midi  \n",
            "  inflating: dataset_train/ORIG-MIDI_02_7_6_13_Group__MID--AUDIO_08_R1_2013_wav--5.midi  \n",
            "  inflating: dataset_train/MIDI-Unprocessed_18_R1_2009_01-03_ORIG_MID--AUDIO_18_R1_2009_18_R1_2009_02_WAV.midi  \n",
            "  inflating: dataset_train/MIDI-Unprocessed_16_R1_2006_01-04_ORIG_MID--AUDIO_16_R1_2006_03_Track03_wav.midi  \n",
            "  inflating: dataset_train/MIDI-Unprocessed_05_R2_2006_01_ORIG_MID--AUDIO_05_R2_2006_01_Track01_wav.midi  \n",
            "  inflating: dataset_train/MIDI-Unprocessed_SMF_13_01_2004_01-05_ORIG_MID--AUDIO_13_R1_2004_09_Track09_wav.midi  \n",
            "  inflating: dataset_train/MIDI-Unprocessed_SMF_17_R1_2004_03-06_ORIG_MID--AUDIO_20_R2_2004_08_Track08_wav.midi  \n",
            "  inflating: dataset_train/MIDI-Unprocessed_08_R1_2011_MID--AUDIO_R1-D3_09_Track09_wav.midi  \n",
            "  inflating: dataset_train/ORIG-MIDI_02_7_10_13_Group_MID--AUDIO_12_R3_2013_wav--4.midi  \n",
            "  inflating: dataset_train/MIDI-Unprocessed_11_R1_2011_MID--AUDIO_R1-D4_08_Track08_wav.midi  \n",
            "  inflating: dataset_train/MIDI-Unprocessed_XP_11_R1_2004_01-02_ORIG_MID--AUDIO_11_R1_2004_01_Track01_wav.midi  \n",
            "  inflating: dataset_train/MIDI-Unprocessed_02_R1_2009_03-06_ORIG_MID--AUDIO_02_R1_2009_02_R1_2009_03_WAV.midi  \n",
            "  inflating: dataset_train/MIDI-Unprocessed_05_R1_2011_MID--AUDIO_R1-D2_10_Track10_wav.midi  \n",
            "  inflating: dataset_train/MIDI-Unprocessed_08_R1_2006_01-04_ORIG_MID--AUDIO_08_R1_2006_Disk1_02_Track02_wav.midi  \n",
            "  inflating: dataset_train/MIDI-Unprocessed_R1_D2-13-20_mid--AUDIO-from_mp3_15_R1_2015_wav--1.midi  \n",
            "  inflating: dataset_train/MIDI-Unprocessed_R1_D1-9-12_mid--AUDIO-from_mp3_09_R1_2015_wav--1.midi  \n",
            "  inflating: dataset_train/MIDI-Unprocessed_04_R3_2011_MID--AUDIO_R3-D2_06_Track06_wav.midi  \n",
            "  inflating: dataset_train/MIDI-Unprocessed_SMF_05_R1_2004_01_ORIG_MID--AUDIO_05_R1_2004_03_Track03_wav.midi  \n",
            "  inflating: dataset_train/ORIG-MIDI_02_7_10_13_Group_MID--AUDIO_14_R3_2013_wav--1.midi  \n",
            "  inflating: dataset_train/MIDI-Unprocessed_18_R1_2009_01-03_ORIG_MID--AUDIO_18_R1_2009_18_R1_2009_01_WAV.midi  \n",
            "  inflating: dataset_train/MIDI-UNPROCESSED_16-18_R1_2014_MID--AUDIO_18_R1_2014_wav--2.midi  \n",
            "  inflating: dataset_train/MIDI-Unprocessed_057_PIANO057_MID--AUDIO-split_07-07-17_Piano-e_1-07_wav--5.midi  \n",
            "  inflating: dataset_train/ORIG-MIDI_03_7_6_13_Group__MID--AUDIO_10_R1_2013_wav--4.midi  \n",
            "  inflating: dataset_train/MIDI-Unprocessed_19_R1_2006_01-07_ORIG_MID--AUDIO_19_R1_2006_02_Track02_wav.midi  \n",
            "  inflating: dataset_train/MIDI-Unprocessed_14_R1_2009_01-05_ORIG_MID--AUDIO_14_R1_2009_14_R1_2009_04_WAV.midi  \n",
            "  inflating: dataset_train/ORIG-MIDI_02_7_7_13_Group__MID--AUDIO_18_R1_2013_wav--5.midi  \n",
            "  inflating: dataset_train/MIDI-Unprocessed_067_PIANO067_MID--AUDIO-split_07-07-17_Piano-e_3-03_wav--1.midi  \n",
            "  inflating: dataset_train/MIDI-Unprocessed_XP_19_R1_2004_01-02_ORIG_MID--AUDIO_19_R1_2004_02_Track02_wav.midi  \n",
            "  inflating: dataset_train/MIDI-Unprocessed_R1_D1-1-8_mid--AUDIO-from_mp3_05_R1_2015_wav--5.midi  \n",
            "  inflating: dataset_train/ORIG-MIDI_01_7_6_13_Group__MID--AUDIO_04_R1_2013_wav--2.midi  \n",
            "  inflating: dataset_train/MIDI-Unprocessed_22_R3_2011_MID--AUDIO_R3-D7_03_Track03_wav.midi  \n",
            "  inflating: dataset_train/MIDI-Unprocessed_R2_D2-19-21-22_mid--AUDIO-from_mp3_19_R2_2015_wav--2.midi  \n",
            "  inflating: dataset_train/MIDI-Unprocessed_XP_08_R1_2004_04-06_ORIG_MID--AUDIO_08_R1_2004_05_Track05_wav--1.midi  \n",
            "  inflating: dataset_train/MIDI-UNPROCESSED_09-10_R1_2014_MID--AUDIO_10_R1_2014_wav--3.midi  \n",
            "  inflating: dataset_train/MIDI-Unprocessed_R2_D2-12-13-15_mid--AUDIO-from_mp3_13_R2_2015_wav--4.midi  \n",
            "  inflating: dataset_train/MIDI-Unprocessed_067_PIANO067_MID--AUDIO-split_07-07-17_Piano-e_3-03_wav--3.midi  \n",
            "  inflating: dataset_train/MIDI-Unprocessed_18_R1_2008_01-04_ORIG_MID--AUDIO_18_R1_2008_wav--1.midi  \n",
            "  inflating: dataset_train/MIDI-Unprocessed_XP_11_R1_2004_01-02_ORIG_MID--AUDIO_11_R1_2004_02_Track02_wav.midi  \n",
            "  inflating: dataset_train/MIDI-UNPROCESSED_06-08_R1_2014_MID--AUDIO_07_R1_2014_wav--3.midi  \n",
            "  inflating: dataset_train/MIDI-Unprocessed_R1_D1-1-8_mid--AUDIO-from_mp3_06_R1_2015_wav--6.midi  \n",
            "  inflating: dataset_train/MIDI-Unprocessed_07_R1_2009_01-03_ORIG_MID--AUDIO_07_R1_2009_07_R1_2009_03_WAV.midi  \n",
            "  inflating: dataset_train/ORIG-MIDI_02_7_6_13_Group__MID--AUDIO_07_R1_2013_wav--1.midi  \n",
            "  inflating: dataset_train/MIDI-Unprocessed_SMF_02_R1_2004_01-05_ORIG_MID--AUDIO_02_R1_2004_05_Track05_wav.midi  \n",
            "  inflating: dataset_train/ORIG-MIDI_02_7_6_13_Group__MID--AUDIO_08_R1_2013_wav--4.midi  \n",
            "  inflating: dataset_train/MIDI-Unprocessed_062_PIANO062_MID--AUDIO-split_07-07-17_Piano-e_2-07_wav--1.midi  \n",
            "  inflating: dataset_train/MIDI-Unprocessed_11_R1_2011_MID--AUDIO_R1-D4_11_Track11_wav.midi  \n",
            "  inflating: dataset_train/MIDI-Unprocessed_R1_D1-9-12_mid--AUDIO-from_mp3_12_R1_2015_wav--1.midi  \n",
            "  inflating: dataset_train/MIDI-Unprocessed_10_R1_2011_MID--AUDIO_R1-D4_02_Track02_wav.midi  \n",
            "  inflating: dataset_train/MIDI-UNPROCESSED_04-05_R1_2014_MID--AUDIO_04_R1_2014_wav--3.midi  \n",
            "  inflating: dataset_train/MIDI-Unprocessed_21_R1_2009_01-03_ORIG_MID--AUDIO_21_R1_2009_21_R1_2009_01_WAV.midi  \n",
            "  inflating: dataset_train/MIDI-Unprocessed_11_R1_2008_01-04_ORIG_MID--AUDIO_11_R1_2008_wav--2.midi  \n",
            "  inflating: dataset_train/MIDI-UNPROCESSED_11-13_R1_2014_MID--AUDIO_11_R1_2014_wav--3.midi  \n",
            "  inflating: dataset_train/MIDI-Unprocessed_SMF_17_R1_2004_03-06_ORIG_MID--AUDIO_20_R2_2004_12_Track12_wav--2.midi  \n",
            "  inflating: dataset_train/MIDI-UNPROCESSED_01-03_R1_2014_MID--AUDIO_02_R1_2014_wav--1.midi  \n",
            "  inflating: dataset_train/MIDI-Unprocessed_13_R1_2006_01-06_ORIG_MID--AUDIO_13_R1_2006_04_Track04_wav.midi  \n",
            "  inflating: dataset_train/MIDI-Unprocessed_XP_03_R1_2004_01-02_ORIG_MID--AUDIO_03_R1_2004_01_Track01_wav.midi  \n",
            "  inflating: dataset_train/MIDI-Unprocessed_05_R1_2006_01-05_ORIG_MID--AUDIO_05_R1_2006_01_Track01_wav.midi  \n",
            "  inflating: dataset_train/ORIG-MIDI_01_7_7_13_Group__MID--AUDIO_11_R1_2013_wav--3.midi  \n",
            "  inflating: dataset_train/MIDI-Unprocessed_R1_D2-21-22_mid--AUDIO-from_mp3_21_R1_2015_wav--5.midi  \n",
            "  inflating: dataset_train/MIDI-Unprocessed_XP_20_R2_2004_01_ORIG_MID--AUDIO_20_R1_2004_01_Track01_wav.midi  \n",
            "  inflating: dataset_train/MIDI-Unprocessed_17_R1_2011_MID--AUDIO_R1-D7_02_Track02_wav.midi  \n",
            "  inflating: dataset_train/MIDI-Unprocessed_10_R3_2008_01-05_ORIG_MID--AUDIO_10_R3_2008_wav--4.midi  \n",
            "  inflating: dataset_train/MIDI-Unprocessed_10_R2_2009_01_ORIG_MID--AUDIO_10_R2_2009_10_R2_2009_01_WAV.midi  \n",
            "  inflating: dataset_train/MIDI-Unprocessed_082_PIANO082_MID--AUDIO-split_07-09-17_Piano-e_2_-04_wav--1.midi  \n",
            "  inflating: dataset_train/MIDI-Unprocessed_15_R1_2008_01-04_ORIG_MID--AUDIO_15_R1_2008_wav--3.midi  \n",
            "  inflating: dataset_train/MIDI-Unprocessed_067_PIANO067_MID--AUDIO-split_07-07-17_Piano-e_3-03_wav--4.midi  \n",
            "  inflating: dataset_train/MIDI-Unprocessed_03_R3_2011_MID--AUDIO_R3-D1_03_Track03_wav.midi  \n",
            "  inflating: dataset_train/MIDI-Unprocessed_R2_D2-12-13-15_mid--AUDIO-from_mp3_12_R2_2015_wav--3.midi  \n",
            "  inflating: dataset_train/MIDI-Unprocessed_19_R1_2011_MID--AUDIO_R1-D7_13_Track13_wav.midi  \n",
            "  inflating: dataset_train/MIDI-Unprocessed_14_R1_2009_06-08_ORIG_MID--AUDIO_14_R1_2009_14_R1_2009_06_WAV.midi  \n",
            "  inflating: dataset_train/MIDI-Unprocessed_03_R1_2011_MID--AUDIO_R1-D1_19_Track19_wav.midi  \n",
            "  inflating: dataset_train/MIDI-Unprocessed_11_R1_2009_06-09_ORIG_MID--AUDIO_11_R1_2009_11_R1_2009_06_WAV.midi  \n",
            "  inflating: dataset_train/MIDI-Unprocessed_08_R1_2009_01-04_ORIG_MID--AUDIO_08_R1_2009_08_R1_2009_02_WAV.midi  \n",
            "  inflating: dataset_train/MIDI-Unprocessed_R1_D2-13-20_mid--AUDIO-from_mp3_19_R1_2015_wav--3.midi  \n",
            "  inflating: dataset_train/MIDI-Unprocessed_079_PIANO079_MID--AUDIO-split_07-09-17_Piano-e_1-04_wav--1.midi  \n",
            "  inflating: dataset_train/MIDI-UNPROCESSED_01-03_R1_2014_MID--AUDIO_02_R1_2014_wav--5.midi  \n",
            "  inflating: dataset_train/MIDI-Unprocessed_18_R1_2006_01-05_ORIG_MID--AUDIO_18_R1_2006_01_Track01_wav.midi  \n",
            "  inflating: dataset_train/MIDI-Unprocessed_R1_D2-21-22_mid--AUDIO-from_mp3_21_R1_2015_wav--1.midi  \n",
            "  inflating: dataset_train/MIDI-Unprocessed_Recital9-11_MID--AUDIO_10_R1_2018_wav--5.midi  \n",
            "  inflating: dataset_train/MIDI-Unprocessed_22_R1_2006_01-04_ORIG_MID--AUDIO_22_R1_2006_01_Track01_wav.midi  \n",
            "  inflating: dataset_train/MIDI-Unprocessed_059_PIANO059_MID--AUDIO-split_07-07-17_Piano-e_2-03_wav--1.midi  \n",
            "  inflating: dataset_train/MIDI-Unprocessed_R2_D1-2-3-6-7-8-11_mid--AUDIO-from_mp3_08_R2_2015_wav--2.midi  \n",
            "  inflating: dataset_train/ORIG-MIDI_02_7_6_13_Group__MID--AUDIO_06_R1_2013_wav--2.midi  \n",
            "  inflating: dataset_train/MIDI-Unprocessed_R1_D2-21-22_mid--AUDIO-from_mp3_22_R1_2015_wav--4.midi  \n",
            "  inflating: dataset_train/MIDI-Unprocessed_07_R3_2008_01-05_ORIG_MID--AUDIO_07_R3_2008_wav--2.midi  \n",
            "  inflating: dataset_train/MIDI-UNPROCESSED_19-20_R1_2014_MID--AUDIO_19_R1_2014_wav--1.midi  \n",
            "  inflating: dataset_train/MIDI-Unprocessed_20_R1_2009_01-05_ORIG_MID--AUDIO_20_R1_2009_20_R1_2009_02_WAV.midi  \n",
            "  inflating: dataset_train/MIDI-Unprocessed_23_R2_2011_MID--AUDIO_R2-D6_03_Track03_wav.midi  \n",
            "  inflating: dataset_train/MIDI-Unprocessed_25_R2_2011_MID--AUDIO_R2-D6_07_Track07_wav.midi  \n",
            "  inflating: dataset_train/ORIG-MIDI_01_7_8_13_Group__MID--AUDIO_02_R2_2013_wav--5.midi  \n",
            "  inflating: dataset_train/ORIG-MIDI_03_7_8_13_Group__MID--AUDIO_17_R2_2013_wav--2.midi  \n",
            "  inflating: dataset_train/MIDI-UNPROCESSED_11-13_R1_2014_MID--AUDIO_12_R1_2014_wav--1.midi  \n",
            "  inflating: dataset_train/MIDI-UNPROCESSED_16-18_R1_2014_MID--AUDIO_18_R1_2014_wav--1.midi  \n",
            "  inflating: dataset_train/MIDI-Unprocessed_13_R1_2009_01-03_ORIG_MID--AUDIO_13_R1_2009_13_R1_2009_01_WAV.midi  \n",
            "  inflating: dataset_train/MIDI-Unprocessed_12_R3_2011_MID--AUDIO_R3-D4_08_Track08_wav.midi  \n",
            "  inflating: dataset_train/MIDI-Unprocessed_14_R1_2009_06-08_ORIG_MID--AUDIO_14_R1_2009_14_R1_2009_08_WAV.midi  \n",
            "  inflating: dataset_train/MIDI-Unprocessed_13_R1_2009_01-03_ORIG_MID--AUDIO_13_R1_2009_13_R1_2009_03_WAV.midi  \n",
            "  inflating: dataset_train/ORIG-MIDI_02_7_6_13_Group__MID--AUDIO_05_R1_2013_wav--2.midi  \n",
            "  inflating: dataset_train/MIDI-Unprocessed_059_PIANO059_MID--AUDIO-split_07-07-17_Piano-e_2-03_wav--3.midi  \n",
            "  inflating: dataset_train/MIDI-Unprocessed_03_R3_2008_01-03_ORIG_MID--AUDIO_03_R3_2008_wav--1.midi  \n",
            "  inflating: dataset_train/MIDI-Unprocessed_05_R1_2009_03-05_ORIG_MID--AUDIO_05_R1_2009_05_R1_2009_03_WAV.midi  \n",
            "  inflating: dataset_train/MIDI-Unprocessed_R2_D1-2-3-6-7-8-11_mid--AUDIO-from_mp3_06_R2_2015_wav--4.midi  \n",
            "  inflating: dataset_train/MIDI-UNPROCESSED_04-07-08-10-12-15-17_R2_2014_MID--AUDIO_04_R2_2014_wav.midi  \n",
            "  inflating: dataset_train/MIDI-UNPROCESSED_01-03_R1_2014_MID--AUDIO_03_R1_2014_wav--2.midi  \n",
            "  inflating: dataset_train/MIDI-UNPROCESSED_09-10_R1_2014_MID--AUDIO_10_R1_2014_wav--1.midi  \n",
            "  inflating: dataset_train/MIDI-Unprocessed_15_R2_2008_01-04_ORIG_MID--AUDIO_15_R2_2008_wav--2.midi  \n",
            "  inflating: dataset_train/MIDI-Unprocessed_12_R3_2008_01-04_ORIG_MID--AUDIO_12_R3_2008_wav--2.midi  \n",
            "  inflating: dataset_train/ORIG-MIDI_02_7_6_13_Group__MID--AUDIO_07_R1_2013_wav--3.midi  \n",
            "  inflating: dataset_train/MIDI-Unprocessed_R1_D1-9-12_mid--AUDIO-from_mp3_12_R1_2015_wav--2.midi  \n",
            "  inflating: dataset_train/MIDI-Unprocessed_043_PIANO043_MID--AUDIO-split_07-06-17_Piano-e_1-03_wav--2.midi  \n",
            "  inflating: dataset_train/MIDI-Unprocessed_06_R1_2009_03-07_ORIG_MID--AUDIO_06_R1_2009_06_R1_2009_07_WAV.midi  \n",
            "  inflating: dataset_train/MIDI-Unprocessed_XP_17_R2_2004_01_ORIG_MID--AUDIO_17_R2_2004_04_Track04_wav.midi  \n",
            "  inflating: dataset_train/MIDI-Unprocessed_18_R1_2011_MID--AUDIO_R1-D7_07_Track07_wav.midi  \n",
            "  inflating: dataset_train/ORIG-MIDI_01_7_7_13_Group__MID--AUDIO_14_R1_2013_wav--1.midi  \n",
            "  inflating: dataset_train/MIDI-UNPROCESSED_21-22_R1_2014_MID--AUDIO_21_R1_2014_wav--1.midi  \n",
            "  inflating: dataset_train/MIDI-Unprocessed_XP_15_R2_2004_01_ORIG_MID--AUDIO_15_R2_2004_03_Track03_wav.midi  \n",
            "  inflating: dataset_train/MIDI-Unprocessed_066_PIANO066_MID--AUDIO-split_07-07-17_Piano-e_3-02_wav--4.midi  \n",
            "  inflating: dataset_train/MIDI-Unprocessed_04_R2_2008_01-04_ORIG_MID--AUDIO_04_R2_2008_wav--4.midi  \n",
            "  inflating: dataset_train/MIDI-Unprocessed_R1_D2-13-20_mid--AUDIO-from_mp3_16_R1_2015_wav--1.midi  \n",
            "  inflating: dataset_train/MIDI-UNPROCESSED_11-13_R1_2014_MID--AUDIO_12_R1_2014_wav--2.midi  \n",
            "  inflating: dataset_train/ORIG-MIDI_01_7_8_13_Group__MID--AUDIO_07_R2_2013_wav--1.midi  \n",
            "  inflating: dataset_train/MIDI-Unprocessed_XP_18_R1_2004_01-02_ORIG_MID--AUDIO_18_R1_2004_04_Track04_wav.midi  \n",
            "  inflating: dataset_train/MIDI-Unprocessed_Recital5-7_MID--AUDIO_06_R1_2018_wav--1.midi  \n",
            "  inflating: dataset_train/MIDI-UNPROCESSED_21-22_R1_2014_MID--AUDIO_22_R1_2014_wav--5.midi  \n",
            "  inflating: dataset_train/MIDI-Unprocessed_10_R2_2011_MID--AUDIO_R2-D3_11_Track11_wav.midi  \n",
            "  inflating: dataset_train/MIDI-Unprocessed_05_R1_2009_01-02_ORIG_MID--AUDIO_05_R1_2009_05_R1_2009_02_WAV.midi  \n",
            "  inflating: dataset_train/MIDI-Unprocessed_07_R1_2008_01-04_ORIG_MID--AUDIO_07_R1_2008_wav--3.midi  \n",
            "  inflating: dataset_train/ORIG-MIDI_03_7_6_13_Group__MID--AUDIO_10_R1_2013_wav--3.midi  \n",
            "  inflating: dataset_train/MIDI-Unprocessed_04_R2_2008_01-04_ORIG_MID--AUDIO_04_R2_2008_wav--1.midi  \n",
            "  inflating: dataset_train/MIDI-Unprocessed_17_R1_2011_MID--AUDIO_R1-D7_03_Track03_wav.midi  \n",
            "  inflating: dataset_train/MIDI-UNPROCESSED_09-10_R1_2014_MID--AUDIO_09_R1_2014_wav--3.midi  \n",
            "  inflating: dataset_train/MIDI-Unprocessed_XP_08_R1_2004_04-06_ORIG_MID--AUDIO_08_R1_2004_04_Track04_wav.midi  \n",
            "  inflating: dataset_train/MIDI-UNPROCESSED_19-21_R3_2014_MID--AUDIO_21_R3_2014_wav--2.midi  \n",
            "  inflating: dataset_train/MIDI-Unprocessed_R1_D2-13-20_mid--AUDIO-from_mp3_18_R1_2015_wav--2.midi  \n",
            "  inflating: dataset_train/MIDI-Unprocessed_08_R1_2008_01-05_ORIG_MID--AUDIO_08_R1_2008_wav--2.midi  \n",
            "  inflating: dataset_train/MIDI-Unprocessed_R1_D1-1-8_mid--AUDIO-from_mp3_07_R1_2015_wav--2.midi  \n",
            "  inflating: dataset_train/MIDI-Unprocessed_10_R2_2009_01_ORIG_MID--AUDIO_10_R2_2009_10_R2_2009_04_WAV.midi  \n",
            "  inflating: dataset_train/MIDI-Unprocessed_Recital1-3_MID--AUDIO_02_R1_2018_wav--2.midi  \n",
            "  inflating: dataset_train/MIDI-Unprocessed_02_R1_2008_01-05_ORIG_MID--AUDIO_02_R1_2008_wav--5.midi  \n",
            "  inflating: dataset_train/MIDI-Unprocessed_12_R2_2008_01-04_ORIG_MID--AUDIO_12_R2_2008_wav--1.midi  \n",
            "  inflating: dataset_train/MIDI-Unprocessed_066_PIANO066_MID--AUDIO-split_07-07-17_Piano-e_3-02_wav--1.midi  \n",
            "  inflating: dataset_train/MIDI-Unprocessed_049_PIANO049_MID--AUDIO-split_07-06-17_Piano-e_2-06_wav--1.midi  \n",
            "  inflating: dataset_train/MIDI-Unprocessed_17_R2_2011_MID--AUDIO_R2-D5_06_Track06_wav.midi  \n",
            "  inflating: dataset_train/MIDI-Unprocessed_07_R1_2009_04-05_ORIG_MID--AUDIO_07_R1_2009_07_R1_2009_05_WAV.midi  \n",
            "  inflating: dataset_train/MIDI-Unprocessed_23_R2_2006_01_ORIG_MID--AUDIO_23_R2_2006_01_Track01_wav.midi  \n",
            "  inflating: dataset_train/MIDI-Unprocessed_10_R1_2008_01-04_ORIG_MID--AUDIO_10_R1_2008_wav--2.midi  \n",
            "  inflating: dataset_train/MIDI-Unprocessed_01_R1_2006_01-09_ORIG_MID--AUDIO_01_R1_2006_01_Track01_wav.midi  \n",
            "  inflating: dataset_train/MIDI-Unprocessed_060_PIANO060_MID--AUDIO-split_07-07-17_Piano-e_2-04_wav--2.midi  \n",
            "  inflating: dataset_train/MIDI-Unprocessed_XP_22_R2_2004_01_ORIG_MID--AUDIO_22_R2_2004_03_Track03_wav.midi  \n",
            "  inflating: dataset_train/MIDI-Unprocessed_R1_D1-1-8_mid--AUDIO-from_mp3_07_R1_2015_wav--4.midi  \n",
            "  inflating: dataset_train/MIDI-Unprocessed_17_R1_2009_01-03_ORIG_MID--AUDIO_17_R1_2009_17_R1_2009_02_WAV.midi  \n",
            "  inflating: dataset_train/MIDI-UNPROCESSED_11-13_R1_2014_MID--AUDIO_11_R1_2014_wav--2.midi  \n",
            "  inflating: dataset_train/MIDI-Unprocessed_SMF_16_R1_2004_01-08_ORIG_MID--AUDIO_16_R1_2004_06_Track06_wav.midi  \n",
            "  inflating: dataset_train/ORIG-MIDI_02_7_10_13_Group_MID--AUDIO_11_R3_2013_wav--3.midi  \n",
            "  inflating: dataset_train/MIDI-Unprocessed_01_R1_2011_MID--AUDIO_R1-D1_06_Track06_wav.midi  \n",
            "  inflating: dataset_train/ORIG-MIDI_03_7_6_13_Group__MID--AUDIO_09_R1_2013_wav--1.midi  \n",
            "  inflating: dataset_train/ORIG-MIDI_03_7_6_13_Group__MID--AUDIO_09_R1_2013_wav--4.midi  \n",
            "  inflating: dataset_train/MIDI-Unprocessed_02_R1_2011_MID--AUDIO_R1-D1_08_Track08_wav.midi  \n",
            "  inflating: dataset_train/MIDI-Unprocessed_16_R2_2009_01_ORIG_MID--AUDIO_16_R2_2009_16_R2_2009_03_WAV.midi  \n",
            "  inflating: dataset_train/MIDI-Unprocessed_046_PIANO046_MID--AUDIO-split_07-06-17_Piano-e_2-02_wav--3.midi  \n",
            "  inflating: dataset_train/MIDI-Unprocessed_17_R2_2008_01-04_ORIG_MID--AUDIO_17_R2_2008_wav--3.midi  \n",
            "  inflating: dataset_train/MIDI-Unprocessed_07_R2_2009_01_ORIG_MID--AUDIO_07_R2_2009_07_R2_2009_02_WAV.midi  \n",
            "  inflating: dataset_train/MIDI-Unprocessed_12_R3_2011_MID--AUDIO_R3-D4_02_Track02_wav.midi  \n",
            "  inflating: dataset_train/MIDI-Unprocessed_19_R1_2011_MID--AUDIO_R1-D7_15_Track15_wav.midi  \n",
            "  inflating: dataset_train/MIDI-Unprocessed_10_R1_2008_01-04_ORIG_MID--AUDIO_10_R1_2008_wav--1.midi  \n",
            "  inflating: dataset_train/MIDI-Unprocessed_Recital12_MID--AUDIO_12_R1_2018_wav--2.midi  \n",
            "  inflating: dataset_train/MIDI-Unprocessed_15_R1_2011_MID--AUDIO_R1-D6_10_Track10_wav.midi  \n",
            "  inflating: dataset_train/MIDI-Unprocessed_R1_D1-9-12_mid--AUDIO-from_mp3_12_R1_2015_wav--4.midi  \n",
            "  inflating: dataset_train/MIDI-Unprocessed_R1_D1-9-12_mid--AUDIO-from_mp3_11_R1_2015_wav--3.midi  \n",
            "  inflating: dataset_train/ORIG-MIDI_01_7_10_13_Group_MID--AUDIO_07_R3_2013_wav--3.midi  \n",
            "  inflating: dataset_train/MIDI-Unprocessed_10_R1_2008_01-04_ORIG_MID--AUDIO_10_R1_2008_wav--4.midi  \n",
            "  inflating: dataset_train/MIDI-UNPROCESSED_01-03_R1_2014_MID--AUDIO_02_R1_2014_wav--2.midi  \n",
            "  inflating: dataset_train/MIDI-UNPROCESSED_09-10_R1_2014_MID--AUDIO_10_R1_2014_wav--4.midi  \n",
            "  inflating: dataset_train/MIDI-Unprocessed_Recital17-19_MID--AUDIO_19_R1_2018_wav--4.midi  \n",
            "  inflating: dataset_train/ORIG-MIDI_02_7_6_13_Group__MID--AUDIO_06_R1_2013_wav--1.midi  \n",
            "  inflating: dataset_train/MIDI-Unprocessed_R2_D1-2-3-6-7-8-11_mid--AUDIO-from_mp3_08_R2_2015_wav--1.midi  \n",
            "  inflating: dataset_train/MIDI-Unprocessed_08_R2_2006_01_ORIG_MID--AUDIO_08_R2_2006_03_Track03_wav.midi  \n",
            "  inflating: dataset_train/MIDI-Unprocessed_13_R1_2006_01-06_ORIG_MID--AUDIO_13_R1_2006_05_Track05_wav.midi  \n",
            "  inflating: dataset_train/MIDI-Unprocessed_22_R1_2006_01-04_ORIG_MID--AUDIO_22_R1_2006_04_Track04_wav.midi  \n",
            "  inflating: dataset_train/MIDI-Unprocessed_081_PIANO081_MID--AUDIO-split_07-09-17_Piano-e_2_-02_wav--4.midi  \n",
            "  inflating: dataset_train/MIDI-Unprocessed_XP_19_R1_2004_01-02_ORIG_MID--AUDIO_19_R1_2004_01_Track01_wav.midi  \n",
            "  inflating: dataset_train/ORIG-MIDI_03_7_10_13_Group_MID--AUDIO_17_R3_2013_wav--2.midi  \n",
            "  inflating: dataset_train/MIDI-Unprocessed_12_R1_2006_01-08_ORIG_MID--AUDIO_12_R1_2006_01_Track01_wav.midi  \n",
            "  inflating: dataset_train/MIDI-Unprocessed_11_R2_2008_01-05_ORIG_MID--AUDIO_11_R2_2008_wav--3.midi  \n",
            "  inflating: dataset_train/MIDI-UNPROCESSED_04-05_R1_2014_MID--AUDIO_05_R1_2014_wav--8.midi  \n",
            "  inflating: dataset_train/ORIG-MIDI_02_7_8_13_Group__MID--AUDIO_12_R2_2013_wav--1.midi  \n",
            "  inflating: dataset_train/MIDI-Unprocessed_083_PIANO083_MID--AUDIO-split_07-09-17_Piano-e_2_-06_wav--1.midi  \n",
            "  inflating: dataset_train/MIDI-Unprocessed_053_PIANO053_MID--AUDIO-split_07-06-17_Piano-e_3-04_wav--4.midi  \n",
            "  inflating: dataset_train/MIDI-Unprocessed_08_R3_2008_01-05_ORIG_MID--AUDIO_08_R3_2008_wav--3.midi  \n",
            "  inflating: dataset_train/MIDI-Unprocessed_07_R1_2009_01-03_ORIG_MID--AUDIO_07_R1_2009_07_R1_2009_02_WAV.midi  \n",
            "  inflating: dataset_train/MIDI-UNPROCESSED_04-05_R1_2014_MID--AUDIO_05_R1_2014_wav--5.midi  \n",
            "  inflating: dataset_train/MIDI-Unprocessed_047_PIANO047_MID--AUDIO-split_07-06-17_Piano-e_2-04_wav--2.midi  \n",
            "  inflating: dataset_train/ORIG-MIDI_01_7_10_13_Group_MID--AUDIO_08_R3_2013_wav--2.midi  \n",
            "  inflating: dataset_train/MIDI-Unprocessed_07_R1_2011_MID--AUDIO_R1-D3_02_Track02_wav.midi  \n",
            "  inflating: dataset_train/MIDI-Unprocessed_09_R2_2009_01_ORIG_MID--AUDIO_09_R2_2009_09_R2_2009_04_WAV.midi  \n",
            "  inflating: dataset_train/MIDI-Unprocessed_Recital5-7_MID--AUDIO_05_R1_2018_wav--1.midi  \n",
            "  inflating: dataset_train/MIDI-Unprocessed_Recital9-11_MID--AUDIO_10_R1_2018_wav--1.midi  \n",
            "  inflating: dataset_train/MIDI-Unprocessed_11_R1_2011_MID--AUDIO_R1-D4_10_Track10_wav.midi  \n",
            "  inflating: dataset_train/MIDI-Unprocessed_R2_D2-12-13-15_mid--AUDIO-from_mp3_12_R2_2015_wav--2.midi  \n",
            "  inflating: dataset_train/MIDI-Unprocessed_07_R1_2011_MID--AUDIO_R1-D3_04_Track04_wav.midi  \n",
            "  inflating: dataset_train/MIDI-Unprocessed_R2_D1-2-3-6-7-8-11_mid--AUDIO-from_mp3_11_R2_2015_wav--1.midi  \n",
            "  inflating: dataset_train/MIDI-Unprocessed_16_R1_2009_01-02_ORIG_MID--AUDIO_16_R1_2009_16_R1_2009_02_WAV.midi  \n",
            "  inflating: dataset_train/MIDI-Unprocessed_11_R1_2008_01-04_ORIG_MID--AUDIO_11_R1_2008_wav--3.midi  \n",
            "  inflating: dataset_train/MIDI-Unprocessed_15_R1_2009_03-06_ORIG_MID--AUDIO_15_R1_2009_15_R1_2009_06_WAV.midi  \n",
            "  inflating: dataset_train/MIDI-Unprocessed_12_R2_2011_MID--AUDIO_R2-D4_03_Track03_wav.midi  \n",
            "  inflating: dataset_train/MIDI-Unprocessed_Recital4_MID--AUDIO_04_R1_2018_wav--1.midi  \n",
            "  inflating: dataset_train/MIDI-UNPROCESSED_11-13_R1_2014_MID--AUDIO_11_R1_2014_wav--1.midi  \n",
            "  inflating: dataset_train/MIDI-Unprocessed_23_R2_2006_01_ORIG_MID--AUDIO_23_R2_2006_03_Track03_wav.midi  \n",
            "  inflating: dataset_train/MIDI-Unprocessed_Recital17-19_MID--AUDIO_19_R1_2018_wav--6.midi  \n",
            "  inflating: dataset_train/MIDI-Unprocessed_04_R1_2011_MID--AUDIO_R1-D2_06_Track06_wav.midi  \n",
            "  inflating: dataset_train/MIDI-Unprocessed_081_PIANO081_MID--AUDIO-split_07-09-17_Piano-e_2_-02_wav--3.midi  \n",
            "  inflating: dataset_train/MIDI-Unprocessed_01_R1_2009_01-04_ORIG_MID--AUDIO_01_R1_2009_01_R1_2009_02_WAV.midi  \n",
            "  inflating: dataset_train/MIDI-Unprocessed_Recital5-7_MID--AUDIO_06_R1_2018_wav--3.midi  \n",
            "  inflating: dataset_train/MIDI-Unprocessed_Recital1-3_MID--AUDIO_03_R1_2018_wav--4.midi  \n",
            "  inflating: dataset_train/MIDI-Unprocessed_06_R2_2008_01-05_ORIG_MID--AUDIO_06_R2_2008_wav--5.midi  \n",
            "  inflating: dataset_train/MIDI-Unprocessed_SMF_07_R1_2004_01_ORIG_MID--AUDIO_07_R1_2004_12_Track12_wav.midi  \n",
            "  inflating: dataset_train/MIDI-Unprocessed_XP_06_R2_2004_01_ORIG_MID--AUDIO_06_R2_2004_02_Track02_wav.midi  \n",
            "  inflating: dataset_train/MIDI-Unprocessed_02_R1_2008_01-05_ORIG_MID--AUDIO_02_R1_2008_wav--4.midi  \n",
            "  inflating: dataset_train/MIDI-Unprocessed_03_R2_2011_MID--AUDIO_R2-D1_08_Track08_wav.midi  \n",
            "  inflating: dataset_train/MIDI-Unprocessed_044_PIANO044_MID--AUDIO-split_07-06-17_Piano-e_1-04_wav--2.midi  \n",
            "  inflating: dataset_train/MIDI-Unprocessed_05_R1_2011_MID--AUDIO_R1-D2_08_Track08_wav.midi  \n",
            "  inflating: dataset_train/MIDI-Unprocessed_09_R2_2011_MID--AUDIO_R2-D3_04_Track04_wav.midi  \n",
            "  inflating: dataset_train/MIDI-Unprocessed_09_R1_2006_01-04_ORIG_MID--AUDIO_09_R1_2006_04_Track04_wav.midi  \n",
            "  inflating: dataset_train/MIDI-Unprocessed_10_R2_2008_01-05_ORIG_MID--AUDIO_10_R2_2008_wav--2.midi  \n",
            "  inflating: dataset_train/MIDI-UNPROCESSED_06-08_R1_2014_MID--AUDIO_07_R1_2014_wav--2.midi  \n",
            "  inflating: dataset_train/MIDI-Unprocessed_R1_D1-1-8_mid--AUDIO-from_mp3_06_R1_2015_wav--5.midi  \n",
            "  inflating: dataset_train/MIDI-Unprocessed_SMF_22_R1_2004_01-04_ORIG_MID--AUDIO_22_R1_2004_10_Track10_wav.midi  \n",
            "  inflating: dataset_train/MIDI-Unprocessed_12_R3_2008_01-04_ORIG_MID--AUDIO_12_R3_2008_wav--1.midi  \n",
            "  inflating: dataset_train/ORIG-MIDI_02_7_7_13_Group__MID--AUDIO_17_R1_2013_wav--3.midi  \n",
            "  inflating: dataset_train/MIDI-Unprocessed_01_R1_2011_MID--AUDIO_R1-D1_04_Track04_wav.midi  \n",
            "  inflating: dataset_train/MIDI-Unprocessed_23_R3_2011_MID--AUDIO_R3-D8_03_Track03_wav.midi  \n",
            "  inflating: dataset_train/MIDI-Unprocessed_09_R2_2008_01-05_ORIG_MID--AUDIO_09_R2_2008_wav--1.midi  \n",
            "  inflating: dataset_train/MIDI-Unprocessed_09_R3_2008_01-07_ORIG_MID--AUDIO_09_R3_2008_wav--3.midi  \n",
            "  inflating: dataset_train/ORIG-MIDI_01_7_7_13_Group__MID--AUDIO_13_R1_2013_wav--4.midi  \n",
            "  inflating: dataset_train/MIDI-Unprocessed_12_R1_2006_01-08_ORIG_MID--AUDIO_12_R1_2006_08_Track08_wav.midi  \n",
            "  inflating: dataset_train/MIDI-Unprocessed_24_R1_2006_01-05_ORIG_MID--AUDIO_24_R1_2006_03_Track03_wav.midi  \n",
            "  inflating: dataset_train/MIDI-Unprocessed_14_R1_2008_01-05_ORIG_MID--AUDIO_14_R1_2008_wav--4.midi  \n",
            "  inflating: dataset_train/MIDI-Unprocessed_06_R1_2008_01-04_ORIG_MID--AUDIO_06_R1_2008_wav--3.midi  \n",
            "  inflating: dataset_train/MIDI-Unprocessed_17_R1_2008_01-04_ORIG_MID--AUDIO_17_R1_2008_wav--2.midi  \n",
            "  inflating: dataset_train/MIDI-Unprocessed_Recital13-15_MID--AUDIO_14_R1_2018_wav--4.midi  \n",
            "  inflating: dataset_train/MIDI-Unprocessed_053_PIANO053_MID--AUDIO-split_07-06-17_Piano-e_3-04_wav--2.midi  \n",
            "  inflating: dataset_train/ORIG-MIDI_01_7_6_13_Group__MID--AUDIO_02_R1_2013_wav--1.midi  \n",
            "  inflating: dataset_train/MIDI-Unprocessed_050_PIANO050_MID--AUDIO-split_07-06-17_Piano-e_3-01_wav--2.midi  \n",
            "  inflating: dataset_train/MIDI-Unprocessed_04_R1_2006_01-04_ORIG_MID--AUDIO_04_R1_2006_01_Track01_wav.midi  \n",
            "  inflating: dataset_train/MIDI-Unprocessed_XP_22_R2_2004_01_ORIG_MID--AUDIO_22_R2_2004_02_Track02_wav.midi  \n",
            "  inflating: dataset_train/MIDI-Unprocessed_046_PIANO046_MID--AUDIO-split_07-06-17_Piano-e_2-02_wav--4.midi  \n",
            "  inflating: dataset_train/MIDI-Unprocessed_R1_D1-1-8_mid--AUDIO-from_mp3_06_R1_2015_wav--4.midi  \n",
            "  inflating: dataset_train/MIDI-Unprocessed_19_R1_2011_MID--AUDIO_R1-D7_12_Track12_wav.midi  \n",
            "  inflating: dataset_train/MIDI-Unprocessed_075_PIANO075_MID--AUDIO-split_07-08-17_Piano-e_2-06_wav--1.midi  \n",
            "  inflating: dataset_train/ORIG-MIDI_02_7_6_13_Group__MID--AUDIO_07_R1_2013_wav--2.midi  \n",
            "  inflating: dataset_train/MIDI-Unprocessed_R1_D1-9-12_mid--AUDIO-from_mp3_10_R1_2015_wav--1.midi  \n",
            "  inflating: dataset_train/MIDI-Unprocessed_16_R2_2009_01_ORIG_MID--AUDIO_16_R2_2009_16_R2_2009_01_WAV.midi  \n",
            "  inflating: dataset_train/MIDI-Unprocessed_XP_09_R1_2004_05_ORIG_MID--AUDIO_09_R1_2004_08_Track08_wav.midi  \n",
            "  inflating: dataset_train/MIDI-Unprocessed_XP_06_R2_2004_01_ORIG_MID--AUDIO_06_R2_2004_01_Track01_wav.midi  \n",
            "  inflating: dataset_train/MIDI-UNPROCESSED_11-13_R1_2014_MID--AUDIO_13_R1_2014_wav--4.midi  \n",
            "  inflating: dataset_train/MIDI-Unprocessed_12_R1_2011_MID--AUDIO_R1-D4_13_Track13_wav.midi  \n",
            "  inflating: dataset_train/MIDI-UNPROCESSED_16-18_R1_2014_MID--AUDIO_16_R1_2014_wav--1.midi  \n",
            "  inflating: dataset_train/MIDI-Unprocessed_01_R1_2011_MID--AUDIO_R1-D1_05_Track05_wav.midi  \n",
            "  inflating: dataset_train/MIDI-Unprocessed_Recital4_MID--AUDIO_04_R1_2018_wav--4.midi  \n",
            "  inflating: dataset_train/MIDI-Unprocessed_R1_D1-1-8_mid--AUDIO-from_mp3_03_R1_2015_wav--3.midi  \n",
            "  inflating: dataset_train/MIDI-Unprocessed_066_PIANO066_MID--AUDIO-split_07-07-17_Piano-e_3-02_wav--3.midi  \n",
            "  inflating: dataset_train/MIDI-Unprocessed_16_R1_2011_MID--AUDIO_R1-D6_14_Track14_wav.midi  \n",
            "  inflating: dataset_train/MIDI-Unprocessed_09_R1_2011_MID--AUDIO_R1-D3_12_Track12_wav.midi  \n",
            "  inflating: dataset_train/ORIG-MIDI_02_7_8_13_Group__MID--AUDIO_08_R2_2013_wav--2.midi  \n",
            "  inflating: dataset_train/MIDI-Unprocessed_18_R1_2011_MID--AUDIO_R1-D7_10_Track10_wav.midi  \n",
            "  inflating: dataset_train/MIDI-Unprocessed_R1_D1-1-8_mid--AUDIO-from_mp3_01_R1_2015_wav--5.midi  \n",
            "  inflating: dataset_train/MIDI-Unprocessed_SMF_17_R1_2004_01-02_ORIG_MID--AUDIO_20_R2_2004_04_Track04_wav.midi  \n",
            "  inflating: dataset_train/MIDI-Unprocessed_XP_09_R1_2004_05_ORIG_MID--AUDIO_09_R1_2004_07_Track07_wav.midi  \n",
            "  inflating: dataset_train/MIDI-Unprocessed_R1_D2-21-22_mid--AUDIO-from_mp3_21_R1_2015_wav--2.midi  \n",
            "  inflating: dataset_train/MIDI-Unprocessed_R1_D1-1-8_mid--AUDIO-from_mp3_02_R1_2015_wav--3.midi  \n",
            "  inflating: dataset_train/MIDI-Unprocessed_045_PIANO045_MID--AUDIO-split_07-06-17_Piano-e_2-01_wav--2.midi  \n",
            "  inflating: dataset_train/MIDI-Unprocessed_02_R1_2008_01-05_ORIG_MID--AUDIO_02_R1_2008_wav--2.midi  \n",
            "  inflating: dataset_train/MIDI-Unprocessed_15_R1_2011_MID--AUDIO_R1-D6_08_Track08_wav.midi  \n",
            "  inflating: dataset_train/MIDI-Unprocessed_R1_D1-1-8_mid--AUDIO-from_mp3_04_R1_2015_wav--3.midi  \n",
            "  inflating: dataset_train/MIDI-UNPROCESSED_01-03_R1_2014_MID--AUDIO_01_R1_2014_wav--2.midi  \n",
            "  inflating: dataset_train/MIDI-Unprocessed_01_R1_2011_MID--AUDIO_R1-D1_02_Track02_wav.midi  \n",
            "  inflating: dataset_train/MIDI-Unprocessed_SMF_02_R1_2004_01-05_ORIG_MID--AUDIO_02_R1_2004_08_Track08_wav.midi  \n",
            "  inflating: dataset_train/MIDI-Unprocessed_17_R1_2009_01-03_ORIG_MID--AUDIO_17_R1_2009_17_R1_2009_03_WAV.midi  \n",
            "  inflating: dataset_train/ORIG-MIDI_01_7_7_13_Group__MID--AUDIO_11_R1_2013_wav--4.midi  \n",
            "  inflating: dataset_train/MIDI-Unprocessed_12_R1_2006_01-08_ORIG_MID--AUDIO_12_R1_2006_06_Track06_wav.midi  \n",
            "  inflating: dataset_train/MIDI-Unprocessed_07_R2_2008_01-05_ORIG_MID--AUDIO_07_R2_2008_wav--1.midi  \n",
            "  inflating: dataset_train/MIDI-Unprocessed_051_PIANO051_MID--AUDIO-split_07-06-17_Piano-e_3-02_wav--5.midi  \n",
            "  inflating: dataset_train/MIDI-Unprocessed_12_R2_2009_01_ORIG_MID--AUDIO_12_R2_2009_12_R2_2009_03_WAV.midi  \n",
            "  inflating: dataset_train/MIDI-Unprocessed_Recital1-3_MID--AUDIO_03_R1_2018_wav--5.midi  \n",
            "  inflating: dataset_train/MIDI-Unprocessed_17_R1_2008_01-04_ORIG_MID--AUDIO_17_R1_2008_wav--1.midi  \n",
            "  inflating: dataset_train/MIDI-Unprocessed_18_R1_2008_01-04_ORIG_MID--AUDIO_18_R1_2008_wav--4.midi  \n",
            "  inflating: dataset_train/MIDI-Unprocessed_22_R2_2011_MID--AUDIO_R2-D5_11_Track11_wav.midi  \n",
            "  inflating: dataset_train/MIDI-Unprocessed_Recital13-15_MID--AUDIO_14_R1_2018_wav--2.midi  \n",
            "  inflating: dataset_train/MIDI-Unprocessed_R1_D1-1-8_mid--AUDIO-from_mp3_07_R1_2015_wav--3.midi  \n",
            "  inflating: dataset_train/MIDI-UNPROCESSED_16-18_R1_2014_MID--AUDIO_18_R1_2014_wav--5.midi  \n",
            "  inflating: dataset_train/MIDI-UNPROCESSED_01-03_R1_2014_MID--AUDIO_03_R1_2014_wav--4.midi  \n",
            "  inflating: dataset_train/MIDI-Unprocessed_04_R3_2008_01-07_ORIG_MID--AUDIO_04_R3_2008_wav--7.midi  \n",
            "  inflating: dataset_train/MIDI-Unprocessed_XP_17_R2_2004_01_ORIG_MID--AUDIO_17_R2_2004_03_Track03_wav.midi  \n",
            "  inflating: dataset_train/MIDI-UNPROCESSED_16-18_R1_2014_MID--AUDIO_18_R1_2014_wav--3.midi  \n",
            "  inflating: dataset_train/ORIG-MIDI_03_7_10_13_Group_MID--AUDIO_15_R3_2013_wav--1.midi  \n",
            "  inflating: dataset_train/MIDI-Unprocessed_05_R1_2008_01-04_ORIG_MID--AUDIO_05_R1_2008_wav--2.midi  \n",
            "  inflating: dataset_train/MIDI-Unprocessed_SMF_05_R1_2004_02-03_ORIG_MID--AUDIO_05_R1_2004_06_Track06_wav.midi  \n",
            "  inflating: dataset_train/MIDI-Unprocessed_041_PIANO041_MID--AUDIO-split_07-06-17_Piano-e_1-01_wav--3.midi  \n",
            "  inflating: dataset_train/MIDI-Unprocessed_15_R1_2008_01-04_ORIG_MID--AUDIO_15_R1_2008_wav--2.midi  \n",
            "  inflating: dataset_train/MIDI-Unprocessed_25_R1_2011_MID--AUDIO_R1-D9_15_Track15_wav.midi  \n",
            "  inflating: dataset_train/MIDI-UNPROCESSED_21-22_R1_2014_MID--AUDIO_22_R1_2014_wav--1.midi  \n",
            "  inflating: dataset_train/MIDI-Unprocessed_09_R1_2008_01-05_ORIG_MID--AUDIO_09_R1_2008_wav--5.midi  \n",
            "  inflating: dataset_train/MIDI-Unprocessed_22_R1_2006_01-04_ORIG_MID--AUDIO_22_R1_2006_02_Track02_wav.midi  \n",
            "  inflating: dataset_train/MIDI-Unprocessed_082_PIANO082_MID--AUDIO-split_07-09-17_Piano-e_2_-04_wav--2.midi  \n",
            "  inflating: dataset_train/MIDI-Unprocessed_25_R3_2011_MID--AUDIO_R3-D9_04_Track04_wav.midi  \n",
            "  inflating: dataset_train/MIDI-Unprocessed_XP_01_R1_2004_04-05_ORIG_MID--AUDIO_01_R1_2004_05_Track05_wav.midi  \n",
            "  inflating: dataset_train/MIDI-Unprocessed_17_R3_2011_MID--AUDIO_R3-D6_04_Track04_wav.midi  \n",
            "  inflating: dataset_train/MIDI-Unprocessed_Schubert4-6_MID--AUDIO_08_R2_2018_wav.midi  \n",
            "  inflating: dataset_train/MIDI-Unprocessed_23_R3_2011_MID--AUDIO_R3-D8_04_Track04_wav.midi  \n",
            "  inflating: dataset_train/MIDI-Unprocessed_20_R1_2006_01-04_ORIG_MID--AUDIO_20_R1_2006_04_Track04_wav.midi  \n",
            "  inflating: dataset_train/MIDI-Unprocessed_XP_09_R1_2004_01-02_ORIG_MID--AUDIO_09_R1_2004_02_Track02_wav.midi  \n",
            "  inflating: dataset_train/MIDI-UNPROCESSED_04-07-08-10-12-15-17_R2_2014_MID--AUDIO_07_R2_2014_wav.midi  \n",
            "  inflating: dataset_train/MIDI-Unprocessed_04_R3_2008_01-07_ORIG_MID--AUDIO_04_R3_2008_wav--5.midi  \n",
            "  inflating: dataset_train/MIDI-Unprocessed_R2_D1-2-3-6-7-8-11_mid--AUDIO-from_mp3_06_R2_2015_wav--2.midi  \n",
            "  inflating: dataset_train/MIDI-Unprocessed_12_R1_2008_01-04_ORIG_MID--AUDIO_12_R1_2008_wav--2.midi  \n",
            "  inflating: dataset_train/ORIG-MIDI_01_7_7_13_Group__MID--AUDIO_12_R1_2013_wav--1.midi  \n",
            "  inflating: dataset_train/MIDI-Unprocessed_071_PIANO071_MID--AUDIO-split_07-08-17_Piano-e_1-04_wav--2.midi  \n",
            "  inflating: dataset_train/MIDI-Unprocessed_Chamber3_MID--AUDIO_10_R3_2018_wav--2.midi  \n",
            "  inflating: dataset_train/MIDI-Unprocessed_XP_06_R1_2004_02-03_ORIG_MID--AUDIO_06_R1_2004_05_Track05_wav.midi  \n",
            "  inflating: dataset_train/MIDI-Unprocessed_18_R1_2006_01-05_ORIG_MID--AUDIO_18_R1_2006_02_Track02_wav.midi  \n",
            "  inflating: dataset_train/MIDI-Unprocessed_16_R2_2009_01_ORIG_MID--AUDIO_16_R2_2009_16_R2_2009_02_WAV.midi  \n",
            "  inflating: dataset_train/MIDI-Unprocessed_Recital1-3_MID--AUDIO_02_R1_2018_wav--1.midi  \n",
            "  inflating: dataset_train/MIDI-Unprocessed_SMF_12_01_2004_01-05_ORIG_MID--AUDIO_12_R1_2004_07_Track07_wav.midi  \n",
            "  inflating: dataset_train/MIDI-Unprocessed_079_PIANO079_MID--AUDIO-split_07-09-17_Piano-e_1-04_wav--4.midi  \n",
            "  inflating: dataset_train/MIDI-Unprocessed_14_R1_2006_01-05_ORIG_MID--AUDIO_14_R1_2006_01_Track01_wav.midi  \n",
            "  inflating: dataset_train/ORIG-MIDI_03_7_8_13_Group__MID--AUDIO_15_R2_2013_wav--1.midi  \n",
            "  inflating: dataset_train/ORIG-MIDI_03_7_10_13_Group_MID--AUDIO_17_R3_2013_wav--1.midi  \n",
            "  inflating: dataset_train/MIDI-Unprocessed_Recital12_MID--AUDIO_12_R1_2018_wav--3.midi  \n",
            "  inflating: dataset_train/MIDI-Unprocessed_06_R2_2008_01-05_ORIG_MID--AUDIO_06_R2_2008_wav--1.midi  \n",
            "  inflating: dataset_train/MIDI-Unprocessed_Recital5-7_MID--AUDIO_07_R1_2018_wav--1.midi  \n",
            "  inflating: dataset_train/MIDI-Unprocessed_15_R1_2009_01-02_ORIG_MID--AUDIO_15_R1_2009_15_R1_2009_01_WAV.midi  \n",
            "  inflating: dataset_train/MIDI-Unprocessed_07_R3_2008_01-05_ORIG_MID--AUDIO_07_R3_2008_wav--1.midi  \n",
            "  inflating: dataset_train/MIDI-Unprocessed_04_R3_2008_01-07_ORIG_MID--AUDIO_04_R3_2008_wav--4.midi  \n",
            "  inflating: dataset_train/MIDI-Unprocessed_SMF_22_R1_2004_01-04_ORIG_MID--AUDIO_22_R1_2004_17_Track17_wav.midi  \n",
            "  inflating: dataset_train/MIDI-Unprocessed_01_R1_2009_01-04_ORIG_MID--AUDIO_01_R1_2009_01_R1_2009_01_WAV.midi  \n",
            "  inflating: dataset_train/MIDI-Unprocessed_21_R2_2009_01_ORIG_MID--AUDIO_21_R2_2009_21_R2_2009_03_WAV.midi  \n",
            "  inflating: dataset_train/MIDI-Unprocessed_Chamber6_MID--AUDIO_20_R3_2018_wav--2.midi  \n",
            "  inflating: dataset_train/MIDI-Unprocessed_R2_D2-19-21-22_mid--AUDIO-from_mp3_22_R2_2015_wav--2.midi  \n",
            "  inflating: dataset_train/MIDI-Unprocessed_XP_22_R2_2004_01_ORIG_MID--AUDIO_22_R2_2004_01_Track01_wav.midi  \n",
            "  inflating: dataset_train/MIDI-Unprocessed_XP_04_R1_2004_01-02_ORIG_MID--AUDIO_04_R1_2004_01_Track01_wav.midi  \n",
            "  inflating: dataset_train/MIDI-UNPROCESSED_01-03_R1_2014_MID--AUDIO_03_R1_2014_wav--6.midi  \n",
            "  inflating: dataset_train/MIDI-Unprocessed_03_R2_2008_01-03_ORIG_MID--AUDIO_03_R2_2008_wav--3.midi  \n",
            "  inflating: dataset_train/MIDI-Unprocessed_25_R3_2011_MID--AUDIO_R3-D9_06_Track06_wav.midi  \n",
            "  inflating: dataset_train/MIDI-Unprocessed_14_R1_2009_01-05_ORIG_MID--AUDIO_14_R1_2009_14_R1_2009_05_WAV.midi  \n",
            "  inflating: dataset_train/MIDI-Unprocessed_XP_10_R1_2004_03-04_ORIG_MID--AUDIO_10_R1_2004_03_Track03_wav.midi  \n",
            "  inflating: dataset_train/ORIG-MIDI_01_7_6_13_Group__MID--AUDIO_04_R1_2013_wav--3.midi  \n",
            "  inflating: dataset_train/MIDI-Unprocessed_XP_06_R1_2004_01_ORIG_MID--AUDIO_06_R1_2004_01_Track01_wav.midi  \n",
            "  inflating: dataset_train/MIDI-Unprocessed_SMF_12_01_2004_01-05_ORIG_MID--AUDIO_12_R1_2004_08_Track08_wav.midi  \n",
            "  inflating: dataset_train/MIDI-Unprocessed_19_R1_2009_01-02_ORIG_MID--AUDIO_19_R1_2009_19_R1_2009_02_WAV.midi  \n",
            "  inflating: dataset_train/MIDI-Unprocessed_13_R1_2009_04_ORIG_MID--AUDIO_13_R1_2009_13_R1_2009_04_WAV.midi  \n",
            "  inflating: dataset_train/MIDI-Unprocessed_Recital9-11_MID--AUDIO_11_R1_2018_wav--2.midi  \n",
            "  inflating: dataset_train/MIDI-Unprocessed_08_R1_2008_01-05_ORIG_MID--AUDIO_08_R1_2008_wav--5.midi  \n",
            "  inflating: dataset_train/MIDI-Unprocessed_XP_06_R2_2004_01_ORIG_MID--AUDIO_06_R2_2004_03_Track03_wav.midi  \n",
            "  inflating: dataset_train/MIDI-Unprocessed_07_R3_2008_01-05_ORIG_MID--AUDIO_07_R3_2008_wav--4.midi  \n",
            "  inflating: dataset_train/MIDI-Unprocessed_05_R1_2011_MID--AUDIO_R1-D2_11_Track11_wav.midi  \n",
            "  inflating: dataset_train/ORIG-MIDI_01_7_6_13_Group__MID--AUDIO_04_R1_2013_wav--1.midi  \n",
            "  inflating: dataset_train/ORIG-MIDI_02_7_10_13_Group_MID--AUDIO_14_R3_2013_wav--2.midi  \n",
            "  inflating: dataset_train/MIDI-UNPROCESSED_04-08-12_R3_2014_MID--AUDIO_04_R3_2014_wav--1.midi  \n",
            "  inflating: dataset_train/MIDI-Unprocessed_SMF_17_R1_2004_01-03_ORIG_MID--AUDIO_17_R1_2004_02_Track02_wav--1.midi  \n",
            "  inflating: dataset_train/MIDI-Unprocessed_08_R2_2009_01_ORIG_MID--AUDIO_08_R2_2009_08_R2_2009_04_WAV.midi  \n",
            "  inflating: dataset_train/MIDI-Unprocessed_Recital9-11_MID--AUDIO_10_R1_2018_wav--2.midi  \n",
            "  inflating: dataset_train/MIDI-Unprocessed_17_R1_2011_MID--AUDIO_R1-D7_05_Track05_wav.midi  \n",
            "  inflating: dataset_train/MIDI-Unprocessed_XP_14_R1_2004_04_ORIG_MID--AUDIO_14_R1_2004_04_Track04_wav.midi  \n",
            "  inflating: dataset_train/MIDI-Unprocessed_XP_15_R1_2004_01-02_ORIG_MID--AUDIO_15_R1_2004_02_Track02_wav.midi  \n",
            "  inflating: dataset_train/MIDI-Unprocessed_R1_D1-9-12_mid--AUDIO-from_mp3_09_R1_2015_wav--4.midi  \n",
            "  inflating: dataset_train/MIDI-Unprocessed_17_R1_2006_01-06_ORIG_MID--AUDIO_17_R1_2006_02_Track02_wav.midi  \n",
            "  inflating: dataset_train/ORIG-MIDI_02_7_7_13_Group__MID--AUDIO_16_R1_2013_wav--1.midi  \n",
            "  inflating: dataset_train/MIDI-Unprocessed_XP_22_R2_2004_01_ORIG_MID--AUDIO_22_R2_2004_04_Track04_wav.midi  \n",
            "  inflating: dataset_train/MIDI-UNPROCESSED_06-08_R1_2014_MID--AUDIO_06_R1_2014_wav--1.midi  \n",
            "  inflating: dataset_train/MIDI-Unprocessed_21_R1_2011_MID--AUDIO_R1-D8_07_Track07_wav.midi  \n",
            "  inflating: dataset_train/MIDI-Unprocessed_07_R1_2006_01-04_ORIG_MID--AUDIO_07_R1_2006_03_Track03_wav.midi  \n",
            "  inflating: dataset_train/MIDI-Unprocessed_052_PIANO052_MID--AUDIO-split_07-06-17_Piano-e_3-03_wav--1.midi  \n",
            "  inflating: dataset_train/MIDI-UNPROCESSED_01-03_R1_2014_MID--AUDIO_01_R1_2014_wav--3.midi  \n",
            "  inflating: dataset_train/MIDI-Unprocessed_06_R1_2006_01-04_ORIG_MID--AUDIO_06_R1_2006_03_Track03_wav.midi  \n",
            "  inflating: dataset_train/MIDI-Unprocessed_XP_14_R2_2004_01_ORIG_MID--AUDIO_14_R2_2004_02_Track02_wav.midi  \n",
            "  inflating: dataset_train/MIDI-Unprocessed_16_R2_2006_01_ORIG_MID--AUDIO_16_R2_2006_02_Track02_wav.midi  \n",
            "  inflating: dataset_train/MIDI-Unprocessed_R2_D1-2-3-6-7-8-11_mid--AUDIO-from_mp3_03_R2_2015_wav--1.midi  \n",
            "  inflating: dataset_train/MIDI-Unprocessed_09_R1_2009_01-04_ORIG_MID--AUDIO_09_R1_2009_09_R1_2009_03_WAV.midi  \n",
            "  inflating: dataset_train/MIDI-Unprocessed_R1_D2-13-20_mid--AUDIO-from_mp3_14_R1_2015_wav--4.midi  \n",
            "  inflating: dataset_train/MIDI-Unprocessed_SMF_16_R1_2004_01-08_ORIG_MID--AUDIO_16_R1_2004_02_Track02_wav.midi  \n",
            "  inflating: dataset_train/MIDI-Unprocessed_20_R1_2009_01-05_ORIG_MID--AUDIO_20_R1_2009_20_R1_2009_01_WAV.midi  \n",
            "  inflating: dataset_train/MIDI-Unprocessed_082_PIANO082_MID--AUDIO-split_07-09-17_Piano-e_2_-04_wav--3.midi  \n",
            "  inflating: dataset_train/MIDI-Unprocessed_074_PIANO074_MID--AUDIO-split_07-08-17_Piano-e_2-04_wav--3.midi  \n",
            "  inflating: dataset_train/MIDI-Unprocessed_22_R2_2006_01_ORIG_MID--AUDIO_22_R2_2006_02_Track02_wav.midi  \n",
            "  inflating: dataset_train/MIDI-Unprocessed_R1_D2-21-22_mid--AUDIO-from_mp3_22_R1_2015_wav--2.midi  \n",
            "  inflating: dataset_train/MIDI-Unprocessed_24_R1_2006_01-05_ORIG_MID--AUDIO_24_R1_2006_02_Track02_wav.midi  \n",
            "  inflating: dataset_train/MIDI-Unprocessed_058_PIANO058_MID--AUDIO-split_07-07-17_Piano-e_2-02_wav--1.midi  \n",
            "  inflating: dataset_train/MIDI-Unprocessed_060_PIANO060_MID--AUDIO-split_07-07-17_Piano-e_2-04_wav--3.midi  \n",
            "  inflating: dataset_train/MIDI-Unprocessed_23_R1_2006_01-05_ORIG_MID--AUDIO_23_R1_2006_02_Track02_wav.midi  \n",
            "  inflating: dataset_train/MIDI-Unprocessed_071_PIANO071_MID--AUDIO-split_07-08-17_Piano-e_1-04_wav--1.midi  \n",
            "  inflating: dataset_train/MIDI-Unprocessed_24_R1_2006_01-05_ORIG_MID--AUDIO_24_R1_2006_04_Track04_wav.midi  \n",
            "  inflating: dataset_train/MIDI-Unprocessed_06_R1_2009_01-02_ORIG_MID--AUDIO_06_R1_2009_06_R1_2009_02_WAV.midi  \n",
            "  inflating: dataset_train/MIDI-Unprocessed_R1_D1-1-8_mid--AUDIO-from_mp3_08_R1_2015_wav--4.midi  \n",
            "  inflating: dataset_train/ORIG-MIDI_02_7_8_13_Group__MID--AUDIO_11_R2_2013_wav--1.midi  \n",
            "  inflating: dataset_train/MIDI-Unprocessed_Recital1-3_MID--AUDIO_03_R1_2018_wav--2.midi  \n",
            "  inflating: dataset_train/MIDI-UNPROCESSED_01-03_R1_2014_MID--AUDIO_01_R1_2014_wav--5.midi  \n",
            "  inflating: dataset_train/MIDI-Unprocessed_XP_08_R1_2004_01-02_ORIG_MID--AUDIO_08_R1_2004_02_Track02_wav.midi  \n",
            "  inflating: dataset_train/MIDI-Unprocessed_XP_04_R1_2004_03-05_ORIG_MID--AUDIO_04_R1_2004_05_Track05_wav.midi  \n",
            "  inflating: dataset_train/MIDI-Unprocessed_21_R1_2009_01-03_ORIG_MID--AUDIO_21_R1_2009_21_R1_2009_03_WAV.midi  \n",
            "  inflating: dataset_train/MIDI-Unprocessed_R1_D2-21-22_mid--AUDIO-from_mp3_22_R1_2015_wav--3.midi  \n",
            "  inflating: dataset_train/MIDI-Unprocessed_061_PIANO061_MID--AUDIO-split_07-07-17_Piano-e_2-05_wav--3.midi  \n",
            "  inflating: dataset_train/ORIG-MIDI_02_7_7_13_Group__MID--AUDIO_19_R1_2013_wav--2.midi  \n",
            "  inflating: dataset_train/MIDI-UNPROCESSED_06-08_R1_2014_MID--AUDIO_07_R1_2014_wav--4.midi  \n",
            "  inflating: dataset_train/MIDI-Unprocessed_17_R2_2008_01-04_ORIG_MID--AUDIO_17_R2_2008_wav--1.midi  \n",
            "  inflating: dataset_train/MIDI-Unprocessed_07_R1_2006_01-04_ORIG_MID--AUDIO_07_R1_2006_02_Track02_wav.midi  \n",
            "  inflating: dataset_train/MIDI-Unprocessed_R1_D1-9-12_mid--AUDIO-from_mp3_10_R1_2015_wav--2.midi  \n",
            "  inflating: dataset_train/MIDI-Unprocessed_13_R1_2008_01-04_ORIG_MID--AUDIO_13_R1_2008_wav--4.midi  \n",
            "  inflating: dataset_train/MIDI-Unprocessed_044_PIANO044_MID--AUDIO-split_07-06-17_Piano-e_1-04_wav--3.midi  \n",
            "  inflating: dataset_train/MIDI-Unprocessed_Recital9-11_MID--AUDIO_09_R1_2018_wav--3.midi  \n",
            "  inflating: dataset_train/MIDI-Unprocessed_XP_16_R2_2004_01_ORIG_MID--AUDIO_16_R2_2004_02_Track02_wav.midi  \n",
            "  inflating: dataset_train/MIDI-Unprocessed_070_PIANO070_MID--AUDIO-split_07-08-17_Piano-e_1-02_wav--2.midi  \n",
            "  inflating: dataset_train/ORIG-MIDI_02_7_8_13_Group__MID--AUDIO_11_R2_2013_wav--3.midi  \n",
            "  inflating: dataset_train/MIDI-UNPROCESSED_04-05_R1_2014_MID--AUDIO_05_R1_2014_wav--1.midi  \n",
            "  inflating: dataset_train/MIDI-Unprocessed_R1_D1-1-8_mid--AUDIO-from_mp3_05_R1_2015_wav--1.midi  \n",
            "  inflating: dataset_train/MIDI-UNPROCESSED_16-18_R1_2014_MID--AUDIO_17_R1_2014_wav--1.midi  \n",
            "  inflating: dataset_train/MIDI-Unprocessed_060_PIANO060_MID--AUDIO-split_07-07-17_Piano-e_2-04_wav--4.midi  \n",
            "  inflating: dataset_train/MIDI-Unprocessed_02_R1_2008_01-05_ORIG_MID--AUDIO_02_R1_2008_wav--1.midi  \n",
            "  inflating: dataset_train/MIDI-Unprocessed_03_R3_2011_MID--AUDIO_R3-D1_07_Track07_wav.midi  \n",
            "  inflating: dataset_train/MIDI-Unprocessed_Recital17-19_MID--AUDIO_17_R1_2018_wav--1.midi  \n",
            "  inflating: dataset_train/MIDI-Unprocessed_06_R3_2011_MID--AUDIO_R3-D3_05_Track05_wav.midi  \n",
            "  inflating: dataset_train/MIDI-Unprocessed_XP_19_R2_2004_01_ORIG_MID--AUDIO_19_R2_2004_01_Track01_wav.midi  \n",
            "  inflating: dataset_train/MIDI-UNPROCESSED_04-07-08-10-12-15-17_R2_2014_MID--AUDIO_15_R2_2014_wav.midi  \n",
            "  inflating: dataset_train/MIDI-Unprocessed_Recital13-15_MID--AUDIO_15_R1_2018_wav--1.midi  \n",
            "  inflating: dataset_train/MIDI-Unprocessed_21_R1_2011_MID--AUDIO_R1-D8_08_Track08_wav.midi  \n",
            "  inflating: dataset_train/MIDI-Unprocessed_04_R1_2011_MID--AUDIO_R1-D2_04_Track04_wav.midi  \n",
            "  inflating: dataset_train/MIDI-Unprocessed_06_R2_2008_01-05_ORIG_MID--AUDIO_06_R2_2008_wav--4.midi  \n",
            "  inflating: dataset_train/MIDI-Unprocessed_09_R3_2008_01-07_ORIG_MID--AUDIO_09_R3_2008_wav--4.midi  \n",
            "  inflating: dataset_train/MIDI-Unprocessed_01_R1_2006_01-09_ORIG_MID--AUDIO_01_R1_2006_03_Track03_wav.midi  \n",
            "  inflating: dataset_train/MIDI-Unprocessed_R1_D2-13-20_mid--AUDIO-from_mp3_17_R1_2015_wav--3.midi  \n",
            "  inflating: dataset_train/MIDI-Unprocessed_XP_04_R1_2004_03-05_ORIG_MID--AUDIO_04_R1_2004_06_Track06_wav.midi  \n",
            "  inflating: dataset_train/MIDI-Unprocessed_03_R1_2011_MID--AUDIO_R1-D1_16_Track16_wav.midi  \n",
            "  inflating: dataset_train/MIDI-Unprocessed_10_R2_2009_01_ORIG_MID--AUDIO_10_R2_2009_10_R2_2009_02_WAV.midi  \n",
            "  inflating: dataset_train/MIDI-Unprocessed_16_R1_2011_MID--AUDIO_R1-D6_13_Track13_wav.midi  \n",
            "  inflating: dataset_train/MIDI-Unprocessed_20_R1_2011_MID--AUDIO_R1-D8_04_Track04_wav.midi  \n",
            "  inflating: dataset_train/MIDI-Unprocessed_05_R2_2006_01_ORIG_MID--AUDIO_05_R2_2006_03_Track03_wav.midi  \n",
            "  inflating: dataset_train/MIDI-Unprocessed_03_R1_2009_03-08_ORIG_MID--AUDIO_03_R1_2009_03_R1_2009_03_WAV.midi  \n",
            "  inflating: dataset_train/MIDI-Unprocessed_06_R2_2011_MID--AUDIO_R2-D2_06_Track06_wav.midi  \n",
            "  inflating: dataset_train/MIDI-Unprocessed_XP_14_R1_2004_04_ORIG_MID--AUDIO_14_R1_2004_05_Track05_wav.midi  \n",
            "  inflating: dataset_train/MIDI-Unprocessed_12_R1_2008_01-04_ORIG_MID--AUDIO_12_R1_2008_wav--3.midi  \n",
            "  inflating: dataset_train/MIDI-Unprocessed_04_R2_2011_MID--AUDIO_R2-D2_03_Track03_wav.midi  \n",
            "  inflating: dataset_train/MIDI-Unprocessed_01_R2_2006_01_ORIG_MID--AUDIO_01_R2_2006_02_Track02_wav.midi  \n",
            "  inflating: dataset_train/MIDI-Unprocessed_12_R1_2009_03-05_ORIG_MID--AUDIO_12_R1_2009_12_R1_2009_05_WAV.midi  \n",
            "  inflating: dataset_train/MIDI-Unprocessed_17_R3_2011_MID--AUDIO_R3-D6_06_Track06_wav.midi  \n",
            "  inflating: dataset_train/MIDI-Unprocessed_09_R1_2011_MID--AUDIO_R1-D3_15_Track15_wav.midi  \n",
            "  inflating: dataset_train/MIDI-Unprocessed_24_R1_2006_01-05_ORIG_MID--AUDIO_24_R1_2006_01_Track01_wav.midi  \n",
            "  inflating: dataset_train/MIDI-Unprocessed_12_R1_2009_01-02_ORIG_MID--AUDIO_12_R1_2009_12_R1_2009_01_WAV.midi  \n",
            "  inflating: dataset_train/ORIG-MIDI_01_7_10_13_Group_MID--AUDIO_08_R3_2013_wav--1.midi  \n",
            "  inflating: dataset_train/MIDI-Unprocessed_19_R1_2006_01-07_ORIG_MID--AUDIO_19_R1_2006_06_Track06_wav.midi  \n",
            "  inflating: dataset_train/MIDI-Unprocessed_11_R1_2006_01-06_ORIG_MID--AUDIO_11_R1_2006_04_Track04_wav.midi  \n",
            "  inflating: dataset_train/MIDI-Unprocessed_XP_16_R2_2004_01_ORIG_MID--AUDIO_16_R2_2004_04_Track04_wav.midi  \n",
            "  inflating: dataset_train/MIDI-Unprocessed_09_R1_2011_MID--AUDIO_R1-D3_14_Track14_wav.midi  \n",
            "  inflating: dataset_train/MIDI-Unprocessed_078_PIANO078_MID--AUDIO-split_07-09-17_Piano-e_1-02_wav--3.midi  \n",
            "  inflating: dataset_train/MIDI-Unprocessed_08_R2_2008_01-04_ORIG_MID--AUDIO_08_R2_2008_wav--2.midi  \n",
            "  inflating: dataset_train/MIDI-Unprocessed_16_R1_2008_01-04_ORIG_MID--AUDIO_16_R1_2008_wav--3.midi  \n",
            "  inflating: dataset_train/MIDI-Unprocessed_12_R3_2011_MID--AUDIO_R3-D4_03_Track03_wav.midi  \n",
            "  inflating: dataset_train/MIDI-Unprocessed_11_R3_2008_01-04_ORIG_MID--AUDIO_11_R3_2008_wav--4.midi  \n",
            "  inflating: dataset_train/MIDI-Unprocessed_Recital1-3_MID--AUDIO_01_R1_2018_wav--4.midi  \n",
            "  inflating: dataset_train/MIDI-Unprocessed_12_R1_2011_MID--AUDIO_R1-D4_14_Track14_wav.midi  \n",
            "  inflating: dataset_train/ORIG-MIDI_02_7_7_13_Group__MID--AUDIO_18_R1_2013_wav--3.midi  \n",
            "  inflating: dataset_train/MIDI-UNPROCESSED_11-13_R1_2014_MID--AUDIO_13_R1_2014_wav--1.midi  \n",
            "  inflating: dataset_train/MIDI-Unprocessed_14_R1_2011_MID--AUDIO_R1-D6_04_Track04_wav.midi  \n",
            "  inflating: dataset_train/ORIG-MIDI_01_7_8_13_Group__MID--AUDIO_03_R2_2013_wav--2.midi  \n",
            "  inflating: dataset_train/MIDI-Unprocessed_071_PIANO071_MID--AUDIO-split_07-08-17_Piano-e_1-04_wav--4.midi  \n",
            "  inflating: dataset_train/MIDI-Unprocessed_R1_D2-13-20_mid--AUDIO-from_mp3_19_R1_2015_wav--4.midi  \n",
            "  inflating: dataset_train/ORIG-MIDI_03_7_6_13_Group__MID--AUDIO_10_R1_2013_wav--1.midi  \n",
            "  inflating: dataset_train/MIDI-UNPROCESSED_16-18_R1_2014_MID--AUDIO_18_R1_2014_wav--4.midi  \n",
            "  inflating: dataset_train/MIDI-Unprocessed_08_R1_2009_01-04_ORIG_MID--AUDIO_08_R1_2009_08_R1_2009_03_WAV.midi  \n",
            "  inflating: dataset_train/MIDI-Unprocessed_02_R1_2006_01-04_ORIG_MID--AUDIO_02_R1_2006_01_Track01_wav.midi  \n",
            "  inflating: dataset_train/MIDI-Unprocessed_09_R2_2011_MID--AUDIO_R2-D3_03_Track03_wav.midi  \n",
            "  inflating: dataset_train/MIDI-Unprocessed_083_PIANO083_MID--AUDIO-split_07-09-17_Piano-e_2_-06_wav--5.midi  \n",
            "  inflating: dataset_train/MIDI-Unprocessed_17_R1_2008_01-04_ORIG_MID--AUDIO_17_R1_2008_wav--4.midi  \n",
            "  inflating: dataset_train/MIDI-Unprocessed_Schubert4-6_MID--AUDIO_09_R2_2018_wav.midi  \n",
            "  inflating: dataset_train/MIDI-Unprocessed_19_R2_2009_01_ORIG_MID--AUDIO_19_R2_2009_19_R2_2009_01_WAV.midi  \n",
            "  inflating: dataset_train/MIDI-Unprocessed_Schubert1-3_MID--AUDIO_02_R2_2018_wav.midi  \n",
            "  inflating: dataset_train/MIDI-UNPROCESSED_11-13_R1_2014_MID--AUDIO_13_R1_2014_wav--2.midi  \n",
            "  inflating: dataset_train/MIDI-Unprocessed_08_R1_2011_MID--AUDIO_R1-D3_10_Track10_wav.midi  \n",
            "  inflating: dataset_train/MIDI-UNPROCESSED_06-08_R1_2014_MID--AUDIO_08_R1_2014_wav--2.midi  \n",
            "  inflating: dataset_train/MIDI-Unprocessed_11_R2_2008_01-05_ORIG_MID--AUDIO_11_R2_2008_wav--5.midi  \n",
            "  inflating: dataset_train/MIDI-Unprocessed_08_R1_2006_01-04_ORIG_MID--AUDIO_08_R1_2006_Disk1_03_Track03_wav.midi  \n",
            "  inflating: dataset_train/ORIG-MIDI_02_7_7_13_Group__MID--AUDIO_17_R1_2013_wav--1.midi  \n",
            "  inflating: dataset_train/MIDI-Unprocessed_XP_20_R2_2004_01_ORIG_MID--AUDIO_20_R1_2004_02_Track02_wav.midi  \n",
            "  inflating: dataset_train/MIDI-Unprocessed_07_R2_2009_01_ORIG_MID--AUDIO_07_R2_2009_07_R2_2009_04_WAV.midi  \n",
            "  inflating: dataset_train/MIDI-UNPROCESSED_09-10_R1_2014_MID--AUDIO_09_R1_2014_wav--2.midi  \n",
            "  inflating: dataset_train/MIDI-Unprocessed_044_PIANO044_MID--AUDIO-split_07-06-17_Piano-e_1-04_wav--4.midi  \n",
            "  inflating: dataset_train/MIDI-Unprocessed_R2_D2-12-13-15_mid--AUDIO-from_mp3_15_R2_2015_wav--3.midi  \n",
            "  inflating: dataset_train/MIDI-Unprocessed_08_R2_2008_01-04_ORIG_MID--AUDIO_08_R2_2008_wav--4.midi  \n",
            "  inflating: dataset_train/MIDI-Unprocessed_10_R1_2009_03-05_ORIG_MID--AUDIO_10_R1_2009_10_R1_2009_03_WAV.midi  \n",
            "  inflating: dataset_train/MIDI-Unprocessed_09_R3_2008_01-07_ORIG_MID--AUDIO_09_R3_2008_wav--5.midi  \n",
            "  inflating: dataset_train/MIDI-Unprocessed_23_R2_2011_MID--AUDIO_R2-D6_04_Track04_wav.midi  \n",
            "  inflating: dataset_train/MIDI-Unprocessed_07_R2_2006_01_ORIG_MID--AUDIO_07_R2_2006_03_Track03_wav.midi  \n",
            "  inflating: dataset_train/MIDI-Unprocessed_19_R1_2006_01-07_ORIG_MID--AUDIO_19_R1_2006_07_Track07_wav.midi  \n",
            "  inflating: dataset_train/MIDI-UNPROCESSED_19-21_R3_2014_MID--AUDIO_21_R3_2014_wav--1.midi  \n",
            "  inflating: dataset_train/MIDI-Unprocessed_R1_D1-1-8_mid--AUDIO-from_mp3_05_R1_2015_wav--4.midi  \n",
            "  inflating: dataset_train/MIDI-Unprocessed_083_PIANO083_MID--AUDIO-split_07-09-17_Piano-e_2_-06_wav--4.midi  \n",
            "  inflating: dataset_train/MIDI-UNPROCESSED_16-18_R1_2014_MID--AUDIO_16_R1_2014_wav--2.midi  \n",
            "  inflating: dataset_train/MIDI-Unprocessed_04_R1_2011_MID--AUDIO_R1-D2_03_Track03_wav.midi  \n",
            "  inflating: dataset_train/ORIG-MIDI_02_7_6_13_Group__MID--AUDIO_05_R1_2013_wav--1.midi  \n",
            "  inflating: dataset_train/MIDI-Unprocessed_03_R1_2009_03-08_ORIG_MID--AUDIO_03_R1_2009_03_R1_2009_06_WAV.midi  \n",
            "  inflating: dataset_train/MIDI-Unprocessed_03_R3_2011_MID--AUDIO_R3-D1_02_Track02_wav.midi  \n",
            "  inflating: dataset_train/MIDI-Unprocessed_057_PIANO057_MID--AUDIO-split_07-07-17_Piano-e_1-07_wav--2.midi  \n",
            "  inflating: dataset_train/MIDI-Unprocessed_07_R2_2009_01_ORIG_MID--AUDIO_07_R2_2009_07_R2_2009_01_WAV.midi  \n",
            "  inflating: dataset_train/MIDI-Unprocessed_XP_14_R2_2004_01_ORIG_MID--AUDIO_14_R2_2004_04_Track04_wav.midi  \n",
            "  inflating: dataset_train/MIDI-Unprocessed_XP_16_R2_2004_01_ORIG_MID--AUDIO_16_R2_2004_01_Track01_wav.midi  \n",
            "  inflating: dataset_train/MIDI-Unprocessed_047_PIANO047_MID--AUDIO-split_07-06-17_Piano-e_2-04_wav--3.midi  \n",
            "  inflating: dataset_train/MIDI-Unprocessed_06_R1_2009_03-07_ORIG_MID--AUDIO_06_R1_2009_06_R1_2009_04_WAV.midi  \n",
            "  inflating: dataset_train/MIDI-Unprocessed_06_R1_2008_01-04_ORIG_MID--AUDIO_06_R1_2008_wav--2.midi  \n",
            "  inflating: dataset_train/MIDI-Unprocessed_24_R1_2011_MID--AUDIO_R1-D9_10_Track10_wav.midi  \n",
            "  inflating: dataset_train/MIDI-Unprocessed_08_R1_2008_01-05_ORIG_MID--AUDIO_08_R1_2008_wav--1.midi  \n",
            "  inflating: dataset_train/MIDI-Unprocessed_R2_D2-12-13-15_mid--AUDIO-from_mp3_15_R2_2015_wav--2.midi  \n",
            "  inflating: dataset_train/MIDI-Unprocessed_080_PIANO080_MID--AUDIO-split_07-09-17_Piano-e_1-06_wav--1.midi  \n",
            "  inflating: dataset_train/ORIG-MIDI_01_7_6_13_Group__MID--AUDIO_03_R1_2013_wav--2.midi  \n",
            "  inflating: dataset_train/MIDI-Unprocessed_049_PIANO049_MID--AUDIO-split_07-06-17_Piano-e_2-06_wav--3.midi  \n",
            "  inflating: dataset_train/MIDI-Unprocessed_15_R1_2008_01-04_ORIG_MID--AUDIO_15_R1_2008_wav--1.midi  \n",
            "  inflating: dataset_train/MIDI-Unprocessed_058_PIANO058_MID--AUDIO-split_07-07-17_Piano-e_2-02_wav--3.midi  \n",
            "  inflating: dataset_train/MIDI-Unprocessed_062_PIANO062_MID--AUDIO-split_07-07-17_Piano-e_2-07_wav--3.midi  \n",
            "  inflating: dataset_train/ORIG-MIDI_01_7_7_13_Group__MID--AUDIO_12_R1_2013_wav--4.midi  \n",
            "  inflating: dataset_train/MIDI-Unprocessed_Recital17-19_MID--AUDIO_19_R1_2018_wav--5.midi  \n",
            "  inflating: dataset_train/MIDI-Unprocessed_R1_D1-9-12_mid--AUDIO-from_mp3_09_R1_2015_wav--3.midi  \n",
            "  inflating: dataset_train/MIDI-Unprocessed_047_PIANO047_MID--AUDIO-split_07-06-17_Piano-e_2-04_wav--4.midi  \n",
            "  inflating: dataset_train/MIDI-Unprocessed_01_R1_2008_01-04_ORIG_MID--AUDIO_01_R1_2008_wav--2.midi  \n",
            "  inflating: dataset_train/MIDI-Unprocessed_20_R1_2009_06-07_ORIG_MID--AUDIO_20_R1_2009_20_R1_2009_06_WAV.midi  \n",
            "  inflating: dataset_train/MIDI-UNPROCESSED_16-18_R1_2014_MID--AUDIO_17_R1_2014_wav--2.midi  \n",
            "  inflating: dataset_train/MIDI-Unprocessed_074_PIANO074_MID--AUDIO-split_07-08-17_Piano-e_2-04_wav--1.midi  \n",
            "  inflating: dataset_train/MIDI-Unprocessed_07_R1_2008_01-04_ORIG_MID--AUDIO_07_R1_2008_wav--1.midi  \n",
            "  inflating: dataset_train/MIDI-Unprocessed_XP_18_R1_2004_01-02_ORIG_MID--AUDIO_18_R1_2004_02_Track02_wav.midi  \n",
            "  inflating: dataset_train/MIDI-Unprocessed_R1_D2-13-20_mid--AUDIO-from_mp3_16_R1_2015_wav--3.midi  \n",
            "  inflating: dataset_train/MIDI-Unprocessed_17_R3_2011_MID--AUDIO_R3-D6_07_Track07_wav.midi  \n",
            "  inflating: dataset_train/MIDI-Unprocessed_15_R1_2011_MID--AUDIO_R1-D6_07_Track07_wav.midi  \n",
            "  inflating: dataset_train/MIDI-Unprocessed_XP_11_R1_2004_03-04_ORIG_MID--AUDIO_11_R1_2004_04_Track04_wav.midi  \n",
            "  inflating: dataset_train/MIDI-Unprocessed_03_R2_2008_01-03_ORIG_MID--AUDIO_03_R2_2008_wav--2.midi  \n",
            "  inflating: dataset_train/ORIG-MIDI_03_7_10_13_Group_MID--AUDIO_17_R3_2013_wav--3.midi  \n",
            "  inflating: dataset_train/MIDI-Unprocessed_XP_17_R2_2004_01_ORIG_MID--AUDIO_17_R2_2004_02_Track02_wav.midi  \n",
            "  inflating: dataset_train/MIDI-Unprocessed_SMF_17_R1_2004_01-03_ORIG_MID--AUDIO_17_R1_2004_06_Track06_wav.midi  \n",
            "  inflating: dataset_train/MIDI-Unprocessed_11_R1_2009_01-05_ORIG_MID--AUDIO_11_R1_2009_11_R1_2009_04_WAV.midi  \n",
            "  inflating: dataset_train/MIDI-Unprocessed_Recital9-11_MID--AUDIO_09_R1_2018_wav--5.midi  \n",
            "  inflating: dataset_train/MIDI-Unprocessed_060_PIANO060_MID--AUDIO-split_07-07-17_Piano-e_2-04_wav--1.midi  \n",
            "  inflating: dataset_train/MIDI-Unprocessed_SMF_13_01_2004_01-05_ORIG_MID--AUDIO_13_R1_2004_08_Track08_wav.midi  \n",
            "  inflating: dataset_train/MIDI-Unprocessed_17_R1_2009_04_ORIG_MID--AUDIO_17_R1_2009_17_R1_2009_04_WAV.midi  \n",
            "  inflating: dataset_train/MIDI-Unprocessed_058_PIANO058_MID--AUDIO-split_07-07-17_Piano-e_2-02_wav--4.midi  \n",
            "  inflating: dataset_train/MIDI-Unprocessed_16_R1_2009_03-06_ORIG_MID--AUDIO_16_R1_2009_16_R1_2009_03_WAV.midi  \n",
            "  inflating: dataset_train/MIDI-Unprocessed_XP_21_R1_2004_01_ORIG_MID--AUDIO_21_R1_2004_01_Track01_wav.midi  \n",
            "  inflating: dataset_train/MIDI-Unprocessed_10_R3_2008_01-05_ORIG_MID--AUDIO_10_R3_2008_wav--2.midi  \n",
            "  inflating: dataset_train/MIDI-Unprocessed_072_PIANO072_MID--AUDIO-split_07-08-17_Piano-e_1-06_wav--1.midi  \n",
            "  inflating: dataset_train/MIDI-UNPROCESSED_21-22_R1_2014_MID--AUDIO_21_R1_2014_wav--8.midi  \n",
            "  inflating: dataset_train/ORIG-MIDI_02_7_6_13_Group__MID--AUDIO_08_R1_2013_wav--3.midi  \n",
            "  inflating: dataset_train/MIDI-Unprocessed_11_R1_2009_01-05_ORIG_MID--AUDIO_11_R1_2009_11_R1_2009_01_WAV.midi  \n",
            "  inflating: dataset_train/MIDI-Unprocessed_050_PIANO050_MID--AUDIO-split_07-06-17_Piano-e_3-01_wav--4.midi  \n",
            "  inflating: dataset_train/MIDI-Unprocessed_R2_D1-2-3-6-7-8-11_mid--AUDIO-from_mp3_07_R2_2015_wav--2.midi  \n",
            "  inflating: dataset_train/MIDI-Unprocessed_R2_D1-2-3-6-7-8-11_mid--AUDIO-from_mp3_08_R2_2015_wav--3.midi  \n",
            "  inflating: dataset_train/MIDI-Unprocessed_043_PIANO043_MID--AUDIO-split_07-06-17_Piano-e_1-03_wav--1.midi  \n",
            "  inflating: dataset_train/MIDI-UNPROCESSED_04-05_R1_2014_MID--AUDIO_05_R1_2014_wav--4.midi  \n",
            "  inflating: dataset_train/MIDI-Unprocessed_12_R1_2011_MID--AUDIO_R1-D4_15_Track15_wav.midi  \n",
            "  inflating: dataset_train/MIDI-Unprocessed_12_R1_2006_01-08_ORIG_MID--AUDIO_12_R1_2006_07_Track07_wav.midi  \n",
            "  inflating: dataset_train/MIDI-Unprocessed_Recital17-19_MID--AUDIO_17_R1_2018_wav--2.midi  \n",
            "  inflating: dataset_train/MIDI-Unprocessed_17_R3_2011_MID--AUDIO_R3-D6_08_Track08_wav.midi  \n",
            "  inflating: dataset_train/MIDI-Unprocessed_17_R2_2008_01-04_ORIG_MID--AUDIO_17_R2_2008_wav--2.midi  \n",
            "  inflating: dataset_train/MIDI-Unprocessed_XP_04_R2_2004_01_ORIG_MID--AUDIO_04_R2_2004_02_Track02_wav.midi  \n",
            "  inflating: dataset_train/MIDI-Unprocessed_11_R1_2009_01-05_ORIG_MID--AUDIO_11_R1_2009_11_R1_2009_03_WAV.midi  \n",
            "  inflating: dataset_train/MIDI-UNPROCESSED_14-15_R1_2014_MID--AUDIO_15_R1_2014_wav--6.midi  \n",
            "  inflating: dataset_train/MIDI-Unprocessed_Recital13-15_MID--AUDIO_14_R1_2018_wav--3.midi  \n",
            "  inflating: dataset_train/MIDI-Unprocessed_XP_08_R1_2004_01-02_ORIG_MID--AUDIO_08_R1_2004_01_Track01_wav.midi  \n",
            "  inflating: dataset_train/MIDI-UNPROCESSED_04-08-12_R3_2014_MID--AUDIO_04_R3_2014_wav--2.midi  \n",
            "  inflating: dataset_train/ORIG-MIDI_03_7_10_13_Group_MID--AUDIO_18_R3_2013_wav--3.midi  \n",
            "  inflating: dataset_train/MIDI-Unprocessed_12_R3_2011_MID--AUDIO_R3-D4_04_Track04_wav.midi  \n",
            "  inflating: dataset_train/MIDI-UNPROCESSED_21-22_R1_2014_MID--AUDIO_21_R1_2014_wav--6.midi  \n",
            "  inflating: dataset_train/MIDI-Unprocessed_12_R2_2011_MID--AUDIO_R2-D4_05_Track05_wav.midi  \n",
            "  inflating: dataset_train/MIDI-Unprocessed_16_R2_2006_01_ORIG_MID--AUDIO_16_R2_2006_01_Track01_wav.midi  \n",
            "  inflating: dataset_train/MIDI-Unprocessed_Recital17-19_MID--AUDIO_19_R1_2018_wav--2.midi  \n",
            "  inflating: dataset_train/MIDI-Unprocessed_03_R1_2011_MID--AUDIO_R1-D1_18_Track18_wav.midi  \n",
            "  inflating: dataset_train/MIDI-Unprocessed_03_R2_2011_MID--AUDIO_R2-D1_06_Track06_wav.midi  \n",
            "  inflating: dataset_train/MIDI-Unprocessed_08_R1_2009_01-04_ORIG_MID--AUDIO_08_R1_2009_08_R1_2009_01_WAV.midi  \n",
            "  inflating: dataset_train/MIDI-Unprocessed_046_PIANO046_MID--AUDIO-split_07-06-17_Piano-e_2-02_wav--1.midi  \n",
            "  inflating: dataset_train/MIDI-Unprocessed_16_R1_2009_01-02_ORIG_MID--AUDIO_16_R1_2009_16_R1_2009_01_WAV.midi  \n",
            "  inflating: dataset_train/ORIG-MIDI_02_7_10_13_Group_MID--AUDIO_11_R3_2013_wav--1.midi  \n",
            "  inflating: dataset_train/MIDI-UNPROCESSED_01-03_R1_2014_MID--AUDIO_03_R1_2014_wav--5.midi  \n",
            "  inflating: dataset_train/MIDI-Unprocessed_09_R2_2008_01-05_ORIG_MID--AUDIO_09_R2_2008_wav--5.midi  \n",
            "  inflating: dataset_train/MIDI-Unprocessed_050_PIANO050_MID--AUDIO-split_07-06-17_Piano-e_3-01_wav--1.midi  \n",
            "  inflating: dataset_train/MIDI-Unprocessed_Recital20_MID--AUDIO_20_R1_2018_wav--4.midi  \n",
            "  inflating: dataset_train/MIDI-Unprocessed_23_R1_2011_MID--AUDIO_R1-D9_04_Track04_wav.midi  \n",
            "  inflating: dataset_train/MIDI-Unprocessed_04_R1_2008_01-04_ORIG_MID--AUDIO_04_R1_2008_wav--1.midi  \n",
            "  inflating: dataset_train/MIDI-Unprocessed_15_R1_2008_01-04_ORIG_MID--AUDIO_15_R1_2008_wav--4.midi  \n",
            "  inflating: dataset_train/MIDI-Unprocessed_11_R1_2009_06-09_ORIG_MID--AUDIO_11_R1_2009_11_R1_2009_07_WAV.midi  \n",
            "  inflating: dataset_train/MIDI-Unprocessed_17_R1_2006_01-06_ORIG_MID--AUDIO_17_R1_2006_01_Track01_wav.midi  \n",
            "  inflating: dataset_train/MIDI-Unprocessed_06_R1_2006_01-04_ORIG_MID--AUDIO_06_R1_2006_04_Track04_wav.midi  \n",
            "  inflating: dataset_train/MIDI-Unprocessed_R2_D1-2-3-6-7-8-11_mid--AUDIO-from_mp3_07_R2_2015_wav--3.midi  \n",
            "  inflating: dataset_train/MIDI-Unprocessed_R1_D1-1-8_mid--AUDIO-from_mp3_02_R1_2015_wav--1.midi  \n",
            "  inflating: dataset_train/MIDI-Unprocessed_Recital13-15_MID--AUDIO_15_R1_2018_wav--2.midi  \n",
            "  inflating: dataset_train/MIDI-Unprocessed_13_R1_2008_01-04_ORIG_MID--AUDIO_13_R1_2008_wav--1.midi  \n",
            "  inflating: dataset_train/MIDI-Unprocessed_16_R1_2008_01-04_ORIG_MID--AUDIO_16_R1_2008_wav--1.midi  \n",
            "  inflating: dataset_train/MIDI-Unprocessed_16_R1_2008_01-04_ORIG_MID--AUDIO_16_R1_2008_wav--4.midi  \n",
            "  inflating: dataset_train/MIDI-Unprocessed_XP_15_R2_2004_01_ORIG_MID--AUDIO_15_R2_2004_01_Track01_wav.midi  \n",
            "  inflating: dataset_train/MIDI-Unprocessed_Recital13-15_MID--AUDIO_14_R1_2018_wav--1.midi  \n",
            "  inflating: dataset_train/MIDI-Unprocessed_R1_D2-13-20_mid--AUDIO-from_mp3_13_R1_2015_wav--5.midi  \n",
            "  inflating: dataset_train/MIDI-Unprocessed_05_R1_2009_01-02_ORIG_MID--AUDIO_05_R1_2009_05_R1_2009_01_WAV.midi  \n",
            "  inflating: dataset_train/MIDI-Unprocessed_09_R1_2008_01-05_ORIG_MID--AUDIO_09_R1_2008_wav--2.midi  \n",
            "  inflating: dataset_train/ORIG-MIDI_01_7_6_13_Group__MID--AUDIO_03_R1_2013_wav--3.midi  \n",
            "  inflating: dataset_train/MIDI-Unprocessed_Recital12_MID--AUDIO_12_R1_2018_wav--1.midi  \n",
            "  inflating: dataset_train/MIDI-Unprocessed_10_R1_2006_01-04_ORIG_MID--AUDIO_10_R1_2006_02_Track02_wav.midi  \n",
            "  inflating: dataset_train/ORIG-MIDI_01_7_7_13_Group__MID--AUDIO_11_R1_2013_wav--1.midi  \n",
            "  inflating: dataset_train/MIDI-Unprocessed_XP_14_R1_2004_01-03_ORIG_MID--AUDIO_14_R1_2004_03_Track03_wav.midi  \n",
            "  inflating: dataset_train/MIDI-Unprocessed_21_R1_2011_MID--AUDIO_R1-D8_10_Track10_wav.midi  \n",
            "  inflating: dataset_train/ORIG-MIDI_01_7_7_13_Group__MID--AUDIO_13_R1_2013_wav--2.midi  \n",
            "  inflating: dataset_train/ORIG-MIDI_01_7_7_13_Group__MID--AUDIO_14_R1_2013_wav--3.midi  \n",
            "  inflating: dataset_train/MIDI-Unprocessed_03_R2_2008_01-03_ORIG_MID--AUDIO_03_R2_2008_wav--1.midi  \n",
            "  inflating: dataset_train/MIDI-Unprocessed_Recital9-11_MID--AUDIO_09_R1_2018_wav--2.midi  \n",
            "  inflating: dataset_train/MIDI-Unprocessed_04_R3_2008_01-07_ORIG_MID--AUDIO_04_R3_2008_wav--1.midi  \n",
            "  inflating: dataset_train/MIDI-Unprocessed_041_PIANO041_MID--AUDIO-split_07-06-17_Piano-e_1-01_wav--1.midi  \n",
            "  inflating: dataset_train/MIDI-Unprocessed_02_R1_2009_01-02_ORIG_MID--AUDIO_02_R1_2009_02_R1_2009_02_WAV.midi  \n",
            "  inflating: dataset_train/MIDI-Unprocessed_061_PIANO061_MID--AUDIO-split_07-07-17_Piano-e_2-05_wav--1.midi  \n",
            "  inflating: dataset_train/MIDI-Unprocessed_R2_D2-19-21-22_mid--AUDIO-from_mp3_19_R2_2015_wav--3.midi  \n",
            "  inflating: dataset_train/ORIG-MIDI_01_7_6_13_Group__MID--AUDIO_01_R1_2013_wav--2.midi  \n",
            "  inflating: dataset_train/MIDI-Unprocessed_072_PIANO072_MID--AUDIO-split_07-08-17_Piano-e_1-06_wav--2.midi  \n",
            "  inflating: dataset_train/MIDI-UNPROCESSED_19-20_R1_2014_MID--AUDIO_20_R1_2014_wav--2.midi  \n",
            "  inflating: dataset_train/MIDI-Unprocessed_22_R2_2011_MID--AUDIO_R2-D5_08_Track08_wav.midi  \n",
            "  inflating: dataset_train/ORIG-MIDI_03_7_8_13_Group__MID--AUDIO_18_R2_2013_wav--3.midi  \n",
            "  inflating: dataset_train/ORIG-MIDI_03_7_8_13_Group__MID--AUDIO_19_R2_2013_wav--3.midi  \n",
            "  inflating: dataset_train/MIDI-Unprocessed_22_R2_2011_MID--AUDIO_R2-D5_10_Track10_wav.midi  \n",
            "  inflating: dataset_train/MIDI-Unprocessed_052_PIANO052_MID--AUDIO-split_07-06-17_Piano-e_3-03_wav--2.midi  \n",
            "  inflating: dataset_train/MIDI-UNPROCESSED_09-10_R1_2014_MID--AUDIO_10_R1_2014_wav--5.midi  \n",
            "  inflating: dataset_train/MIDI-Unprocessed_R1_D2-13-20_mid--AUDIO-from_mp3_17_R1_2015_wav--4.midi  \n",
            "  inflating: dataset_train/ORIG-MIDI_01_7_8_13_Group__MID--AUDIO_02_R2_2013_wav--3.midi  \n",
            "  inflating: dataset_train/MIDI-UNPROCESSED_14-15_R1_2014_MID--AUDIO_15_R1_2014_wav--1.midi  \n",
            "  inflating: dataset_train/MIDI-Unprocessed_01_R1_2009_01-04_ORIG_MID--AUDIO_01_R1_2009_01_R1_2009_04_WAV.midi  \n",
            "  inflating: dataset_train/MIDI-Unprocessed_08_R2_2009_01_ORIG_MID--AUDIO_08_R2_2009_08_R2_2009_03_WAV.midi  \n",
            "  inflating: dataset_train/MIDI-Unprocessed_R2_D2-19-21-22_mid--AUDIO-from_mp3_22_R2_2015_wav--3.midi  \n",
            "  inflating: dataset_train/MIDI-Unprocessed_02_R2_2008_01-05_ORIG_MID--AUDIO_02_R2_2008_wav--1.midi  \n",
            "  inflating: dataset_train/MIDI-Unprocessed_R1_D2-13-20_mid--AUDIO-from_mp3_13_R1_2015_wav--1.midi  \n",
            "  inflating: dataset_train/MIDI-Unprocessed_042_PIANO042_MID--AUDIO-split_07-06-17_Piano-e_1-02_wav--2.midi  \n",
            "  inflating: dataset_train/MIDI-Unprocessed_075_PIANO075_MID--AUDIO-split_07-08-17_Piano-e_2-06_wav--3.midi  \n",
            "  inflating: dataset_train/MIDI-Unprocessed_03_R2_2011_MID--AUDIO_R2-D1_07_Track07_wav.midi  \n",
            "  inflating: dataset_train/MIDI-Unprocessed_SMF_17_R1_2004_04_ORIG_MID--AUDIO_17_R1_2004_11_Track11_wav.midi  \n",
            "  inflating: dataset_train/MIDI-Unprocessed_12_R2_2011_MID--AUDIO_R2-D4_02_Track02_wav.midi  \n",
            "  inflating: dataset_train/MIDI-Unprocessed_12_R1_2009_03-05_ORIG_MID--AUDIO_12_R1_2009_12_R1_2009_03_WAV.midi  \n",
            "  inflating: dataset_train/MIDI-Unprocessed_050_PIANO050_MID--AUDIO-split_07-06-17_Piano-e_3-01_wav--3.midi  \n",
            "  inflating: dataset_train/MIDI-Unprocessed_10_R1_2011_MID--AUDIO_R1-D4_05_Track05_wav.midi  \n",
            "  inflating: dataset_train/MIDI-Unprocessed_03_R1_2008_01-04_ORIG_MID--AUDIO_03_R1_2008_wav--4.midi  \n",
            "  inflating: dataset_train/MIDI-Unprocessed_Recital8_MID--AUDIO_08_R1_2018_wav--2.midi  \n",
            "  inflating: dataset_train/MIDI-Unprocessed_10_R2_2011_MID--AUDIO_R2-D3_10_Track10_wav.midi  \n",
            "  inflating: dataset_train/MIDI-Unprocessed_073_PIANO073_MID--AUDIO-split_07-08-17_Piano-e_2-02_wav--4.midi  \n",
            "  inflating: dataset_train/MIDI-Unprocessed_09_R2_2008_01-05_ORIG_MID--AUDIO_09_R2_2008_wav--3.midi  \n",
            "  inflating: dataset_train/MIDI-Unprocessed_R1_D1-1-8_mid--AUDIO-from_mp3_05_R1_2015_wav--3.midi  \n",
            "  inflating: dataset_train/MIDI-Unprocessed_052_PIANO052_MID--AUDIO-split_07-06-17_Piano-e_3-03_wav--3.midi  \n",
            "  inflating: dataset_train/MIDI-Unprocessed_XP_04_R1_2004_01-02_ORIG_MID--AUDIO_04_R1_2004_02_Track02_wav.midi  \n",
            "  inflating: dataset_train/MIDI-Unprocessed_09_R3_2008_01-07_ORIG_MID--AUDIO_09_R3_2008_wav--2.midi  \n",
            "  inflating: dataset_train/MIDI-Unprocessed_XP_01_R1_2004_04-05_ORIG_MID--AUDIO_01_R1_2004_06_Track06_wav.midi  \n",
            "  inflating: dataset_train/MIDI-Unprocessed_17_R2_2011_MID--AUDIO_R2-D5_03_Track03_wav.midi  \n",
            "  inflating: dataset_train/MIDI-Unprocessed_078_PIANO078_MID--AUDIO-split_07-09-17_Piano-e_1-02_wav--2.midi  \n",
            "  inflating: dataset_train/MIDI-Unprocessed_Recital5-7_MID--AUDIO_07_R1_2018_wav--2.midi  \n",
            "  inflating: dataset_train/MIDI-Unprocessed_09_R2_2006_01_ORIG_MID--AUDIO_09_R2_2006_02_Track02_wav.midi  \n",
            "  inflating: dataset_train/MIDI-Unprocessed_08_R2_2009_01_ORIG_MID--AUDIO_08_R2_2009_08_R2_2009_02_WAV.midi  \n",
            "  inflating: dataset_train/MIDI-Unprocessed_XP_21_R1_2004_02_ORIG_MID--AUDIO_21_R1_2004_03_Track03_wav.midi  \n",
            "  inflating: dataset_train/ORIG-MIDI_02_7_8_13_Group__MID--AUDIO_12_R2_2013_wav--3.midi  \n",
            "  inflating: dataset_train/MIDI-Unprocessed_14_R1_2008_01-05_ORIG_MID--AUDIO_14_R1_2008_wav--2.midi  \n",
            "  inflating: dataset_train/MIDI-Unprocessed_SMF_22_R1_2004_01-04_ORIG_MID--AUDIO_22_R1_2004_05_Track05_wav.midi  \n",
            "  inflating: dataset_train/MIDI-Unprocessed_SMF_02_R1_2004_01-05_ORIG_MID--AUDIO_02_R1_2004_10_Track10_wav.midi  \n",
            "  inflating: dataset_train/MIDI-Unprocessed_18_R1_2009_04_ORIG_MID--AUDIO_18_R1_2009_18_R1_2009_04_WAV.midi  \n",
            "  inflating: dataset_train/MIDI-Unprocessed_06_R1_2011_MID--AUDIO_R1-D2_14_Track14_wav.midi  \n",
            "  inflating: dataset_train/ORIG-MIDI_01_7_7_13_Group__MID--AUDIO_12_R1_2013_wav--5.midi  \n",
            "  inflating: dataset_train/MIDI-Unprocessed_21_R1_2006_01-04_ORIG_MID--AUDIO_21_R1_2006_01_Track01_wav.midi  \n",
            "  inflating: dataset_train/MIDI-Unprocessed_062_PIANO062_MID--AUDIO-split_07-07-17_Piano-e_2-07_wav--4.midi  \n",
            "  inflating: dataset_train/MIDI-Unprocessed_XP_20_R2_2004_01_ORIG_MID--AUDIO_20_R1_2004_03_Track03_wav.midi  \n",
            "  inflating: dataset_train/MIDI-Unprocessed_21_R1_2009_04_ORIG_MID--AUDIO_21_R1_2009_21_R1_2009_04_WAV.midi  \n",
            "  inflating: dataset_train/MIDI-Unprocessed_16_R3_2011_MID--AUDIO_R3-D5_02_Track02_wav.midi  \n",
            "  inflating: dataset_train/MIDI-Unprocessed_23_R1_2011_MID--AUDIO_R1-D9_02_Track02_wav.midi  \n",
            "  inflating: dataset_train/MIDI-Unprocessed_R1_D1-9-12_mid--AUDIO-from_mp3_11_R1_2015_wav--4.midi  \n",
            "  inflating: dataset_train/ORIG-MIDI_03_7_8_13_Group__MID--AUDIO_17_R2_2013_wav--3.midi  \n",
            "  inflating: dataset_train/MIDI-Unprocessed_R1_D2-13-20_mid--AUDIO-from_mp3_20_R1_2015_wav--2.midi  \n",
            "  inflating: dataset_train/MIDI-Unprocessed_25_R1_2011_MID--AUDIO_R1-D9_14_Track14_wav.midi  \n",
            "  inflating: dataset_train/MIDI-Unprocessed_23_R3_2011_MID--AUDIO_R3-D8_05_Track05_wav.midi  \n",
            "  inflating: dataset_train/MIDI-Unprocessed_Chamber3_MID--AUDIO_10_R3_2018_wav--1.midi  \n",
            "  inflating: dataset_train/MIDI-Unprocessed_19_R1_2006_01-07_ORIG_MID--AUDIO_19_R1_2006_04_Track04_wav.midi  \n",
            "  inflating: dataset_train/MIDI-Unprocessed_09_R1_2008_01-05_ORIG_MID--AUDIO_09_R1_2008_wav--1.midi  \n",
            "  inflating: dataset_train/MIDI-Unprocessed_Recital17-19_MID--AUDIO_18_R1_2018_wav--1.midi  \n",
            "  inflating: dataset_train/MIDI-Unprocessed_054_PIANO054_MID--AUDIO-split_07-07-17_Piano-e_1-02_wav--1.midi  \n",
            "  inflating: dataset_train/MIDI-Unprocessed_059_PIANO059_MID--AUDIO-split_07-07-17_Piano-e_2-03_wav--4.midi  \n",
            "  inflating: dataset_train/MIDI-Unprocessed_SMF_22_R1_2004_01-04_ORIG_MID--AUDIO_22_R1_2004_03_Track03_wav.midi  \n",
            "  inflating: dataset_train/MIDI-Unprocessed_R1_D1-1-8_mid--AUDIO-from_mp3_08_R1_2015_wav--3.midi  \n",
            "  inflating: dataset_train/MIDI-Unprocessed_24_R1_2006_01-05_ORIG_MID--AUDIO_24_R1_2006_05_Track05_wav.midi  \n",
            "  inflating: dataset_train/MIDI-Unprocessed_22_R1_2011_MID--AUDIO_R1-D8_13_Track13_wav.midi  \n",
            "  inflating: dataset_train/ORIG-MIDI_01_7_10_13_Group_MID--AUDIO_07_R3_2013_wav--2.midi  \n",
            "  inflating: dataset_train/MIDI-Unprocessed_Schubert7-9_MID--AUDIO_11_R2_2018_wav.midi  \n",
            "  inflating: dataset_train/MIDI-Unprocessed_18_R1_2011_MID--AUDIO_R1-D7_09_Track09_wav.midi  \n",
            "  inflating: dataset_train/MIDI-Unprocessed_XP_10_R1_2004_01-02_ORIG_MID--AUDIO_10_R1_2004_01_Track01_wav.midi  \n",
            "  inflating: dataset_train/MIDI-Unprocessed_042_PIANO042_MID--AUDIO-split_07-06-17_Piano-e_1-02_wav--3.midi  \n",
            "  inflating: dataset_train/MIDI-Unprocessed_R1_D1-9-12_mid--AUDIO-from_mp3_12_R1_2015_wav--3.midi  \n",
            "  inflating: dataset_train/MIDI-Unprocessed_13_R1_2011_MID--AUDIO_R1-D5_02_Track02_wav.midi  \n",
            "  inflating: dataset_train/MIDI-Unprocessed_R1_D1-1-8_mid--AUDIO-from_mp3_02_R1_2015_wav--5.midi  \n",
            "  inflating: dataset_train/MIDI-Unprocessed_SMF_07_R1_2004_01_ORIG_MID--AUDIO_07_R1_2004_04_Track04_wav.midi  \n",
            "  inflating: dataset_train/MIDI-Unprocessed_16_R2_2011_MID--AUDIO_R2-D4_09_Track09_wav.midi  \n",
            "  inflating: dataset_train/MIDI-Unprocessed_18_R1_2008_01-04_ORIG_MID--AUDIO_18_R1_2008_wav--2.midi  \n",
            "  inflating: dataset_train/MIDI-UNPROCESSED_01-03_R1_2014_MID--AUDIO_01_R1_2014_wav--1.midi  \n",
            "  inflating: dataset_train/MIDI-Unprocessed_16_R1_2006_01-04_ORIG_MID--AUDIO_16_R1_2006_01_Track01_wav.midi  \n",
            "  inflating: dataset_train/MIDI-Unprocessed_083_PIANO083_MID--AUDIO-split_07-09-17_Piano-e_2_-06_wav--3.midi  \n",
            "  inflating: dataset_train/MIDI-Unprocessed_12_R3_2008_01-04_ORIG_MID--AUDIO_12_R3_2008_wav--3.midi  \n",
            "  inflating: dataset_train/MIDI-UNPROCESSED_19-20-21_R2_2014_MID--AUDIO_21_R2_2014_wav.midi  \n",
            "  inflating: dataset_train/ORIG-MIDI_02_7_6_13_Group__MID--AUDIO_06_R1_2013_wav--4.midi  \n",
            "  inflating: dataset_train/MIDI-Unprocessed_16_R2_2006_01_ORIG_MID--AUDIO_16_R2_2006_03_Track03_wav.midi  \n",
            "  inflating: dataset_train/MIDI-Unprocessed_074_PIANO074_MID--AUDIO-split_07-08-17_Piano-e_2-04_wav--2.midi  \n",
            "  inflating: dataset_train/ORIG-MIDI_02_7_6_13_Group__MID--AUDIO_08_R1_2013_wav--1.midi  \n",
            "  inflating: dataset_train/MIDI-UNPROCESSED_04-05_R1_2014_MID--AUDIO_04_R1_2014_wav--2.midi  \n",
            "  inflating: dataset_train/MIDI-Unprocessed_049_PIANO049_MID--AUDIO-split_07-06-17_Piano-e_2-06_wav--2.midi  \n",
            "  inflating: dataset_train/MIDI-Unprocessed_17_R2_2009_01_ORIG_MID--AUDIO_17_R2_2009_17_R2_2009_04_WAV.midi  \n",
            "  inflating: dataset_train/MIDI-Unprocessed_078_PIANO078_MID--AUDIO-split_07-09-17_Piano-e_1-02_wav--1.midi  \n",
            "  inflating: dataset_train/MIDI-Unprocessed_22_R2_2006_01_ORIG_MID--AUDIO_22_R2_2006_04_Track04_wav.midi  \n",
            "  inflating: dataset_train/MIDI-Unprocessed_05_R1_2006_01-05_ORIG_MID--AUDIO_05_R1_2006_02_Track02_wav.midi  \n",
            "  inflating: dataset_train/MIDI-Unprocessed_22_R1_2011_MID--AUDIO_R1-D8_11_Track11_wav.midi  \n",
            "  inflating: dataset_train/MIDI-Unprocessed_13_R1_2011_MID--AUDIO_R1-D5_04_Track04_wav.midi  \n",
            "  inflating: dataset_train/MIDI-Unprocessed_04_R1_2006_01-04_ORIG_MID--AUDIO_04_R1_2006_02_Track02_wav.midi  \n",
            "  inflating: dataset_train/MIDI-UNPROCESSED_06-08_R1_2014_MID--AUDIO_07_R1_2014_wav--7.midi  \n",
            "  inflating: dataset_train/MIDI-Unprocessed_R1_D2-13-20_mid--AUDIO-from_mp3_15_R1_2015_wav--5.midi  \n",
            "  inflating: dataset_train/MIDI-Unprocessed_08_R1_2008_01-05_ORIG_MID--AUDIO_08_R1_2008_wav--3.midi  \n",
            "  inflating: dataset_train/MIDI-UNPROCESSED_11-13_R1_2014_MID--AUDIO_13_R1_2014_wav--6.midi  \n",
            "  inflating: dataset_train/ORIG-MIDI_01_7_10_13_Group_MID--AUDIO_08_R3_2013_wav--3.midi  \n",
            "  inflating: dataset_train/MIDI-Unprocessed_10_R2_2008_01-05_ORIG_MID--AUDIO_10_R2_2008_wav--3.midi  \n",
            "  inflating: dataset_train/MIDI-Unprocessed_Recital9-11_MID--AUDIO_09_R1_2018_wav--4.midi  \n",
            "  inflating: dataset_train/MIDI-Unprocessed_07_R1_2011_MID--AUDIO_R1-D3_05_Track05_wav.midi  \n",
            "  inflating: dataset_train/MIDI-Unprocessed_Recital9-11_MID--AUDIO_11_R1_2018_wav--5.midi  \n",
            "  inflating: dataset_train/MIDI-UNPROCESSED_04-07-08-10-12-15-17_R2_2014_MID--AUDIO_08_R2_2014_wav.midi  \n",
            "  inflating: dataset_train/MIDI-Unprocessed_R2_D1-2-3-6-7-8-11_mid--AUDIO-from_mp3_11_R2_2015_wav--4.midi  \n",
            "  inflating: dataset_train/MIDI-Unprocessed_073_PIANO073_MID--AUDIO-split_07-08-17_Piano-e_2-02_wav--2.midi  \n",
            "  inflating: dataset_train/MIDI-Unprocessed_R2_D1-2-3-6-7-8-11_mid--AUDIO-from_mp3_11_R2_2015_wav--2.midi  \n",
            "  inflating: dataset_train/MIDI-Unprocessed_23_R2_2006_01_ORIG_MID--AUDIO_23_R2_2006_02_Track02_wav.midi  \n",
            "  inflating: dataset_train/MIDI-Unprocessed_06_R1_2008_01-04_ORIG_MID--AUDIO_06_R1_2008_wav--1.midi  \n",
            "  inflating: dataset_train/MIDI-Unprocessed_Recital17-19_MID--AUDIO_18_R1_2018_wav--3.midi  \n",
            "  inflating: dataset_train/MIDI-Unprocessed_06_R1_2006_01-04_ORIG_MID--AUDIO_06_R1_2006_02_Track02_wav.midi  \n",
            "  inflating: dataset_train/MIDI-Unprocessed_R1_D1-9-12_mid--AUDIO-from_mp3_10_R1_2015_wav--3.midi  \n",
            "  inflating: dataset_train/MIDI-Unprocessed_11_R1_2008_01-04_ORIG_MID--AUDIO_11_R1_2008_wav--4.midi  \n",
            "  inflating: dataset_train/MIDI-Unprocessed_13_R1_2011_MID--AUDIO_R1-D5_03_Track03_wav.midi  \n",
            "  inflating: dataset_train/MIDI-Unprocessed_053_PIANO053_MID--AUDIO-split_07-06-17_Piano-e_3-04_wav--1.midi  \n",
            "  inflating: dataset_train/ORIG-MIDI_03_7_6_13_Group__MID--AUDIO_09_R1_2013_wav--2.midi  \n",
            "  inflating: dataset_train/MIDI-UNPROCESSED_06-08_R1_2014_MID--AUDIO_06_R1_2014_wav--2.midi  \n",
            "  inflating: dataset_train/MIDI-Unprocessed_01_R2_2006_01_ORIG_MID--AUDIO_01_R2_2006_03_Track03_wav.midi  \n",
            "  inflating: dataset_train/MIDI-Unprocessed_065_PIANO065_MID--AUDIO-split_07-07-17_Piano-e_3-01_wav--1.midi  \n",
            "  inflating: dataset_train/MIDI-Unprocessed_17_R1_2006_01-06_ORIG_MID--AUDIO_17_R1_2006_04_Track04_wav.midi  \n",
            "  inflating: dataset_train/MIDI-Unprocessed_070_PIANO070_MID--AUDIO-split_07-08-17_Piano-e_1-02_wav--3.midi  \n",
            "  inflating: dataset_train/MIDI-Unprocessed_23_R1_2011_MID--AUDIO_R1-D9_03_Track03_wav.midi  \n",
            "  inflating: dataset_train/MIDI-Unprocessed_12_R2_2008_01-04_ORIG_MID--AUDIO_12_R2_2008_wav--2.midi  \n",
            "  inflating: dataset_train/MIDI-Unprocessed_043_PIANO043_MID--AUDIO-split_07-06-17_Piano-e_1-03_wav--3.midi  \n",
            "  inflating: dataset_train/MIDI-Unprocessed_14_R1_2008_01-05_ORIG_MID--AUDIO_14_R1_2008_wav--3.midi  \n",
            "  inflating: dataset_train/MIDI-Unprocessed_06_R2_2008_01-05_ORIG_MID--AUDIO_06_R2_2008_wav--3.midi  \n",
            "  inflating: dataset_train/MIDI-Unprocessed_18_R1_2006_01-05_ORIG_MID--AUDIO_18_R1_2006_03_Track03_wav.midi  \n",
            "  inflating: dataset_train/ORIG-MIDI_03_7_8_13_Group__MID--AUDIO_18_R2_2013_wav--4.midi  \n",
            "  inflating: dataset_train/MIDI-Unprocessed_SMF_16_R1_2004_01-08_ORIG_MID--AUDIO_16_R1_2004_03_Track03_wav.midi  \n",
            "  inflating: dataset_train/MIDI-Unprocessed_06_R3_2011_MID--AUDIO_R3-D3_06_Track06_wav.midi  \n",
            "  inflating: dataset_train/MIDI-Unprocessed_21_R2_2009_01_ORIG_MID--AUDIO_21_R2_2009_21_R2_2009_01_WAV.midi  \n",
            "  inflating: dataset_train/ORIG-MIDI_01_7_10_13_Group_MID--AUDIO_02_R3_2013_wav--1.midi  \n",
            "  inflating: dataset_train/MIDI-Unprocessed_02_R2_2008_01-05_ORIG_MID--AUDIO_02_R2_2008_wav--3.midi  \n",
            "  inflating: dataset_train/MIDI-Unprocessed_01_R1_2006_01-09_ORIG_MID--AUDIO_01_R1_2006_02_Track02_wav.midi  \n",
            "  inflating: dataset_train/MIDI-Unprocessed_Schubert1-3_MID--AUDIO_05_R2_2018_wav.midi  \n",
            "  inflating: dataset_train/MIDI-Unprocessed_07_R2_2006_01_ORIG_MID--AUDIO_07_R2_2006_02_Track02_wav.midi  \n",
            "  inflating: dataset_train/MIDI-Unprocessed_081_PIANO081_MID--AUDIO-split_07-09-17_Piano-e_2_-02_wav--1.midi  \n",
            "  inflating: dataset_train/MIDI-Unprocessed_R2_D2-12-13-15_mid--AUDIO-from_mp3_15_R2_2015_wav--1.midi  \n",
            "  inflating: dataset_train/MIDI-Unprocessed_04_R1_2009_04-06_ORIG_MID--AUDIO_04_R1_2009_04_R1_2009_05_WAV.midi  \n",
            "  inflating: dataset_train/MIDI-Unprocessed_08_R2_2009_01_ORIG_MID--AUDIO_08_R2_2009_08_R2_2009_01_WAV.midi  \n",
            "  inflating: dataset_train/MIDI-Unprocessed_055_PIANO055_MID--AUDIO-split_07-07-17_Piano-e_1-04_wav--1.midi  \n",
            "  inflating: dataset_train/MIDI-Unprocessed_19_R2_2009_01_ORIG_MID--AUDIO_19_R2_2009_19_R2_2009_04_WAV.midi  \n",
            "  inflating: dataset_train/MIDI-Unprocessed_10_R3_2008_01-05_ORIG_MID--AUDIO_10_R3_2008_wav--5.midi  \n",
            "  inflating: dataset_train/MIDI-Unprocessed_R1_D2-13-20_mid--AUDIO-from_mp3_15_R1_2015_wav--4.midi  \n",
            "  inflating: dataset_train/MIDI-Unprocessed_XP_04_R1_2004_03-05_ORIG_MID--AUDIO_04_R1_2004_04_Track04_wav.midi  \n",
            "  inflating: dataset_train/MIDI-Unprocessed_04_R3_2008_01-07_ORIG_MID--AUDIO_04_R3_2008_wav--6.midi  \n",
            "  inflating: dataset_train/ORIG-MIDI_01_7_10_13_Group_MID--AUDIO_07_R3_2013_wav--1.midi  \n",
            "  inflating: dataset_train/MIDI-Unprocessed_02_R1_2011_MID--AUDIO_R1-D1_09_Track09_wav.midi  \n",
            "  inflating: dataset_train/MIDI-Unprocessed_Recital8_MID--AUDIO_08_R1_2018_wav--1.midi  \n",
            "  inflating: dataset_train/MIDI-Unprocessed_Recital13-15_MID--AUDIO_13_R1_2018_wav--1.midi  \n",
            "  inflating: dataset_train/MIDI-Unprocessed_04_R2_2008_01-04_ORIG_MID--AUDIO_04_R2_2008_wav--3.midi  \n",
            "  inflating: dataset_train/MIDI-Unprocessed_04_R3_2011_MID--AUDIO_R3-D2_04_Track04_wav.midi  \n",
            "  inflating: dataset_train/ORIG-MIDI_03_7_6_13_Group__MID--AUDIO_09_R1_2013_wav--3.midi  \n",
            "  inflating: dataset_train/MIDI-Unprocessed_09_R2_2006_01_ORIG_MID--AUDIO_09_R2_2006_03_Track03_wav.midi  \n",
            "  inflating: dataset_train/ORIG-MIDI_02_7_7_13_Group__MID--AUDIO_18_R1_2013_wav--4.midi  \n",
            "  inflating: dataset_train/MIDI-Unprocessed_Recital17-19_MID--AUDIO_19_R1_2018_wav--3.midi  \n",
            "  inflating: dataset_train/MIDI-Unprocessed_Recital5-7_MID--AUDIO_07_R1_2018_wav--3.midi  \n",
            "  inflating: dataset_train/MIDI-Unprocessed_17_R3_2011_MID--AUDIO_R3-D6_03_Track03_wav.midi  \n",
            "  inflating: dataset_train/MIDI-Unprocessed_07_R1_2008_01-04_ORIG_MID--AUDIO_07_R1_2008_wav--4.midi  \n",
            "  inflating: dataset_train/MIDI-Unprocessed_Recital8_MID--AUDIO_08_R1_2018_wav--3.midi  \n",
            "  inflating: dataset_train/MIDI-Unprocessed_16_R2_2009_01_ORIG_MID--AUDIO_16_R2_2009_16_R2_2009_04_WAV.midi  \n",
            "  inflating: dataset_train/MIDI-Unprocessed_R1_D1-9-12_mid--AUDIO-from_mp3_09_R1_2015_wav--2.midi  \n",
            "  inflating: dataset_train/MIDI-Unprocessed_17_R1_2009_01-03_ORIG_MID--AUDIO_17_R1_2009_17_R1_2009_01_WAV.midi  \n",
            "  inflating: dataset_train/MIDI-Unprocessed_02_R3_2008_01-03_ORIG_MID--AUDIO_02_R3_2008_wav--2.midi  \n",
            "  inflating: dataset_train/MIDI-Unprocessed_22_R3_2011_MID--AUDIO_R3-D7_09_Track09_wav.midi  \n",
            "  inflating: dataset_train/MIDI-Unprocessed_Schubert7-9_MID--AUDIO_16_R2_2018_wav.midi  \n",
            "  inflating: dataset_train/ORIG-MIDI_01_7_7_13_Group__MID--AUDIO_12_R1_2013_wav--2.midi  \n",
            "  inflating: dataset_train/ORIG-MIDI_01_7_8_13_Group__MID--AUDIO_04_R2_2013_wav--1.midi  \n",
            "  inflating: dataset_train/MIDI-Unprocessed_08_R1_2011_MID--AUDIO_R1-D3_07_Track07_wav.midi  \n",
            "  inflating: dataset_train/MIDI-Unprocessed_Recital5-7_MID--AUDIO_05_R1_2018_wav--2.midi  \n",
            "  inflating: dataset_train/MIDI-Unprocessed_10_R1_2009_03-05_ORIG_MID--AUDIO_10_R1_2009_10_R1_2009_04_WAV.midi  \n",
            "  inflating: dataset_train/MIDI-Unprocessed_R1_D2-13-20_mid--AUDIO-from_mp3_13_R1_2015_wav--2.midi  \n",
            "  inflating: dataset_train/MIDI-Unprocessed_XP_08_R1_2004_04-06_ORIG_MID--AUDIO_08_R1_2004_05_Track05_wav--2.midi  \n",
            "  inflating: dataset_train/MIDI-Unprocessed_19_R1_2006_01-07_ORIG_MID--AUDIO_19_R1_2006_03_Track03_wav.midi  \n",
            "  inflating: dataset_train/MIDI-Unprocessed_04_R3_2011_MID--AUDIO_R3-D2_05_Track05_wav.midi  \n",
            "  inflating: dataset_train/MIDI-Unprocessed_21_R2_2009_01_ORIG_MID--AUDIO_21_R2_2009_21_R2_2009_04_WAV.midi  \n",
            "  inflating: dataset_train/MIDI-UNPROCESSED_06-08_R1_2014_MID--AUDIO_07_R1_2014_wav--5.midi  \n",
            "  inflating: dataset_train/MIDI-Unprocessed_XP_01_R1_2004_03_ORIG_MID--AUDIO_01_R1_2004_04_Track04_wav.midi  \n",
            "  inflating: dataset_train/MIDI-Unprocessed_14_R1_2011_MID--AUDIO_R1-D6_03_Track03_wav.midi  \n",
            "  inflating: dataset_train/MIDI-Unprocessed_XP_18_R1_2004_04_ORIG_MID--AUDIO_18_R1_2004_07_Track07_wav.midi  \n",
            "  inflating: dataset_train/MIDI-Unprocessed_20_R1_2011_MID--AUDIO_R1-D8_03_Track03_wav.midi  \n",
            "  inflating: dataset_train/MIDI-Unprocessed_02_R1_2008_01-05_ORIG_MID--AUDIO_02_R1_2008_wav--3.midi  \n",
            "  inflating: dataset_train/MIDI-Unprocessed_02_R1_2011_MID--AUDIO_R1-D1_10_Track10_wav.midi  \n",
            "  inflating: dataset_train/MIDI-Unprocessed_R1_D2-13-20_mid--AUDIO-from_mp3_20_R1_2015_wav--1.midi  \n",
            "  inflating: dataset_train/MIDI-Unprocessed_046_PIANO046_MID--AUDIO-split_07-06-17_Piano-e_2-02_wav--2.midi  \n",
            "  inflating: dataset_train/MIDI-Unprocessed_R2_D2-12-13-15_mid--AUDIO-from_mp3_13_R2_2015_wav--1.midi  \n",
            "  inflating: dataset_train/MIDI-Unprocessed_SMF_12_01_2004_01-05_ORIG_MID--AUDIO_12_R1_2004_03_Track03_wav--1.midi  \n",
            "  inflating: dataset_train/MIDI-Unprocessed_20_R1_2011_MID--AUDIO_R1-D8_02_Track02_wav.midi  \n",
            "  inflating: dataset_train/MIDI-Unprocessed_R2_D1-2-3-6-7-8-11_mid--AUDIO-from_mp3_06_R2_2015_wav--1.midi  \n",
            "  inflating: dataset_train/MIDI-UNPROCESSED_09-10_R1_2014_MID--AUDIO_10_R1_2014_wav--2.midi  \n",
            "  inflating: dataset_train/MIDI-Unprocessed_XP_11_R1_2004_03-04_ORIG_MID--AUDIO_11_R1_2004_03_Track03_wav.midi  \n",
            "  inflating: dataset_train/MIDI-Unprocessed_05_R1_2011_MID--AUDIO_R1-D2_09_Track09_wav.midi  \n",
            "  inflating: dataset_train/MIDI-UNPROCESSED_06-08_R1_2014_MID--AUDIO_08_R1_2014_wav--1.midi  \n",
            "  inflating: dataset_train/MIDI-Unprocessed_Recital5-7_MID--AUDIO_07_R1_2018_wav--4.midi  \n",
            "  inflating: dataset_train/MIDI-Unprocessed_02_R1_2009_03-06_ORIG_MID--AUDIO_02_R1_2009_02_R1_2009_05_WAV.midi  \n",
            "  inflating: dataset_train/MIDI-Unprocessed_10_R1_2006_01-04_ORIG_MID--AUDIO_10_R1_2006_05_Track05_wav.midi  \n",
            "  inflating: dataset_train/ORIG-MIDI_01_7_8_13_Group__MID--AUDIO_02_R2_2013_wav--2.midi  \n",
            "  inflating: dataset_train/MIDI-Unprocessed_02_R2_2011_MID--AUDIO_R2-D1_02_Track02_wav.midi  \n",
            "  inflating: dataset_train/MIDI-Unprocessed_01_R1_2006_01-09_ORIG_MID--AUDIO_01_R1_2006_04_Track04_wav.midi  \n",
            "  inflating: dataset_train/MIDI-Unprocessed_054_PIANO054_MID--AUDIO-split_07-07-17_Piano-e_1-02_wav--4.midi  \n",
            "  inflating: dataset_train/MIDI-Unprocessed_09_R1_2009_01-04_ORIG_MID--AUDIO_09_R1_2009_09_R1_2009_01_WAV.midi  \n",
            "  inflating: dataset_train/MIDI-Unprocessed_R2_D2-12-13-15_mid--AUDIO-from_mp3_13_R2_2015_wav--3.midi  \n",
            "  inflating: dataset_train/MIDI-Unprocessed_14_R1_2009_01-05_ORIG_MID--AUDIO_14_R1_2009_14_R1_2009_02_WAV.midi  \n",
            "  inflating: dataset_train/MIDI-Unprocessed_02_R1_2009_01-02_ORIG_MID--AUDIO_02_R1_2009_02_R1_2009_01_WAV.midi  \n",
            "  inflating: dataset_train/MIDI-Unprocessed_02_R2_2008_01-05_ORIG_MID--AUDIO_02_R2_2008_wav--5.midi  \n",
            "  inflating: dataset_train/MIDI-Unprocessed_07_R3_2008_01-05_ORIG_MID--AUDIO_07_R3_2008_wav--3.midi  \n",
            "  inflating: dataset_train/MIDI-Unprocessed_XP_09_R1_2004_01-02_ORIG_MID--AUDIO_09_R1_2004_03_Track03_wav.midi  \n",
            "  inflating: dataset_train/MIDI-Unprocessed_22_R3_2011_MID--AUDIO_R3-D7_08_Track08_wav.midi  \n",
            "  inflating: dataset_train/MIDI-Unprocessed_07_R2_2008_01-05_ORIG_MID--AUDIO_07_R2_2008_wav--2.midi  \n",
            "  inflating: dataset_train/MIDI-Unprocessed_R1_D2-21-22_mid--AUDIO-from_mp3_22_R1_2015_wav--5.midi  \n",
            "  inflating: dataset_train/MIDI-Unprocessed_01_R1_2008_01-04_ORIG_MID--AUDIO_01_R1_2008_wav--3.midi  \n",
            "  inflating: dataset_train/MIDI-Unprocessed_R1_D2-13-20_mid--AUDIO-from_mp3_19_R1_2015_wav--2.midi  \n",
            "  inflating: dataset_train/MIDI-Unprocessed_055_PIANO055_MID--AUDIO-split_07-07-17_Piano-e_1-04_wav--3.midi  \n",
            "  inflating: dataset_train/MIDI-Unprocessed_12_R1_2006_01-08_ORIG_MID--AUDIO_12_R1_2006_05_Track05_wav.midi  \n",
            "  inflating: dataset_train/ORIG-MIDI_02_7_8_13_Group__MID--AUDIO_12_R2_2013_wav--2.midi  \n",
            "  inflating: dataset_train/MIDI-Unprocessed_R1_D1-1-8_mid--AUDIO-from_mp3_03_R1_2015_wav--2.midi  \n",
            "  inflating: dataset_train/MIDI-Unprocessed_09_R2_2008_01-05_ORIG_MID--AUDIO_09_R2_2008_wav--2.midi  \n",
            "  inflating: dataset_train/MIDI-UNPROCESSED_21-22_R1_2014_MID--AUDIO_22_R1_2014_wav--2.midi  \n",
            "  inflating: dataset_train/MIDI-Unprocessed_Recital1-3_MID--AUDIO_02_R1_2018_wav--3.midi  \n",
            "  inflating: dataset_train/MIDI-Unprocessed_02_R1_2009_03-06_ORIG_MID--AUDIO_02_R1_2009_02_R1_2009_04_WAV.midi  \n",
            "  inflating: dataset_train/MIDI-Unprocessed_R1_D1-1-8_mid--AUDIO-from_mp3_08_R1_2015_wav--2.midi  \n",
            "  inflating: dataset_train/MIDI-Unprocessed_049_PIANO049_MID--AUDIO-split_07-06-17_Piano-e_2-06_wav--4.midi  \n",
            "  inflating: dataset_train/MIDI-UNPROCESSED_19-20_R1_2014_MID--AUDIO_19_R1_2014_wav--8.midi  \n",
            "  inflating: dataset_train/MIDI-Unprocessed_02_R3_2008_01-03_ORIG_MID--AUDIO_02_R3_2008_wav--1.midi  \n",
            "  inflating: dataset_train/ORIG-MIDI_02_7_7_13_Group__MID--AUDIO_16_R1_2013_wav--2.midi  \n",
            "  inflating: dataset_train/MIDI-Unprocessed_Schubert4-6_MID--AUDIO_10_R2_2018_wav.midi  \n",
            "  inflating: dataset_train/MIDI-UNPROCESSED_21-22_R1_2014_MID--AUDIO_21_R1_2014_wav--2.midi  \n",
            "  inflating: dataset_train/MIDI-Unprocessed_SMF_07_R1_2004_01_ORIG_MID--AUDIO_07_R1_2004_02_Track02_wav.midi  \n",
            "  inflating: dataset_train/MIDI-Unprocessed_Recital8_MID--AUDIO_08_R1_2018_wav--4.midi  \n",
            "  inflating: dataset_train/MIDI-Unprocessed_08_R1_2008_01-05_ORIG_MID--AUDIO_08_R1_2008_wav--4.midi  \n",
            "  inflating: dataset_train/ORIG-MIDI_01_7_7_13_Group__MID--AUDIO_14_R1_2013_wav--2.midi  \n",
            "  inflating: dataset_train/MIDI-Unprocessed_08_R1_2006_01-04_ORIG_MID--AUDIO_08_R1_2006_Disk1_01_Track01_wav.midi  \n",
            "  inflating: dataset_train/MIDI-Unprocessed_079_PIANO079_MID--AUDIO-split_07-09-17_Piano-e_1-04_wav--3.midi  \n",
            "  inflating: dataset_train/MIDI-Unprocessed_R1_D2-13-20_mid--AUDIO-from_mp3_20_R1_2015_wav--3.midi  \n",
            "  inflating: dataset_train/MIDI-Unprocessed_06_R1_2011_MID--AUDIO_R1-D2_16_Track16_wav.midi  \n",
            "  inflating: dataset_train/MIDI-Unprocessed_09_R3_2008_01-07_ORIG_MID--AUDIO_09_R3_2008_wav--7.midi  \n",
            "  inflating: dataset_train/MIDI-UNPROCESSED_14-15_R1_2014_MID--AUDIO_15_R1_2014_wav--3.midi  \n",
            "  inflating: dataset_train/MIDI-Unprocessed_08_R2_2008_01-04_ORIG_MID--AUDIO_08_R2_2008_wav--1.midi  \n",
            "  inflating: dataset_train/MIDI-Unprocessed_SMF_17_R1_2004_01-02_ORIG_MID--AUDIO_20_R2_2004_02_Track02_wav.midi  \n",
            "  inflating: dataset_train/MIDI-Unprocessed_10_R3_2008_01-05_ORIG_MID--AUDIO_10_R3_2008_wav--3.midi  \n",
            "  inflating: dataset_train/MIDI-Unprocessed_06_R1_2009_03-07_ORIG_MID--AUDIO_06_R1_2009_06_R1_2009_06_WAV.midi  \n",
            "  inflating: dataset_train/MIDI-Unprocessed_04_R1_2011_MID--AUDIO_R1-D2_02_Track02_wav.midi  \n",
            "  inflating: dataset_train/MIDI-Unprocessed_048_PIANO048_MID--AUDIO-split_07-06-17_Piano-e_2-05_wav--4.midi  \n",
            "  inflating: dataset_train/MIDI-Unprocessed_R2_D2-19-21-22_mid--AUDIO-from_mp3_21_R2_2015_wav--3.midi  \n",
            "  inflating: dataset_train/ORIG-MIDI_01_7_8_13_Group__MID--AUDIO_07_R2_2013_wav--2.midi  \n",
            "  inflating: dataset_train/MIDI-Unprocessed_R1_D2-13-20_mid--AUDIO-from_mp3_14_R1_2015_wav--1.midi  \n",
            "  inflating: dataset_train/MIDI-Unprocessed_18_R1_2006_01-05_ORIG_MID--AUDIO_18_R1_2006_04_Track04_wav.midi  \n",
            "  inflating: dataset_train/MIDI-Unprocessed_Schubert1-3_MID--AUDIO_07_R2_2018_wav.midi  \n",
            "  inflating: dataset_train/MIDI-Unprocessed_049_PIANO049_MID--AUDIO-split_07-06-17_Piano-e_2-06_wav--5.midi  \n",
            "  inflating: dataset_train/MIDI-Unprocessed_11_R3_2008_01-04_ORIG_MID--AUDIO_11_R3_2008_wav--2.midi  \n",
            "  inflating: dataset_train/MIDI-UNPROCESSED_04-05_R1_2014_MID--AUDIO_05_R1_2014_wav--2.midi  \n",
            "  inflating: dataset_train/MIDI-Unprocessed_Recital1-3_MID--AUDIO_01_R1_2018_wav--2.midi  \n",
            "  inflating: dataset_train/MIDI-Unprocessed_R1_D2-21-22_mid--AUDIO-from_mp3_22_R1_2015_wav--1.midi  \n",
            "  inflating: dataset_train/MIDI-Unprocessed_02_R2_2008_01-05_ORIG_MID--AUDIO_02_R2_2008_wav--4.midi  \n",
            "  inflating: dataset_train/MIDI-Unprocessed_Recital9-11_MID--AUDIO_09_R1_2018_wav--6.midi  \n",
            "  inflating: dataset_train/ORIG-MIDI_03_7_6_13_Group__MID--AUDIO_10_R1_2013_wav--2.midi  \n",
            "  inflating: dataset_train/ORIG-MIDI_02_7_7_13_Group__MID--AUDIO_17_R1_2013_wav--2.midi  \n",
            "  inflating: dataset_train/MIDI-UNPROCESSED_14-15_R1_2014_MID--AUDIO_15_R1_2014_wav--5.midi  \n",
            "  inflating: dataset_train/MIDI-Unprocessed_19_R2_2009_01_ORIG_MID--AUDIO_19_R2_2009_19_R2_2009_03_WAV.midi  \n",
            "  inflating: dataset_train/MIDI-Unprocessed_060_PIANO060_MID--AUDIO-split_07-07-17_Piano-e_2-04_wav--5.midi  \n",
            "  inflating: dataset_train/MIDI-Unprocessed_R1_D2-13-20_mid--AUDIO-from_mp3_15_R1_2015_wav--3.midi  \n",
            "  inflating: dataset_train/MIDI-UNPROCESSED_04-08-12_R3_2014_MID--AUDIO_12_R3_2014_wav--2.midi  \n",
            "  inflating: dataset_train/ORIG-MIDI_02_7_6_13_Group__MID--AUDIO_06_R1_2013_wav--3.midi  \n",
            "  inflating: dataset_train/ORIG-MIDI_01_7_7_13_Group__MID--AUDIO_12_R1_2013_wav--3.midi  \n",
            "  inflating: dataset_train/ORIG-MIDI_02_7_7_13_Group__MID--AUDIO_16_R1_2013_wav--3.midi  \n",
            "  inflating: dataset_train/MIDI-Unprocessed_041_PIANO041_MID--AUDIO-split_07-06-17_Piano-e_1-01_wav--4.midi  \n",
            "  inflating: dataset_train/MIDI-Unprocessed_02_R3_2008_01-03_ORIG_MID--AUDIO_02_R3_2008_wav--3.midi  \n",
            "  inflating: dataset_train/MIDI-Unprocessed_08_R2_2006_01_ORIG_MID--AUDIO_08_R2_2006_02_Track02_wav.midi  \n",
            "  inflating: dataset_train/MIDI-Unprocessed_044_PIANO044_MID--AUDIO-split_07-06-17_Piano-e_1-04_wav--1.midi  \n",
            "  inflating: dataset_train/MIDI-Unprocessed_18_R1_2011_MID--AUDIO_R1-D7_08_Track08_wav.midi  \n",
            "  inflating: dataset_train/ORIG-MIDI_01_7_6_13_Group__MID--AUDIO_01_R1_2013_wav--4.midi  \n",
            "  inflating: dataset_train/MIDI-Unprocessed_Recital4_MID--AUDIO_04_R1_2018_wav--5.midi  \n",
            "  inflating: dataset_train/MIDI-Unprocessed_SMF_13_01_2004_01-05_ORIG_MID--AUDIO_13_R1_2004_12_Track12_wav.midi  \n",
            "  inflating: dataset_train/MIDI-Unprocessed_R1_D1-1-8_mid--AUDIO-from_mp3_01_R1_2015_wav--2.midi  \n",
            "  inflating: dataset_train/MIDI-Unprocessed_22_R1_2011_MID--AUDIO_R1-D8_12_Track12_wav.midi  \n",
            "  inflating: dataset_train/MIDI-Unprocessed_XP_08_R1_2004_03_ORIG_MID--AUDIO_08_R1_2004_03_Track03_wav.midi  \n",
            "  inflating: dataset_train/ORIG-MIDI_01_7_6_13_Group__MID--AUDIO_02_R1_2013_wav--2.midi  \n",
            "  inflating: dataset_train/MIDI-UNPROCESSED_04-08-12_R3_2014_MID--AUDIO_08_R3_2014_wav.midi  \n",
            "  inflating: dataset_train/MIDI-Unprocessed_10_R1_2006_01-04_ORIG_MID--AUDIO_10_R1_2006_03_Track03_wav.midi  \n",
            "  inflating: dataset_train/MIDI-Unprocessed_16_R2_2011_MID--AUDIO_R2-D4_08_Track08_wav.midi  \n",
            "  inflating: dataset_train/MIDI-Unprocessed_01_R1_2011_MID--AUDIO_R1-D1_03_Track03_wav.midi  \n",
            "  inflating: dataset_train/MIDI-Unprocessed_04_R1_2006_01-04_ORIG_MID--AUDIO_04_R1_2006_03_Track03_wav.midi  \n",
            "  inflating: dataset_train/MIDI-Unprocessed_R1_D2-13-20_mid--AUDIO-from_mp3_20_R1_2015_wav--4.midi  \n",
            "  inflating: dataset_train/MIDI-Unprocessed_08_R3_2008_01-05_ORIG_MID--AUDIO_08_R3_2008_wav--1.midi  \n",
            "  inflating: dataset_train/MIDI-Unprocessed_07_R2_2006_01_ORIG_MID--AUDIO_07_R2_2006_01_Track01_wav.midi  \n",
            "  inflating: dataset_train/MIDI-Unprocessed_12_R1_2006_01-08_ORIG_MID--AUDIO_12_R1_2006_03_Track03_wav.midi  \n",
            "  inflating: dataset_train/MIDI-Unprocessed_03_R1_2009_03-08_ORIG_MID--AUDIO_03_R1_2009_03_R1_2009_08_WAV.midi  \n",
            "  inflating: dataset_train/MIDI-Unprocessed_17_R1_2008_01-04_ORIG_MID--AUDIO_17_R1_2008_wav--3.midi  \n",
            "  inflating: dataset_train/MIDI-Unprocessed_R1_D1-1-8_mid--AUDIO-from_mp3_04_R1_2015_wav--4.midi  \n",
            "  inflating: dataset_train/MIDI-UNPROCESSED_04-05_R1_2014_MID--AUDIO_04_R1_2014_wav--5.midi  \n",
            "  inflating: dataset_train/MIDI-Unprocessed_04_R1_2009_04-06_ORIG_MID--AUDIO_04_R1_2009_04_R1_2009_04_WAV.midi  \n",
            "  inflating: dataset_train/MIDI-UNPROCESSED_14-15_R1_2014_MID--AUDIO_15_R1_2014_wav--2.midi  \n",
            "  inflating: dataset_train/MIDI-Unprocessed_R2_D1-2-3-6-7-8-11_mid--AUDIO-from_mp3_03_R2_2015_wav--2.midi  \n",
            "  inflating: dataset_train/MIDI-Unprocessed_24_R1_2011_MID--AUDIO_R1-D9_08_Track08_wav.midi  \n",
            "  inflating: dataset_train/MIDI-Unprocessed_Recital17-19_MID--AUDIO_19_R1_2018_wav--1.midi  \n",
            "  inflating: dataset_train/MIDI-Unprocessed_051_PIANO051_MID--AUDIO-split_07-06-17_Piano-e_3-02_wav--1.midi  \n",
            "  inflating: dataset_train/MIDI-Unprocessed_01_R1_2006_01-09_ORIG_MID--AUDIO_01_R1_2006_05_Track05_wav.midi  \n",
            "  inflating: dataset_train/MIDI-Unprocessed_09_R1_2006_01-04_ORIG_MID--AUDIO_09_R1_2006_01_Track01_wav.midi  \n",
            "  inflating: dataset_train/MIDI-Unprocessed_06_R1_2011_MID--AUDIO_R1-D2_17_Track17_wav.midi  \n",
            "  inflating: dataset_train/MIDI-UNPROCESSED_06-08_R1_2014_MID--AUDIO_07_R1_2014_wav--6.midi  \n",
            "  inflating: dataset_train/MIDI-Unprocessed_03_R1_2009_03-08_ORIG_MID--AUDIO_03_R1_2009_03_R1_2009_05_WAV.midi  \n",
            "  inflating: dataset_train/MIDI-Unprocessed_057_PIANO057_MID--AUDIO-split_07-07-17_Piano-e_1-07_wav--1.midi  \n",
            "  inflating: dataset_train/MIDI-Unprocessed_08_R2_2006_01_ORIG_MID--AUDIO_08_R2_2006_01_Track01_wav.midi  \n",
            "  inflating: dataset_train/MIDI-Unprocessed_Recital9-11_MID--AUDIO_11_R1_2018_wav--1.midi  \n",
            "  inflating: dataset_train/MIDI-Unprocessed_12_R1_2006_01-08_ORIG_MID--AUDIO_12_R1_2006_04_Track04_wav.midi  \n",
            "  inflating: dataset_train/ORIG-MIDI_03_7_8_13_Group__MID--AUDIO_19_R2_2013_wav--4.midi  \n",
            "  inflating: dataset_train/MIDI-Unprocessed_048_PIANO048_MID--AUDIO-split_07-06-17_Piano-e_2-05_wav--1.midi  \n"
          ]
        }
      ]
    },
    {
      "cell_type": "markdown",
      "source": [
        "#Performance evaluation\n",
        "\n",
        "- Pitch_count: Measures the total number of notes in the song, indicating the overall amount of musical events.\n",
        "- Note_density: Calculates the density of notes in relation to their total duration, useful for understanding how “dense” or “sparse” the musical texture is.\n",
        "- Pitch_intervals: represents the average distance between consecutive notes, highlighting whether the melody proceeds with joint steps or with larger leaps.\n",
        "- Pitch_range: indicates the overall range between the lowest and highest note, describing the breadth of the melodic register used.\n",
        "\n",
        "KLD (Kullback–Leibler Divergence), which measures how much one probability distribution deviates from another, was used to compare the results of the previous metrics of the various models with the data from the dataset.\n",
        "\n",
        "The pitch_class_histogram was also calculated, which is a metric representing the distribution of notes based on their pitch class, that is, the 12 semitones of the octave (C, C#, D, ..., B). Essentially, it counts how many times each pitch class appears in a song and normalizes its frequency.\n",
        "\n",
        "The Rote Memorization Frequency (RM) metric measures how often repetitions of short sequences of notes present in the dataset appear in the generated midi files."
      ],
      "metadata": {
        "id": "W9k13OCur68G"
      },
      "id": "W9k13OCur68G"
    },
    {
      "cell_type": "code",
      "source": [
        "def pitch_count(notes):\n",
        "    \"\"\"\n",
        "    notes: list of int (pitch values)\n",
        "    \"\"\"\n",
        "    return len(notes)\n",
        "\n",
        "\n",
        "def note_density(notes, total_duration_sec):\n",
        "    \"\"\"\n",
        "    notes: list of notes\n",
        "    total_duration_sec: duration of piece in seconds\n",
        "    \"\"\"\n",
        "    return len(notes) / total_duration_sec if total_duration_sec > 0 else 0\n",
        "\n",
        "def pitch_intervals(notes):\n",
        "    \"\"\"\n",
        "    Returns average absolute pitch interval between consecutive notes\n",
        "    \"\"\"\n",
        "    if len(notes) < 2:\n",
        "        return 0\n",
        "    intervals = [abs(notes[i] - notes[i-1]) for i in range(1, len(notes))]\n",
        "    return np.mean(intervals)\n",
        "\n",
        "def pitch_class_histogram(notes):\n",
        "    \"\"\"\n",
        "    Returns normalized histogram over 12 pitch classes\n",
        "    \"\"\"\n",
        "    histogram = [0] * 12\n",
        "    for n in notes:\n",
        "        pc = int(round(n)) % 12\n",
        "        histogram[pc] += 1\n",
        "    return histogram\n",
        "\n",
        "def duration_sec_midi(file_path):\n",
        "    _, duration = extract_notes_from_midi(file_path)\n",
        "    return duration\n",
        "\n",
        "\n",
        "def extract_notes_from_midi(file_path):\n",
        "    midi_data = pretty_midi.PrettyMIDI(file_path)\n",
        "    notes = []\n",
        "    for instrument in midi_data.instruments:\n",
        "        for note in instrument.notes:\n",
        "            notes.append(note.pitch)\n",
        "    duration_sec = midi_data.get_end_time()\n",
        "\n",
        "    return notes, duration_sec\n",
        "\n",
        "\n",
        "def pitch_count_from_midi(file_path):\n",
        "    notes, _ = extract_notes_from_midi(file_path)\n",
        "    return pitch_count(notes)\n",
        "\n",
        "def note_density_from_midi(file_path):\n",
        "    notes, duration_sec = extract_notes_from_midi(file_path)\n",
        "    return note_density(notes, duration_sec)\n",
        "\n",
        "def pitch_intervals_from_midi(file_path):\n",
        "    notes, _ = extract_notes_from_midi(file_path)\n",
        "    return pitch_intervals(notes)\n",
        "\n",
        "def pitch_range(file_path):\n",
        "    \"\"\"\n",
        "    Calculates the pitch range of a MIDI file.\n",
        "    \"\"\"\n",
        "    midi_data = pretty_midi.PrettyMIDI(file_path)\n",
        "    all_notes = []\n",
        "    for instrument in midi_data.instruments:\n",
        "        for note in instrument.notes:\n",
        "            all_notes.append(note.pitch)\n",
        "    if not all_notes:\n",
        "        return 0\n",
        "    pitch_max = max(all_notes)\n",
        "    pitch_min = min(all_notes)\n",
        "    return pitch_max - pitch_min\n"
      ],
      "metadata": {
        "id": "eMDf1KpbT5YM"
      },
      "id": "eMDf1KpbT5YM",
      "execution_count": 3,
      "outputs": []
    },
    {
      "cell_type": "code",
      "source": [
        "\n",
        "def run_function_on_folder(folder_path, func, num=0):\n",
        "    \"\"\"\n",
        "      Runs a function (MIDI wrapper) on all MIDI files in a folder.\n",
        "    \"\"\"\n",
        "    results = []\n",
        "    midi_files = [f for f in os.listdir(folder_path) if f.lower().endswith((\".mid\", \".midi\"))]\n",
        "\n",
        "    for fname in midi_files:\n",
        "        file_path = os.path.join(folder_path, fname)\n",
        "        try:\n",
        "            if num > 0:\n",
        "                result = func(file_path, num)\n",
        "            else:\n",
        "                result = func(file_path)\n",
        "            results.append(result)\n",
        "        except Exception as e:\n",
        "            print(f\"Error with {fname}: {e}\")\n",
        "            results.append(None)\n",
        "\n",
        "    return np.array(results, dtype=object)\n",
        "\n",
        "def average_pitch_class_histogram(folder_path):\n",
        "    \"\"\"Calculates the average histogram of pitch classes (0–11) as a percentage of total notes.\"\"\"\n",
        "    histograms = []\n",
        "    total_notes = 0\n",
        "\n",
        "    for filename in os.listdir(folder_path):\n",
        "        if filename.lower().endswith((\".mid\", \".midi\")):\n",
        "            filepath = os.path.join(folder_path, filename)\n",
        "            notes, _ = extract_notes_from_midi(filepath)\n",
        "            if notes:\n",
        "                hist = pitch_class_histogram(notes)\n",
        "                histograms.append(hist)\n",
        "                total_notes += sum(hist)\n",
        "\n",
        "    if not histograms or total_notes == 0:\n",
        "        return [0] * 12\n",
        "\n",
        "    summed_hist = np.sum(histograms, axis=0)\n",
        "\n",
        "    percentage_hist = (summed_hist / total_notes) * 100\n",
        "\n",
        "    return percentage_hist.tolist()"
      ],
      "metadata": {
        "id": "IrzKgXlAWKEY"
      },
      "id": "IrzKgXlAWKEY",
      "execution_count": 4,
      "outputs": []
    },
    {
      "cell_type": "code",
      "source": [
        "\n",
        "def extract_token_sequences(tokens, sequence_length):\n",
        "    \"\"\"\n",
        "    Estrae tutte le sottosequenze di lunghezza fissa su GPU.\n",
        "    \"\"\"\n",
        "    n_seqs = len(tokens) - sequence_length + 1\n",
        "    if n_seqs <= 0:\n",
        "        return cp.empty((0, sequence_length), dtype=cp.int32)\n",
        "\n",
        "    return cp.stack([tokens[i:i+sequence_length] for i in range(n_seqs)])\n",
        "\n",
        "def preprocess_real_midi_folder(real_midi_folder, sequence_length):\n",
        "    \"\"\"\n",
        "    Estrae tutte le sottosequenze dai file MIDI reali e le restituisce come array CuPy.\n",
        "    \"\"\"\n",
        "    all_notes_list = []\n",
        "\n",
        "    for f in os.listdir(real_midi_folder):\n",
        "        if f.lower().endswith(('.mid', '.midi')):\n",
        "            path = os.path.join(real_midi_folder, f)\n",
        "            notes, _ = extract_notes_from_midi(path)\n",
        "            if notes:\n",
        "                all_notes_list.append(cp.array(notes, dtype=cp.int32))\n",
        "\n",
        "    if not all_notes_list:\n",
        "        return cp.empty((0, sequence_length), dtype=cp.int32)\n",
        "\n",
        "    all_notes = cp.concatenate(all_notes_list)\n",
        "    sequences = extract_token_sequences(all_notes, sequence_length)\n",
        "    sequences_unique = np.unique(cp.asnumpy(sequences), axis=0)\n",
        "    return cp.asarray(sequences_unique, dtype=cp.int32)\n",
        "\n",
        "def sequences_to_structured_array(seqs):\n",
        "    if len(seqs) == 0:\n",
        "        return cp.empty((0, seqs.shape[1]), dtype=cp.int32)\n",
        "    return seqs.astype(cp.int32)\n",
        "\n",
        "def calculate_rm_midi_preprocessed(\n",
        "    generated_midi_folder: str,\n",
        "    train_seqs_of_length_l: list[tuple],\n",
        "    sequence_length: int\n",
        ") -> float:\n",
        "    \"\"\"\n",
        "    Calcola RM (Rote Memorization) su GPU usando sequenze reali precalcolate.\n",
        "    \"\"\"\n",
        "    if train_seqs_of_length_l.size == 0:\n",
        "        return 0.0\n",
        "\n",
        "    train_array = cp.array(train_seqs_of_length_l, dtype=cp.int32)\n",
        "\n",
        "    total_copied_sequences = 0\n",
        "    total_sequences = 0\n",
        "    all_gen_seqs = None\n",
        "\n",
        "    for fname in tqdm(os.listdir(generated_midi_folder)):\n",
        "        if fname.lower().endswith(('.mid', '.midi')):\n",
        "            path = os.path.join(generated_midi_folder, fname)\n",
        "            generated_notes, _ = extract_notes_from_midi(path)\n",
        "            if not generated_notes:\n",
        "                continue\n",
        "\n",
        "            tokens_gpu = cp.array(generated_notes, dtype=cp.int32)\n",
        "            gen_seqs = extract_token_sequences(tokens_gpu, sequence_length)\n",
        "\n",
        "            if len(gen_seqs) == 0:\n",
        "                continue\n",
        "\n",
        "            if all_gen_seqs is None:\n",
        "                all_gen_seqs = gen_seqs\n",
        "            else:\n",
        "                all_gen_seqs = cp.concatenate((all_gen_seqs, gen_seqs), axis=0)\n",
        "\n",
        "    total_sequences = all_gen_seqs.shape[0]\n",
        "    copied_sequences = cp.isin(gen_seqs.view(cp.int32).reshape(len(gen_seqs), -1),\n",
        "                                  train_array.view(cp.int32).reshape(len(train_array), -1))\n",
        "\n",
        "    total_copied_sequences = cp.sum(copied_sequences)\n",
        "\n",
        "    return total_copied_sequences / total_sequences if total_sequences > 0 else 0.0\n"
      ],
      "metadata": {
        "id": "FMQZs43uNz9I"
      },
      "id": "FMQZs43uNz9I",
      "execution_count": 5,
      "outputs": []
    },
    {
      "cell_type": "code",
      "source": [
        "def kld(p, q):\n",
        "    \"\"\"\n",
        "    Kullback-Leibler Divergence between distributions p and q\n",
        "    p, q: numpy arrays representing probability distributions\n",
        "    \"\"\"\n",
        "    p = np.asarray(p, dtype=np.float64) + 1e-12\n",
        "    q = np.asarray(q, dtype=np.float64) + 1e-12\n",
        "    p /= p.sum()\n",
        "    q /= q.sum()\n",
        "    return np.sum(rel_entr(p, q))\n",
        "\n",
        "def make_distribution(values, bins=50, range=None):\n",
        "    hist, _ = np.histogram(values, bins=bins, range=range, density=False)\n",
        "    hist = hist.astype(float)\n",
        "    return hist / hist.sum() if hist.sum() > 0 else hist\n",
        "\n",
        "def real_run_function_on_folder(real_folder):\n",
        "    results = {}\n",
        "    real_pc = run_function_on_folder(real_folder, pitch_count_from_midi)\n",
        "    real_nd = run_function_on_folder(real_folder, note_density_from_midi)\n",
        "    real_pi = run_function_on_folder(real_folder, pitch_intervals_from_midi)\n",
        "    real_pr = run_function_on_folder(real_folder, pitch_range)\n",
        "    real_ds = run_function_on_folder(real_folder, duration_sec_midi)\n",
        "\n",
        "    results[\"pitch_count\"] = real_pc\n",
        "    results[\"note_density\"] = real_nd\n",
        "    results[\"pitch_intervals\"] = real_pi\n",
        "    results[\"pitch_range\"] = real_pr\n",
        "    results[\"duration_sec\"] = real_ds\n",
        "\n",
        "    return results\n",
        "\n",
        "def compare_folders_with_kld(real_result, generated_folder):\n",
        "    results = {}\n",
        "    results_kld = {}\n",
        "\n",
        "    gen_pc  = run_function_on_folder(generated_folder, pitch_count_from_midi)\n",
        "    min_val = min(real_result[\"pitch_count\"].min(), gen_pc.min())\n",
        "    max_val = max(real_result[\"pitch_count\"].max(), gen_pc.max())\n",
        "    common_range = (min_val, max_val)\n",
        "    results_kld[\"pitch_count\"] = kld(make_distribution(real_result[\"pitch_count\"], 50, common_range), make_distribution(gen_pc, 50, common_range))\n",
        "    results[\"pitch_count\"] = gen_pc\n",
        "\n",
        "    gen_nd  = run_function_on_folder(generated_folder, note_density_from_midi)\n",
        "    min_val = min(real_result[\"note_density\"].min(), gen_nd.min())\n",
        "    max_val = max(real_result[\"note_density\"].max(), gen_nd.max())\n",
        "    common_range = (min_val, max_val)\n",
        "    results_kld[\"note_density\"] = kld(make_distribution(real_result[\"note_density\"], 50, common_range), make_distribution(gen_nd, 50, common_range))\n",
        "    results[\"note_density\"] = gen_nd\n",
        "\n",
        "    gen_pi  = run_function_on_folder(generated_folder, pitch_intervals_from_midi)\n",
        "    min_val = min(real_result[\"pitch_intervals\"].min(), gen_pi.min())\n",
        "    max_val = max(real_result[\"pitch_intervals\"].max(), gen_pi.max())\n",
        "    common_range = (min_val, max_val)\n",
        "    results_kld[\"pitch_intervals\"] = kld(make_distribution(real_result[\"pitch_intervals\"], 50, common_range), make_distribution(gen_pi, 50, common_range))\n",
        "    results[\"pitch_intervals\"] = gen_pi\n",
        "\n",
        "    gen_pr  = run_function_on_folder(generated_folder, pitch_range)\n",
        "    min_val = min(real_result[\"pitch_range\"].min(), gen_pr.min())\n",
        "    max_val = max(real_result[\"pitch_range\"].max(), gen_pr.max())\n",
        "    common_range = (min_val, max_val)\n",
        "    results_kld[\"pitch_range\"] = kld(make_distribution(real_result[\"pitch_range\"], 50, common_range), make_distribution(gen_pr, 50, common_range))\n",
        "    results[\"pitch_range\"] = gen_pr\n",
        "\n",
        "    gen_ds  = run_function_on_folder(generated_folder, duration_sec_midi)\n",
        "    results[\"duration_sec\"] = gen_ds\n",
        "\n",
        "    return results_kld, results\n"
      ],
      "metadata": {
        "id": "oArdUPEkwql5"
      },
      "id": "oArdUPEkwql5",
      "execution_count": 13,
      "outputs": []
    },
    {
      "cell_type": "markdown",
      "source": [
        "metric calculation"
      ],
      "metadata": {
        "id": "OZzqRS3xzyta"
      },
      "id": "OZzqRS3xzyta"
    },
    {
      "cell_type": "code",
      "source": [
        "generated_mini_folder = \"/content/generated_mini\"\n",
        "generated_medium_folder = \"/content/generated_medium\"\n",
        "generated_large_folder = \"/content/generated_large\"\n",
        "real_folder_train = \"/content/dataset_train\"\n",
        "real_folder_test = \"/content/dataset_test\"\n",
        "\n",
        "real_result_train = real_run_function_on_folder(real_folder_train)\n",
        "\n",
        "results_mini_kld_train, results_mini = compare_folders_with_kld(real_result_train, generated_mini_folder)\n",
        "results_medium_kld_train, results_medium = compare_folders_with_kld(real_result_train, generated_medium_folder)\n",
        "results_large_kld_train, results_large = compare_folders_with_kld(real_result_train, generated_large_folder)\n",
        "\n",
        "real_result_test = real_run_function_on_folder(real_folder_test)\n",
        "\n",
        "results_mini_kld_test, results_mini = compare_folders_with_kld(real_result_test, generated_mini_folder)\n",
        "results_medium_kld_test, results_medium = compare_folders_with_kld(real_result_test, generated_medium_folder)\n",
        "results_large_kld_test, results_large = compare_folders_with_kld(real_result_test, generated_large_folder)\n",
        "\n",
        "print(\"Result real train:\\n\")\n",
        "for key, value in real_result_train.items():\n",
        "  mean_val = np.mean(value)\n",
        "  print(f\"{key} = {mean_val:.4f}\")\n",
        "\n",
        "print(\"\\nResult real test:\\n\")\n",
        "for key, value in real_result_test.items():\n",
        "  mean_val = np.mean(value)\n",
        "  print(f\"{key} = {mean_val:.4f}\")\n",
        "\n",
        "print(\"\\nResult mini:\\n\")\n",
        "for key, value in results_mini.items():\n",
        "  mean_val = np.mean(value)\n",
        "  print(f\"{key} = {mean_val:.4f}\")\n",
        "\n",
        "print(\"\\nResult medium:\\n\")\n",
        "for key, value in results_medium.items():\n",
        "  mean_val = np.mean(value)\n",
        "  print(f\"{key} = {mean_val:.4f}\")\n",
        "\n",
        "print(\"\\nResult large:\\n\")\n",
        "for key, value in results_large.items():\n",
        "  mean_val = np.mean(value)\n",
        "  print(f\"{key} = {mean_val:.4f}\")\n",
        "\n",
        "print(\"\\n\\n\")\n",
        "print(\"KLD result:\\n\")\n",
        "\n",
        "print(\"Result mini/train:\\n\")\n",
        "for key, value in results_mini_kld_train.items():\n",
        "  print(f\"{key}: KLD = {value:.4f}\")\n",
        "\n",
        "print(\"\\nResult medium/train:\\n\")\n",
        "for key, value in results_medium_kld_train.items():\n",
        "  print(f\"{key}: KLD = {value:.4f}\")\n",
        "\n",
        "print(\"\\nResult large/train:\\n\")\n",
        "for key, value in results_large_kld_train.items():\n",
        "  print(f\"{key}: KLD = {value:.4f}\")\n",
        "\n",
        "print(\"Result mini/test:\\n\")\n",
        "for key, value in results_mini_kld_test.items():\n",
        "  print(f\"{key}: KLD = {value:.4f}\")\n",
        "\n",
        "print(\"\\nResult medium/test:\\n\")\n",
        "for key, value in results_medium_kld_test.items():\n",
        "  print(f\"{key}: KLD = {value:.4f}\")\n",
        "\n",
        "print(\"\\nResult large/test:\\n\")\n",
        "for key, value in results_large_kld_test.items():\n",
        "  print(f\"{key}: KLD = {value:.4f}\")"
      ],
      "metadata": {
        "colab": {
          "base_uri": "https://localhost:8080/"
        },
        "id": "gEuJcBbrz5a9",
        "outputId": "025c424c-f893-45c3-f493-0f08be8adc51"
      },
      "id": "gEuJcBbrz5a9",
      "execution_count": 14,
      "outputs": [
        {
          "output_type": "stream",
          "name": "stdout",
          "text": [
            "Result real train:\n",
            "\n",
            "pitch_count = 5476.6836\n",
            "note_density = 10.4896\n",
            "pitch_intervals = 11.5350\n",
            "pitch_range = 68.1361\n",
            "duration_sec = 549.4486\n",
            "\n",
            "Result real test:\n",
            "\n",
            "pitch_count = 5680.2745\n",
            "note_density = 9.8108\n",
            "pitch_intervals = 11.4376\n",
            "pitch_range = 68.1843\n",
            "duration_sec = 609.3147\n",
            "\n",
            "Result mini:\n",
            "\n",
            "pitch_count = 296.2933\n",
            "note_density = 3.0941\n",
            "pitch_intervals = 16.0579\n",
            "pitch_range = 72.9200\n",
            "duration_sec = 102.4010\n",
            "\n",
            "Result medium:\n",
            "\n",
            "pitch_count = 291.0267\n",
            "note_density = 3.0092\n",
            "pitch_intervals = 15.9638\n",
            "pitch_range = 72.7733\n",
            "duration_sec = 104.0546\n",
            "\n",
            "Result large:\n",
            "\n",
            "pitch_count = 270.3600\n",
            "note_density = 2.9339\n",
            "pitch_intervals = 16.0622\n",
            "pitch_range = 72.8267\n",
            "duration_sec = 99.0456\n",
            "\n",
            "\n",
            "\n",
            "KLD result:\n",
            "\n",
            "Result mini/train:\n",
            "\n",
            "pitch_count: KLD = 24.2688\n",
            "note_density: KLD = 21.9316\n",
            "pitch_intervals: KLD = 23.2579\n",
            "pitch_range: KLD = 8.4655\n",
            "\n",
            "Result medium/train:\n",
            "\n",
            "pitch_count: KLD = 24.2707\n",
            "note_density: KLD = 22.2998\n",
            "pitch_intervals: KLD = 22.6557\n",
            "pitch_range: KLD = 7.9767\n",
            "\n",
            "Result large/train:\n",
            "\n",
            "pitch_count: KLD = 24.2701\n",
            "note_density: KLD = 22.3567\n",
            "pitch_intervals: KLD = 22.6933\n",
            "pitch_range: KLD = 8.5015\n",
            "Result mini/test:\n",
            "\n",
            "pitch_count: KLD = 24.2000\n",
            "note_density: KLD = 21.5263\n",
            "pitch_intervals: KLD = 22.9724\n",
            "pitch_range: KLD = 9.4940\n",
            "\n",
            "Result medium/test:\n",
            "\n",
            "pitch_count: KLD = 24.2156\n",
            "note_density: KLD = 21.8893\n",
            "pitch_intervals: KLD = 22.8243\n",
            "pitch_range: KLD = 9.0505\n",
            "\n",
            "Result large/test:\n",
            "\n",
            "pitch_count: KLD = 24.1999\n",
            "note_density: KLD = 22.1008\n",
            "pitch_intervals: KLD = 22.9030\n",
            "pitch_range: KLD = 9.0136\n"
          ]
        }
      ]
    },
    {
      "cell_type": "code",
      "source": [
        "metrics = list(results_mini_kld_train.keys())\n",
        "values_mini = list(results_mini_kld_train.values())\n",
        "values_medium = list(results_medium_kld_train.values())\n",
        "values_large = list(results_large_kld_train.values())\n",
        "\n",
        "plt.figure(figsize=(10,6))\n",
        "plt.plot(metrics, values_mini, marker=\"o\", label=\"Mini\")\n",
        "plt.plot(metrics, values_medium, marker=\"o\", label=\"Medium\")\n",
        "plt.plot(metrics, values_large, marker=\"o\", label=\"Large\")\n",
        "\n",
        "plt.ylabel(\"KLD\")\n",
        "plt.title(\"KLD comparison between Mini, Medium and Large in training set\")\n",
        "plt.legend()\n",
        "plt.grid(True)\n",
        "plt.tight_layout()\n",
        "plt.show()"
      ],
      "metadata": {
        "colab": {
          "base_uri": "https://localhost:8080/",
          "height": 607
        },
        "id": "yCZ6dVp-0SDb",
        "outputId": "2e396faf-4b32-427c-ebe5-1e3629e8ef48"
      },
      "id": "yCZ6dVp-0SDb",
      "execution_count": 15,
      "outputs": [
        {
          "output_type": "display_data",
          "data": {
            "text/plain": [
              "<Figure size 1000x600 with 1 Axes>"
            ],
            "image/png": "[encoded data removed]"
          },
          "metadata": {}
        }
      ]
    },
    {
      "cell_type": "code",
      "source": [
        "metrics = list(results_mini_kld_test.keys())\n",
        "values_mini = list(results_mini_kld_test.values())\n",
        "values_medium = list(results_medium_kld_test.values())\n",
        "values_large = list(results_large_kld_test.values())\n",
        "\n",
        "plt.figure(figsize=(10,6))\n",
        "plt.plot(metrics, values_mini, marker=\"o\", label=\"Mini\")\n",
        "plt.plot(metrics, values_medium, marker=\"o\", label=\"Medium\")\n",
        "plt.plot(metrics, values_large, marker=\"o\", label=\"Large\")\n",
        "\n",
        "plt.ylabel(\"KLD\")\n",
        "plt.title(\"KLD comparison between Mini, Medium and Large in test set\")\n",
        "plt.legend()\n",
        "plt.grid(True)\n",
        "plt.tight_layout()\n",
        "plt.show()"
      ],
      "metadata": {
        "id": "S60LohMRx0zj",
        "colab": {
          "base_uri": "https://localhost:8080/",
          "height": 607
        },
        "outputId": "6ca718b7-6ff2-4a28-ec36-6636594b1fef"
      },
      "id": "S60LohMRx0zj",
      "execution_count": 16,
      "outputs": [
        {
          "output_type": "display_data",
          "data": {
            "text/plain": [
              "<Figure size 1000x600 with 1 Axes>"
            ],
            "image/png": "[encoded data removed]"
          },
          "metadata": {}
        }
      ]
    },
    {
      "cell_type": "markdown",
      "source": [
        "Below is the calculated Rote Memorization Frequency of the midi generated by the various models on sequences of length of 3 and 5 notes."
      ],
      "metadata": {
        "id": "p2c6e3GSLWti"
      },
      "id": "p2c6e3GSLWti"
    },
    {
      "cell_type": "code",
      "source": [
        "train_seqs_5 = preprocess_real_midi_folder(\"dataset_train/\", sequence_length=5)\n",
        "train_seqs_3 = preprocess_real_midi_folder(\"dataset_train/\", sequence_length=3)\n",
        "rm_mini_5 = calculate_rm_midi_preprocessed(\"generated_mini/\", train_seqs_5, sequence_length=5)\n",
        "rm_mini_3 = calculate_rm_midi_preprocessed(\"generated_mini/\", train_seqs_3, sequence_length=3)\n",
        "print(\"Rote Memorization Frequency in training set: \\n\")\n",
        "print(\"Rote Memorization Frequency mini: \\n\")\n",
        "print(\"Rote Memorization Frequency 3:\", rm_mini_3 * 100, \"%\")\n",
        "print(\"Rote Memorization Frequency 5:\", rm_mini_5 * 100, \"%\")\n",
        "rm_medium_5 = calculate_rm_midi_preprocessed(\"generated_medium/\", train_seqs_5, sequence_length=5)\n",
        "rm_medium_3 = calculate_rm_midi_preprocessed(\"generated_medium/\", train_seqs_3, sequence_length=3)\n",
        "print(\"Rote Memorization Frequency medium: \\n\")\n",
        "print(\"Rote Memorization Frequency 3:\", rm_medium_3 * 100, \"%\")\n",
        "print(\"Rote Memorization Frequency 5:\", rm_medium_5 * 100, \"%\")\n",
        "rm_large_5 = calculate_rm_midi_preprocessed(\"generated_large/\", train_seqs_5, sequence_length=5)\n",
        "rm_large_3 = calculate_rm_midi_preprocessed(\"generated_large/\", train_seqs_3, sequence_length=3)\n",
        "print(\"Rote Memorization Frequency large: \\n\")\n",
        "print(\"Rote Memorization Frequency 3:\", rm_large_3 * 100, \"%\")\n",
        "print(\"Rote Memorization Frequency 5:\", rm_large_5 * 100, \"%\")"
      ],
      "metadata": {
        "id": "tuWTO-lvUmW4",
        "colab": {
          "base_uri": "https://localhost:8080/"
        },
        "outputId": "1c584632-02cd-4dcd-b060-c4123abb72bd"
      },
      "id": "tuWTO-lvUmW4",
      "execution_count": null,
      "outputs": [
        {
          "output_type": "stream",
          "name": "stderr",
          "text": [
            "100%|██████████| 150/150 [00:01<00:00, 97.59it/s] \n",
            "100%|██████████| 150/150 [00:01<00:00, 96.60it/s] \n"
          ]
        },
        {
          "output_type": "stream",
          "name": "stdout",
          "text": [
            "Rote Memorization Frequency in training set: \n",
            "\n",
            "Rote Memorization Frequency mini: \n",
            "\n",
            "Rote Memorization Frequency 3: 1.6446176150779268 %\n",
            "Rote Memorization Frequency 5: 2.736976553234194 %\n"
          ]
        },
        {
          "output_type": "stream",
          "name": "stderr",
          "text": [
            "100%|██████████| 150/150 [00:01<00:00, 98.66it/s] \n",
            "100%|██████████| 150/150 [00:01<00:00, 98.79it/s] \n"
          ]
        },
        {
          "output_type": "stream",
          "name": "stdout",
          "text": [
            "Rote Memorization Frequency medium: \n",
            "\n",
            "Rote Memorization Frequency 3: 3.010102874013932 %\n",
            "Rote Memorization Frequency 5: 5.028568774097645 %\n"
          ]
        },
        {
          "output_type": "stream",
          "name": "stderr",
          "text": [
            "100%|██████████| 150/150 [00:01<00:00, 105.44it/s]\n",
            "100%|██████████| 150/150 [00:01<00:00, 104.60it/s]"
          ]
        },
        {
          "output_type": "stream",
          "name": "stdout",
          "text": [
            "Rote Memorization Frequency large: \n",
            "\n",
            "Rote Memorization Frequency 3: 1.833358175585035 %\n",
            "Rote Memorization Frequency 5: 3.0535115382690092 %\n"
          ]
        },
        {
          "output_type": "stream",
          "name": "stderr",
          "text": [
            "\n"
          ]
        }
      ]
    },
    {
      "cell_type": "code",
      "source": [
        "train_seqs_5 = preprocess_real_midi_folder(\"dataset_test/\", sequence_length=5)\n",
        "train_seqs_3 = preprocess_real_midi_folder(\"dataset_test/\", sequence_length=3)\n",
        "rm_mini_5 = calculate_rm_midi_preprocessed(\"generated_mini/\", train_seqs_5, sequence_length=5)\n",
        "rm_mini_3 = calculate_rm_midi_preprocessed(\"generated_mini/\", train_seqs_3, sequence_length=3)\n",
        "print(\"Rote Memorization Frequency in training set: \\n\")\n",
        "print(\"Rote Memorization Frequency mini: \\n\")\n",
        "print(\"Rote Memorization Frequency 3:\", rm_mini_3 * 100, \"%\")\n",
        "print(\"Rote Memorization Frequency 5:\", rm_mini_5 * 100, \"%\")\n",
        "rm_medium_5 = calculate_rm_midi_preprocessed(\"generated_medium/\", train_seqs_5, sequence_length=5)\n",
        "rm_medium_3 = calculate_rm_midi_preprocessed(\"generated_medium/\", train_seqs_3, sequence_length=3)\n",
        "print(\"Rote Memorization Frequency medium: \\n\")\n",
        "print(\"Rote Memorization Frequency 3:\", rm_medium_3 * 100, \"%\")\n",
        "print(\"Rote Memorization Frequency 5:\", rm_medium_5 * 100, \"%\")\n",
        "rm_large_5 = calculate_rm_midi_preprocessed(\"generated_large/\", train_seqs_5, sequence_length=5)\n",
        "rm_large_3 = calculate_rm_midi_preprocessed(\"generated_large/\", train_seqs_3, sequence_length=3)\n",
        "print(\"Rote Memorization Frequency large: \\n\")\n",
        "print(\"Rote Memorization Frequency 3:\", rm_large_3 * 100, \"%\")\n",
        "print(\"Rote Memorization Frequency 5:\", rm_large_5 * 100, \"%\")"
      ],
      "metadata": {
        "id": "pt198fpnjn2g",
        "colab": {
          "base_uri": "https://localhost:8080/"
        },
        "outputId": "d27bf492-9e21-4f86-f37c-c1265cc5ebe6"
      },
      "id": "pt198fpnjn2g",
      "execution_count": null,
      "outputs": [
        {
          "output_type": "stream",
          "name": "stderr",
          "text": [
            "100%|██████████| 150/150 [00:01<00:00, 97.65it/s] \n",
            "100%|██████████| 150/150 [00:01<00:00, 97.48it/s] \n"
          ]
        },
        {
          "output_type": "stream",
          "name": "stdout",
          "text": [
            "Rote Memorization Frequency in training set: \n",
            "\n",
            "Rote Memorization Frequency mini: \n",
            "\n",
            "Rote Memorization Frequency 3: 1.6446176150779268 %\n",
            "Rote Memorization Frequency 5: 2.736976553234194 %\n"
          ]
        },
        {
          "output_type": "stream",
          "name": "stderr",
          "text": [
            "100%|██████████| 150/150 [00:01<00:00, 98.95it/s] \n",
            "100%|██████████| 150/150 [00:01<00:00, 98.76it/s] \n"
          ]
        },
        {
          "output_type": "stream",
          "name": "stdout",
          "text": [
            "Rote Memorization Frequency medium: \n",
            "\n",
            "Rote Memorization Frequency 3: 3.010102874013932 %\n",
            "Rote Memorization Frequency 5: 5.028568774097645 %\n"
          ]
        },
        {
          "output_type": "stream",
          "name": "stderr",
          "text": [
            "100%|██████████| 150/150 [00:01<00:00, 104.28it/s]\n",
            "100%|██████████| 150/150 [00:01<00:00, 95.09it/s]"
          ]
        },
        {
          "output_type": "stream",
          "name": "stdout",
          "text": [
            "Rote Memorization Frequency large: \n",
            "\n",
            "Rote Memorization Frequency 3: 1.833358175585035 %\n",
            "Rote Memorization Frequency 5: 3.0535115382690092 %\n"
          ]
        },
        {
          "output_type": "stream",
          "name": "stderr",
          "text": [
            "\n"
          ]
        }
      ]
    },
    {
      "cell_type": "markdown",
      "source": [
        "the following graph shows the pitch_class_histogram of the midi of the various models and that of the dataset"
      ],
      "metadata": {
        "id": "AZnUfjyTKz-i"
      },
      "id": "AZnUfjyTKz-i"
    },
    {
      "cell_type": "code",
      "source": [
        "def plot_histograms(folders, labels):\n",
        "    pitch_classes = [\"C\", \"C#\", \"D\", \"D#\", \"E\", \"F\",\n",
        "                     \"F#\", \"G\", \"G#\", \"A\", \"A#\", \"B\"]\n",
        "\n",
        "    plt.figure(figsize=(12, 8))\n",
        "\n",
        "    for i, folder in enumerate(folders):\n",
        "        avg_hist = average_pitch_class_histogram(folder)\n",
        "        plt.subplot(2, 2, i + 1)\n",
        "        plt.bar(pitch_classes, avg_hist)\n",
        "        plt.title(labels[i])\n",
        "        plt.xlabel(\"Pitch Class\")\n",
        "        plt.ylabel(\"Normalized Average\")\n",
        "        plt.ylim(0, 20)\n",
        "\n",
        "    plt.tight_layout()\n",
        "    plt.show()\n",
        "\n",
        "folders = [\n",
        "    \"/content/dataset_test\",\n",
        "    \"/content/generated_mini\",\n",
        "    \"/content/generated_medium\",\n",
        "    \"/content/generated_large\"\n",
        "]\n",
        "labels = [\"real MIDI\", \"mini GAN MIDI\", \"medium GAN MIDI\", \"large GAN MIDI\"]\n",
        "\n",
        "plot_histograms(folders, labels)"
      ],
      "metadata": {
        "id": "o4X26Y-wcJYd",
        "colab": {
          "base_uri": "https://localhost:8080/",
          "height": 596
        },
        "outputId": "46761aeb-cd80-476d-aae6-e33087d47267"
      },
      "id": "o4X26Y-wcJYd",
      "execution_count": null,
      "outputs": [
        {
          "output_type": "display_data",
          "data": {
            "text/plain": [
              "<Figure size 1200x800 with 4 Axes>"
            ],
            "image/png": "[encoded data removed]"
          },
          "metadata": {}
        }
      ]
    },
    {
      "cell_type": "markdown",
      "source": [
        "KLD calculation of pitch_class_histogram"
      ],
      "metadata": {
        "id": "GTThmqAmze9u"
      },
      "id": "GTThmqAmze9u"
    },
    {
      "cell_type": "code",
      "source": [
        "real_pch = average_pitch_class_histogram(\"/content/dataset_test\")\n",
        "mini_pch = average_pitch_class_histogram(\"/content/generated_mini\")\n",
        "medium_pch = average_pitch_class_histogram(\"/content/generated_medium\")\n",
        "large_pch = average_pitch_class_histogram(\"/content/generated_large\")\n",
        "\n",
        "kld_real_mini = kld(real_pch, mini_pch)\n",
        "kld_real_medium = kld(real_pch, medium_pch)\n",
        "kld_real_large = kld(real_pch, large_pch)\n",
        "\n",
        "print(\"KLD real vs mini:\", kld_real_mini)\n",
        "print(\"KLD real vs medium:\", kld_real_medium)\n",
        "print(\"KLD real vs large:\", kld_real_large)"
      ],
      "metadata": {
        "id": "idg6NR0GLPjZ",
        "colab": {
          "base_uri": "https://localhost:8080/"
        },
        "outputId": "d27b2623-eeab-4a43-aed8-f42ae5627e3e"
      },
      "id": "idg6NR0GLPjZ",
      "execution_count": null,
      "outputs": [
        {
          "output_type": "stream",
          "name": "stdout",
          "text": [
            "KLD real vs mini: 0.0004852913783066463\n",
            "KLD real vs medium: 0.00019788395321181053\n",
            "KLD real vs large: 0.0009136427626746622\n"
          ]
        }
      ]
    }
  ],
  "metadata": {
    "kernelspec": {
      "display_name": "Python 3",
      "name": "python3"
    },
    "language_info": {
      "codemirror_mode": {
        "name": "ipython",
        "version": 2
      },
      "file_extension": ".py",
      "mimetype": "text/x-python",
      "name": "python",
      "nbconvert_exporter": "python",
      "pygments_lexer": "ipython2",
      "version": "2.7.6"
    },
    "colab": {
      "provenance": [],
      "machine_shape": "hm"
    }
  },
  "nbformat": 4,
  "nbformat_minor": 5
}